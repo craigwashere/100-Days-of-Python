{
  "nbformat": 4,
  "nbformat_minor": 0,
  "metadata": {
    "colab": {
      "provenance": []
    },
    "kernelspec": {
      "name": "python3",
      "display_name": "Python 3"
    }
  },
  "cells": [
    {
      "cell_type": "markdown",
      "metadata": {
        "id": "BHg0HZz-intQ"
      },
      "source": [
        "# Introduction"
      ]
    },
    {
      "cell_type": "markdown",
      "metadata": {
        "id": "V2RQkgAbiqJv"
      },
      "source": [
        "The National Longitudinal Survey of Youth 1997-2011 dataset is one of the most important databases available to social scientists working with US data.\n",
        "\n",
        "It allows scientists to look at the determinants of earnings as well as educational attainment and has incredible relevance for government policy. It can also shed light on politically sensitive issues like how different educational attainment and salaries are for people of different ethnicity, sex, and other factors. When we have a better understanding how these variables affect education and earnings we can also formulate more suitable government policies.\n",
        "\n",
        "<center><img src=https://i.imgur.com/cxBpQ3I.png height=400></center>\n"
      ]
    },
    {
      "cell_type": "markdown",
      "metadata": {
        "id": "YjCPWWUSirY_"
      },
      "source": [
        "### Upgrade Plotly"
      ]
    },
    {
      "cell_type": "code",
      "metadata": {
        "id": "v74l3QCGirIX",
        "colab": {
          "base_uri": "https://localhost:8080/"
        },
        "outputId": "9925808c-dfd4-42fa-db11-bfe76c0acc7f"
      },
      "source": [
        "%pip install --upgrade plotly"
      ],
      "execution_count": null,
      "outputs": [
        {
          "output_type": "stream",
          "name": "stdout",
          "text": [
            "Looking in indexes: https://pypi.org/simple, https://us-python.pkg.dev/colab-wheels/public/simple/\n",
            "Requirement already satisfied: plotly in /usr/local/lib/python3.8/dist-packages (5.5.0)\n",
            "Collecting plotly\n",
            "  Downloading plotly-5.11.0-py2.py3-none-any.whl (15.3 MB)\n",
            "\u001b[2K     \u001b[90m━━━━━━━━━━━━━━━━━━━━━━━━━━━━━━━━━━━━━━━━\u001b[0m \u001b[32m15.3/15.3 MB\u001b[0m \u001b[31m71.8 MB/s\u001b[0m eta \u001b[36m0:00:00\u001b[0m\n",
            "\u001b[?25hRequirement already satisfied: tenacity>=6.2.0 in /usr/local/lib/python3.8/dist-packages (from plotly) (8.1.0)\n",
            "Installing collected packages: plotly\n",
            "  Attempting uninstall: plotly\n",
            "    Found existing installation: plotly 5.5.0\n",
            "    Uninstalling plotly-5.5.0:\n",
            "      Successfully uninstalled plotly-5.5.0\n",
            "Successfully installed plotly-5.11.0\n"
          ]
        }
      ]
    },
    {
      "cell_type": "markdown",
      "metadata": {
        "id": "br_QkHBMjC1Q"
      },
      "source": [
        "###  Import Statements\n"
      ]
    },
    {
      "cell_type": "code",
      "metadata": {
        "id": "gSKZx-kwie_u"
      },
      "source": [
        "import pandas as pd\n",
        "import numpy as np\n",
        "\n",
        "import seaborn as sns\n",
        "import plotly.express as px\n",
        "import matplotlib.pyplot as plt\n",
        "\n",
        "from sklearn.linear_model import LinearRegression\n",
        "from sklearn.model_selection import train_test_split\n",
        "pd.options.display.float_format = '{:,.2f}'.format"
      ],
      "execution_count": null,
      "outputs": []
    },
    {
      "cell_type": "markdown",
      "metadata": {
        "id": "9pgsrth_izCn"
      },
      "source": [
        "## Notebook Presentation"
      ]
    },
    {
      "cell_type": "code",
      "metadata": {
        "id": "Cgwu-WbBizqY"
      },
      "source": [
        "pd.options.display.float_format = '{:,.2f}'.format"
      ],
      "execution_count": null,
      "outputs": []
    },
    {
      "cell_type": "markdown",
      "metadata": {
        "id": "E5bhysOOjLRr"
      },
      "source": [
        "# Load the Data\n",
        "\n"
      ]
    },
    {
      "cell_type": "code",
      "metadata": {
        "id": "6VngeTQwjM-X"
      },
      "source": [
        "df_data = pd.read_csv('NLSY97_subset.csv')"
      ],
      "execution_count": null,
      "outputs": []
    },
    {
      "cell_type": "markdown",
      "metadata": {
        "id": "_ZjIBJ5jjrj0"
      },
      "source": [
        "### Understand the Dataset\n",
        "\n",
        "Have a look at the file entitled `NLSY97_Variable_Names_and_Descriptions.csv`.\n",
        "\n",
        "---------------------------\n",
        "\n",
        "    :Key Variables:  \n",
        "      1. S           Years of schooling (highest grade completed as of 2011)\n",
        "      2. EXP         Total out-of-school work experience (years) as of the 2011 interview.\n",
        "      3. EARNINGS    Current hourly earnings in $ reported at the 2011 interview"
      ]
    },
    {
      "cell_type": "markdown",
      "metadata": {
        "id": "8MkSxkjVnIfW"
      },
      "source": [
        "# Preliminary Data Exploration 🔎\n",
        "\n",
        "**Challenge**\n",
        "\n",
        "* What is the shape of `df_data`?\n",
        "* How many rows and columns does it have?\n",
        "* What are the column names?\n",
        "* Are there any NaN values or duplicates?"
      ]
    },
    {
      "cell_type": "code",
      "metadata": {
        "id": "V_cQguBbjwZv",
        "colab": {
          "base_uri": "https://localhost:8080/"
        },
        "outputId": "2ba77153-5856-48d7-94e3-de5627846943"
      },
      "source": [
        "print(f'Shape of df_data: {df_data.shape}')\n",
        "print(f'df_data columns: {df_data.columns}')\n",
        "print(f'df_data number of NaN: {df_data.isnull().sum().sum()}')"
      ],
      "execution_count": null,
      "outputs": [
        {
          "output_type": "stream",
          "name": "stdout",
          "text": [
            "Shape of df_data: (2000, 96)\n",
            "df_data columns: Index(['ID', 'EARNINGS', 'S', 'EXP', 'FEMALE', 'MALE', 'BYEAR', 'AGE',\n",
            "       'AGEMBTH', 'HHINC97', 'POVRAT97', 'HHBMBF', 'HHBMOF', 'HHOMBF',\n",
            "       'HHBMONLY', 'HHBFONLY', 'HHOTHER', 'MSA97NO', 'MSA97NCC', 'MSA97CC',\n",
            "       'MSA97NK', 'ETHBLACK', 'ETHHISP', 'ETHWHITE', 'EDUCPROF', 'EDUCPHD',\n",
            "       'EDUCMAST', 'EDUCBA', 'EDUCAA', 'EDUCHSD', 'EDUCGED', 'EDUCDO',\n",
            "       'PRMONM', 'PRMONF', 'PRMSTYUN', 'PRMSTYPE', 'PRMSTYAN', 'PRMSTYAE',\n",
            "       'PRFSTYUN', 'PRFSTYPE', 'PRFSTYAN', 'PRFSTYAE', 'SINGLE', 'MARRIED',\n",
            "       'COHABIT', 'OTHSING', 'FAITHN', 'FAITHP', 'FAITHC', 'FAITHJ', 'FAITHO',\n",
            "       'FAITHM', 'ASVABAR', 'ASVABWK', 'ASVABPC', 'ASVABMK', 'ASVABNO',\n",
            "       'ASVABCS', 'ASVABC', 'ASVABC4', 'VERBAL', 'ASVABMV', 'HEIGHT',\n",
            "       'WEIGHT04', 'WEIGHT11', 'SF', 'SM', 'SFR', 'SMR', 'SIBLINGS', 'REG97NE',\n",
            "       'REG97NC', 'REG97S', 'REG97W', 'RS97RURL', 'RS97URBN', 'RS97UNKN',\n",
            "       'JOBS', 'HOURS', 'TENURE', 'CATGOV', 'CATPRI', 'CATNPO', 'CATMIS',\n",
            "       'CATSE', 'COLLBARG', 'URBAN', 'REGNE', 'REGNC', 'REGW', 'REGS',\n",
            "       'MSA11NO', 'MSA11NCC', 'MSA11CC', 'MSA11NK', 'MSA11NIC'],\n",
            "      dtype='object')\n",
            "df_data number of NaN: 8559\n"
          ]
        }
      ]
    },
    {
      "cell_type": "code",
      "source": [
        "for column in df_data.columns.tolist():\n",
        "  print(f'{column} has NaN: {df_data[column].isnull().sum()}')"
      ],
      "metadata": {
        "colab": {
          "base_uri": "https://localhost:8080/"
        },
        "id": "9leeUmOvsk9H",
        "outputId": "cb994443-3b9e-4e18-e2c3-cafcc13c9cb7"
      },
      "execution_count": null,
      "outputs": [
        {
          "output_type": "stream",
          "name": "stdout",
          "text": [
            "ID has NaN: 0\n",
            "EARNINGS has NaN: 0\n",
            "S has NaN: 0\n",
            "EXP has NaN: 0\n",
            "FEMALE has NaN: 0\n",
            "MALE has NaN: 0\n",
            "BYEAR has NaN: 0\n",
            "AGE has NaN: 0\n",
            "AGEMBTH has NaN: 44\n",
            "HHINC97 has NaN: 370\n",
            "POVRAT97 has NaN: 373\n",
            "HHBMBF has NaN: 0\n",
            "HHBMOF has NaN: 0\n",
            "HHOMBF has NaN: 0\n",
            "HHBMONLY has NaN: 0\n",
            "HHBFONLY has NaN: 0\n",
            "HHOTHER has NaN: 0\n",
            "MSA97NO has NaN: 0\n",
            "MSA97NCC has NaN: 0\n",
            "MSA97CC has NaN: 0\n",
            "MSA97NK has NaN: 0\n",
            "ETHBLACK has NaN: 0\n",
            "ETHHISP has NaN: 0\n",
            "ETHWHITE has NaN: 0\n",
            "EDUCPROF has NaN: 0\n",
            "EDUCPHD has NaN: 0\n",
            "EDUCMAST has NaN: 0\n",
            "EDUCBA has NaN: 0\n",
            "EDUCAA has NaN: 0\n",
            "EDUCHSD has NaN: 0\n",
            "EDUCGED has NaN: 0\n",
            "EDUCDO has NaN: 0\n",
            "PRMONM has NaN: 879\n",
            "PRMONF has NaN: 1073\n",
            "PRMSTYUN has NaN: 533\n",
            "PRMSTYPE has NaN: 533\n",
            "PRMSTYAN has NaN: 533\n",
            "PRMSTYAE has NaN: 533\n",
            "PRFSTYUN has NaN: 790\n",
            "PRFSTYPE has NaN: 790\n",
            "PRFSTYAN has NaN: 790\n",
            "PRFSTYAE has NaN: 790\n",
            "SINGLE has NaN: 0\n",
            "MARRIED has NaN: 0\n",
            "COHABIT has NaN: 0\n",
            "OTHSING has NaN: 0\n",
            "FAITHN has NaN: 0\n",
            "FAITHP has NaN: 0\n",
            "FAITHC has NaN: 0\n",
            "FAITHJ has NaN: 0\n",
            "FAITHO has NaN: 0\n",
            "FAITHM has NaN: 0\n",
            "ASVABAR has NaN: 0\n",
            "ASVABWK has NaN: 0\n",
            "ASVABPC has NaN: 0\n",
            "ASVABMK has NaN: 0\n",
            "ASVABNO has NaN: 0\n",
            "ASVABCS has NaN: 0\n",
            "ASVABC has NaN: 0\n",
            "ASVABC4 has NaN: 0\n",
            "VERBAL has NaN: 0\n",
            "ASVABMV has NaN: 0\n",
            "HEIGHT has NaN: 0\n",
            "WEIGHT04 has NaN: 0\n",
            "WEIGHT11 has NaN: 0\n",
            "SF has NaN: 0\n",
            "SM has NaN: 0\n",
            "SFR has NaN: 399\n",
            "SMR has NaN: 82\n",
            "SIBLINGS has NaN: 0\n",
            "REG97NE has NaN: 0\n",
            "REG97NC has NaN: 0\n",
            "REG97S has NaN: 0\n",
            "REG97W has NaN: 0\n",
            "RS97RURL has NaN: 0\n",
            "RS97URBN has NaN: 0\n",
            "RS97UNKN has NaN: 0\n",
            "JOBS has NaN: 47\n",
            "HOURS has NaN: 0\n",
            "TENURE has NaN: 0\n",
            "CATGOV has NaN: 0\n",
            "CATPRI has NaN: 0\n",
            "CATNPO has NaN: 0\n",
            "CATMIS has NaN: 0\n",
            "CATSE has NaN: 0\n",
            "COLLBARG has NaN: 0\n",
            "URBAN has NaN: 0\n",
            "REGNE has NaN: 0\n",
            "REGNC has NaN: 0\n",
            "REGW has NaN: 0\n",
            "REGS has NaN: 0\n",
            "MSA11NO has NaN: 0\n",
            "MSA11NCC has NaN: 0\n",
            "MSA11CC has NaN: 0\n",
            "MSA11NK has NaN: 0\n",
            "MSA11NIC has NaN: 0\n"
          ]
        }
      ]
    },
    {
      "cell_type": "markdown",
      "metadata": {
        "id": "4itxqgP6nQj3"
      },
      "source": [
        "## Data Cleaning - Check for Missing Values and Duplicates\n",
        "\n",
        "Find and remove any duplicate rows."
      ]
    },
    {
      "cell_type": "code",
      "metadata": {
        "id": "J3DHEFXWnS2N"
      },
      "source": [
        "df_clean = df_data.drop_duplicates()"
      ],
      "execution_count": null,
      "outputs": []
    },
    {
      "cell_type": "code",
      "source": [
        "for column in df_clean.columns.tolist():\n",
        "  print(f'{column} has NaN: {df_clean[column].isnull().sum()}')"
      ],
      "metadata": {
        "colab": {
          "base_uri": "https://localhost:8080/"
        },
        "id": "IldeAL16uDvX",
        "outputId": "f15d189f-5162-4d23-ab23-d572a6770f31"
      },
      "execution_count": null,
      "outputs": [
        {
          "output_type": "stream",
          "name": "stdout",
          "text": [
            "ID has NaN: 0\n",
            "EARNINGS has NaN: 0\n",
            "S has NaN: 0\n",
            "EXP has NaN: 0\n",
            "FEMALE has NaN: 0\n",
            "MALE has NaN: 0\n",
            "BYEAR has NaN: 0\n",
            "AGE has NaN: 0\n",
            "AGEMBTH has NaN: 34\n",
            "HHINC97 has NaN: 282\n",
            "POVRAT97 has NaN: 284\n",
            "HHBMBF has NaN: 0\n",
            "HHBMOF has NaN: 0\n",
            "HHOMBF has NaN: 0\n",
            "HHBMONLY has NaN: 0\n",
            "HHBFONLY has NaN: 0\n",
            "HHOTHER has NaN: 0\n",
            "MSA97NO has NaN: 0\n",
            "MSA97NCC has NaN: 0\n",
            "MSA97CC has NaN: 0\n",
            "MSA97NK has NaN: 0\n",
            "ETHBLACK has NaN: 0\n",
            "ETHHISP has NaN: 0\n",
            "ETHWHITE has NaN: 0\n",
            "EDUCPROF has NaN: 0\n",
            "EDUCPHD has NaN: 0\n",
            "EDUCMAST has NaN: 0\n",
            "EDUCBA has NaN: 0\n",
            "EDUCAA has NaN: 0\n",
            "EDUCHSD has NaN: 0\n",
            "EDUCGED has NaN: 0\n",
            "EDUCDO has NaN: 0\n",
            "PRMONM has NaN: 636\n",
            "PRMONF has NaN: 789\n",
            "PRMSTYUN has NaN: 387\n",
            "PRMSTYPE has NaN: 387\n",
            "PRMSTYAN has NaN: 387\n",
            "PRMSTYAE has NaN: 387\n",
            "PRFSTYUN has NaN: 583\n",
            "PRFSTYPE has NaN: 583\n",
            "PRFSTYAN has NaN: 583\n",
            "PRFSTYAE has NaN: 583\n",
            "SINGLE has NaN: 0\n",
            "MARRIED has NaN: 0\n",
            "COHABIT has NaN: 0\n",
            "OTHSING has NaN: 0\n",
            "FAITHN has NaN: 0\n",
            "FAITHP has NaN: 0\n",
            "FAITHC has NaN: 0\n",
            "FAITHJ has NaN: 0\n",
            "FAITHO has NaN: 0\n",
            "FAITHM has NaN: 0\n",
            "ASVABAR has NaN: 0\n",
            "ASVABWK has NaN: 0\n",
            "ASVABPC has NaN: 0\n",
            "ASVABMK has NaN: 0\n",
            "ASVABNO has NaN: 0\n",
            "ASVABCS has NaN: 0\n",
            "ASVABC has NaN: 0\n",
            "ASVABC4 has NaN: 0\n",
            "VERBAL has NaN: 0\n",
            "ASVABMV has NaN: 0\n",
            "HEIGHT has NaN: 0\n",
            "WEIGHT04 has NaN: 0\n",
            "WEIGHT11 has NaN: 0\n",
            "SF has NaN: 0\n",
            "SM has NaN: 0\n",
            "SFR has NaN: 290\n",
            "SMR has NaN: 57\n",
            "SIBLINGS has NaN: 0\n",
            "REG97NE has NaN: 0\n",
            "REG97NC has NaN: 0\n",
            "REG97S has NaN: 0\n",
            "REG97W has NaN: 0\n",
            "RS97RURL has NaN: 0\n",
            "RS97URBN has NaN: 0\n",
            "RS97UNKN has NaN: 0\n",
            "JOBS has NaN: 38\n",
            "HOURS has NaN: 0\n",
            "TENURE has NaN: 0\n",
            "CATGOV has NaN: 0\n",
            "CATPRI has NaN: 0\n",
            "CATNPO has NaN: 0\n",
            "CATMIS has NaN: 0\n",
            "CATSE has NaN: 0\n",
            "COLLBARG has NaN: 0\n",
            "URBAN has NaN: 0\n",
            "REGNE has NaN: 0\n",
            "REGNC has NaN: 0\n",
            "REGW has NaN: 0\n",
            "REGS has NaN: 0\n",
            "MSA11NO has NaN: 0\n",
            "MSA11NCC has NaN: 0\n",
            "MSA11CC has NaN: 0\n",
            "MSA11NK has NaN: 0\n",
            "MSA11NIC has NaN: 0\n"
          ]
        }
      ]
    },
    {
      "cell_type": "code",
      "source": [
        "df_clean.dropna(subset=['HHINC97'], inplace=True)"
      ],
      "metadata": {
        "colab": {
          "base_uri": "https://localhost:8080/"
        },
        "id": "DAZCXFpjy4Zv",
        "outputId": "e4397ecd-6445-4fa2-c39e-868d09dc2b8c"
      },
      "execution_count": null,
      "outputs": [
        {
          "output_type": "stream",
          "name": "stderr",
          "text": [
            "/usr/local/lib/python3.8/dist-packages/pandas/util/_decorators.py:311: SettingWithCopyWarning: \n",
            "A value is trying to be set on a copy of a slice from a DataFrame\n",
            "\n",
            "See the caveats in the documentation: https://pandas.pydata.org/pandas-docs/stable/user_guide/indexing.html#returning-a-view-versus-a-copy\n",
            "  return func(*args, **kwargs)\n"
          ]
        }
      ]
    },
    {
      "cell_type": "markdown",
      "metadata": {
        "id": "gGmBBPxZnVKC"
      },
      "source": [
        "## Descriptive Statistics"
      ]
    },
    {
      "cell_type": "code",
      "metadata": {
        "id": "I5VP2BMVnVrt",
        "colab": {
          "base_uri": "https://localhost:8080/",
          "height": 394
        },
        "outputId": "fa85e9bd-c37b-4798-b1cb-f5e8b0930710"
      },
      "source": [
        "df_clean.describe()"
      ],
      "execution_count": null,
      "outputs": [
        {
          "output_type": "execute_result",
          "data": {
            "text/plain": [
              "            ID  EARNINGS        S      EXP   FEMALE     MALE    BYEAR  \\\n",
              "count 1,205.00  1,205.00 1,205.00 1,205.00 1,205.00 1,205.00 1,205.00   \n",
              "mean  3,642.59     18.65    14.49     6.76     0.48     0.52 1,982.08   \n",
              "std   1,952.02     11.95     2.78     2.84     0.50     0.50     1.39   \n",
              "min       4.00      2.13     6.00     0.00     0.00     0.00 1,980.00   \n",
              "25%   2,090.00     11.25    12.00     4.73     0.00     0.00 1,981.00   \n",
              "50%   3,582.00     15.68    14.00     6.73     0.00     1.00 1,982.00   \n",
              "75%   5,206.00     22.50    16.00     8.71     1.00     1.00 1,983.00   \n",
              "max   8,978.00    132.89    20.00    14.73     1.00     1.00 1,984.00   \n",
              "\n",
              "           AGE  AGEMBTH    HHINC97  ...    URBAN    REGNE    REGNC     REGW  \\\n",
              "count 1,205.00 1,187.00   1,205.00  ... 1,205.00 1,205.00 1,205.00 1,205.00   \n",
              "mean     28.92    26.11  58,310.67  ...     0.76     0.15     0.29     0.34   \n",
              "std       1.39     4.90  43,868.05  ...     0.44     0.36     0.45     0.47   \n",
              "min      27.00    12.00       0.00  ...     0.00     0.00     0.00     0.00   \n",
              "25%      28.00    23.00  32,000.00  ...     1.00     0.00     0.00     0.00   \n",
              "50%      29.00    26.00  50,500.00  ...     1.00     0.00     0.00     0.00   \n",
              "75%      30.00    29.00  72,000.00  ...     1.00     0.00     1.00     1.00   \n",
              "max      31.00    41.00 246,474.00  ...     2.00     1.00     1.00     1.00   \n",
              "\n",
              "          REGS  MSA11NO  MSA11NCC  MSA11CC  MSA11NK  MSA11NIC  \n",
              "count 1,205.00 1,205.00  1,205.00 1,205.00 1,205.00  1,205.00  \n",
              "mean      0.22     0.05      0.54     0.41     0.00      0.00  \n",
              "std       0.42     0.21      0.50     0.49     0.05      0.00  \n",
              "min       0.00     0.00      0.00     0.00     0.00      0.00  \n",
              "25%       0.00     0.00      0.00     0.00     0.00      0.00  \n",
              "50%       0.00     0.00      1.00     0.00     0.00      0.00  \n",
              "75%       0.00     0.00      1.00     1.00     0.00      0.00  \n",
              "max       1.00     1.00      1.00     1.00     1.00      0.00  \n",
              "\n",
              "[8 rows x 96 columns]"
            ],
            "text/html": [
              "\n",
              "  <div id=\"df-d146cf18-6312-4278-bf89-9d066b2be44e\">\n",
              "    <div class=\"colab-df-container\">\n",
              "      <div>\n",
              "<style scoped>\n",
              "    .dataframe tbody tr th:only-of-type {\n",
              "        vertical-align: middle;\n",
              "    }\n",
              "\n",
              "    .dataframe tbody tr th {\n",
              "        vertical-align: top;\n",
              "    }\n",
              "\n",
              "    .dataframe thead th {\n",
              "        text-align: right;\n",
              "    }\n",
              "</style>\n",
              "<table border=\"1\" class=\"dataframe\">\n",
              "  <thead>\n",
              "    <tr style=\"text-align: right;\">\n",
              "      <th></th>\n",
              "      <th>ID</th>\n",
              "      <th>EARNINGS</th>\n",
              "      <th>S</th>\n",
              "      <th>EXP</th>\n",
              "      <th>FEMALE</th>\n",
              "      <th>MALE</th>\n",
              "      <th>BYEAR</th>\n",
              "      <th>AGE</th>\n",
              "      <th>AGEMBTH</th>\n",
              "      <th>HHINC97</th>\n",
              "      <th>...</th>\n",
              "      <th>URBAN</th>\n",
              "      <th>REGNE</th>\n",
              "      <th>REGNC</th>\n",
              "      <th>REGW</th>\n",
              "      <th>REGS</th>\n",
              "      <th>MSA11NO</th>\n",
              "      <th>MSA11NCC</th>\n",
              "      <th>MSA11CC</th>\n",
              "      <th>MSA11NK</th>\n",
              "      <th>MSA11NIC</th>\n",
              "    </tr>\n",
              "  </thead>\n",
              "  <tbody>\n",
              "    <tr>\n",
              "      <th>count</th>\n",
              "      <td>1,205.00</td>\n",
              "      <td>1,205.00</td>\n",
              "      <td>1,205.00</td>\n",
              "      <td>1,205.00</td>\n",
              "      <td>1,205.00</td>\n",
              "      <td>1,205.00</td>\n",
              "      <td>1,205.00</td>\n",
              "      <td>1,205.00</td>\n",
              "      <td>1,187.00</td>\n",
              "      <td>1,205.00</td>\n",
              "      <td>...</td>\n",
              "      <td>1,205.00</td>\n",
              "      <td>1,205.00</td>\n",
              "      <td>1,205.00</td>\n",
              "      <td>1,205.00</td>\n",
              "      <td>1,205.00</td>\n",
              "      <td>1,205.00</td>\n",
              "      <td>1,205.00</td>\n",
              "      <td>1,205.00</td>\n",
              "      <td>1,205.00</td>\n",
              "      <td>1,205.00</td>\n",
              "    </tr>\n",
              "    <tr>\n",
              "      <th>mean</th>\n",
              "      <td>3,642.59</td>\n",
              "      <td>18.65</td>\n",
              "      <td>14.49</td>\n",
              "      <td>6.76</td>\n",
              "      <td>0.48</td>\n",
              "      <td>0.52</td>\n",
              "      <td>1,982.08</td>\n",
              "      <td>28.92</td>\n",
              "      <td>26.11</td>\n",
              "      <td>58,310.67</td>\n",
              "      <td>...</td>\n",
              "      <td>0.76</td>\n",
              "      <td>0.15</td>\n",
              "      <td>0.29</td>\n",
              "      <td>0.34</td>\n",
              "      <td>0.22</td>\n",
              "      <td>0.05</td>\n",
              "      <td>0.54</td>\n",
              "      <td>0.41</td>\n",
              "      <td>0.00</td>\n",
              "      <td>0.00</td>\n",
              "    </tr>\n",
              "    <tr>\n",
              "      <th>std</th>\n",
              "      <td>1,952.02</td>\n",
              "      <td>11.95</td>\n",
              "      <td>2.78</td>\n",
              "      <td>2.84</td>\n",
              "      <td>0.50</td>\n",
              "      <td>0.50</td>\n",
              "      <td>1.39</td>\n",
              "      <td>1.39</td>\n",
              "      <td>4.90</td>\n",
              "      <td>43,868.05</td>\n",
              "      <td>...</td>\n",
              "      <td>0.44</td>\n",
              "      <td>0.36</td>\n",
              "      <td>0.45</td>\n",
              "      <td>0.47</td>\n",
              "      <td>0.42</td>\n",
              "      <td>0.21</td>\n",
              "      <td>0.50</td>\n",
              "      <td>0.49</td>\n",
              "      <td>0.05</td>\n",
              "      <td>0.00</td>\n",
              "    </tr>\n",
              "    <tr>\n",
              "      <th>min</th>\n",
              "      <td>4.00</td>\n",
              "      <td>2.13</td>\n",
              "      <td>6.00</td>\n",
              "      <td>0.00</td>\n",
              "      <td>0.00</td>\n",
              "      <td>0.00</td>\n",
              "      <td>1,980.00</td>\n",
              "      <td>27.00</td>\n",
              "      <td>12.00</td>\n",
              "      <td>0.00</td>\n",
              "      <td>...</td>\n",
              "      <td>0.00</td>\n",
              "      <td>0.00</td>\n",
              "      <td>0.00</td>\n",
              "      <td>0.00</td>\n",
              "      <td>0.00</td>\n",
              "      <td>0.00</td>\n",
              "      <td>0.00</td>\n",
              "      <td>0.00</td>\n",
              "      <td>0.00</td>\n",
              "      <td>0.00</td>\n",
              "    </tr>\n",
              "    <tr>\n",
              "      <th>25%</th>\n",
              "      <td>2,090.00</td>\n",
              "      <td>11.25</td>\n",
              "      <td>12.00</td>\n",
              "      <td>4.73</td>\n",
              "      <td>0.00</td>\n",
              "      <td>0.00</td>\n",
              "      <td>1,981.00</td>\n",
              "      <td>28.00</td>\n",
              "      <td>23.00</td>\n",
              "      <td>32,000.00</td>\n",
              "      <td>...</td>\n",
              "      <td>1.00</td>\n",
              "      <td>0.00</td>\n",
              "      <td>0.00</td>\n",
              "      <td>0.00</td>\n",
              "      <td>0.00</td>\n",
              "      <td>0.00</td>\n",
              "      <td>0.00</td>\n",
              "      <td>0.00</td>\n",
              "      <td>0.00</td>\n",
              "      <td>0.00</td>\n",
              "    </tr>\n",
              "    <tr>\n",
              "      <th>50%</th>\n",
              "      <td>3,582.00</td>\n",
              "      <td>15.68</td>\n",
              "      <td>14.00</td>\n",
              "      <td>6.73</td>\n",
              "      <td>0.00</td>\n",
              "      <td>1.00</td>\n",
              "      <td>1,982.00</td>\n",
              "      <td>29.00</td>\n",
              "      <td>26.00</td>\n",
              "      <td>50,500.00</td>\n",
              "      <td>...</td>\n",
              "      <td>1.00</td>\n",
              "      <td>0.00</td>\n",
              "      <td>0.00</td>\n",
              "      <td>0.00</td>\n",
              "      <td>0.00</td>\n",
              "      <td>0.00</td>\n",
              "      <td>1.00</td>\n",
              "      <td>0.00</td>\n",
              "      <td>0.00</td>\n",
              "      <td>0.00</td>\n",
              "    </tr>\n",
              "    <tr>\n",
              "      <th>75%</th>\n",
              "      <td>5,206.00</td>\n",
              "      <td>22.50</td>\n",
              "      <td>16.00</td>\n",
              "      <td>8.71</td>\n",
              "      <td>1.00</td>\n",
              "      <td>1.00</td>\n",
              "      <td>1,983.00</td>\n",
              "      <td>30.00</td>\n",
              "      <td>29.00</td>\n",
              "      <td>72,000.00</td>\n",
              "      <td>...</td>\n",
              "      <td>1.00</td>\n",
              "      <td>0.00</td>\n",
              "      <td>1.00</td>\n",
              "      <td>1.00</td>\n",
              "      <td>0.00</td>\n",
              "      <td>0.00</td>\n",
              "      <td>1.00</td>\n",
              "      <td>1.00</td>\n",
              "      <td>0.00</td>\n",
              "      <td>0.00</td>\n",
              "    </tr>\n",
              "    <tr>\n",
              "      <th>max</th>\n",
              "      <td>8,978.00</td>\n",
              "      <td>132.89</td>\n",
              "      <td>20.00</td>\n",
              "      <td>14.73</td>\n",
              "      <td>1.00</td>\n",
              "      <td>1.00</td>\n",
              "      <td>1,984.00</td>\n",
              "      <td>31.00</td>\n",
              "      <td>41.00</td>\n",
              "      <td>246,474.00</td>\n",
              "      <td>...</td>\n",
              "      <td>2.00</td>\n",
              "      <td>1.00</td>\n",
              "      <td>1.00</td>\n",
              "      <td>1.00</td>\n",
              "      <td>1.00</td>\n",
              "      <td>1.00</td>\n",
              "      <td>1.00</td>\n",
              "      <td>1.00</td>\n",
              "      <td>1.00</td>\n",
              "      <td>0.00</td>\n",
              "    </tr>\n",
              "  </tbody>\n",
              "</table>\n",
              "<p>8 rows × 96 columns</p>\n",
              "</div>\n",
              "      <button class=\"colab-df-convert\" onclick=\"convertToInteractive('df-d146cf18-6312-4278-bf89-9d066b2be44e')\"\n",
              "              title=\"Convert this dataframe to an interactive table.\"\n",
              "              style=\"display:none;\">\n",
              "        \n",
              "  <svg xmlns=\"http://www.w3.org/2000/svg\" height=\"24px\"viewBox=\"0 0 24 24\"\n",
              "       width=\"24px\">\n",
              "    <path d=\"M0 0h24v24H0V0z\" fill=\"none\"/>\n",
              "    <path d=\"M18.56 5.44l.94 2.06.94-2.06 2.06-.94-2.06-.94-.94-2.06-.94 2.06-2.06.94zm-11 1L8.5 8.5l.94-2.06 2.06-.94-2.06-.94L8.5 2.5l-.94 2.06-2.06.94zm10 10l.94 2.06.94-2.06 2.06-.94-2.06-.94-.94-2.06-.94 2.06-2.06.94z\"/><path d=\"M17.41 7.96l-1.37-1.37c-.4-.4-.92-.59-1.43-.59-.52 0-1.04.2-1.43.59L10.3 9.45l-7.72 7.72c-.78.78-.78 2.05 0 2.83L4 21.41c.39.39.9.59 1.41.59.51 0 1.02-.2 1.41-.59l7.78-7.78 2.81-2.81c.8-.78.8-2.07 0-2.86zM5.41 20L4 18.59l7.72-7.72 1.47 1.35L5.41 20z\"/>\n",
              "  </svg>\n",
              "      </button>\n",
              "      \n",
              "  <style>\n",
              "    .colab-df-container {\n",
              "      display:flex;\n",
              "      flex-wrap:wrap;\n",
              "      gap: 12px;\n",
              "    }\n",
              "\n",
              "    .colab-df-convert {\n",
              "      background-color: #E8F0FE;\n",
              "      border: none;\n",
              "      border-radius: 50%;\n",
              "      cursor: pointer;\n",
              "      display: none;\n",
              "      fill: #1967D2;\n",
              "      height: 32px;\n",
              "      padding: 0 0 0 0;\n",
              "      width: 32px;\n",
              "    }\n",
              "\n",
              "    .colab-df-convert:hover {\n",
              "      background-color: #E2EBFA;\n",
              "      box-shadow: 0px 1px 2px rgba(60, 64, 67, 0.3), 0px 1px 3px 1px rgba(60, 64, 67, 0.15);\n",
              "      fill: #174EA6;\n",
              "    }\n",
              "\n",
              "    [theme=dark] .colab-df-convert {\n",
              "      background-color: #3B4455;\n",
              "      fill: #D2E3FC;\n",
              "    }\n",
              "\n",
              "    [theme=dark] .colab-df-convert:hover {\n",
              "      background-color: #434B5C;\n",
              "      box-shadow: 0px 1px 3px 1px rgba(0, 0, 0, 0.15);\n",
              "      filter: drop-shadow(0px 1px 2px rgba(0, 0, 0, 0.3));\n",
              "      fill: #FFFFFF;\n",
              "    }\n",
              "  </style>\n",
              "\n",
              "      <script>\n",
              "        const buttonEl =\n",
              "          document.querySelector('#df-d146cf18-6312-4278-bf89-9d066b2be44e button.colab-df-convert');\n",
              "        buttonEl.style.display =\n",
              "          google.colab.kernel.accessAllowed ? 'block' : 'none';\n",
              "\n",
              "        async function convertToInteractive(key) {\n",
              "          const element = document.querySelector('#df-d146cf18-6312-4278-bf89-9d066b2be44e');\n",
              "          const dataTable =\n",
              "            await google.colab.kernel.invokeFunction('convertToInteractive',\n",
              "                                                     [key], {});\n",
              "          if (!dataTable) return;\n",
              "\n",
              "          const docLinkHtml = 'Like what you see? Visit the ' +\n",
              "            '<a target=\"_blank\" href=https://colab.research.google.com/notebooks/data_table.ipynb>data table notebook</a>'\n",
              "            + ' to learn more about interactive tables.';\n",
              "          element.innerHTML = '';\n",
              "          dataTable['output_type'] = 'display_data';\n",
              "          await google.colab.output.renderOutput(dataTable, element);\n",
              "          const docLink = document.createElement('div');\n",
              "          docLink.innerHTML = docLinkHtml;\n",
              "          element.appendChild(docLink);\n",
              "        }\n",
              "      </script>\n",
              "    </div>\n",
              "  </div>\n",
              "  "
            ]
          },
          "metadata": {},
          "execution_count": 16
        }
      ]
    },
    {
      "cell_type": "markdown",
      "metadata": {
        "id": "ZO-86NXbnWSH"
      },
      "source": [
        "## Visualise the Features"
      ]
    },
    {
      "cell_type": "code",
      "metadata": {
        "id": "hFZJjbsKncPM",
        "colab": {
          "base_uri": "https://localhost:8080/",
          "height": 606
        },
        "outputId": "854c916a-88de-4e7b-e525-c9b4fcb929d1"
      },
      "source": [
        "fig, ax1 = plt.subplots(figsize=(14,10))\n",
        "sns.histplot(data=df_clean, x=\"EARNINGS\", discrete=True)\n",
        "ax1.set_xlim((2, 133))\n",
        "ax2=ax1.twinx()\n",
        "ax2.set_ylabel('count', color='skyblue')\n",
        "sns.kdeplot(data=df_clean, x=\"EARNINGS\", ax=ax2, color='black')\n",
        "fig.show()"
      ],
      "execution_count": null,
      "outputs": [
        {
          "output_type": "display_data",
          "data": {
            "text/plain": [
              "<Figure size 1008x720 with 2 Axes>"
            ],
            "image/png": "[encoded data removed]"
          },
          "metadata": {
            "needs_background": "light"
          }
        }
      ]
    },
    {
      "cell_type": "markdown",
      "metadata": {
        "id": "9i4zHYG4nhDL"
      },
      "source": [
        "# Split Training & Test Dataset\n",
        "\n",
        "We *can't* use all the entries in our dataset to train our model. Keep 20% of the data for later as a testing dataset (out-of-sample data).  "
      ]
    },
    {
      "cell_type": "code",
      "metadata": {
        "id": "M_OfRSyunkA1"
      },
      "source": [
        "cols_to_drop = []\n",
        "for column in df_clean.columns.tolist():\n",
        "  if df_clean[column].isnull().sum() > 0:\n",
        "    cols_to_drop.append(column)\n",
        "\n",
        "df_clean2 = df_clean.drop(axis='columns', labels=cols_to_drop)"
      ],
      "execution_count": null,
      "outputs": []
    },
    {
      "cell_type": "markdown",
      "metadata": {
        "id": "EM99NOH0noFS"
      },
      "source": [
        "# Simple Linear Regression\n",
        "\n",
        "Only use the years of schooling to predict earnings. Use sklearn to run the regression on the training dataset. How high is the r-squared for the regression on the training data?"
      ]
    },
    {
      "cell_type": "code",
      "source": [
        "X=df_clean2['S'][:,np.newaxis]\n",
        "y=df_clean2['EARNINGS']\n",
        "X_train, X_test, y_train, y_test = train_test_split(X,y, random_state=10,test_size=0.2, shuffle=True)"
      ],
      "metadata": {
        "colab": {
          "base_uri": "https://localhost:8080/"
        },
        "id": "3L-ZiiAz1pM6",
        "outputId": "a0fda345-7988-4e6c-aea3-fa157f902f1f"
      },
      "execution_count": null,
      "outputs": [
        {
          "output_type": "stream",
          "name": "stderr",
          "text": [
            "<ipython-input-59-ae2c8b1ef428>:1: FutureWarning: Support for multi-dimensional indexing (e.g. `obj[:, None]`) is deprecated and will be removed in a future version.  Convert to a numpy array before indexing instead.\n",
            "  X=df_clean2['S'][:,np.newaxis]\n"
          ]
        }
      ]
    },
    {
      "cell_type": "code",
      "metadata": {
        "id": "J_MViuoNnvHf",
        "colab": {
          "base_uri": "https://localhost:8080/"
        },
        "outputId": "d885cf4b-54b4-4087-e3c0-9722594f0ede"
      },
      "source": [
        "regression = LinearRegression()\n",
        "\n",
        "regression.fit(X_train, y_train)"
      ],
      "execution_count": null,
      "outputs": [
        {
          "output_type": "execute_result",
          "data": {
            "text/plain": [
              "LinearRegression()"
            ]
          },
          "metadata": {},
          "execution_count": 60
        }
      ]
    },
    {
      "cell_type": "markdown",
      "metadata": {
        "id": "s2TeWKs7oJSa"
      },
      "source": [
        "### Evaluate the Coefficients of the Model\n",
        "\n",
        "Here we do a sense check on our regression coefficients. The first thing to look for is if the coefficients have the expected sign (positive or negative).\n",
        "\n",
        "Interpret the regression. How many extra dollars can one expect to earn for an additional year of schooling?"
      ]
    },
    {
      "cell_type": "code",
      "metadata": {
        "id": "QmhzZAmAoW4t",
        "colab": {
          "base_uri": "https://localhost:8080/"
        },
        "outputId": "40439b7a-e0e7-49ea-a815-a2f3a806c87b"
      },
      "source": [
        "print(f'The intercept is: {regression.intercept_}')\n",
        "print(f'The slope coefficient is: {regression.coef_}')\n",
        "print(f'The r-squared is: {regression.score(X, y)}')"
      ],
      "execution_count": null,
      "outputs": [
        {
          "output_type": "stream",
          "name": "stdout",
          "text": [
            "The intercept is: -1.0474062469304002\n",
            "The slope coefficient is: [1.36577377]\n",
            "The r-squared is: 0.08540839137519562\n"
          ]
        }
      ]
    },
    {
      "cell_type": "markdown",
      "metadata": {
        "id": "WIyMPXXYobx8"
      },
      "source": [
        "### Analyse the Estimated Values & Regression Residuals\n",
        "\n",
        "How good our regression is also depends on the residuals - the difference between the model's predictions ( 𝑦̂ 𝑖 ) and the true values ( 𝑦𝑖 ) inside y_train. Do you see any patterns in the distribution of the residuals?"
      ]
    },
    {
      "cell_type": "code",
      "metadata": {
        "id": "khkgscweosP_",
        "colab": {
          "base_uri": "https://localhost:8080/",
          "height": 278
        },
        "outputId": "ed28c42f-2112-402b-904a-9bb4016d8371"
      },
      "source": [
        "predicted_values = regression.predict(X_train)\n",
        "residuals = (y_train - predicted_values)\n",
        "# Plot outputs\n",
        "plt.scatter(X_train, y_train, color=\"black\")\n",
        "plt.plot(X_train, predicted_values, color=\"blue\", linewidth=3)\n",
        "plt.title(\"Predicted\")\n",
        "plt.xlabel(\"Study Length\")\n",
        "plt.ylabel(\"Earnings\")\n",
        "\n",
        "plt.xticks(())\n",
        "plt.yticks(())\n",
        "\n",
        "plt.show()"
      ],
      "execution_count": null,
      "outputs": [
        {
          "output_type": "display_data",
          "data": {
            "text/plain": [
              "<Figure size 432x288 with 1 Axes>"
            ],
            "image/png": "[encoded data removed]"
          },
          "metadata": {}
        }
      ]
    },
    {
      "cell_type": "code",
      "metadata": {
        "id": "m_diDXSXotm6",
        "colab": {
          "base_uri": "https://localhost:8080/",
          "height": 278
        },
        "outputId": "21fe1006-0696-4945-d2d9-1c627350491c"
      },
      "source": [
        "plt.scatter(df_clean2['S'], df_clean2['EARNINGS'], color='cyan')\n",
        "plt.title(\"Actual\")\n",
        "plt.xlabel(\"Study Length\")\n",
        "plt.ylabel(\"Earnings\")\n",
        "plt.xticks(())\n",
        "plt.yticks(())\n",
        "\n",
        "plt.show()"
      ],
      "execution_count": null,
      "outputs": [
        {
          "output_type": "display_data",
          "data": {
            "text/plain": [
              "<Figure size 432x288 with 1 Axes>"
            ],
            "image/png": "[encoded data removed]"
          },
          "metadata": {}
        }
      ]
    },
    {
      "cell_type": "markdown",
      "metadata": {
        "id": "zNBuJ1iBnvpl"
      },
      "source": [
        "# Multivariable Regression\n",
        "\n",
        "Now use both years of schooling and the years work experience to predict earnings. How high is the r-squared for the regression on the training data?"
      ]
    },
    {
      "cell_type": "code",
      "source": [
        "X=df_clean2[['S', 'EXP']]\n",
        "y=df_clean2['EARNINGS']\n",
        "X_train, X_test, y_train, y_test = train_test_split(X,y, random_state=10,test_size=0.2, shuffle=True)"
      ],
      "metadata": {
        "id": "w938i-Ma66va"
      },
      "execution_count": null,
      "outputs": []
    },
    {
      "cell_type": "code",
      "metadata": {
        "id": "dRhB7Iwboyfq",
        "colab": {
          "base_uri": "https://localhost:8080/"
        },
        "outputId": "45f1524c-a439-49a7-aa86-a775a2d2581f"
      },
      "source": [
        "regression2 = LinearRegression()\n",
        "\n",
        "regression2.fit(X_train, y_train)"
      ],
      "execution_count": null,
      "outputs": [
        {
          "output_type": "execute_result",
          "data": {
            "text/plain": [
              "LinearRegression()"
            ]
          },
          "metadata": {},
          "execution_count": 8
        }
      ]
    },
    {
      "cell_type": "markdown",
      "metadata": {
        "id": "nHDtunM0oyuk"
      },
      "source": [
        "### Evaluate the Coefficients of the Model"
      ]
    },
    {
      "cell_type": "code",
      "metadata": {
        "id": "5vasqInIoydB",
        "colab": {
          "base_uri": "https://localhost:8080/"
        },
        "outputId": "74751f65-8fb5-4fd5-88bc-7beeb237e72b"
      },
      "source": [
        "print(f'The intercept is: {regression2.intercept_}')\n",
        "print(f'The slope coefficient is: {regression2.coef_}')\n",
        "print(f'The r-squared is: {regression2.score(X, y)}')"
      ],
      "execution_count": null,
      "outputs": [
        {
          "output_type": "stream",
          "name": "stdout",
          "text": [
            "The intercept is: -14.591104997393185\n",
            "The slope coefficient is: [1.88372666 0.89998494]\n",
            "The r-squared is: 0.11517856800143811\n"
          ]
        }
      ]
    },
    {
      "cell_type": "markdown",
      "metadata": {
        "id": "Yv8q90IYou2Q"
      },
      "source": [
        "### Analyse the Estimated Values & Regression Residuals"
      ]
    },
    {
      "cell_type": "code",
      "metadata": {
        "id": "8NmXnsxfowkI"
      },
      "source": [
        "predicted_values2 = regression2.predict(X_train)\n",
        "residuals2 = (y_train - predicted_values2)"
      ],
      "execution_count": null,
      "outputs": []
    },
    {
      "cell_type": "code",
      "metadata": {
        "id": "0ZZ1e0spo5o1",
        "colab": {
          "base_uri": "https://localhost:8080/",
          "height": 542
        },
        "outputId": "87c882c9-cae0-48e4-d39d-a541fd2dcb34"
      },
      "source": [
        "fig = px.scatter(x=y_train, y=predicted_values2, trendline=\"lowess\",trendline_color_override='black')\n",
        "fig.update_layout(xaxis_title='Actual Earnings',\n",
        "                  yaxis_title='Predicted Earnings',)\n",
        "fig.show()"
      ],
      "execution_count": null,
      "outputs": [
        {
          "output_type": "display_data",
          "data": {
            "text/html": [
              "<html>\n",
              "<head><meta charset=\"utf-8\" /></head>\n",
              "<body>\n",
              "    <div>            <script src=\"https://cdnjs.cloudflare.com/ajax/libs/mathjax/2.7.5/MathJax.js?config=TeX-AMS-MML_SVG\"></script><script type=\"text/javascript\">if (window.MathJax) {MathJax.Hub.Config({SVG: {font: \"STIX-Web\"}});}</script>                <script type=\"text/javascript\">window.PlotlyConfig = {MathJaxConfig: 'local'};</script>\n",
              "        <script src=\"https://cdn.plot.ly/plotly-2.8.3.min.js\"></script>                <div id=\"3f722255-4e8a-43c2-a1a1-9918b19ebc44\" class=\"plotly-graph-div\" style=\"height:525px; width:100%;\"></div>            <script type=\"text/javascript\">                                    window.PLOTLYENV=window.PLOTLYENV || {};                                    if (document.getElementById(\"3f722255-4e8a-43c2-a1a1-9918b19ebc44\")) {                    Plotly.newPlot(                        \"3f722255-4e8a-43c2-a1a1-9918b19ebc44\",                        [{\"hovertemplate\":\"x=%{x}<br>y=%{y}<extra></extra>\",\"legendgroup\":\"\",\"marker\":{\"color\":\"#636efa\",\"symbol\":\"circle\"},\"mode\":\"markers\",\"name\":\"\",\"orientation\":\"v\",\"showlegend\":false,\"x\":[10.25,62.5,15.75,23.08,8.0,25.0,9.29,14.0,16.69,18.4,18.01,14.86,23.08,62.0,11.03,16.0,13.52,15.0,24.52,18.0,28.21,12.98,10.0,8.5,8.5,19.23,13.95,34.0,16.64,12.0,13.75,19.27,28.72,12.79,14.24,9.0,52.0,10.5,10.5,19.44,34.0,15.0,12.74,22.0,21.0,10.0,19.0,12.0,14.62,13.0,7.64,16.87,25.0,14.57,12.21,11.0,7.5,5.0,11.75,9.5,20.0,6.25,25.5,15.0,11.3,9.5,19.71,8.5,11.78,22.0,21.79,16.24,10.5,22.44,17.31,15.0,14.55,14.95,21.63,30.77,38.48,26.92,12.0,18.55,22.5,13.38,32.21,43.58,28.85,25.64,35.03,17.86,2.13,21.57,10.95,15.21,15.0,38.46,31.54,13.5,14.19,21.1,9.0,15.0,10.24,19.23,2.78,41.35,11.92,10.5,19.71,6.67,13.0,3.75,32.21,12.5,13.0,19.65,25.0,15.38,18.33,26.0,10.0,11.0,30.29,18.5,6.99,10.3,10.0,30.77,36.54,14.81,22.5,8.5,15.38,47.4,28.85,10.75,7.9,9.5,2.13,8.5,14.0,40.0,9.0,10.0,36.15,25.0,9.45,60.9,10.0,31.0,8.55,28.85,34.62,40.0,9.0,12.61,33.17,12.85,15.0,26.75,25.64,9.3,18.75,86.54,6.25,27.5,29.91,28.85,57.0,16.0,45.67,18.0,36.54,13.17,15.75,23.0,11.54,19.05,16.0,17.44,11.81,19.0,16.54,15.2,11.5,13.32,12.15,2.64,26.8,9.0,18.0,10.0,11.01,26.0,9.27,12.0,9.25,27.0,7.25,16.75,10.24,16.35,13.5,12.25,14.0,14.0,35.98,14.5,9.5,16.83,17.79,13.5,19.5,9.0,8.0,10.47,35.58,18.27,44.38,20.67,12.94,32.0,13.0,10.0,26.0,14.1,28.95,20.0,15.7,15.38,2.26,17.0,25.6,18.0,39.23,9.62,7.5,11.87,56.25,16.67,18.0,23.0,16.82,37.5,14.5,9.1,7.5,19.05,18.0,28.85,26.44,8.5,14.3,7.08,12.32,21.63,11.0,11.09,45.0,9.0,9.74,12.25,13.29,30.0,28.5,26.44,9.0,11.75,27.27,27.04,9.5,15.1,60.0,13.5,10.5,20.67,32.69,34.01,14.69,13.0,18.32,15.0,10.5,15.11,9.74,11.98,37.1,23.72,25.0,18.0,14.25,18.75,19.38,15.72,14.86,35.0,37.5,15.0,9.0,11.11,14.0,15.38,17.0,31.25,26.5,15.79,16.5,12.0,9.27,18.5,14.42,16.0,14.0,11.16,22.3,67.45,21.15,13.78,11.54,13.13,35.5,16.0,26.42,24.8,11.0,23.5,13.0,5.0,14.65,10.0,17.2,12.5,10.25,18.46,18.75,9.35,12.5,39.74,17.69,23.08,26.44,13.62,20.75,36.08,67.0,14.0,23.99,15.0,20.51,8.5,12.75,23.65,12.0,13.75,12.0,5.25,19.77,8.35,14.25,7.36,30.63,4.38,35.0,8.0,8.46,20.63,22.5,15.0,40.0,15.0,9.32,14.71,35.0,11.25,11.54,27.13,20.98,14.25,9.0,39.74,22.44,8.9,22.6,14.0,7.52,2.5,10.5,21.63,24.0,14.75,25.0,22.67,3.49,14.86,10.82,12.31,7.75,12.8,14.42,25.21,7.25,28.52,19.5,20.93,25.6,10.0,14.0,8.57,9.5,22.0,15.0,16.97,12.75,3.15,6.25,28.72,15.0,24.04,15.25,8.95,35.88,19.82,11.54,132.89,13.74,16.5,17.5,14.0,79.17,20.0,15.0,16.0,15.7,19.0,18.5,10.0,15.0,30.77,12.78,13.43,15.59,58.14,19.48,8.25,15.5,11.1,16.9,14.67,25.48,28.0,15.0,12.0,25.67,16.4,23.16,2.33,10.0,14.0,12.03,33.65,10.02,22.9,18.75,11.81,15.68,20.0,100.0,5.0,17.25,10.0,17.5,18.75,17.5,15.26,55.94,9.14,10.25,25.0,11.5,13.5,15.0,24.0,26.53,13.94,16.67,24.04,17.31,38.46,19.0,24.65,12.5,18.03,22.31,13.69,14.42,10.82,22.56,25.0,9.5,12.5,17.2,4.64,17.22,13.5,21.15,4.29,13.46,15.0,15.0,28.85,13.25,39.0,19.0,10.64,11.3,10.6,32.08,48.08,15.8,9.36,8.65,13.5,15.0,26.0,50.0,18.0,11.84,9.0,15.45,21.0,31.25,18.0,24.04,23.4,8.5,20.0,9.0,19.88,16.0,9.5,12.11,7.69,15.83,36.06,17.3,10.58,4.38,18.27,40.77,17.0,23.39,11.63,19.1,25.05,33.65,9.85,37.25,36.32,14.5,11.25,14.0,13.65,22.95,20.0,16.8,14.3,19.72,10.0,16.0,21.0,10.5,12.08,13.65,24.85,7.75,19.23,9.1,10.0,40.38,49.02,17.13,91.67,7.69,15.0,12.04,25.48,21.0,7.25,12.5,13.35,13.5,3.65,20.02,22.0,6.0,15.5,8.0,12.48,41.96,15.0,16.0,13.46,40.0,11.5,18.5,19.8,8.75,8.5,8.5,8.0,24.04,11.4,17.88,12.98,22.19,34.95,15.0,33.33,14.83,6.43,16.67,17.0,16.99,14.35,32.31,25.48,23.08,16.83,8.15,17.16,15.97,7.5,21.15,8.2,29.0,8.32,28.5,50.96,10.5,7.65,46.15,16.3,25.15,12.0,16.16,34.62,10.2,20.51,11.0,14.8,14.01,10.14,8.5,13.5,7.5,25.0,46.15,13.0,13.46,30.0,11.0,19.23,13.0,13.5,9.0,26.5,19.5,9.5,19.72,28.46,13.0,36.32,18.65,9.0,30.23,29.07,36.94,12.5,14.96,10.5,54.95,29.09,27.5,12.5,13.46,19.0,39.05,15.0,12.06,12.3,26.22,22.3,5.15,7.25,17.0,10.0,5.0,14.54,15.38,38.46,31.95,36.0,14.0,17.0,12.35,15.45,20.0,16.0,18.0,20.67,25.58,11.75,7.27,8.75,9.75,29.91,10.0,25.0,25.0,17.48,17.88,25.0,17.09,12.77,19.23,13.5,24.23,22.0,12.0,8.7,17.0,10.0,26.42,34.72,14.53,12.5,18.14,15.0,23.08,20.0,17.0,10.0,10.0,11.54,24.04,32.42,27.65,12.34,20.0,48.56,48.72,24.04,15.38,26.5,6.0,22.1,18.46,48.5,15.0,24.5,22.6,26.15,10.0,28.0,12.53,40.0,8.0,17.75,5.76,10.26,10.16,7.75,45.0,25.0,9.85,21.35,20.0,15.09,9.5,14.1,11.42,20.3,15.29,16.35,10.47,6.74,9.94,8.0,5.81,19.23,21.63,9.25,2.13,12.0,10.81,16.2,13.75,14.45,18.5,27.88,29.07,15.28,22.29,18.31,11.63,34.27,14.69,51.0,12.68,32.52,19.23,17.67,12.0,38.46,12.0,13.33,40.57,11.0,22.0,17.71,9.0,12.0,7.6,2.65,12.0,16.7,19.71,23.08,14.5,7.25,7.5,15.0,20.0,15.0,7.38,13.31,13.29,50.0,10.41,26.92,17.5,2.13,25.0,11.0,17.0,15.87,12.75,16.92,5.5,16.83,10.5,18.18,35.0,18.6,18.1,28.75,18.75,14.24,15.62,11.0,40.38,9.0,8.0,11.89,123.08,15.34,16.0,9.97,22.36,29.62,11.5,15.63,12.0,8.0,9.55,17.6,7.75,28.62,11.25,9.0,21.42,7.6,16.0,17.51,11.0,15.77,7.25,20.16,8.5,10.0,23.08,32.05,21.37,12.78,22.0,12.89,29.25,7.4,7.25,7.25,2.65,9.89,23.0,11.11,7.25,16.0,19.26,13.75,20.5,8.0,25.21,13.14,8.33,19.54,15.0,18.33,24.28,15.5,21.5,34.62,19.5,18.71,25.6,17.19,8.5,17.31,18.5,10.0,13.0,10.5,10.0,16.0,13.5,12.0,42.86,15.0,8.0,13.5,17.44,14.4,50.48,28.57,8.0,15.09,9.5,10.5,21.79,9.5,50.0,22.0,19.87,18.38,20.0,25.16,14.75,40.38,20.09,20.0,10.0,23.58,13.22,7.25],\"xaxis\":\"x\",\"y\":[8.007428828223233,21.26552356335902,21.1360327398172,22.12533522036455,9.755474086388464,19.07923177651295,15.230802073825103,7.557436355834696,17.77220983047896,15.68079454621364,18.738643933772938,16.58077949099071,23.28493072229696,23.5445412794523,18.53373569144186,25.696845855439104,29.07178939835313,19.748659898312386,22.2118714727597,14.772468451266022,20.169597736538275,17.284822653739173,12.334905097471296,6.429674791473175,10.918477981797814,21.796493321332232,21.571497085137967,20.164037599747378,24.2977268902296,16.85769765861906,21.433038901308738,22.56358084906044,17.230120338914908,18.721336323299933,15.052167002284552,14.022064123863853,25.601342242756548,14.815424822382582,15.952151947061626,23.795811586422044,25.68231862835628,10.998829057265624,23.417829939315713,19.110443103906757,15.750024088120728,9.697994088128858,16.667316643370807,21.796493321332232,17.123495192671626,22.57532769275309,23.966105687789035,16.563471880517703,17.63653293002486,16.130787018602174,12.343245707650873,8.07387798674014,19.979216721290026,4.978632994844645,21.44756522840662,21.623419916556987,9.940297034811191,11.06249783239235,21.756319133575747,19.604013657603996,16.794654193624257,17.89058182041489,23.30223833276997,10.817414502319835,17.59079527553317,26.426537778831122,25.393653617035287,13.733393712633188,15.611564104321609,23.371466974692108,25.6795382449661,14.411793514647766,16.892312879565072,11.682784226150893,17.400413360299975,21.482180449352636,23.198393569916863,22.278320631276603,21.539663147567072,13.947273815176402,18.78778548181683,17.82413266189798,24.82250877132064,23.331291886950677,24.629347372682208,17.84422245573106,20.42642881028838,19.148461318420036,22.40503287139813,26.008379244013472,17.512598373338673,23.951578280709224,15.692541389906289,20.948431207974185,23.885129122192314,10.78279928137382,18.49356060370042,23.354160264204044,18.311521638607662,17.348491428865895,21.39564329697254,22.57254640937796,24.969935215422222,22.48322977359263,18.571131295778056,8.091185597213144,26.08316955270092,23.385995101759885,15.594257393833544,19.53756629905698,24.16204728982066,12.193042480098885,18.516428080968854,18.006172526975693,19.976436337899845,23.576376117008135,23.61099133795415,15.905790782407909,20.296309976659803,20.52408479627437,25.40818084411811,17.151927036660194,23.138130488312246,16.191675410338718,19.31534684631311,22.71378587658231,20.896508376555165,27.499596128383434,23.005231271293486,17.446150114806716,20.51574634605866,13.898132267132503,22.428527458768375,27.98142253834286,12.011624325213319,13.984668519527652,19.78327475926442,7.448030826201233,21.658035137503003,26.7352907840153,9.198859167711479,19.673244099496028,21.790933454536816,18.96364016996721,12.804985023732051,19.46833045725528,10.728096876551067,23.40330181224795,4.87200784860136,23.12916402800978,21.311886527982626,22.3157162356128,23.784065642714342,15.715409767159656,26.49576642075326,24.923573150783557,20.688819750833904,18.87154315079169,21.623419916556987,16.97328926516481,15.279943621869002,24.248584442200755,18.046347614717124,23.81589958028523,22.659084461743003,21.06958268131535,27.98142253834286,19.252306081273144,22.624469240796987,20.740742582252924,18.983724563890615,11.509709921390701,16.301080939972184,19.20872080008488,21.571497085137967,26.360087720329265,21.29457891750962,21.672561464600886,17.77220983047896,20.567668277492732,24.473580678395027,14.328036745657851,20.639678202789998,22.77745555169398,18.686722002338858,18.213862052681893,24.389823909405113,19.246120004360858,18.24847637364297,12.89708294289251,19.58392656372575,20.521306212854075,20.789884130296823,25.892788537452663,11.789409372394179,22.540712471807073,12.588329937708327,17.151927036660194,11.927867556223408,25.61586946983937,19.113846997458968,15.646179325267624,13.759672283333384,10.603538899701348,21.741791906492917,20.584975887965744,19.63306901175459,18.127324900301804,23.267623111823955,20.599503115048574,21.796493321332232,20.965738818447196,14.226972366194929,7.93541800294102,19.02730984507887,19.84075763747585,18.7933462485972,24.112905741776768,23.38877458516512,27.808349133567614,20.700567494511493,16.431199053612804,23.55628812314494,22.53793208841689,24.312254117312424,17.18654045763632,14.901961074777734,19.02730984507887,9.037531706643936,19.938415423431724,12.288543392826607,17.957030978931794,21.519575153703887,21.574278368513088,14.333597512438214,15.871175561461893,17.077133128032965,21.802049588187874,14.99406079390808,18.023480137448697,19.823450027002846,16.926927200526148,14.86456637042648,18.25125675703315,21.115944745954014,24.508195899341043,11.777663428686477,18.45616499936423,19.927294789855946,9.403767410042558,19.621321268077,18.173058954853705,12.951785257716768,21.790933454536816,18.97538701365985,17.13183634284217,22.10802760989154,15.33464593669326,13.609469955766347,23.50714657510105,10.326622532042894,18.949111142914486,19.742473641403112,25.160316230670478,20.134983415577207,20.86467443898427,25.598561859366367,20.792664513687004,10.773832821071355,13.74236557284532,22.090719999418535,16.823083337657987,19.20594401663448,14.564779825544765,20.87642128267692,21.519575153703887,22.607161630323976,22.06785162216516,22.558020082280077,14.204104888926505,13.116518412306416,25.272501243709176,14.293421524711835,15.17887924240608,22.073412388945524,22.543492855197247,26.065861942227908,18.4326686120241,18.97538701365985,14.400046670955117,18.530955308051677,15.54852153931175,22.3157162356128,25.457322392162016,24.86609045256912,19.42538038603333,17.252987816183335,8.904633389610122,12.478924408074864,22.384945777519892,16.546164270044695,19.010002234605867,26.100477163173924,18.81962031937267,11.518053771516083,21.721703912629724,19.234998470800132,15.750024088120728,17.685672678098864,23.521673802183873,18.449975322512163,14.056679344809869,22.19456386228669,23.709274434041948,19.85188187099141,17.723066482465175,19.70229855366168,18.634800070904777,20.49225715859809,20.402937822857925,14.590428586188313,17.319436974700242,16.3848377089621,21.986875236565428,9.99499934963545,16.886752112784716,18.623051427242242,16.753852895765956,20.083061484143126,10.073195351844998,17.783956674171602,23.6975275903493,13.97291987586512,12.449870853894154,18.03182128761924,20.567668277492732,19.344403100448655,22.43408822554873,21.58880469561097,26.44384448931918,23.215701180389875,25.35903929607422,22.7573675578308,14.590428586188313,27.358356661179076,19.42538038603333,21.104197902261365,13.589379261948324,13.260538262900955,28.243814378873328,16.733765801887714,13.087463958140763,19.73691287462275,16.719238574804887,7.038214341539074,15.813692863247454,21.6462891937953,14.642350517622393,23.939831437016576,10.459519049106813,13.482754115705038,18.063655225190136,24.268672436063948,21.225350275587477,19.107657320606908,21.0321879769641,20.273442499391383,9.56231448771992,15.9376247199788,18.14463161078986,16.058777093304908,16.078864187183154,20.723434971779913,19.730725897725524,20.547581183614493,15.836560340515877,12.274016165743785,21.202481898334103,20.033919036114288,14.538505754769293,20.688819750833904,23.469751870749793,17.21837259523732,13.984668519527652,19.338842333668293,23.48983896462804,22.058885161862694,15.089562606620749,22.558020082280077,10.110590956181198,14.400046670955117,17.853186216078686,19.03565369520425,19.615761401281585,17.630970363274603,18.363441770071848,16.43954002378636,25.647703407410265,7.9125505256725965,17.907889430887895,21.375555303109348,26.891056578317535,21.28005169042679,16.197236177119084,9.77000311344118,23.09176932365853,8.469167244319468,19.68499094318867,21.502268443215822,21.903118467575514,19.601234174198755,16.29552017319182,22.488789640388045,21.156119833695445,15.992327934788001,22.2118714727597,17.446150114806716,13.653048037075045,21.721703912629724,17.70854555527696,17.091660355115792,26.839134646883455,24.641094216374857,17.529905983811684,23.264842728433774,13.644083376742472,21.8601629964439,18.519211164313862,15.09234299001093,18.770478771328772,15.698102156686648,17.428843404318652,15.213494463352095,18.476252993227416,17.498070246270903,26.80729980932762,16.11347940812917,17.443368831431588,25.442796065064126,27.098745204038796,23.573595733617953,11.495182694307879,17.01068396951606,16.526077176166453,18.620271943837007,15.438490699546364,19.520259588568916,23.29945794937979,12.891522176112147,19.0127817180111,19.54034308250738,15.646179325267624,24.12743296885959,15.09234299001093,13.707750351899303,19.211506583384736,11.662696232287704,24.76224658970096,21.857382793050714,16.073304320387738,17.7610888369092,13.967361809039588,26.09491639639356,16.528856659571687,10.771052437681174,21.259964596548546,10.58345090583816,19.37345755461431,24.574645057857953,21.793713837926997,21.70439630215672,13.306899427554669,20.634117436009642,13.099210801833408,16.42501279670353,16.197236177119084,15.262636011395994,21.793713837926997,19.673244099496028,22.993489827510512,23.43791703319396,20.103148578021372,13.061816097482158,18.415361901536034,20.377287262244483,22.731093487055322,18.103832112901454,22.436867708953965,16.58077949099071,19.228813293872793,21.115944745954014,14.373769000239864,18.075402068882777,22.566986542582544,22.139861547462434,21.6033319226938,18.542702151744326,17.33952496856343,22.468702546509807,10.612505360003812,15.210714079961914,16.42501279670353,23.475312637530156,17.383105749826967,19.598453790808573,19.021123768166593,14.676964838583462,21.675342747976014,15.732716477647717,17.861529166219125,16.753852895765956,8.993950025395453,16.47693472813761,16.713677808024524,15.905790782407909,18.55382458528999,16.076084703777916,19.794395572837193,23.192833703121448,20.15785179283058,8.471948527694597,18.60018484995876,26.527601258309094,17.567306088072602,21.08689029178836,16.107919541333754,25.33895040222608,16.80577572718498,21.029407593573918,15.369261157639276,22.22361831645234,23.025320165141625,19.546530959389553,15.836560340515877,17.54721359428469,22.17169638501826,14.95388300621181,7.569183199527341,17.457896958499365,20.82727973463302,18.986510347190464,16.31282778366483,16.83760966475587,13.228703425345117,22.69369878270407,19.979216721290026,23.613770821359385,11.241132903932897,24.883398063042126,13.263317746306189,17.76942944708878,24.199442894156864,20.639678202789998,10.185380364883702,24.366956432136693,23.319545043258035,22.67639117223106,20.567668277492732,19.104880537156507,16.753852895765956,19.01556300138623,15.666263719191036,18.877103017587114,19.73691287462275,16.15706108937765,15.262636011395994,21.894778217389916,21.756319133575747,15.060508152455096,17.930756008171375,16.341252427773842,21.12150461274943,6.155537007235008,21.675342747976014,22.295628241749615,17.11174834897898,24.24580405881058,16.647228649507618,23.38877458516512,25.714153465912116,16.494242338610615,19.53756629905698,16.560691497127525,23.87060189510949,18.773259154718954,10.577890139057796,21.894778217389916,16.99337635904305,19.990963564982668,13.621213199519211,21.37214960958725,21.33475940516072,23.083428173487984,23.111856417536774,11.39689779825019,20.446515904166628,19.719605264149738,17.13461132632268,17.342309851878337,23.083428173487984,21.888592140477638,16.39039847574246,19.768747712178584,19.727949114275123,16.182708950036254,23.723802021118754,1.2631025091755514,19.107657320606908,22.64177685126999,13.952833681971821,22.50609725086105,25.739801326570724,15.274383755073583,18.08096283566314,16.280992946109,15.265417294771119,21.046715204046922,15.576949783360536,26.325473399368196,18.773259154718954,19.806142416529834,11.945175166696416,23.371466974692108,19.78883480605683,21.897557700795158,18.92346508222577,8.768953789201188,18.3377930094283,14.896401207982318,15.14426492144501,22.886860181342502,15.551301922701931,22.659084461743003,19.131153707947032,24.470800295004846,21.865723763224263,10.53771541131034,11.440480379483617,27.984203821717987,12.343245707650873,19.90998717938294,16.528856659571687,19.77152719558382,20.04844626319711,18.409803834710512,22.589854019850964,15.972239940924812,19.630288628364415,16.67906258707851,21.54243993101748,21.635166760249636,15.715409767159656,20.69716090100444,19.47730231746741,24.990022309300468,18.103832112901454,21.36102897601147,22.465922163119618,22.731093487055322,24.392604292795294,15.230802073825103,18.58843800626612,13.909879110825148,24.078290520830752,18.577317372690334,13.448139794743966,19.823450027002846,20.654205429872828,20.02494897587204,21.568717601732732,18.758731927636124,20.671512140360893,15.210714079961914,19.090350610118843,19.979216721290026,20.097588711225956,21.536882764176898,19.030089328484113,22.298408625139796,20.65698581326301,26.46115209979219,14.792556445129215,19.093759003595782,13.95005419856658,20.728994838575336,17.84422245573106,17.13183634284217,19.090350610118843,18.311521638607662,21.790933454536816,21.21360343189483,22.093500382808717,16.753852895765956,14.400046670955117,13.171220727130674,14.515637377515922,21.623419916556987,23.111856417536774,16.736545285292948,22.609942013714157,14.55303298185212,22.797542645572225,19.174107379108758,15.369261157639276,21.606112306083983,16.148094629075185,12.343245707650873,20.740742582252924,20.740742582252924,18.58565762287594,12.686613033796121,15.09234299001093,15.6233118479992,23.354160264204044,17.1089679655888,15.660706552350451,22.57254640937796,23.677440496471053,25.082120228460926,23.163778348970848,22.454175319426977,28.552567384057507,19.217690860327128,26.308165788895185,20.792664513687004,21.38111606988971,19.6503766222276,14.798117211909574,18.311521638607662,19.445467479911574,15.14426492144501,25.7833830078192,23.64560565891522,16.978849131960224,16.53442102629183,14.564779825544765,22.624469240796987,17.902328664107532,19.384573688265366,18.83074095294845,14.256026820360585,18.380748480559912,21.554190374649902,21.55140999125972,18.89441062806012,16.701930964331876,14.766282374353743,22.26379340419378,18.7615141109962,22.43408822554873,20.70612736130691,24.99280359267559,12.946224490936405,26.285297411641817,24.063763293747922,20.567668277492732,16.8521368918387,15.395535228414747,20.758050192725936,23.50714657510105,18.70680999620205,21.69264945846408,19.88989918551975,19.85806524794886,16.44232040717654,16.026942255749073,20.417462349985914,16.125226251821815,26.510293647836082,21.326413755065456,22.2118714727597,17.495290762865668,15.865615694666477,25.454542008771828,14.622262523759208,22.01592969073108,16.64444826611744,14.980157076987282,17.027991579989067,19.993743948372856,20.290750109864387,14.625042907149385,13.53189656373388,17.08887997172561,23.732142811295315,24.83703599840347,22.090719999418535,19.344403100448655,15.213494463352095,12.288543392826607,21.19073505464146,13.629553449704812,9.320010641052644,15.054947385674733,15.93206485318338,16.402144419450163,16.753852895765956,22.468702546509807,23.083428173487984,21.464872838879625,22.938782112776583,19.36727597762675,12.38341629546758,20.80997212416001,20.117675805104202,18.605744716754177,16.667316643370807,26.325473399368196,19.31534684631311,23.423389806111135,16.179928566646073,19.52922424890149,13.295152583862023,17.6136627528016,23.042626875629683,18.372408230374315,20.195248297151718,18.438858288876165,17.757679903441296,18.54826291852469,13.032761643316501,19.23221808740995,18.53373569144186,20.86189405559409,25.15134977036801,24.883398063042126,14.261586687156,9.371933472471667,16.17436779986571,18.398055191047977,21.845635769361078,12.017185091993682,18.19036566534177,19.690551709969032,22.990704944195603,22.66464432853842,16.97328926516481,22.396692621212534,16.26924610241635,15.99510921816313,23.190053319731273,12.82507301759524,7.678587829175864,25.47463000263502,17.70575977197711,26.59961118360636,18.380748480559912,22.292847858359426,15.542335462399468,23.553508639739714,17.700199905181695,15.190626086098728,15.905790782407909,22.414000231685538,22.503316867470875,16.817522570877628,11.959702393779239,19.465555473774767,23.316765559852794,17.720286999059933,16.9559816546918,20.77535780319894,16.875005269092068,14.365432349994048,17.99164619987781,19.73691287462275,23.198393569916863,25.509245223581036,20.486691891893006,22.915914635508155,14.12590798673201,12.095381994188177,17.498070246270903,16.168185322893212,17.720286999059933,23.40330181224795,19.84353802086603,11.307582062449807,27.433146969866524,12.859687338556313,16.205575527319738,15.801946019554805,20.3080577203374,15.715409767159656,14.74619438049055,23.15821848217543,13.73680480606496,13.923776527851327,21.637947143639817,21.467653222269806,21.831108542278248,18.7615141109962,17.492511279460434,19.07923177651295,15.663486935740632,17.6801119113185,15.17887924240608,17.6801119113185,21.057834037652814,20.728994838575336,14.850039143343654,13.811594214767464,14.850039143343654,22.659084461743003,10.551618768237159,16.145313345700057,21.739011523102736,14.348124739521037,16.577999107600533,15.230802073825103,13.771420027010976,18.25959250729402,8.83818423109322,18.602965233348943,23.28493072229696,13.407963807017591,23.994533751840837,24.612039762209196,11.604587323956398,22.933222245981167,13.707750351899303,20.472164664810176,6.444202018556002,22.609942013714157,19.29526335237465,14.544068321519543,17.720286999059933,18.76769838793859,17.169233747148258,22.57532769275309,19.98477748807039,19.50572966153125,26.112224006866573,15.455798310019372,15.525027851926456,17.457896958499365,15.16435111533831,16.30386042337742,12.995366938965251,27.150668035457816,11.35672451047865,15.917537626100557,20.538613823327086,12.862467721946494,21.008690689639028,17.198285501359077,23.749450421768326,19.252306081273144,25.457322392162016,16.710897424634343,20.619590208926812,19.655936489023016,19.655936489023016,25.491937613108032,19.23221808740995,21.620639533166813,17.094440738505973,20.844586445121084,24.641094216374857,6.311302801537245],\"yaxis\":\"y\",\"type\":\"scatter\"},{\"hovertemplate\":\"<b>LOWESS trendline</b><br><br>x=%{x}<br>y=%{y} <b>(trend)</b><extra></extra>\",\"legendgroup\":\"\",\"line\":{\"color\":\"black\"},\"marker\":{\"color\":\"#636efa\",\"symbol\":\"circle\"},\"mode\":\"lines\",\"name\":\"\",\"showlegend\":false,\"x\":[2.13,2.13,2.13,2.13,2.26,2.33,2.5,2.64,2.65,2.65,2.78,3.15,3.49,3.65,3.75,4.29,4.38,4.38,4.64,5.0,5.0,5.0,5.0,5.15,5.25,5.5,5.76,5.81,6.0,6.0,6.25,6.25,6.25,6.43,6.67,6.74,6.99,7.08,7.25,7.25,7.25,7.25,7.25,7.25,7.25,7.25,7.25,7.25,7.27,7.36,7.38,7.4,7.5,7.5,7.5,7.5,7.5,7.5,7.52,7.6,7.6,7.64,7.65,7.69,7.69,7.75,7.75,7.75,7.75,7.9,8.0,8.0,8.0,8.0,8.0,8.0,8.0,8.0,8.0,8.0,8.0,8.0,8.15,8.2,8.25,8.32,8.33,8.35,8.46,8.5,8.5,8.5,8.5,8.5,8.5,8.5,8.5,8.5,8.5,8.5,8.5,8.5,8.55,8.57,8.65,8.7,8.75,8.75,8.9,8.95,9.0,9.0,9.0,9.0,9.0,9.0,9.0,9.0,9.0,9.0,9.0,9.0,9.0,9.0,9.0,9.0,9.0,9.1,9.1,9.14,9.25,9.25,9.27,9.27,9.29,9.3,9.32,9.35,9.36,9.45,9.5,9.5,9.5,9.5,9.5,9.5,9.5,9.5,9.5,9.5,9.5,9.5,9.55,9.62,9.74,9.74,9.75,9.85,9.85,9.89,9.94,9.97,10.0,10.0,10.0,10.0,10.0,10.0,10.0,10.0,10.0,10.0,10.0,10.0,10.0,10.0,10.0,10.0,10.0,10.0,10.0,10.0,10.0,10.0,10.0,10.0,10.0,10.02,10.14,10.16,10.2,10.24,10.24,10.25,10.25,10.25,10.26,10.3,10.41,10.47,10.47,10.5,10.5,10.5,10.5,10.5,10.5,10.5,10.5,10.5,10.5,10.5,10.5,10.5,10.58,10.6,10.64,10.75,10.81,10.82,10.82,10.95,11.0,11.0,11.0,11.0,11.0,11.0,11.0,11.0,11.0,11.0,11.01,11.03,11.09,11.1,11.11,11.11,11.16,11.25,11.25,11.25,11.3,11.3,11.4,11.42,11.5,11.5,11.5,11.5,11.54,11.54,11.54,11.54,11.54,11.63,11.63,11.75,11.75,11.75,11.78,11.81,11.81,11.84,11.87,11.89,11.92,11.98,12.0,12.0,12.0,12.0,12.0,12.0,12.0,12.0,12.0,12.0,12.0,12.0,12.0,12.0,12.0,12.0,12.0,12.03,12.04,12.06,12.08,12.11,12.15,12.21,12.25,12.25,12.3,12.31,12.32,12.34,12.35,12.48,12.5,12.5,12.5,12.5,12.5,12.5,12.5,12.5,12.5,12.53,12.61,12.68,12.74,12.75,12.75,12.75,12.77,12.78,12.78,12.79,12.8,12.85,12.89,12.94,12.98,12.98,13.0,13.0,13.0,13.0,13.0,13.0,13.0,13.0,13.0,13.0,13.13,13.14,13.17,13.22,13.25,13.29,13.29,13.31,13.32,13.33,13.35,13.38,13.43,13.46,13.46,13.46,13.46,13.5,13.5,13.5,13.5,13.5,13.5,13.5,13.5,13.5,13.5,13.5,13.5,13.5,13.52,13.62,13.65,13.65,13.69,13.74,13.75,13.75,13.75,13.75,13.78,13.94,13.95,14.0,14.0,14.0,14.0,14.0,14.0,14.0,14.0,14.0,14.0,14.0,14.0,14.0,14.01,14.1,14.1,14.19,14.24,14.24,14.25,14.25,14.25,14.3,14.3,14.35,14.4,14.42,14.42,14.42,14.45,14.5,14.5,14.5,14.5,14.53,14.54,14.55,14.57,14.62,14.65,14.67,14.69,14.69,14.71,14.75,14.75,14.8,14.81,14.83,14.86,14.86,14.86,14.95,14.96,15.0,15.0,15.0,15.0,15.0,15.0,15.0,15.0,15.0,15.0,15.0,15.0,15.0,15.0,15.0,15.0,15.0,15.0,15.0,15.0,15.0,15.0,15.0,15.0,15.0,15.0,15.0,15.0,15.0,15.0,15.0,15.09,15.09,15.1,15.11,15.2,15.21,15.25,15.26,15.28,15.29,15.34,15.38,15.38,15.38,15.38,15.38,15.38,15.45,15.45,15.5,15.5,15.5,15.59,15.62,15.63,15.68,15.7,15.7,15.72,15.75,15.75,15.77,15.79,15.8,15.83,15.87,15.97,16.0,16.0,16.0,16.0,16.0,16.0,16.0,16.0,16.0,16.0,16.0,16.0,16.0,16.0,16.16,16.2,16.24,16.3,16.35,16.35,16.4,16.5,16.5,16.54,16.64,16.67,16.67,16.67,16.69,16.7,16.75,16.8,16.82,16.83,16.83,16.83,16.87,16.9,16.92,16.97,16.99,17.0,17.0,17.0,17.0,17.0,17.0,17.0,17.0,17.0,17.09,17.13,17.16,17.19,17.2,17.2,17.22,17.25,17.3,17.31,17.31,17.31,17.44,17.44,17.48,17.5,17.5,17.5,17.5,17.51,17.6,17.67,17.69,17.71,17.75,17.79,17.86,17.88,17.88,18.0,18.0,18.0,18.0,18.0,18.0,18.0,18.0,18.0,18.0,18.01,18.03,18.1,18.14,18.18,18.27,18.27,18.31,18.32,18.33,18.33,18.38,18.4,18.46,18.46,18.5,18.5,18.5,18.5,18.5,18.5,18.55,18.6,18.65,18.71,18.75,18.75,18.75,18.75,18.75,18.75,19.0,19.0,19.0,19.0,19.0,19.0,19.05,19.05,19.1,19.23,19.23,19.23,19.23,19.23,19.23,19.23,19.26,19.27,19.38,19.44,19.48,19.5,19.5,19.5,19.5,19.54,19.65,19.71,19.71,19.71,19.72,19.72,19.77,19.8,19.82,19.87,19.88,20.0,20.0,20.0,20.0,20.0,20.0,20.0,20.0,20.0,20.0,20.0,20.0,20.0,20.02,20.09,20.16,20.3,20.5,20.51,20.51,20.63,20.67,20.67,20.67,20.75,20.93,20.98,21.0,21.0,21.0,21.0,21.1,21.15,21.15,21.15,21.35,21.37,21.42,21.5,21.57,21.63,21.63,21.63,21.63,21.79,21.79,22.0,22.0,22.0,22.0,22.0,22.0,22.0,22.0,22.1,22.19,22.29,22.3,22.3,22.31,22.36,22.44,22.44,22.5,22.5,22.5,22.56,22.6,22.6,22.67,22.9,22.95,23.0,23.0,23.0,23.08,23.08,23.08,23.08,23.08,23.08,23.08,23.16,23.39,23.4,23.5,23.58,23.65,23.72,23.99,24.0,24.0,24.04,24.04,24.04,24.04,24.04,24.04,24.23,24.28,24.5,24.52,24.65,24.8,24.85,25.0,25.0,25.0,25.0,25.0,25.0,25.0,25.0,25.0,25.0,25.0,25.0,25.0,25.0,25.05,25.15,25.16,25.21,25.21,25.48,25.48,25.48,25.5,25.58,25.6,25.6,25.6,25.64,25.64,25.67,26.0,26.0,26.0,26.0,26.15,26.22,26.42,26.42,26.44,26.44,26.44,26.5,26.5,26.5,26.53,26.75,26.8,26.92,26.92,27.0,27.04,27.13,27.27,27.5,27.5,27.65,27.88,28.0,28.0,28.21,28.46,28.5,28.5,28.52,28.57,28.62,28.72,28.72,28.75,28.85,28.85,28.85,28.85,28.85,28.85,28.95,29.0,29.07,29.07,29.09,29.25,29.62,29.91,29.91,30.0,30.0,30.23,30.29,30.63,30.77,30.77,30.77,31.0,31.25,31.25,31.54,31.95,32.0,32.05,32.08,32.21,32.21,32.31,32.42,32.52,32.69,33.17,33.33,33.65,33.65,34.0,34.0,34.01,34.27,34.62,34.62,34.62,34.72,34.95,35.0,35.0,35.0,35.0,35.03,35.5,35.58,35.88,35.98,36.0,36.06,36.08,36.15,36.32,36.32,36.54,36.54,36.94,37.1,37.25,37.5,37.5,38.46,38.46,38.46,38.46,38.48,39.0,39.05,39.23,39.74,39.74,40.0,40.0,40.0,40.0,40.0,40.38,40.38,40.38,40.57,40.77,41.35,41.96,42.86,43.58,44.38,45.0,45.0,45.67,46.15,46.15,47.4,48.08,48.5,48.56,48.72,49.02,50.0,50.0,50.0,50.48,50.96,51.0,52.0,54.95,55.94,56.25,57.0,58.14,60.0,60.9,62.0,62.5,67.0,67.45,79.17,86.54,91.67,100.0,123.08,132.89],\"xaxis\":\"x\",\"y\":[15.609791492101317,15.609791492101317,15.609791492101317,15.609791492101317,15.625850194612294,15.6345902750658,15.656088695107812,15.674085394056407,15.675381048671365,15.675381048671365,15.692348227366509,15.741877618015842,15.788953015964461,15.811603330473014,15.825916882063776,15.905216458901247,15.918747895000681,15.918747895000681,15.958312550533352,16.01419208191853,16.01419208191853,16.01419208191853,16.01419208191853,16.03783023096612,16.053699498284036,16.093739456975467,16.135895741381045,16.14405811693168,16.175223331067347,16.175223331067347,16.216545892799843,16.216545892799843,16.216545892799843,16.246481527654858,16.286577726489707,16.298302719190865,16.340249536890827,16.355366416251528,16.383922312377052,16.383922312377052,16.383922312377052,16.383922312377052,16.383922312377052,16.383922312377052,16.383922312377052,16.383922312377052,16.383922312377052,16.383922312377052,16.387280950846574,16.402390458552794,16.405747028554924,16.409103156412577,16.425876493750806,16.425876493750806,16.425876493750806,16.425876493750806,16.425876493750806,16.425876493750806,16.429229571042846,16.44263588303439,16.44263588303439,16.44933513791943,16.45100952216908,16.457705289251788,16.457705289251788,16.467743460275734,16.467743460275734,16.467743460275734,16.467743460275734,16.49280802527872,16.509491707505088,16.509491707505088,16.509491707505088,16.509491707505088,16.509491707505088,16.509491707505088,16.509491707505088,16.509491707505088,16.509491707505088,16.509491707505088,16.509491707505088,16.509491707505088,16.53447915657949,16.542799485752646,16.551116277645,16.56275520438694,16.564417588054756,16.56774218837357,16.58602629743474,16.592676124440437,16.592676124440437,16.592676124440437,16.592676124440437,16.592676124440437,16.592676124440437,16.592676124440437,16.592676124440437,16.592676124440437,16.592676124440437,16.592676124440437,16.592676124440437,16.592676124440437,16.600990739648843,16.60431763467339,16.6176340023016,16.625966288406126,16.634308301103093,16.634308301103093,16.65941550673684,16.66782024367959,16.676247668391703,16.676247668391703,16.676247668391703,16.676247668391703,16.676247668391703,16.676247668391703,16.676247668391703,16.676247668391703,16.676247668391703,16.676247668391703,16.676247668391703,16.676247668391703,16.676247668391703,16.676247668391703,16.676247668391703,16.676247668391703,16.676247668391703,16.693183919133737,16.693183919133737,16.69999390507346,16.718847471221007,16.718847471221007,16.722297783592417,16.722297783592417,16.725755717540274,16.72748763872501,16.73095758553579,16.73617836945069,16.737923025274583,16.753732177757403,16.76260633757274,16.76260633757274,16.76260633757274,16.76260633757274,16.76260633757274,16.76260633757274,16.76260633757274,16.76260633757274,16.76260633757274,16.76260633757274,16.76260633757274,16.76260633757274,16.771553261489295,16.78421339467299,16.806330893358812,16.806330893358812,16.808200096098737,16.82713786343927,16.82713786343927,16.83484673016083,16.84459928541354,16.850515983397532,16.85648363047458,16.85648363047458,16.85648363047458,16.85648363047458,16.85648363047458,16.85648363047458,16.85648363047458,16.85648363047458,16.85648363047458,16.85648363047458,16.85648363047458,16.85648363047458,16.85648363047458,16.85648363047458,16.85648363047458,16.85648363047458,16.85648363047458,16.85648363047458,16.85648363047458,16.85648363047458,16.85648363047458,16.85648363047458,16.85648363047458,16.85648363047458,16.85648363047458,16.860491196932053,16.88505546800817,16.88924044507468,16.8976923854528,16.90625634419918,16.90625634419918,16.908415192785693,16.908415192785693,16.908415192785693,16.910581273611754,16.919318744447963,16.943965266889332,16.95779930077081,16.95779930077081,16.96482039856728,16.96482039856728,16.96482039856728,16.96482039856728,16.96482039856728,16.96482039856728,16.96482039856728,16.96482039856728,16.96482039856728,16.96482039856728,16.96482039856728,16.96482039856728,16.96482039856728,16.983879561363825,16.988719562543693,16.998487287543206,17.02591655877117,17.0413799662399,17.04413088263088,17.04413088263088,17.079082116760684,17.093561000829137,17.093561000829137,17.093561000829137,17.093561000829137,17.093561000829137,17.093561000829137,17.093561000829137,17.093561000829137,17.093561000829137,17.093561000829137,17.096195219308093,17.101477445311914,17.117896211167064,17.120875638252397,17.123701224674356,17.123701224674356,17.13711350965654,17.161615992414113,17.161615992414113,17.161615992414113,17.175261179600838,17.175261179600838,17.202811923752282,17.20836566047561,17.231327170271925,17.231327170271925,17.231327170271925,17.231327170271925,17.242582801273457,17.242582801273457,17.242582801273457,17.242582801273457,17.242582801273457,17.26814904773752,17.26814904773752,17.303212339524404,17.303212339524404,17.303212339524404,17.311949687916158,17.321112934857286,17.321112934857286,17.329907750206825,17.33874372655556,17.344657703322788,17.35356430959707,17.371508754081738,17.377529895218427,17.377529895218427,17.377529895218427,17.377529895218427,17.377529895218427,17.377529895218427,17.377529895218427,17.377529895218427,17.377529895218427,17.377529895218427,17.377529895218427,17.377529895218427,17.377529895218427,17.377529895218427,17.377529895218427,17.377529895218427,17.377529895218427,17.386599408954552,17.3896327306934,17.39571468931433,17.401817150264073,17.411030598384258,17.4234063721978,17.44202570948108,17.454447361215987,17.454447361215987,17.47009483758374,17.47324071238616,17.476392116192613,17.482711577714436,17.48587962969502,17.527561117670448,17.534053134450964,17.534053134450964,17.534053134450964,17.534053134450964,17.534053134450964,17.534053134450964,17.534053134450964,17.534053134450964,17.534053134450964,17.54382889169602,17.57010968625077,17.593344929984294,17.613428797415455,17.61679037094095,17.61679037094095,17.61679037094095,17.6235251833009,17.626898319113785,17.626898319113785,17.63027520213739,17.63365577262465,17.65061152307591,17.66423464380893,17.681327674123395,17.695049281240575,17.695049281240575,17.701924760766456,17.701924760766456,17.701924760766456,17.701924760766456,17.701924760766456,17.701924760766456,17.701924760766456,17.701924760766456,17.701924760766456,17.701924760766456,17.746413869396086,17.749673092602997,17.75883365166934,17.77406660030829,17.783183282282256,17.795924157534543,17.795924157534543,17.80280434309039,17.806245900441827,17.809688357389597,17.81657571905776,17.82626078823098,17.841286046739445,17.85027655700231,17.85027655700231,17.85027655700231,17.85027655700231,17.86376069736037,17.86376069736037,17.86376069736037,17.86376069736037,17.86376069736037,17.86376069736037,17.86376069736037,17.86376069736037,17.86376069736037,17.86376069736037,17.86376069736037,17.86376069736037,17.86376069736037,17.870611310825343,17.904609805011727,17.914859064925615,17.914859064925615,17.928505896813586,17.945526946269958,17.948925329776202,17.948925329776202,17.948925329776202,17.948925329776202,17.957682048358677,18.009209881636377,18.01255609069518,18.027359276215062,18.027359276215062,18.027359276215062,18.027359276215062,18.027359276215062,18.027359276215062,18.027359276215062,18.027359276215062,18.027359276215062,18.027359276215062,18.027359276215062,18.027359276215062,18.027359276215062,18.03022085797731,18.055937981762742,18.055937981762742,18.082055983284953,18.097548681185888,18.097548681185888,18.10080367485327,18.10080367485327,18.10080367485327,18.116015902169554,18.116015902169554,18.130215815405858,18.145353822234366,18.151754943094094,18.151754943094094,18.151754943094094,18.160441055296204,18.174659803685653,18.174659803685653,18.174659803685653,18.174659803685653,18.183224248549376,18.1860855864149,18.188950468747084,18.194833244966446,18.210416936616593,18.219025898998435,18.224788192421023,18.230569834009177,18.230569834009177,18.23668871596765,18.24850005259563,18.24850005259563,18.26311764379947,18.266058612378828,18.272024089125214,18.281255171237444,18.281255171237444,18.281255171237444,18.30867757138975,18.311699628944886,18.323739356245436,18.323739356245436,18.323739356245436,18.323739356245436,18.323739356245436,18.323739356245436,18.323739356245436,18.323739356245436,18.323739356245436,18.323739356245436,18.323739356245436,18.323739356245436,18.323739356245436,18.323739356245436,18.323739356245436,18.323739356245436,18.323739356245436,18.323739356245436,18.323739356245436,18.323739356245436,18.323739356245436,18.323739356245436,18.323739356245436,18.323739356245436,18.323739356245436,18.323739356245436,18.323739356245436,18.323739356245436,18.323739356245436,18.323739356245436,18.323739356245436,18.350374061320057,18.350374061320057,18.353369192682543,18.356371639894714,18.38372035001123,18.386795609925016,18.39917146786632,18.40215381976347,18.40810595408736,18.41107571951475,18.42611097720955,18.438175167720157,18.438175167720157,18.438175167720157,18.438175167720157,18.438175167720157,18.438175167720157,18.459134033491868,18.459134033491868,18.47461405286734,18.47461405286734,18.47461405286734,18.503622722331823,18.513261560713868,18.516368304255746,18.531737677646866,18.537577687156066,18.537577687156066,18.544004230009264,18.553156217456806,18.553156217456806,18.5598267472809,18.566522327968244,18.569878822240934,18.579981573948707,18.59352660279699,18.62773634198801,18.638088925412944,18.638088925412944,18.638088925412944,18.638088925412944,18.638088925412944,18.638088925412944,18.638088925412944,18.638088925412944,18.638088925412944,18.638088925412944,18.638088925412944,18.638088925412944,18.638088925412944,18.638088925412944,18.689971995530705,18.703229612786178,18.716812249902468,18.738150072359215,18.755755695793827,18.755755695793827,18.771070781026566,18.80228528565724,18.80228528565724,18.8155674328226,18.85233060963882,18.86344968932603,18.86344968932603,18.86344968932603,18.870885746579074,18.874610767217078,18.89330508479468,18.912110757266767,18.919661968525087,18.923443408704554,18.923443408704554,18.923443408704554,18.93860608828169,18.950014578754864,18.957636311518325,18.976739803033734,18.984398180156926,18.988230516092838,18.988230516092838,18.988230516092838,18.988230516092838,18.988230516092838,18.988230516092838,18.988230516092838,18.988230516092838,18.988230516092838,19.016671875270546,19.02932408628475,19.039543061629388,19.050501645808357,19.054396921496497,19.054396921496497,19.062188361010044,19.07282565101077,19.090941717086423,19.09415285356968,19.09415285356968,19.09415285356968,19.1418884896008,19.1418884896008,19.15745206703703,19.165205712717206,19.165205712717206,19.165205712717206,19.165205712717206,19.169074841734727,19.20363094564284,19.230093350026134,19.237572893896747,19.24501337557528,19.25977226004929,19.273069398471005,19.2964217676667,19.303444119668768,19.303444119668768,19.346255447166683,19.346255447166683,19.346255447166683,19.346255447166683,19.346255447166683,19.346255447166683,19.346255447166683,19.346255447166683,19.346255447166683,19.346255447166683,19.34961506674111,19.356341667965403,19.38080022417952,19.394509396274408,19.40802017061489,19.43831648985278,19.43831648985278,19.451490316732016,19.45474882761856,19.457993570720586,19.457993570720586,19.474015017221816,19.480331571319198,19.498978586833605,19.498978586833605,19.511169573446583,19.511169573446583,19.511169573446583,19.511169573446583,19.511169573446583,19.511169573446583,19.52615581058774,19.540879917686706,19.555359643525318,19.57243982887849,19.583665007376432,19.583665007376432,19.583665007376432,19.583665007376432,19.583665007376432,19.583665007376432,19.651670593936874,19.651670593936874,19.651670593936874,19.651670593936874,19.651670593936874,19.651670593936874,19.664960202967794,19.664960202967794,19.67818327935681,19.712337308389074,19.712337308389074,19.712337308389074,19.712337308389074,19.712337308389074,19.712337308389074,19.712337308389074,19.720184994087962,19.72279870304186,19.752506030859642,19.771219461031855,19.782631174652778,19.787794785166533,19.787794785166533,19.787794785166533,19.787794785166533,19.798911802249023,19.829053253153546,19.847402054810438,19.847402054810438,19.847402054810438,19.849952385976337,19.849952385976337,19.864356891353893,19.87282174616785,19.877893986809845,19.890550961213,19.893077948741656,19.9232606137016,19.9232606137016,19.9232606137016,19.9232606137016,19.9232606137016,19.9232606137016,19.9232606137016,19.9232606137016,19.9232606137016,19.9232606137016,19.9232606137016,19.9232606137016,19.9232606137016,19.928262431291483,19.945699775801206,19.963033525125308,19.99743642474659,20.046077488018348,20.048494794220655,20.048494794220655,20.077404666094825,20.087006021097118,20.087006021097118,20.087006021097118,20.10616901661713,20.15219874483574,20.164935962054802,20.16969442615186,20.16969442615186,20.16969442615186,20.16969442615186,20.194023468436164,20.208366304453108,20.208366304453108,20.208366304453108,20.255783729680573,20.261587238638498,20.27422703308328,20.29581303563732,20.31314110219092,20.32861961234164,20.32861961234164,20.32861961234164,20.32861961234164,20.3662611278483,20.3662611278483,20.41545817275005,20.41545817275005,20.41545817275005,20.41545817275005,20.41545817275005,20.41545817275005,20.41545817275005,20.41545817275005,20.43879600053425,20.459757222443976,20.4830075968408,20.485330025465814,20.485330025465814,20.48765195180722,20.49925380230882,20.517786768551293,20.517786768551293,20.53165968361662,20.53165968361662,20.53165968361662,20.547647859302582,20.55685566610885,20.55685566610885,20.572937237250066,20.627060495103784,20.638850740269213,20.65179162413224,20.65179162413224,20.65179162413224,20.66976180084178,20.66976180084178,20.66976180084178,20.66976180084178,20.66976180084178,20.66976180084178,20.66976180084178,20.68930075977623,20.742342775499917,20.744507468420128,20.76803609655086,20.784942041737537,20.799482085673326,20.813765455272044,20.870586571562534,20.872464758096687,20.872464758096687,20.879910575220126,20.879910575220126,20.879910575220126,20.879910575220126,20.879910575220126,20.879910575220126,20.918315461894885,20.92692267223055,20.962604234156803,20.966972938411917,20.987201689467703,21.008581575120306,21.015231060633244,21.03428602351722,21.03428602351722,21.03428602351722,21.03428602351722,21.03428602351722,21.03428602351722,21.03428602351722,21.03428602351722,21.03428602351722,21.03428602351722,21.03428602351722,21.03428602351722,21.03428602351722,21.03428602351722,21.04036380700397,21.053678825581375,21.05585036899125,21.065641172383803,21.065641172383803,21.096793730699726,21.096793730699726,21.096793730699726,21.09986439674744,21.10788355141686,21.10985231650516,21.10985231650516,21.10985231650516,21.113747067685317,21.113747067685317,21.116630917498956,21.1463725097973,21.1463725097973,21.1463725097973,21.1463725097973,21.158777096851555,21.16432748401286,21.179400088319465,21.179400088319465,21.180849195798267,21.180849195798267,21.180849195798267,21.18514066728871,21.18514066728871,21.18514066728871,21.187256908012856,21.202291455317766,21.205616754533686,21.213509239549172,21.213509239549172,21.218725942677853,21.22132698685774,21.227169728651432,21.23625945728948,21.2524859904232,21.2524859904232,21.262414270141893,21.278392690797812,21.28678433428931,21.28678433428931,21.30193059639482,21.321228699796105,21.324297827443104,21.324297827443104,21.325839266460346,21.330867301551166,21.33473353206197,21.342540521524803,21.342540521524803,21.344900375291964,21.35281991251598,21.35281991251598,21.35281991251598,21.35281991251598,21.35281991251598,21.35281991251598,21.361557553719187,21.36555758938045,21.371183377728578,21.371183377728578,21.37279589101777,21.38732630664331,21.417527688209336,21.441888065126033,21.441888065126033,21.449574213956996,21.449574213956996,21.469689516692377,21.474878753794826,21.504463699033867,21.516498749301178,21.516498749301178,21.516498749301178,21.5358297306471,21.556229817695165,21.556229817695165,21.578335843182746,21.606976834959095,21.610238328930325,21.61344563787083,21.615343775390357,21.62333996803302,21.62333996803302,21.629238062117096,21.63547851798907,21.64093627901007,21.64977354898704,21.672177376515553,21.67897231925767,21.691826218285513,21.691826218285513,21.70506315919418,21.70506315919418,21.705431545400025,21.71485634181799,21.72710183834673,21.72710183834673,21.72710183834673,21.730479699199204,21.737844078383837,21.739429124836093,21.739429124836093,21.739429124836093,21.739429124836093,21.74037310390772,21.75393426416833,21.7562291629089,21.7647423111552,21.76757325981181,21.768140245164442,21.76984370291775,21.770412515685525,21.772408177654388,21.77689223613545,21.77689223613545,21.782678273484567,21.782678273484567,21.79347296908648,21.79827208858172,21.80281588236832,21.81024564256277,21.81024564256277,21.839612368838576,21.839612368838576,21.839612368838576,21.839612368838576,21.84021601654496,21.855743676534004,21.857220875122064,21.862519359125894,21.87740864707923,21.87740864707923,21.884960693525287,21.884960693525287,21.884960693525287,21.884960693525287,21.884960693525287,21.89535894888309,21.89535894888309,21.89535894888309,21.900852899838245,21.906640926985574,21.923511173391038,21.9415108332562,21.968790465058422,21.9913307977947,22.01708742226642,22.03748825180951,22.03748825180951,22.059882030352753,22.07563405113997,22.07563405113997,22.117381600653815,22.139125413178334,22.152120309232856,22.15394923154107,22.158793105486634,22.167747241410314,22.195929202880368,22.195929202880368,22.195929202880368,22.20925661433474,22.22239049623468,22.223478855866176,22.25055656133129,22.33632721985696,22.370357270711654,22.381556745142,22.40891452589162,22.452518982788412,22.522399727681208,22.554840143356,22.593125823633272,22.610061861889772,22.75300564696383,22.766684956915622,22.808206315216925,22.84205396741201,22.927677289974906,23.1034938859033,23.561883789799232,23.720695709688485],\"yaxis\":\"y\",\"type\":\"scatter\"}],                        {\"template\":{\"data\":{\"bar\":[{\"error_x\":{\"color\":\"#2a3f5f\"},\"error_y\":{\"color\":\"#2a3f5f\"},\"marker\":{\"line\":{\"color\":\"#E5ECF6\",\"width\":0.5},\"pattern\":{\"fillmode\":\"overlay\",\"size\":10,\"solidity\":0.2}},\"type\":\"bar\"}],\"barpolar\":[{\"marker\":{\"line\":{\"color\":\"#E5ECF6\",\"width\":0.5},\"pattern\":{\"fillmode\":\"overlay\",\"size\":10,\"solidity\":0.2}},\"type\":\"barpolar\"}],\"carpet\":[{\"aaxis\":{\"endlinecolor\":\"#2a3f5f\",\"gridcolor\":\"white\",\"linecolor\":\"white\",\"minorgridcolor\":\"white\",\"startlinecolor\":\"#2a3f5f\"},\"baxis\":{\"endlinecolor\":\"#2a3f5f\",\"gridcolor\":\"white\",\"linecolor\":\"white\",\"minorgridcolor\":\"white\",\"startlinecolor\":\"#2a3f5f\"},\"type\":\"carpet\"}],\"choropleth\":[{\"colorbar\":{\"outlinewidth\":0,\"ticks\":\"\"},\"type\":\"choropleth\"}],\"contour\":[{\"colorbar\":{\"outlinewidth\":0,\"ticks\":\"\"},\"colorscale\":[[0.0,\"#0d0887\"],[0.1111111111111111,\"#46039f\"],[0.2222222222222222,\"#7201a8\"],[0.3333333333333333,\"#9c179e\"],[0.4444444444444444,\"#bd3786\"],[0.5555555555555556,\"#d8576b\"],[0.6666666666666666,\"#ed7953\"],[0.7777777777777778,\"#fb9f3a\"],[0.8888888888888888,\"#fdca26\"],[1.0,\"#f0f921\"]],\"type\":\"contour\"}],\"contourcarpet\":[{\"colorbar\":{\"outlinewidth\":0,\"ticks\":\"\"},\"type\":\"contourcarpet\"}],\"heatmap\":[{\"colorbar\":{\"outlinewidth\":0,\"ticks\":\"\"},\"colorscale\":[[0.0,\"#0d0887\"],[0.1111111111111111,\"#46039f\"],[0.2222222222222222,\"#7201a8\"],[0.3333333333333333,\"#9c179e\"],[0.4444444444444444,\"#bd3786\"],[0.5555555555555556,\"#d8576b\"],[0.6666666666666666,\"#ed7953\"],[0.7777777777777778,\"#fb9f3a\"],[0.8888888888888888,\"#fdca26\"],[1.0,\"#f0f921\"]],\"type\":\"heatmap\"}],\"heatmapgl\":[{\"colorbar\":{\"outlinewidth\":0,\"ticks\":\"\"},\"colorscale\":[[0.0,\"#0d0887\"],[0.1111111111111111,\"#46039f\"],[0.2222222222222222,\"#7201a8\"],[0.3333333333333333,\"#9c179e\"],[0.4444444444444444,\"#bd3786\"],[0.5555555555555556,\"#d8576b\"],[0.6666666666666666,\"#ed7953\"],[0.7777777777777778,\"#fb9f3a\"],[0.8888888888888888,\"#fdca26\"],[1.0,\"#f0f921\"]],\"type\":\"heatmapgl\"}],\"histogram\":[{\"marker\":{\"pattern\":{\"fillmode\":\"overlay\",\"size\":10,\"solidity\":0.2}},\"type\":\"histogram\"}],\"histogram2d\":[{\"colorbar\":{\"outlinewidth\":0,\"ticks\":\"\"},\"colorscale\":[[0.0,\"#0d0887\"],[0.1111111111111111,\"#46039f\"],[0.2222222222222222,\"#7201a8\"],[0.3333333333333333,\"#9c179e\"],[0.4444444444444444,\"#bd3786\"],[0.5555555555555556,\"#d8576b\"],[0.6666666666666666,\"#ed7953\"],[0.7777777777777778,\"#fb9f3a\"],[0.8888888888888888,\"#fdca26\"],[1.0,\"#f0f921\"]],\"type\":\"histogram2d\"}],\"histogram2dcontour\":[{\"colorbar\":{\"outlinewidth\":0,\"ticks\":\"\"},\"colorscale\":[[0.0,\"#0d0887\"],[0.1111111111111111,\"#46039f\"],[0.2222222222222222,\"#7201a8\"],[0.3333333333333333,\"#9c179e\"],[0.4444444444444444,\"#bd3786\"],[0.5555555555555556,\"#d8576b\"],[0.6666666666666666,\"#ed7953\"],[0.7777777777777778,\"#fb9f3a\"],[0.8888888888888888,\"#fdca26\"],[1.0,\"#f0f921\"]],\"type\":\"histogram2dcontour\"}],\"mesh3d\":[{\"colorbar\":{\"outlinewidth\":0,\"ticks\":\"\"},\"type\":\"mesh3d\"}],\"parcoords\":[{\"line\":{\"colorbar\":{\"outlinewidth\":0,\"ticks\":\"\"}},\"type\":\"parcoords\"}],\"pie\":[{\"automargin\":true,\"type\":\"pie\"}],\"scatter\":[{\"marker\":{\"colorbar\":{\"outlinewidth\":0,\"ticks\":\"\"}},\"type\":\"scatter\"}],\"scatter3d\":[{\"line\":{\"colorbar\":{\"outlinewidth\":0,\"ticks\":\"\"}},\"marker\":{\"colorbar\":{\"outlinewidth\":0,\"ticks\":\"\"}},\"type\":\"scatter3d\"}],\"scattercarpet\":[{\"marker\":{\"colorbar\":{\"outlinewidth\":0,\"ticks\":\"\"}},\"type\":\"scattercarpet\"}],\"scattergeo\":[{\"marker\":{\"colorbar\":{\"outlinewidth\":0,\"ticks\":\"\"}},\"type\":\"scattergeo\"}],\"scattergl\":[{\"marker\":{\"colorbar\":{\"outlinewidth\":0,\"ticks\":\"\"}},\"type\":\"scattergl\"}],\"scattermapbox\":[{\"marker\":{\"colorbar\":{\"outlinewidth\":0,\"ticks\":\"\"}},\"type\":\"scattermapbox\"}],\"scatterpolar\":[{\"marker\":{\"colorbar\":{\"outlinewidth\":0,\"ticks\":\"\"}},\"type\":\"scatterpolar\"}],\"scatterpolargl\":[{\"marker\":{\"colorbar\":{\"outlinewidth\":0,\"ticks\":\"\"}},\"type\":\"scatterpolargl\"}],\"scatterternary\":[{\"marker\":{\"colorbar\":{\"outlinewidth\":0,\"ticks\":\"\"}},\"type\":\"scatterternary\"}],\"surface\":[{\"colorbar\":{\"outlinewidth\":0,\"ticks\":\"\"},\"colorscale\":[[0.0,\"#0d0887\"],[0.1111111111111111,\"#46039f\"],[0.2222222222222222,\"#7201a8\"],[0.3333333333333333,\"#9c179e\"],[0.4444444444444444,\"#bd3786\"],[0.5555555555555556,\"#d8576b\"],[0.6666666666666666,\"#ed7953\"],[0.7777777777777778,\"#fb9f3a\"],[0.8888888888888888,\"#fdca26\"],[1.0,\"#f0f921\"]],\"type\":\"surface\"}],\"table\":[{\"cells\":{\"fill\":{\"color\":\"#EBF0F8\"},\"line\":{\"color\":\"white\"}},\"header\":{\"fill\":{\"color\":\"#C8D4E3\"},\"line\":{\"color\":\"white\"}},\"type\":\"table\"}]},\"layout\":{\"annotationdefaults\":{\"arrowcolor\":\"#2a3f5f\",\"arrowhead\":0,\"arrowwidth\":1},\"autotypenumbers\":\"strict\",\"coloraxis\":{\"colorbar\":{\"outlinewidth\":0,\"ticks\":\"\"}},\"colorscale\":{\"diverging\":[[0,\"#8e0152\"],[0.1,\"#c51b7d\"],[0.2,\"#de77ae\"],[0.3,\"#f1b6da\"],[0.4,\"#fde0ef\"],[0.5,\"#f7f7f7\"],[0.6,\"#e6f5d0\"],[0.7,\"#b8e186\"],[0.8,\"#7fbc41\"],[0.9,\"#4d9221\"],[1,\"#276419\"]],\"sequential\":[[0.0,\"#0d0887\"],[0.1111111111111111,\"#46039f\"],[0.2222222222222222,\"#7201a8\"],[0.3333333333333333,\"#9c179e\"],[0.4444444444444444,\"#bd3786\"],[0.5555555555555556,\"#d8576b\"],[0.6666666666666666,\"#ed7953\"],[0.7777777777777778,\"#fb9f3a\"],[0.8888888888888888,\"#fdca26\"],[1.0,\"#f0f921\"]],\"sequentialminus\":[[0.0,\"#0d0887\"],[0.1111111111111111,\"#46039f\"],[0.2222222222222222,\"#7201a8\"],[0.3333333333333333,\"#9c179e\"],[0.4444444444444444,\"#bd3786\"],[0.5555555555555556,\"#d8576b\"],[0.6666666666666666,\"#ed7953\"],[0.7777777777777778,\"#fb9f3a\"],[0.8888888888888888,\"#fdca26\"],[1.0,\"#f0f921\"]]},\"colorway\":[\"#636efa\",\"#EF553B\",\"#00cc96\",\"#ab63fa\",\"#FFA15A\",\"#19d3f3\",\"#FF6692\",\"#B6E880\",\"#FF97FF\",\"#FECB52\"],\"font\":{\"color\":\"#2a3f5f\"},\"geo\":{\"bgcolor\":\"white\",\"lakecolor\":\"white\",\"landcolor\":\"#E5ECF6\",\"showlakes\":true,\"showland\":true,\"subunitcolor\":\"white\"},\"hoverlabel\":{\"align\":\"left\"},\"hovermode\":\"closest\",\"mapbox\":{\"style\":\"light\"},\"paper_bgcolor\":\"white\",\"plot_bgcolor\":\"#E5ECF6\",\"polar\":{\"angularaxis\":{\"gridcolor\":\"white\",\"linecolor\":\"white\",\"ticks\":\"\"},\"bgcolor\":\"#E5ECF6\",\"radialaxis\":{\"gridcolor\":\"white\",\"linecolor\":\"white\",\"ticks\":\"\"}},\"scene\":{\"xaxis\":{\"backgroundcolor\":\"#E5ECF6\",\"gridcolor\":\"white\",\"gridwidth\":2,\"linecolor\":\"white\",\"showbackground\":true,\"ticks\":\"\",\"zerolinecolor\":\"white\"},\"yaxis\":{\"backgroundcolor\":\"#E5ECF6\",\"gridcolor\":\"white\",\"gridwidth\":2,\"linecolor\":\"white\",\"showbackground\":true,\"ticks\":\"\",\"zerolinecolor\":\"white\"},\"zaxis\":{\"backgroundcolor\":\"#E5ECF6\",\"gridcolor\":\"white\",\"gridwidth\":2,\"linecolor\":\"white\",\"showbackground\":true,\"ticks\":\"\",\"zerolinecolor\":\"white\"}},\"shapedefaults\":{\"line\":{\"color\":\"#2a3f5f\"}},\"ternary\":{\"aaxis\":{\"gridcolor\":\"white\",\"linecolor\":\"white\",\"ticks\":\"\"},\"baxis\":{\"gridcolor\":\"white\",\"linecolor\":\"white\",\"ticks\":\"\"},\"bgcolor\":\"#E5ECF6\",\"caxis\":{\"gridcolor\":\"white\",\"linecolor\":\"white\",\"ticks\":\"\"}},\"title\":{\"x\":0.05},\"xaxis\":{\"automargin\":true,\"gridcolor\":\"white\",\"linecolor\":\"white\",\"ticks\":\"\",\"title\":{\"standoff\":15},\"zerolinecolor\":\"white\",\"zerolinewidth\":2},\"yaxis\":{\"automargin\":true,\"gridcolor\":\"white\",\"linecolor\":\"white\",\"ticks\":\"\",\"title\":{\"standoff\":15},\"zerolinecolor\":\"white\",\"zerolinewidth\":2}}},\"xaxis\":{\"anchor\":\"y\",\"domain\":[0.0,1.0],\"title\":{\"text\":\"Actual Prices\"}},\"yaxis\":{\"anchor\":\"x\",\"domain\":[0.0,1.0],\"title\":{\"text\":\"Predicted prices\"}},\"legend\":{\"tracegroupgap\":0},\"margin\":{\"t\":60}},                        {\"responsive\": true}                    ).then(function(){\n",
              "                            \n",
              "var gd = document.getElementById('3f722255-4e8a-43c2-a1a1-9918b19ebc44');\n",
              "var x = new MutationObserver(function (mutations, observer) {{\n",
              "        var display = window.getComputedStyle(gd).display;\n",
              "        if (!display || display === 'none') {{\n",
              "            console.log([gd, 'removed!']);\n",
              "            Plotly.purge(gd);\n",
              "            observer.disconnect();\n",
              "        }}\n",
              "}});\n",
              "\n",
              "// Listen for the removal of the full notebook cells\n",
              "var notebookContainer = gd.closest('#notebook-container');\n",
              "if (notebookContainer) {{\n",
              "    x.observe(notebookContainer, {childList: true});\n",
              "}}\n",
              "\n",
              "// Listen for the clearing of the current output cell\n",
              "var outputEl = gd.closest('.output');\n",
              "if (outputEl) {{\n",
              "    x.observe(outputEl, {childList: true});\n",
              "}}\n",
              "\n",
              "                        })                };                            </script>        </div>\n",
              "</body>\n",
              "</html>"
            ]
          },
          "metadata": {}
        }
      ]
    },
    {
      "cell_type": "code",
      "source": [
        "fig = px.scatter(x=predicted_values2, y=residuals2, trendline=\"lowess\",trendline_color_override='black')\n",
        "fig.update_layout(yaxis_title='Residuals',\n",
        "                  xaxis_title='Predicted earnings',)\n",
        "fig.show()"
      ],
      "metadata": {
        "colab": {
          "base_uri": "https://localhost:8080/",
          "height": 542
        },
        "id": "8emni3BV9HKX",
        "outputId": "771a89e8-c6ea-4c13-8f6f-473cf93fdfe1"
      },
      "execution_count": null,
      "outputs": [
        {
          "output_type": "display_data",
          "data": {
            "text/html": [
              "<html>\n",
              "<head><meta charset=\"utf-8\" /></head>\n",
              "<body>\n",
              "    <div>            <script src=\"https://cdnjs.cloudflare.com/ajax/libs/mathjax/2.7.5/MathJax.js?config=TeX-AMS-MML_SVG\"></script><script type=\"text/javascript\">if (window.MathJax) {MathJax.Hub.Config({SVG: {font: \"STIX-Web\"}});}</script>                <script type=\"text/javascript\">window.PlotlyConfig = {MathJaxConfig: 'local'};</script>\n",
              "        <script src=\"https://cdn.plot.ly/plotly-2.8.3.min.js\"></script>                <div id=\"cdc1458a-4c66-4abb-a57d-a005ae0df362\" class=\"plotly-graph-div\" style=\"height:525px; width:100%;\"></div>            <script type=\"text/javascript\">                                    window.PLOTLYENV=window.PLOTLYENV || {};                                    if (document.getElementById(\"cdc1458a-4c66-4abb-a57d-a005ae0df362\")) {                    Plotly.newPlot(                        \"cdc1458a-4c66-4abb-a57d-a005ae0df362\",                        [{\"hovertemplate\":\"x=%{x}<br>y=%{y}<extra></extra>\",\"legendgroup\":\"\",\"marker\":{\"color\":\"#636efa\",\"symbol\":\"circle\"},\"mode\":\"markers\",\"name\":\"\",\"orientation\":\"v\",\"showlegend\":false,\"x\":[8.007428828223233,21.26552356335902,21.1360327398172,22.12533522036455,9.755474086388464,19.07923177651295,15.230802073825103,7.557436355834696,17.77220983047896,15.68079454621364,18.738643933772938,16.58077949099071,23.28493072229696,23.5445412794523,18.53373569144186,25.696845855439104,29.07178939835313,19.748659898312386,22.2118714727597,14.772468451266022,20.169597736538275,17.284822653739173,12.334905097471296,6.429674791473175,10.918477981797814,21.796493321332232,21.571497085137967,20.164037599747378,24.2977268902296,16.85769765861906,21.433038901308738,22.56358084906044,17.230120338914908,18.721336323299933,15.052167002284552,14.022064123863853,25.601342242756548,14.815424822382582,15.952151947061626,23.795811586422044,25.68231862835628,10.998829057265624,23.417829939315713,19.110443103906757,15.750024088120728,9.697994088128858,16.667316643370807,21.796493321332232,17.123495192671626,22.57532769275309,23.966105687789035,16.563471880517703,17.63653293002486,16.130787018602174,12.343245707650873,8.07387798674014,19.979216721290026,4.978632994844645,21.44756522840662,21.623419916556987,9.940297034811191,11.06249783239235,21.756319133575747,19.604013657603996,16.794654193624257,17.89058182041489,23.30223833276997,10.817414502319835,17.59079527553317,26.426537778831122,25.393653617035287,13.733393712633188,15.611564104321609,23.371466974692108,25.6795382449661,14.411793514647766,16.892312879565072,11.682784226150893,17.400413360299975,21.482180449352636,23.198393569916863,22.278320631276603,21.539663147567072,13.947273815176402,18.78778548181683,17.82413266189798,24.82250877132064,23.331291886950677,24.629347372682208,17.84422245573106,20.42642881028838,19.148461318420036,22.40503287139813,26.008379244013472,17.512598373338673,23.951578280709224,15.692541389906289,20.948431207974185,23.885129122192314,10.78279928137382,18.49356060370042,23.354160264204044,18.311521638607662,17.348491428865895,21.39564329697254,22.57254640937796,24.969935215422222,22.48322977359263,18.571131295778056,8.091185597213144,26.08316955270092,23.385995101759885,15.594257393833544,19.53756629905698,24.16204728982066,12.193042480098885,18.516428080968854,18.006172526975693,19.976436337899845,23.576376117008135,23.61099133795415,15.905790782407909,20.296309976659803,20.52408479627437,25.40818084411811,17.151927036660194,23.138130488312246,16.191675410338718,19.31534684631311,22.71378587658231,20.896508376555165,27.499596128383434,23.005231271293486,17.446150114806716,20.51574634605866,13.898132267132503,22.428527458768375,27.98142253834286,12.011624325213319,13.984668519527652,19.78327475926442,7.448030826201233,21.658035137503003,26.7352907840153,9.198859167711479,19.673244099496028,21.790933454536816,18.96364016996721,12.804985023732051,19.46833045725528,10.728096876551067,23.40330181224795,4.87200784860136,23.12916402800978,21.311886527982626,22.3157162356128,23.784065642714342,15.715409767159656,26.49576642075326,24.923573150783557,20.688819750833904,18.87154315079169,21.623419916556987,16.97328926516481,15.279943621869002,24.248584442200755,18.046347614717124,23.81589958028523,22.659084461743003,21.06958268131535,27.98142253834286,19.252306081273144,22.624469240796987,20.740742582252924,18.983724563890615,11.509709921390701,16.301080939972184,19.20872080008488,21.571497085137967,26.360087720329265,21.29457891750962,21.672561464600886,17.77220983047896,20.567668277492732,24.473580678395027,14.328036745657851,20.639678202789998,22.77745555169398,18.686722002338858,18.213862052681893,24.389823909405113,19.246120004360858,18.24847637364297,12.89708294289251,19.58392656372575,20.521306212854075,20.789884130296823,25.892788537452663,11.789409372394179,22.540712471807073,12.588329937708327,17.151927036660194,11.927867556223408,25.61586946983937,19.113846997458968,15.646179325267624,13.759672283333384,10.603538899701348,21.741791906492917,20.584975887965744,19.63306901175459,18.127324900301804,23.267623111823955,20.599503115048574,21.796493321332232,20.965738818447196,14.226972366194929,7.93541800294102,19.02730984507887,19.84075763747585,18.7933462485972,24.112905741776768,23.38877458516512,27.808349133567614,20.700567494511493,16.431199053612804,23.55628812314494,22.53793208841689,24.312254117312424,17.18654045763632,14.901961074777734,19.02730984507887,9.037531706643936,19.938415423431724,12.288543392826607,17.957030978931794,21.519575153703887,21.574278368513088,14.333597512438214,15.871175561461893,17.077133128032965,21.802049588187874,14.99406079390808,18.023480137448697,19.823450027002846,16.926927200526148,14.86456637042648,18.25125675703315,21.115944745954014,24.508195899341043,11.777663428686477,18.45616499936423,19.927294789855946,9.403767410042558,19.621321268077,18.173058954853705,12.951785257716768,21.790933454536816,18.97538701365985,17.13183634284217,22.10802760989154,15.33464593669326,13.609469955766347,23.50714657510105,10.326622532042894,18.949111142914486,19.742473641403112,25.160316230670478,20.134983415577207,20.86467443898427,25.598561859366367,20.792664513687004,10.773832821071355,13.74236557284532,22.090719999418535,16.823083337657987,19.20594401663448,14.564779825544765,20.87642128267692,21.519575153703887,22.607161630323976,22.06785162216516,22.558020082280077,14.204104888926505,13.116518412306416,25.272501243709176,14.293421524711835,15.17887924240608,22.073412388945524,22.543492855197247,26.065861942227908,18.4326686120241,18.97538701365985,14.400046670955117,18.530955308051677,15.54852153931175,22.3157162356128,25.457322392162016,24.86609045256912,19.42538038603333,17.252987816183335,8.904633389610122,12.478924408074864,22.384945777519892,16.546164270044695,19.010002234605867,26.100477163173924,18.81962031937267,11.518053771516083,21.721703912629724,19.234998470800132,15.750024088120728,17.685672678098864,23.521673802183873,18.449975322512163,14.056679344809869,22.19456386228669,23.709274434041948,19.85188187099141,17.723066482465175,19.70229855366168,18.634800070904777,20.49225715859809,20.402937822857925,14.590428586188313,17.319436974700242,16.3848377089621,21.986875236565428,9.99499934963545,16.886752112784716,18.623051427242242,16.753852895765956,20.083061484143126,10.073195351844998,17.783956674171602,23.6975275903493,13.97291987586512,12.449870853894154,18.03182128761924,20.567668277492732,19.344403100448655,22.43408822554873,21.58880469561097,26.44384448931918,23.215701180389875,25.35903929607422,22.7573675578308,14.590428586188313,27.358356661179076,19.42538038603333,21.104197902261365,13.589379261948324,13.260538262900955,28.243814378873328,16.733765801887714,13.087463958140763,19.73691287462275,16.719238574804887,7.038214341539074,15.813692863247454,21.6462891937953,14.642350517622393,23.939831437016576,10.459519049106813,13.482754115705038,18.063655225190136,24.268672436063948,21.225350275587477,19.107657320606908,21.0321879769641,20.273442499391383,9.56231448771992,15.9376247199788,18.14463161078986,16.058777093304908,16.078864187183154,20.723434971779913,19.730725897725524,20.547581183614493,15.836560340515877,12.274016165743785,21.202481898334103,20.033919036114288,14.538505754769293,20.688819750833904,23.469751870749793,17.21837259523732,13.984668519527652,19.338842333668293,23.48983896462804,22.058885161862694,15.089562606620749,22.558020082280077,10.110590956181198,14.400046670955117,17.853186216078686,19.03565369520425,19.615761401281585,17.630970363274603,18.363441770071848,16.43954002378636,25.647703407410265,7.9125505256725965,17.907889430887895,21.375555303109348,26.891056578317535,21.28005169042679,16.197236177119084,9.77000311344118,23.09176932365853,8.469167244319468,19.68499094318867,21.502268443215822,21.903118467575514,19.601234174198755,16.29552017319182,22.488789640388045,21.156119833695445,15.992327934788001,22.2118714727597,17.446150114806716,13.653048037075045,21.721703912629724,17.70854555527696,17.091660355115792,26.839134646883455,24.641094216374857,17.529905983811684,23.264842728433774,13.644083376742472,21.8601629964439,18.519211164313862,15.09234299001093,18.770478771328772,15.698102156686648,17.428843404318652,15.213494463352095,18.476252993227416,17.498070246270903,26.80729980932762,16.11347940812917,17.443368831431588,25.442796065064126,27.098745204038796,23.573595733617953,11.495182694307879,17.01068396951606,16.526077176166453,18.620271943837007,15.438490699546364,19.520259588568916,23.29945794937979,12.891522176112147,19.0127817180111,19.54034308250738,15.646179325267624,24.12743296885959,15.09234299001093,13.707750351899303,19.211506583384736,11.662696232287704,24.76224658970096,21.857382793050714,16.073304320387738,17.7610888369092,13.967361809039588,26.09491639639356,16.528856659571687,10.771052437681174,21.259964596548546,10.58345090583816,19.37345755461431,24.574645057857953,21.793713837926997,21.70439630215672,13.306899427554669,20.634117436009642,13.099210801833408,16.42501279670353,16.197236177119084,15.262636011395994,21.793713837926997,19.673244099496028,22.993489827510512,23.43791703319396,20.103148578021372,13.061816097482158,18.415361901536034,20.377287262244483,22.731093487055322,18.103832112901454,22.436867708953965,16.58077949099071,19.228813293872793,21.115944745954014,14.373769000239864,18.075402068882777,22.566986542582544,22.139861547462434,21.6033319226938,18.542702151744326,17.33952496856343,22.468702546509807,10.612505360003812,15.210714079961914,16.42501279670353,23.475312637530156,17.383105749826967,19.598453790808573,19.021123768166593,14.676964838583462,21.675342747976014,15.732716477647717,17.861529166219125,16.753852895765956,8.993950025395453,16.47693472813761,16.713677808024524,15.905790782407909,18.55382458528999,16.076084703777916,19.794395572837193,23.192833703121448,20.15785179283058,8.471948527694597,18.60018484995876,26.527601258309094,17.567306088072602,21.08689029178836,16.107919541333754,25.33895040222608,16.80577572718498,21.029407593573918,15.369261157639276,22.22361831645234,23.025320165141625,19.546530959389553,15.836560340515877,17.54721359428469,22.17169638501826,14.95388300621181,7.569183199527341,17.457896958499365,20.82727973463302,18.986510347190464,16.31282778366483,16.83760966475587,13.228703425345117,22.69369878270407,19.979216721290026,23.613770821359385,11.241132903932897,24.883398063042126,13.263317746306189,17.76942944708878,24.199442894156864,20.639678202789998,10.185380364883702,24.366956432136693,23.319545043258035,22.67639117223106,20.567668277492732,19.104880537156507,16.753852895765956,19.01556300138623,15.666263719191036,18.877103017587114,19.73691287462275,16.15706108937765,15.262636011395994,21.894778217389916,21.756319133575747,15.060508152455096,17.930756008171375,16.341252427773842,21.12150461274943,6.155537007235008,21.675342747976014,22.295628241749615,17.11174834897898,24.24580405881058,16.647228649507618,23.38877458516512,25.714153465912116,16.494242338610615,19.53756629905698,16.560691497127525,23.87060189510949,18.773259154718954,10.577890139057796,21.894778217389916,16.99337635904305,19.990963564982668,13.621213199519211,21.37214960958725,21.33475940516072,23.083428173487984,23.111856417536774,11.39689779825019,20.446515904166628,19.719605264149738,17.13461132632268,17.342309851878337,23.083428173487984,21.888592140477638,16.39039847574246,19.768747712178584,19.727949114275123,16.182708950036254,23.723802021118754,1.2631025091755514,19.107657320606908,22.64177685126999,13.952833681971821,22.50609725086105,25.739801326570724,15.274383755073583,18.08096283566314,16.280992946109,15.265417294771119,21.046715204046922,15.576949783360536,26.325473399368196,18.773259154718954,19.806142416529834,11.945175166696416,23.371466974692108,19.78883480605683,21.897557700795158,18.92346508222577,8.768953789201188,18.3377930094283,14.896401207982318,15.14426492144501,22.886860181342502,15.551301922701931,22.659084461743003,19.131153707947032,24.470800295004846,21.865723763224263,10.53771541131034,11.440480379483617,27.984203821717987,12.343245707650873,19.90998717938294,16.528856659571687,19.77152719558382,20.04844626319711,18.409803834710512,22.589854019850964,15.972239940924812,19.630288628364415,16.67906258707851,21.54243993101748,21.635166760249636,15.715409767159656,20.69716090100444,19.47730231746741,24.990022309300468,18.103832112901454,21.36102897601147,22.465922163119618,22.731093487055322,24.392604292795294,15.230802073825103,18.58843800626612,13.909879110825148,24.078290520830752,18.577317372690334,13.448139794743966,19.823450027002846,20.654205429872828,20.02494897587204,21.568717601732732,18.758731927636124,20.671512140360893,15.210714079961914,19.090350610118843,19.979216721290026,20.097588711225956,21.536882764176898,19.030089328484113,22.298408625139796,20.65698581326301,26.46115209979219,14.792556445129215,19.093759003595782,13.95005419856658,20.728994838575336,17.84422245573106,17.13183634284217,19.090350610118843,18.311521638607662,21.790933454536816,21.21360343189483,22.093500382808717,16.753852895765956,14.400046670955117,13.171220727130674,14.515637377515922,21.623419916556987,23.111856417536774,16.736545285292948,22.609942013714157,14.55303298185212,22.797542645572225,19.174107379108758,15.369261157639276,21.606112306083983,16.148094629075185,12.343245707650873,20.740742582252924,20.740742582252924,18.58565762287594,12.686613033796121,15.09234299001093,15.6233118479992,23.354160264204044,17.1089679655888,15.660706552350451,22.57254640937796,23.677440496471053,25.082120228460926,23.163778348970848,22.454175319426977,28.552567384057507,19.217690860327128,26.308165788895185,20.792664513687004,21.38111606988971,19.6503766222276,14.798117211909574,18.311521638607662,19.445467479911574,15.14426492144501,25.7833830078192,23.64560565891522,16.978849131960224,16.53442102629183,14.564779825544765,22.624469240796987,17.902328664107532,19.384573688265366,18.83074095294845,14.256026820360585,18.380748480559912,21.554190374649902,21.55140999125972,18.89441062806012,16.701930964331876,14.766282374353743,22.26379340419378,18.7615141109962,22.43408822554873,20.70612736130691,24.99280359267559,12.946224490936405,26.285297411641817,24.063763293747922,20.567668277492732,16.8521368918387,15.395535228414747,20.758050192725936,23.50714657510105,18.70680999620205,21.69264945846408,19.88989918551975,19.85806524794886,16.44232040717654,16.026942255749073,20.417462349985914,16.125226251821815,26.510293647836082,21.326413755065456,22.2118714727597,17.495290762865668,15.865615694666477,25.454542008771828,14.622262523759208,22.01592969073108,16.64444826611744,14.980157076987282,17.027991579989067,19.993743948372856,20.290750109864387,14.625042907149385,13.53189656373388,17.08887997172561,23.732142811295315,24.83703599840347,22.090719999418535,19.344403100448655,15.213494463352095,12.288543392826607,21.19073505464146,13.629553449704812,9.320010641052644,15.054947385674733,15.93206485318338,16.402144419450163,16.753852895765956,22.468702546509807,23.083428173487984,21.464872838879625,22.938782112776583,19.36727597762675,12.38341629546758,20.80997212416001,20.117675805104202,18.605744716754177,16.667316643370807,26.325473399368196,19.31534684631311,23.423389806111135,16.179928566646073,19.52922424890149,13.295152583862023,17.6136627528016,23.042626875629683,18.372408230374315,20.195248297151718,18.438858288876165,17.757679903441296,18.54826291852469,13.032761643316501,19.23221808740995,18.53373569144186,20.86189405559409,25.15134977036801,24.883398063042126,14.261586687156,9.371933472471667,16.17436779986571,18.398055191047977,21.845635769361078,12.017185091993682,18.19036566534177,19.690551709969032,22.990704944195603,22.66464432853842,16.97328926516481,22.396692621212534,16.26924610241635,15.99510921816313,23.190053319731273,12.82507301759524,7.678587829175864,25.47463000263502,17.70575977197711,26.59961118360636,18.380748480559912,22.292847858359426,15.542335462399468,23.553508639739714,17.700199905181695,15.190626086098728,15.905790782407909,22.414000231685538,22.503316867470875,16.817522570877628,11.959702393779239,19.465555473774767,23.316765559852794,17.720286999059933,16.9559816546918,20.77535780319894,16.875005269092068,14.365432349994048,17.99164619987781,19.73691287462275,23.198393569916863,25.509245223581036,20.486691891893006,22.915914635508155,14.12590798673201,12.095381994188177,17.498070246270903,16.168185322893212,17.720286999059933,23.40330181224795,19.84353802086603,11.307582062449807,27.433146969866524,12.859687338556313,16.205575527319738,15.801946019554805,20.3080577203374,15.715409767159656,14.74619438049055,23.15821848217543,13.73680480606496,13.923776527851327,21.637947143639817,21.467653222269806,21.831108542278248,18.7615141109962,17.492511279460434,19.07923177651295,15.663486935740632,17.6801119113185,15.17887924240608,17.6801119113185,21.057834037652814,20.728994838575336,14.850039143343654,13.811594214767464,14.850039143343654,22.659084461743003,10.551618768237159,16.145313345700057,21.739011523102736,14.348124739521037,16.577999107600533,15.230802073825103,13.771420027010976,18.25959250729402,8.83818423109322,18.602965233348943,23.28493072229696,13.407963807017591,23.994533751840837,24.612039762209196,11.604587323956398,22.933222245981167,13.707750351899303,20.472164664810176,6.444202018556002,22.609942013714157,19.29526335237465,14.544068321519543,17.720286999059933,18.76769838793859,17.169233747148258,22.57532769275309,19.98477748807039,19.50572966153125,26.112224006866573,15.455798310019372,15.525027851926456,17.457896958499365,15.16435111533831,16.30386042337742,12.995366938965251,27.150668035457816,11.35672451047865,15.917537626100557,20.538613823327086,12.862467721946494,21.008690689639028,17.198285501359077,23.749450421768326,19.252306081273144,25.457322392162016,16.710897424634343,20.619590208926812,19.655936489023016,19.655936489023016,25.491937613108032,19.23221808740995,21.620639533166813,17.094440738505973,20.844586445121084,24.641094216374857,6.311302801537245],\"xaxis\":\"x\",\"y\":[2.242571171776767,41.234476436640975,-5.3860327398172,0.954664779635447,-1.755474086388464,5.920768223487048,-5.940802073825104,6.442563644165304,-1.0822098304789591,2.7192054537863584,-0.7286439337729362,-1.7207794909907115,-0.20493072229696097,38.455458720547696,-7.503735691441859,-9.696845855439104,-15.55178939835313,-4.748659898312386,2.3081285272402994,3.227531548733978,8.040402263461726,-4.304822653739173,-2.334905097471296,2.0703252085268247,-2.418477981797814,-2.5664933213322314,-7.6214970851379675,13.835962400252622,-7.6577268902296005,-4.85769765861906,-7.683038901308738,-3.29358084906044,11.48987966108509,-5.931336323299934,-0.8121670022845517,-5.022064123863853,26.398657757243452,-4.315424822382582,-5.452151947061626,-4.355811586422043,8.317681371643719,4.001170942734376,-10.677829939315712,2.889556896093243,5.249975911879272,0.30200591187114156,2.332683356629193,-9.796493321332232,-2.503495192671627,-9.575327692753088,-16.326105687789035,0.30652811948229797,7.36346706997514,-1.5607870186021735,-0.13324570765087174,2.92612201325986,-12.479216721290026,0.021367005155354946,-9.69756522840662,-12.123419916556987,10.059702965188809,-4.812497832392349,3.7436808664242527,-4.604013657603996,-5.494654193624257,-8.39058182041489,-3.59223833276997,-2.317414502319835,-5.810795275533172,-4.426537778831122,-3.603653617035288,2.506606287366811,-5.111564104321609,-0.9314669746921069,-8.369538244966101,0.5882064853522344,-2.342312879565071,3.267215773849106,4.229586639700024,9.287819550647363,15.281606430083134,4.641679368723398,-9.539663147567072,4.602726184823599,3.7122145181831705,-4.44413266189798,7.387491228679362,20.24870811304932,4.220652627317794,7.79577754426894,14.60357118971162,-1.2884613184200369,-20.275032871398132,-4.438379244013472,-6.562598373338673,-8.741578280709223,-0.6925413899062889,17.511568792025816,7.654870877807685,2.717200718626181,-4.30356060370042,-2.2541602642040424,-9.311521638607662,-2.348491428865895,-11.15564329697254,-3.3425464093779595,-22.18993521542222,18.866770226407372,-6.651131295778056,2.408814402786856,-6.373169552700919,-16.715995101759887,-2.5942573938335443,-15.78756629905698,8.047952710179342,0.30695751990111475,-5.516428080968854,1.6438274730243059,5.023563662100155,-8.196376117008134,-5.280991337954152,10.094209217592091,-10.296309976659803,-9.52408479627437,4.881819155881889,1.3480729633398063,-16.148130488312248,-5.891675410338717,-9.315346846313108,8.05621412341769,15.643491623444834,-12.689596128383434,-0.5052312712934857,-8.946150114806716,-5.135746346058658,33.501867732867495,6.421472541231626,-17.23142253834286,-4.111624325213318,-4.484668519527652,-17.65327475926442,1.051969173798767,-7.658035137503003,13.264709215984698,-0.19885916771147905,-9.673244099496028,14.359066545463183,6.03635983003279,-3.354985023732052,41.431669542744714,-0.7280968765510671,7.59669818775205,3.677992151398641,5.720835971990223,13.308113472017371,17.6842837643872,-14.784065642714342,-3.1054097671596566,6.674233579246742,-12.073573150783558,-5.688819750833904,7.878456849208309,4.016580083443014,-7.673289265164808,3.470056378130998,62.291415557799255,-11.796347614717124,3.6841004197147704,7.250915538256997,7.780417318684652,29.01857746165714,-3.2523060812731437,23.045530759203015,-2.740742582252924,17.556275436109384,1.6602900786092984,-0.5510809399721843,3.7912791999151203,-10.031497085137968,-7.310087720329264,-5.294578917509622,-4.2325614646008844,-5.96220983047896,-1.5676682774927322,-7.933580678395028,0.8719632543421483,-9.139678202789998,-9.457455551693979,-6.536722002338857,-15.573862052681893,2.410176090594888,-10.246120004360858,-0.24847637364296915,-2.89708294289251,-8.57392656372575,5.478693787145925,-11.519884130296823,-13.892788537452663,-2.5394093723941786,4.459287528192927,-5.338329937708327,-0.4019270366601937,-1.6878675562234076,-9.26586946983937,-5.6138469974589675,-3.3961793252676244,0.24032771666661645,3.3964611002986516,14.23820809350708,-6.084975887965744,-10.13306901175459,-1.2973249003018061,-5.477623111823956,-7.099503115048574,-2.296493321332232,-11.965738818447196,-6.2269723661949286,2.5345819970589805,16.552690154921127,-1.5707576374758503,25.586653751402803,-3.442905741776766,-10.44877458516512,4.191650866432386,-7.700567494511493,-6.431199053612804,2.4437118768550583,-8.437932088416892,4.637745882687575,2.813459542363681,0.798038925222265,-3.647309845078871,-6.777531706643936,-2.9384154234317243,13.311456607173394,0.042969021068206104,17.71042484629611,-11.954278368513089,-6.833597512438214,-4.001175561461894,39.17286687196703,-5.132049588187872,3.00593920609192,4.976519862551303,-3.0034500270028452,20.573072799473852,-0.36456637042648055,-9.151256757033151,-13.615944745954014,-5.458195899341042,6.222336571313523,10.393835000635772,6.5127052101440555,-0.9037674100425583,-5.321321268077,-11.093058954853705,-0.6317852577167677,-0.16093345453681707,-7.9753870136598515,-6.041836342842171,22.89197239010846,-6.33464593669326,-3.8694699557663466,-11.25714657510105,2.9633774679571054,11.050888857085514,8.757526358596888,1.279683769329523,-11.134983415577207,-9.11467443898427,1.671438140633633,6.247335486312995,-1.2738328210713554,1.3576344271546805,37.90928000058146,-3.3230833376579874,-8.70594401663448,6.105220174455237,11.813578717323079,12.490424846296111,-7.917161630323976,-9.067851622165161,-4.238020082280077,0.7958951110734951,-2.616518412306416,-10.162501243709176,-4.553421524711835,-3.198879242406079,15.026587611054477,1.176507144802752,-1.065861942227908,-0.43266861202409856,-4.7253870136598515,4.349953329044883,0.8490446919483219,0.17147846068825068,-7.455716235612801,9.542677607837984,12.633909547430878,-4.4253803860333285,-8.252987816183335,2.205366610389877,1.5210755919251362,-7.004945777519891,0.45383572995530486,12.239997765394133,0.39952283682607614,-3.029620319372672,4.981946228483917,-9.721703912629724,-9.964998470800133,2.7499759118792717,-3.2656726780988645,-7.521673802183873,-4.449975322512163,-2.8966793448098684,0.10543613771331195,43.74072556595806,1.2981181290085892,-3.9430664824651753,-8.162298553661682,-5.504800070904777,15.00774284140191,-4.4029378228579255,11.829571413811689,7.480563025299759,-5.384837708962099,1.513124763434572,3.0050006503645506,-11.886752112784716,-3.9730514272422415,-6.753852895765956,-2.883061484143127,2.4268046481550023,-7.533956674171602,-5.237527590349298,4.77708012413488,-3.0998708538941546,-5.531821287619241,19.17233172250727,-1.6544031004486541,0.6459117744512675,4.85119530438903,-12.82384448931918,-2.4657011803898747,10.72096070392578,44.242632442169196,-0.5904285861883132,-3.368356661179078,-4.4253803860333285,-0.5941979022613637,-5.089379261948324,-0.5105382629009547,-4.593814378873329,-4.733765801887714,0.6625360418592372,-7.73691287462275,-11.469238574804887,12.731785658460925,-7.463692863247454,-7.396289193795301,-7.282350517622393,6.690168562983423,-6.079519049106813,21.51724588429496,-10.063655225190136,-15.808672436063947,-0.595350275587478,3.392342679393092,-6.032187976964099,19.726557500608617,5.43768551228008,-6.617624719978799,-3.434631610789861,18.941222906695092,-4.828864187183154,-9.183434971779914,7.399274102274475,0.43241881638550694,-1.5865603405158772,-3.2740161657437845,18.5375181016659,2.4060809638857137,-5.638505754769293,1.9111802491660974,-9.469751870749793,-9.69837259523732,-11.484668519527652,-8.838842333668293,-1.8598389646280395,1.941114838137306,-0.3395626066207491,2.441979917719923,12.559409043818803,-10.910046670955117,-2.993186216078687,-8.21565369520425,-7.305761401281584,-9.880970363274603,-5.563441770071847,-2.0195400237863605,-0.4377034074102646,-0.6625505256725965,10.612110569112104,-1.8755553031093477,-5.961056578317535,4.31994830957321,-6.197236177119084,4.229996886558819,-14.521769323658528,1.0308327556805317,2.3150090568113306,-6.502268443215822,-4.933118467575515,-6.851234174198755,-13.145520173191821,-16.238789640388045,7.563880166304553,-0.9923279347880012,1.828128527240299,-2.1961501148067164,-4.703048037075046,14.158296087370278,2.111454444723041,-5.551660355115793,106.05086535311654,-10.901094216374856,-1.029905983811684,-5.7648427284337735,0.35591662325752793,57.3098370035561,1.4807888356861376,-0.09234299001093049,-2.770478771328772,0.0018978433133511885,1.571156595681348,3.286505536647905,-8.476252993227416,-2.4980702462709026,3.962700190672379,-3.33347940812917,-4.013368831431588,-9.852796065064126,31.041254795961205,-4.093595733617953,-3.2451826943078785,-1.5106839695160588,-5.426077176166453,-1.7202719438370089,-0.7684906995463638,5.959740411431085,4.700542050620211,2.1084778238878528,-7.012781718011102,6.129656917492621,0.7538206747323741,-0.9674329688595904,-12.76234299001093,-3.7077503518993034,-5.211506583384736,0.3673037677122952,8.887753410299037,-11.837382793050715,6.826695679612261,0.9889111630908012,-2.157361809039587,-10.414916396393561,3.4711433404283127,89.22894756231882,-16.259964596548546,6.666549094161841,-9.373457554614308,-7.074645057857953,-3.0437138379269975,-4.20439630215672,1.9531005724453312,35.30588256399035,-3.9592108018334073,-6.17501279670353,8.802763822880916,-3.762636011395994,-8.293713837926997,-4.673244099496028,1.006510172489488,3.0920829668060428,-6.163148578021373,3.608183902517844,5.624638098463965,-3.0672872622444842,15.728906512944679,0.8961678870985459,2.2131322910460334,-4.080779490990711,-1.1988132938727922,1.1940552540459848,-0.6837690002398649,-3.6554020688827773,-11.746986542582544,0.42013845253756443,3.396668077306199,-9.042702151744326,-4.839524968563431,-5.268702546509807,-5.9725053600038125,2.009285920038085,-2.9250127967035304,-2.325312637530157,-13.093105749826968,-6.138453790808573,-4.021123768166593,0.3230351614165379,7.174657252023987,-2.482716477647717,21.138470833780875,2.246147104234044,1.6460499746045478,-5.17693472813761,-6.113677808024525,16.17420921759209,29.526175414710007,-0.27608470377791505,-10.434395572837193,-14.542833703121447,-6.657851792830581,6.528051472305403,7.399815150041238,23.472398741690906,0.43269391192739803,-9.246890291788361,-7.107919541333754,-9.88895040222608,4.1942242728150205,10.220592406426082,2.6307388423607243,1.8163816835476574,0.3746798348583731,-11.046530959389553,4.163439659484123,-8.547213594284688,-2.2916963850182626,1.0461169937881891,1.930816800472659,-5.347896958499366,-13.137279734633019,-3.156510347190464,19.747172216335173,0.4623903352441303,-2.6487034253451167,-18.313698782704073,-1.7092167212900264,17.15622917864062,5.758867096067103,-1.4933980630421253,-1.6333177463061883,1.3305705529112224,0.8505571058431372,13.01032179721,-0.3353803648837026,12.883043567863307,13.000454956741965,-8.17639117223106,-9.317668277492732,-5.104880537156507,-3.1038528957659555,3.9344369986137693,4.333736280808964,-2.0771030175871132,-5.436912874622749,3.56293891062235,-5.262636011395994,-5.894778217389916,-0.7563191335757473,-4.560508152455096,-5.850756008171375,-2.6912524277738417,3.7284953872505717,1.594462992764992,-2.4453427479760137,-13.195628241749615,-7.111748348978981,16.13419594118942,32.372771350492386,-6.258774585165121,65.95584653408788,-8.804242338610614,-4.53756629905698,-4.520691497127526,1.6093981048905093,2.2267408452810464,-3.3278901390577964,-9.394778217389916,-3.6433763590430512,-6.490963564982668,-9.97121319951921,-1.3521496095872507,0.665240594839279,-17.083428173487984,-7.611856417536774,-3.3968977982501904,-7.966515904166627,22.240394735850263,-2.1346113263226805,-1.342309851878337,-9.623428173487984,18.111407859522362,-4.890398475742462,-1.268747712178584,0.07205088572487739,-7.432708950036254,-15.223802021118754,7.2368974908244486,-11.107657320606908,1.3982231487300076,-2.552833681971821,-4.626097250861051,-12.759801326570724,6.915616244926419,16.869037164336863,-1.2809929461089986,18.06458270522888,-6.216715204046922,-9.146949783360537,-9.655473399368194,-1.7732591547189536,-2.8161424165298357,2.404824833303584,8.938533025307894,5.691165193943171,1.1824422992048405,-2.093465082225773,-0.6189537892011874,-1.1777930094282993,1.0735987920176822,-7.644264921445011,-1.7368601813425038,-7.351301922701932,6.340915538256997,-10.811153707947032,4.029199704995154,29.094276236775737,-0.03771541131034084,-3.7904803794836166,18.16579617828201,3.956754292349128,5.240012820617057,-4.528856659571687,-3.611527195583818,14.571553736802887,-8.209803834710513,-2.0798540198509627,-4.972239940924812,-4.830288628364414,-2.6690625870785087,-11.40243993101748,-13.135166760249636,-2.215409767159656,-13.197160901004441,5.522697682532591,21.15997769069953,-5.103832112901454,-7.901028976011471,7.534077836880382,-11.731093487055322,-5.162604292795294,-2.230802073825103,-5.08843800626612,-4.909879110825148,2.421709479169248,0.9226826273096655,-3.948139794743966,-0.10345002700284667,7.805794570127173,-7.024948975872039,14.751282398267268,-0.10873192763612494,-11.671512140360893,15.019285920038087,9.979649389881157,16.96078327870997,-7.597588711225956,-6.576882764176897,-8.530089328484113,32.6515913748602,8.43301418673699,1.0388479002078093,-2.2925564451292146,-5.633759003595781,5.04994580143342,18.32100516142466,-2.8442224557310603,-5.07183634284217,-6.790350610118843,7.908478361392337,0.5090665454631846,-16.063603431894826,-14.843500382808717,0.24614710423404418,-4.400046670955117,-8.171220727130674,0.024362622484076724,-6.243419916556986,15.348143582463226,15.213454714707051,13.390057986285843,-0.5530329818521196,-5.797542645572225,-6.824107379108758,0.0807388423607236,-1.6061123060839826,-0.14809462907518522,5.656754292349127,-0.0707425822529224,4.839257417747074,-6.835657622875939,-5.416613033796121,-6.3423429900109305,-5.873311847999201,6.555839735795956,-7.1089679655888,9.339293447649549,2.42745359062204,-6.197440496471053,-7.202120228460927,1.8362216510291525,-5.364175319426977,-15.782567384057508,0.012309139672872504,-12.808165788895185,3.437335486312996,0.6188839301102895,-7.650376622227601,-6.098117211909575,-1.3115216386076618,-9.445467479911574,11.275735078554991,8.936616992180799,-9.11560565891522,-4.478849131960224,1.6055789737081696,0.4352201744552353,0.4555307592030111,2.0976713358924677,-2.384573688265366,-8.83074095294845,-4.256026820360585,-6.840748480559913,2.4858096253500968,10.86859000874028,8.75558937193988,-4.361930964331876,5.233717625646257,26.296206595806222,29.9584858890038,1.6059117744512683,-5.326127361306908,1.507196407324411,-6.946224490936405,-4.185297411641816,-5.603763293747921,27.932331722507268,-1.8521368918387004,9.104464771585253,1.8419498072740659,2.6428534248989486,-8.70680999620205,6.3073505415359215,-7.359899185519749,20.14193475205114,-8.442320407176538,1.7230577442509265,-14.657462349985915,-5.865226251821815,-16.350293647836082,-13.576413755065456,22.7881285272403,7.504709237134332,-6.015615694666478,-4.104542008771826,5.377737476240792,-6.925929690731081,-7.14444826611744,-0.8801570769872828,-5.607991579989067,0.30625605162714464,-5.000750109864388,1.724957092850616,-3.06189656373388,-10.34887997172561,-13.792142811295315,-16.83703599840347,-16.280719999418537,-0.11440310044865498,6.416505536647904,-3.0385433928266075,-19.060735054641462,-1.6295534497048116,1.4899893589473567,1.145052614325266,-2.1820648531833804,-1.952144419450164,1.7461471042340442,5.411297453490192,5.986571826512016,-6.184872838879626,-0.6487821127765834,-1.0572759776267517,-0.7534162954675789,13.460027875839994,-5.427675805104203,32.394255283245826,-3.987316643370807,6.194526600631807,-0.08534684631310796,-5.753389806111134,-4.179928566646073,18.930775751098512,-1.2951525838620235,-4.2836627528015985,17.527373124370317,-7.372408230374315,1.8047517028482822,-0.7288582888761646,-8.757679903441296,-6.548262918524689,-5.432761643316502,-16.582218087409952,-6.5337356914418585,-4.1618940555940895,-5.44134977036801,-1.8033980630421276,0.23841331284399914,-2.1219334724716674,-8.67436779986571,-3.398055191047977,-1.8456357693610776,2.9828149080063184,-10.81036566534177,-6.380551709969032,-9.700704944195603,27.33535567146158,-6.5632892651648085,4.523307378787468,1.23075389758365,-13.86510921816313,1.8099466802687267,-1.8250730175952405,9.321412170824136,-9.604630002635021,-4.95575977197711,-9.679611183606358,-12.880748480559912,-5.462847858359428,-5.042335462399468,-5.373508639739715,17.299800094818305,3.4093739139012733,2.1942092175920926,6.335999768314462,-3.7533168674708755,-2.577522570877628,3.6602976062207606,-8.465555473774767,17.06323444014721,-8.720286999059933,-8.9559816546918,-8.88535780319894,106.20499473090793,0.9745676500059517,-1.9916461998778097,-9.766912874622749,-0.8383935699168639,4.110754776418965,-8.986691891893006,-7.2859146355081545,-2.1259079867320096,-4.095381994188177,-7.948070246270902,1.4318146771067894,-9.970286999059933,5.216698187752051,-8.593538020866031,-2.307582062449807,-6.013146969866522,-5.259687338556313,-0.20557552731973772,1.7080539804451966,-9.308057720337398,0.05459023284034359,-7.49619438049055,-2.9982184821754316,-5.23680480606496,-3.9237765278513272,1.4420528563601813,10.58234677773019,-0.4611085422782466,-5.9815141109962,4.507488720539566,-6.189231776512951,13.586513064259368,-10.280111911318501,-7.928879242406079,-10.430111911318502,-18.407834037652815,-10.838994838575335,8.149960856656346,-2.7015942147674643,-7.600039143343654,-6.659084461743003,8.708381231762843,-2.395313345700057,-1.2390115231027359,-6.348124739521037,8.632000892399468,-2.0908020738251025,-5.441420027010976,1.2804074927059794,6.161815768906781,-0.27296523334894474,0.9950692777030419,2.092036192982409,-2.4945337518408373,10.007960237790801,7.895412676043602,-4.223222245981166,11.892249648100698,-3.2821646648101748,2.055797981443998,-5.299942013714158,-0.7952633523746506,-4.544068321519543,-4.720286999059933,-8.26769838793859,-7.169233747148258,-6.575327692753088,-6.484777488070389,-7.505729661531252,16.747775993133427,-0.45579831001937166,-7.525027851926456,-3.957896958499365,2.275648884661692,-1.9038604233774183,37.48463306103474,1.4193319645421845,-3.3567245104786494,-0.8275376261005576,-11.038613823327086,-2.3624677219464942,0.781309310360971,-7.698285501359077,26.250549578231674,2.7476939187268563,-5.587322392162015,1.669102575365656,-0.6195902089268124,5.504063510976984,-4.905936489023016,14.88806238689197,0.857781912590049,-1.6206395331668126,-7.094440738505973,2.735413554878914,-11.421094216374856,0.938697198462755],\"yaxis\":\"y\",\"type\":\"scatter\"},{\"hovertemplate\":\"<b>LOWESS trendline</b><br><br>x=%{x}<br>y=%{y} <b>(trend)</b><extra></extra>\",\"legendgroup\":\"\",\"line\":{\"color\":\"black\"},\"marker\":{\"color\":\"#636efa\",\"symbol\":\"circle\"},\"mode\":\"lines\",\"name\":\"\",\"showlegend\":false,\"x\":[1.2631025091755514,4.87200784860136,4.978632994844645,6.155537007235008,6.311302801537245,6.429674791473175,6.444202018556002,7.038214341539074,7.448030826201233,7.557436355834696,7.569183199527341,7.678587829175864,7.9125505256725965,7.93541800294102,8.007428828223233,8.07387798674014,8.091185597213144,8.469167244319468,8.471948527694597,8.768953789201188,8.83818423109322,8.904633389610122,8.993950025395453,9.037531706643936,9.198859167711479,9.320010641052644,9.371933472471667,9.403767410042558,9.56231448771992,9.697994088128858,9.755474086388464,9.77000311344118,9.940297034811191,9.99499934963545,10.073195351844998,10.110590956181198,10.185380364883702,10.326622532042894,10.459519049106813,10.53771541131034,10.551618768237159,10.577890139057796,10.58345090583816,10.603538899701348,10.612505360003812,10.728096876551067,10.771052437681174,10.773832821071355,10.78279928137382,10.817414502319835,10.918477981797814,10.998829057265624,11.06249783239235,11.241132903932897,11.307582062449807,11.35672451047865,11.39689779825019,11.440480379483617,11.495182694307879,11.509709921390701,11.518053771516083,11.604587323956398,11.662696232287704,11.682784226150893,11.777663428686477,11.789409372394179,11.927867556223408,11.945175166696416,11.959702393779239,12.011624325213319,12.017185091993682,12.095381994188177,12.193042480098885,12.274016165743785,12.288543392826607,12.288543392826607,12.334905097471296,12.343245707650873,12.343245707650873,12.343245707650873,12.38341629546758,12.449870853894154,12.478924408074864,12.588329937708327,12.686613033796121,12.804985023732051,12.82507301759524,12.859687338556313,12.862467721946494,12.891522176112147,12.89708294289251,12.946224490936405,12.951785257716768,12.995366938965251,13.032761643316501,13.061816097482158,13.087463958140763,13.099210801833408,13.116518412306416,13.171220727130674,13.228703425345117,13.260538262900955,13.263317746306189,13.295152583862023,13.306899427554669,13.407963807017591,13.448139794743966,13.482754115705038,13.53189656373388,13.589379261948324,13.609469955766347,13.621213199519211,13.629553449704812,13.644083376742472,13.653048037075045,13.707750351899303,13.707750351899303,13.733393712633188,13.73680480606496,13.74236557284532,13.759672283333384,13.771420027010976,13.811594214767464,13.898132267132503,13.909879110825148,13.923776527851327,13.947273815176402,13.95005419856658,13.952833681971821,13.967361809039588,13.97291987586512,13.984668519527652,13.984668519527652,14.022064123863853,14.056679344809869,14.12590798673201,14.204104888926505,14.226972366194929,14.256026820360585,14.261586687156,14.293421524711835,14.328036745657851,14.333597512438214,14.348124739521037,14.365432349994048,14.373769000239864,14.400046670955117,14.400046670955117,14.400046670955117,14.411793514647766,14.515637377515922,14.538505754769293,14.544068321519543,14.55303298185212,14.564779825544765,14.564779825544765,14.590428586188313,14.590428586188313,14.622262523759208,14.625042907149385,14.642350517622393,14.676964838583462,14.74619438049055,14.766282374353743,14.772468451266022,14.792556445129215,14.798117211909574,14.815424822382582,14.850039143343654,14.850039143343654,14.86456637042648,14.896401207982318,14.901961074777734,14.95388300621181,14.980157076987282,14.99406079390808,15.052167002284552,15.054947385674733,15.060508152455096,15.089562606620749,15.09234299001093,15.09234299001093,15.09234299001093,15.14426492144501,15.14426492144501,15.16435111533831,15.17887924240608,15.17887924240608,15.190626086098728,15.210714079961914,15.210714079961914,15.213494463352095,15.213494463352095,15.230802073825103,15.230802073825103,15.230802073825103,15.262636011395994,15.262636011395994,15.265417294771119,15.274383755073583,15.279943621869002,15.33464593669326,15.369261157639276,15.369261157639276,15.395535228414747,15.438490699546364,15.455798310019372,15.525027851926456,15.542335462399468,15.54852153931175,15.551301922701931,15.576949783360536,15.594257393833544,15.611564104321609,15.6233118479992,15.646179325267624,15.646179325267624,15.660706552350451,15.663486935740632,15.666263719191036,15.68079454621364,15.692541389906289,15.698102156686648,15.715409767159656,15.715409767159656,15.715409767159656,15.732716477647717,15.750024088120728,15.750024088120728,15.801946019554805,15.813692863247454,15.836560340515877,15.836560340515877,15.865615694666477,15.871175561461893,15.905790782407909,15.905790782407909,15.905790782407909,15.917537626100557,15.93206485318338,15.9376247199788,15.952151947061626,15.972239940924812,15.992327934788001,15.99510921816313,16.026942255749073,16.058777093304908,16.073304320387738,16.076084703777916,16.078864187183154,16.107919541333754,16.11347940812917,16.125226251821815,16.130787018602174,16.145313345700057,16.148094629075185,16.15706108937765,16.168185322893212,16.17436779986571,16.179928566646073,16.182708950036254,16.191675410338718,16.197236177119084,16.197236177119084,16.205575527319738,16.26924610241635,16.280992946109,16.29552017319182,16.301080939972184,16.30386042337742,16.31282778366483,16.341252427773842,16.3848377089621,16.39039847574246,16.402144419450163,16.42501279670353,16.42501279670353,16.431199053612804,16.43954002378636,16.44232040717654,16.47693472813761,16.494242338610615,16.526077176166453,16.528856659571687,16.528856659571687,16.53442102629183,16.546164270044695,16.560691497127525,16.563471880517703,16.577999107600533,16.58077949099071,16.58077949099071,16.64444826611744,16.647228649507618,16.667316643370807,16.667316643370807,16.67906258707851,16.701930964331876,16.710897424634343,16.713677808024524,16.719238574804887,16.733765801887714,16.736545285292948,16.753852895765956,16.753852895765956,16.753852895765956,16.753852895765956,16.753852895765956,16.794654193624257,16.80577572718498,16.817522570877628,16.823083337657987,16.83760966475587,16.8521368918387,16.85769765861906,16.875005269092068,16.886752112784716,16.892312879565072,16.926927200526148,16.9559816546918,16.97328926516481,16.97328926516481,16.978849131960224,16.99337635904305,17.01068396951606,17.027991579989067,17.077133128032965,17.08887997172561,17.091660355115792,17.094440738505973,17.1089679655888,17.11174834897898,17.123495192671626,17.13183634284217,17.13183634284217,17.13461132632268,17.151927036660194,17.151927036660194,17.169233747148258,17.18654045763632,17.198285501359077,17.21837259523732,17.230120338914908,17.252987816183335,17.284822653739173,17.319436974700242,17.33952496856343,17.342309851878337,17.348491428865895,17.383105749826967,17.400413360299975,17.428843404318652,17.443368831431588,17.446150114806716,17.446150114806716,17.457896958499365,17.457896958499365,17.492511279460434,17.495290762865668,17.498070246270903,17.498070246270903,17.512598373338673,17.529905983811684,17.54721359428469,17.567306088072602,17.59079527553317,17.6136627528016,17.630970363274603,17.63653293002486,17.6801119113185,17.6801119113185,17.685672678098864,17.700199905181695,17.70575977197711,17.70854555527696,17.720286999059933,17.720286999059933,17.720286999059933,17.723066482465175,17.757679903441296,17.7610888369092,17.76942944708878,17.77220983047896,17.77220983047896,17.783956674171602,17.82413266189798,17.84422245573106,17.84422245573106,17.853186216078686,17.861529166219125,17.89058182041489,17.902328664107532,17.907889430887895,17.930756008171375,17.957030978931794,17.99164619987781,18.006172526975693,18.023480137448697,18.03182128761924,18.046347614717124,18.063655225190136,18.075402068882777,18.08096283566314,18.103832112901454,18.103832112901454,18.127324900301804,18.14463161078986,18.173058954853705,18.19036566534177,18.213862052681893,18.24847637364297,18.25125675703315,18.25959250729402,18.311521638607662,18.311521638607662,18.311521638607662,18.3377930094283,18.363441770071848,18.372408230374315,18.380748480559912,18.380748480559912,18.398055191047977,18.409803834710512,18.415361901536034,18.4326686120241,18.438858288876165,18.449975322512163,18.45616499936423,18.476252993227416,18.49356060370042,18.516428080968854,18.519211164313862,18.530955308051677,18.53373569144186,18.53373569144186,18.542702151744326,18.54826291852469,18.55382458528999,18.571131295778056,18.577317372690334,18.58565762287594,18.58843800626612,18.60018484995876,18.602965233348943,18.605744716754177,18.620271943837007,18.623051427242242,18.634800070904777,18.686722002338858,18.70680999620205,18.721336323299933,18.738643933772938,18.758731927636124,18.7615141109962,18.7615141109962,18.76769838793859,18.770478771328772,18.773259154718954,18.773259154718954,18.78778548181683,18.7933462485972,18.81962031937267,18.83074095294845,18.87154315079169,18.877103017587114,18.89441062806012,18.92346508222577,18.949111142914486,18.96364016996721,18.97538701365985,18.97538701365985,18.983724563890615,18.986510347190464,19.010002234605867,19.0127817180111,19.01556300138623,19.021123768166593,19.02730984507887,19.02730984507887,19.030089328484113,19.03565369520425,19.07923177651295,19.07923177651295,19.090350610118843,19.090350610118843,19.093759003595782,19.104880537156507,19.107657320606908,19.107657320606908,19.110443103906757,19.113846997458968,19.131153707947032,19.148461318420036,19.174107379108758,19.20594401663448,19.20872080008488,19.211506583384736,19.217690860327128,19.228813293872793,19.23221808740995,19.23221808740995,19.234998470800132,19.246120004360858,19.252306081273144,19.252306081273144,19.29526335237465,19.31534684631311,19.31534684631311,19.338842333668293,19.344403100448655,19.344403100448655,19.36727597762675,19.37345755461431,19.384573688265366,19.42538038603333,19.42538038603333,19.445467479911574,19.465555473774767,19.46833045725528,19.47730231746741,19.50572966153125,19.520259588568916,19.52922424890149,19.53756629905698,19.53756629905698,19.54034308250738,19.546530959389553,19.58392656372575,19.598453790808573,19.601234174198755,19.604013657603996,19.615761401281585,19.621321268077,19.630288628364415,19.63306901175459,19.6503766222276,19.655936489023016,19.655936489023016,19.673244099496028,19.673244099496028,19.68499094318867,19.690551709969032,19.70229855366168,19.719605264149738,19.727949114275123,19.730725897725524,19.73691287462275,19.73691287462275,19.73691287462275,19.742473641403112,19.748659898312386,19.768747712178584,19.77152719558382,19.78327475926442,19.78883480605683,19.794395572837193,19.806142416529834,19.823450027002846,19.823450027002846,19.84075763747585,19.84353802086603,19.85188187099141,19.85806524794886,19.88989918551975,19.90998717938294,19.927294789855946,19.938415423431724,19.976436337899845,19.979216721290026,19.979216721290026,19.979216721290026,19.98477748807039,19.990963564982668,19.993743948372856,20.02494897587204,20.033919036114288,20.04844626319711,20.083061484143126,20.097588711225956,20.103148578021372,20.117675805104202,20.134983415577207,20.15785179283058,20.164037599747378,20.169597736538275,20.195248297151718,20.273442499391383,20.290750109864387,20.296309976659803,20.3080577203374,20.377287262244483,20.402937822857925,20.417462349985914,20.42642881028838,20.446515904166628,20.472164664810176,20.486691891893006,20.49225715859809,20.51574634605866,20.521306212854075,20.52408479627437,20.538613823327086,20.547581183614493,20.567668277492732,20.567668277492732,20.567668277492732,20.567668277492732,20.584975887965744,20.599503115048574,20.619590208926812,20.634117436009642,20.639678202789998,20.639678202789998,20.654205429872828,20.65698581326301,20.671512140360893,20.688819750833904,20.688819750833904,20.69716090100444,20.700567494511493,20.70612736130691,20.723434971779913,20.728994838575336,20.728994838575336,20.740742582252924,20.740742582252924,20.740742582252924,20.758050192725936,20.77535780319894,20.789884130296823,20.792664513687004,20.792664513687004,20.80997212416001,20.82727973463302,20.844586445121084,20.86189405559409,20.86467443898427,20.87642128267692,20.896508376555165,20.948431207974185,20.965738818447196,21.008690689639028,21.029407593573918,21.0321879769641,21.046715204046922,21.057834037652814,21.06958268131535,21.08689029178836,21.104197902261365,21.115944745954014,21.115944745954014,21.12150461274943,21.1360327398172,21.156119833695445,21.19073505464146,21.202481898334103,21.21360343189483,21.225350275587477,21.259964596548546,21.26552356335902,21.28005169042679,21.29457891750962,21.311886527982626,21.326413755065456,21.33475940516072,21.36102897601147,21.37214960958725,21.375555303109348,21.38111606988971,21.39564329697254,21.433038901308738,21.44756522840662,21.464872838879625,21.467653222269806,21.482180449352636,21.502268443215822,21.519575153703887,21.519575153703887,21.536882764176898,21.539663147567072,21.54243993101748,21.55140999125972,21.554190374649902,21.568717601732732,21.571497085137967,21.571497085137967,21.574278368513088,21.58880469561097,21.6033319226938,21.606112306083983,21.620639533166813,21.623419916556987,21.623419916556987,21.623419916556987,21.635166760249636,21.637947143639817,21.6462891937953,21.658035137503003,21.672561464600886,21.675342747976014,21.675342747976014,21.69264945846408,21.70439630215672,21.721703912629724,21.721703912629724,21.739011523102736,21.741791906492917,21.756319133575747,21.756319133575747,21.790933454536816,21.790933454536816,21.790933454536816,21.793713837926997,21.793713837926997,21.796493321332232,21.796493321332232,21.796493321332232,21.802049588187874,21.831108542278248,21.845635769361078,21.857382793050714,21.8601629964439,21.865723763224263,21.888592140477638,21.894778217389916,21.894778217389916,21.897557700795158,21.903118467575514,21.986875236565428,22.01592969073108,22.058885161862694,22.06785162216516,22.073412388945524,22.090719999418535,22.090719999418535,22.093500382808717,22.10802760989154,22.12533522036455,22.139861547462434,22.17169638501826,22.19456386228669,22.2118714727597,22.2118714727597,22.2118714727597,22.22361831645234,22.26379340419378,22.278320631276603,22.292847858359426,22.295628241749615,22.298408625139796,22.3157162356128,22.3157162356128,22.384945777519892,22.396692621212534,22.40503287139813,22.414000231685538,22.428527458768375,22.43408822554873,22.43408822554873,22.436867708953965,22.454175319426977,22.465922163119618,22.468702546509807,22.468702546509807,22.48322977359263,22.488789640388045,22.503316867470875,22.50609725086105,22.53793208841689,22.540712471807073,22.543492855197247,22.558020082280077,22.558020082280077,22.56358084906044,22.566986542582544,22.57254640937796,22.57254640937796,22.57532769275309,22.57532769275309,22.589854019850964,22.607161630323976,22.609942013714157,22.609942013714157,22.624469240796987,22.624469240796987,22.64177685126999,22.659084461743003,22.659084461743003,22.659084461743003,22.66464432853842,22.67639117223106,22.69369878270407,22.71378587658231,22.731093487055322,22.731093487055322,22.7573675578308,22.77745555169398,22.797542645572225,22.886860181342502,22.915914635508155,22.933222245981167,22.938782112776583,22.990704944195603,22.993489827510512,23.005231271293486,23.025320165141625,23.042626875629683,23.083428173487984,23.083428173487984,23.083428173487984,23.09176932365853,23.111856417536774,23.111856417536774,23.12916402800978,23.138130488312246,23.15821848217543,23.163778348970848,23.190053319731273,23.192833703121448,23.198393569916863,23.198393569916863,23.215701180389875,23.264842728433774,23.267623111823955,23.28493072229696,23.28493072229696,23.29945794937979,23.30223833276997,23.316765559852794,23.319545043258035,23.331291886950677,23.354160264204044,23.354160264204044,23.371466974692108,23.371466974692108,23.385995101759885,23.38877458516512,23.38877458516512,23.40330181224795,23.40330181224795,23.417829939315713,23.423389806111135,23.43791703319396,23.469751870749793,23.475312637530156,23.48983896462804,23.50714657510105,23.50714657510105,23.521673802183873,23.5445412794523,23.553508639739714,23.55628812314494,23.573595733617953,23.576376117008135,23.61099133795415,23.613770821359385,23.64560565891522,23.677440496471053,23.6975275903493,23.709274434041948,23.723802021118754,23.732142811295315,23.749450421768326,23.784065642714342,23.795811586422044,23.81589958028523,23.87060189510949,23.885129122192314,23.939831437016576,23.951578280709224,23.966105687789035,23.994533751840837,24.063763293747922,24.078290520830752,24.112905741776768,24.12743296885959,24.16204728982066,24.199442894156864,24.24580405881058,24.248584442200755,24.268672436063948,24.2977268902296,24.312254117312424,24.366956432136693,24.389823909405113,24.392604292795294,24.470800295004846,24.473580678395027,24.508195899341043,24.574645057857953,24.612039762209196,24.629347372682208,24.641094216374857,24.641094216374857,24.76224658970096,24.82250877132064,24.83703599840347,24.86609045256912,24.883398063042126,24.883398063042126,24.923573150783557,24.969935215422222,24.990022309300468,24.99280359267559,25.082120228460926,25.15134977036801,25.160316230670478,25.272501243709176,25.33895040222608,25.35903929607422,25.393653617035287,25.40818084411811,25.442796065064126,25.454542008771828,25.457322392162016,25.457322392162016,25.47463000263502,25.491937613108032,25.509245223581036,25.598561859366367,25.601342242756548,25.61586946983937,25.647703407410265,25.6795382449661,25.68231862835628,25.696845855439104,25.714153465912116,25.739801326570724,25.7833830078192,25.892788537452663,26.008379244013472,26.065861942227908,26.08316955270092,26.09491639639356,26.100477163173924,26.112224006866573,26.285297411641817,26.308165788895185,26.325473399368196,26.325473399368196,26.360087720329265,26.426537778831122,26.44384448931918,26.46115209979219,26.49576642075326,26.510293647836082,26.527601258309094,26.59961118360636,26.7352907840153,26.80729980932762,26.839134646883455,26.891056578317535,27.098745204038796,27.150668035457816,27.358356661179076,27.433146969866524,27.499596128383434,27.808349133567614,27.98142253834286,27.98142253834286,27.984203821717987,28.243814378873328,28.552567384057507,29.07178939835313],\"xaxis\":\"x\",\"y\":[6.036385568610749,3.9588643805817245,3.8974034171948313,3.21874344609722,3.12895836995351,3.060748281478056,3.0523787089281917,2.710618228541715,2.475670103546264,2.4131014403374333,2.406387748062988,2.3439012453866996,2.2105372953383995,2.1975222065955196,2.1565608805029437,2.118795872693849,2.1089647014639894,1.8948313020291094,1.8932598801921658,1.7258323879970865,1.6869175138852952,1.6496073409658725,1.5995222679229544,1.5751108003654977,1.4849065645139723,1.4173394661596066,1.3884293504834286,1.370719078423281,1.2826857102155786,1.207589215738673,1.1758449572537981,1.1678278368504245,1.0740691798035638,1.0440356635324382,1.0011753372721701,0.9807082784769002,0.9398329735216897,0.8628434155874528,0.7906340665890537,0.74824180547589,0.7407113255775285,0.726487360542791,0.7234775107417877,0.7126070839002583,0.7077562100384142,0.6452830423257596,0.6220924965708337,0.620591839443583,0.6157526737153809,0.5970750192901266,0.5425706188218259,0.4992486660833904,0.4649145417662415,0.36796159529062467,0.3320106760809799,0.3053906706809559,0.28360666719567906,0.2599493802705543,0.23021736729421197,0.2223138382327788,0.21777287335875758,0.17061113958668545,0.13886700859470832,0.1278782974668573,0.0758648695646507,0.06941210437729249,-0.006901154682729524,-0.016475111297373383,-0.02451739037386413,-0.053310127663514485,-0.05639842641594889,-0.09992651756812275,-0.15456623100084277,-0.20012144596039513,-0.20831970781151207,-0.20831970781151207,-0.23453661729577477,-0.23926185051113433,-0.23926185051113433,-0.23926185051113433,-0.2620578321365249,-0.29991060530022995,-0.31651611110319844,-0.3793617525241679,-0.4362458227981367,-0.5052767013325806,-0.5170442682726442,-0.5373545991105898,-0.5389877790738612,-0.5560690849263455,-0.5593412997475363,-0.5882970650203043,-0.5915574705120423,-0.6172851025121319,-0.6392347040904205,-0.6564212180961686,-0.671603871709325,-0.678560909028299,-0.6888148728913882,-0.7212486460953907,-0.7553638477180815,-0.774267162728342,-0.775917816494651,-0.7948250072245436,-0.8018019320460231,-0.8618072854319017,-0.8856345461714851,-0.9061417473136423,-0.9352097855565292,-0.9691198379761284,-0.9807366156631654,-0.9876399693029829,-0.99253924347635,-1.0010670595173314,-1.0063236673152713,-1.038100982377287,-1.038100982377287,-1.053043947187102,-1.0550288965843353,-1.058263342741775,-1.0680156042120317,-1.0746285055784073,-1.097792380579848,-1.1475725189107566,-1.154295444581404,-1.162238737666827,-1.1756435861045806,-1.1772276690345551,-1.1788108035971907,-1.1870786972559846,-1.190238690870082,-1.1969127875596373,-1.1969127875596373,-1.2181085296456327,-1.2376686494460998,-1.2764680188704036,-1.320263514271945,-1.333025961562795,-1.3492135079564935,-1.3523077362707456,-1.3700048279792465,-1.389213025641975,-1.3922958718297265,-1.4001723519610079,-1.4096133059389306,-1.4142261233248437,-1.4287574142035138,-1.4287574142035138,-1.4287574142035138,-1.4351010571783072,-1.4921606661713056,-1.504578858034153,-1.5074274534887553,-1.5120650422380069,-1.518442599588214,-1.518442599588214,-1.5323324713787858,-1.5323324713787858,-1.5495208314712878,-1.551039303089875,-1.5604864447096618,-1.5783997836588788,-1.6159603287994797,-1.6268266133396558,-1.6301697344629105,-1.6410153447246096,-1.644014751873324,-1.653342098826062,-1.671958327223977,-1.671958327223977,-1.6797558638606211,-1.696328002991591,-1.6992997958449143,-1.7269729958746165,-1.7409155458269894,-1.7482751827101641,-1.7785107194957352,-1.7799683241131823,-1.7828816371023455,-1.7976212603494486,-1.7990700114895826,-1.7990700114895826,-1.7990700114895826,-1.8256217955255947,-1.8256217955255947,-1.8357524169630437,-1.8432033917229063,-1.8432033917229063,-1.848987293312867,-1.858795119013243,-1.858795119013243,-1.860208322504621,-1.860208322504621,-1.8689824792538459,-1.8689824792538459,-1.8689824792538459,-1.8850142977390696,-1.8850142977390696,-1.8864082036191465,-1.8908943535253162,-1.893670208333546,-1.9204957453779081,-1.9373242522834124,-1.9373242522834124,-1.9497962140060736,-1.9701868121199506,-1.9783846033510855,-2.0101365173875427,-2.01812795751734,-2.020973411332479,-2.0222504780464154,-2.033771172947589,-2.041639878247877,-2.049232487418731,-2.054490696357079,-2.0647478488407645,-2.0647478488407645,-2.0712291057521206,-2.07246657356331,-2.0737014995428313,-2.0801488495677627,-2.0853431873873927,-2.087796800953748,-2.0952460173300005,-2.0952460173300005,-2.0952460173300005,-2.102835053868511,-2.1101673582705938,-2.1101673582705938,-2.132500744471008,-2.137566231040696,-2.1473943964276794,-2.1473943964276794,-2.159628795412163,-2.1619988944162496,-2.1766954504555427,-2.1766954504555427,-2.1766954504555427,-2.1816593497657415,-2.187775096056172,-2.19009086659961,-2.196188203445567,-2.2045885787944313,-2.2129522163867628,-2.2141072546910285,-2.2272500059403693,-2.2402232856427884,-2.2460329024760215,-2.247168383508067,-2.248277411582965,-2.260071429294426,-2.262324266663861,-2.2670744145812005,-2.269318448731509,-2.275166318854513,-2.2762836132512403,-2.2797880162580784,-2.2842205753730793,-2.2866911644030816,-2.288910020049323,-2.2899761727278856,-2.2934567409191713,-2.295625302483399,-2.295625302483399,-2.298867807314391,-2.323916256024899,-2.3284952868998303,-2.3341381174047493,-2.3362922794727234,-2.337367812656308,-2.340832350080867,-2.3517594700566358,-2.3683235082679954,-2.370429225625405,-2.3748673354688616,-2.3834710625364948,-2.3834710625364948,-2.3857904180440914,-2.3889094795212817,-2.389949073542256,-2.4028362073156813,-2.409247743779414,-2.420991000065021,-2.4220147083888603,-2.4220147083888603,-2.4240651169201555,-2.4283764029253643,-2.4336999109138464,-2.4347171005299306,-2.4400254496510727,-2.4410403310019757,-2.4410403310019757,-2.4642614903515754,-2.465273656425567,-2.4725879661255576,-2.4725879661255576,-2.476866777022588,-2.485208729575329,-2.488460703104928,-2.4894762563740467,-2.49150843573873,-2.496824831053483,-2.497843354621134,-2.5041966483539335,-2.5041966483539335,-2.5041966483539335,-2.5041966483539335,-2.5041966483539335,-2.51918032754671,-2.5233041896587816,-2.5276731379788893,-2.5297463584777358,-2.5351784902521133,-2.5406130711290884,-2.5426106023403268,-2.548934119565153,-2.553375257915703,-2.55548428899186,-2.5686751206415104,-2.579921121052872,-2.586690349661694,-2.586690349661694,-2.588876752217942,-2.5946181077974115,-2.6014519858132044,-2.6084078624071023,-2.627834500914836,-2.6322092657772593,-2.6331785698351795,-2.6341458622676996,-2.6396712423303255,-2.640826210427701,-2.6456017549652273,-2.649017652677575,-2.649017652677575,-2.650184431331575,-2.6575101793360156,-2.6575101793360156,-2.6639140431043766,-2.6710756007416787,-2.67611409851559,-2.6848635022261838,-2.690029145894037,-2.7001863283329377,-2.7145490349614727,-2.7302675758289245,-2.7396247479047444,-2.740929719401233,-2.7438330189067757,-2.756880872762594,-2.76231683521497,-2.77388985811222,-2.7785180344873863,-2.779350833762782,-2.779350833762782,-2.78283662331019,-2.78283662331019,-2.7973320184664803,-2.7986469105306293,-2.7999633591795603,-2.7999633591795603,-2.8063365885624565,-2.8134445425378174,-2.821452725115735,-2.830266042718333,-2.839713269131274,-2.848584977675263,-2.8543944461954878,-2.8560629653399827,-2.8745068048135165,-2.8745068048135165,-2.8765380717252906,-2.882166755005578,-2.8848751201848764,-2.8862339548060465,-2.8919742992967197,-2.8919742992967197,-2.8919742992967197,-2.89333627995857,-2.9088289018647644,-2.9100563411289886,-2.911929168918963,-2.9125475795919185,-2.9125475795919185,-2.916344968418532,-2.9340699587654733,-2.9436804817080677,-2.9436804817080677,-2.946303144633907,-2.9504261864762378,-2.963987956278534,-2.9698254941699003,-2.9725925899641257,-2.9812429941410286,-2.9943037600543883,-3.0018786606516215,-3.0061106429695883,-3.0122094114733953,-3.014745116134843,-3.0193058619251354,-3.0276545086135487,-3.0323512619184667,-3.0350275133255322,-3.040505953599611,-3.040505953599611,-3.051079447451862,-3.0576706178168163,-3.070061764544617,-3.078181272033384,-3.0852701622841208,-3.093733980969208,-3.094999160698699,-3.0972028595853036,-3.116473560711666,-3.116473560711666,-3.116473560711666,-3.1280020854664174,-3.1385483945067834,-3.1423816478778113,-3.145925968563762,-3.145925968563762,-3.15321194195679,-3.1552556272305585,-3.15755271225618,-3.161241614989906,-3.1632041204337003,-3.16767410988806,-3.170142727130694,-3.175208216777962,-3.179057731839502,-3.1837955213933635,-3.184836938261626,-3.188652756085452,-3.1885907418681514,-3.1885907418681514,-3.19012145620027,-3.190512203568755,-3.1907689150193854,-3.196937126954889,-3.199109292501835,-3.202010253485952,-3.2029702430531337,-3.206986571401885,-3.207927796472082,-3.2084503851219037,-3.209845623066342,-3.2107639132648234,-3.2112794411430152,-3.2148465628276304,-3.2159586393065775,-3.2146426565968125,-3.2129701392740864,-3.213042618745901,-3.2138176578936895,-3.2138176578936895,-3.2155270535573766,-3.2157551823349757,-3.215446049860285,-3.215446049860285,-3.2165776130163923,-3.2169902227106553,-3.2149566754538728,-3.217765613387407,-3.226369716525917,-3.2260860936165123,-3.2267406567820394,-3.2270893890389063,-3.226985237645221,-3.2297752501283132,-3.2288726678201103,-3.2288726678201103,-3.228415230973803,-3.228915188508426,-3.230912997460358,-3.2304083018542995,-3.230867424856456,-3.2302223252162166,-3.231216627364728,-3.231216627364728,-3.2316562097630834,-3.2325228180266854,-3.2343463777716437,-3.2343463777716437,-3.2321269494341944,-3.2321269494341944,-3.23200366765568,-3.2333921067351787,-3.233727486119965,-3.233727486119965,-3.234059412416015,-3.234458809256604,-3.2350591814100915,-3.2354291641109914,-3.230323370364399,-3.2285952778765874,-3.228810284491343,-3.229021638044524,-3.228554895076643,-3.228099561081731,-3.228234994561876,-3.228234994561876,-3.228100823710491,-3.227174573349995,-3.2266454058824015,-3.2266454058824015,-3.221440636964825,-3.2198327117177645,-3.2198327117177645,-3.2173674796146905,-3.21676329280759,-3.21676329280759,-3.2145653772460996,-3.214658691087371,-3.2147777285531727,-3.209268254136457,-3.209268254136457,-3.2073444141401763,-3.2055545104340766,-3.20549090694697,-3.2052584959582857,-3.202595960026349,-3.2019560038604755,-3.20020793289728,-3.198548558406337,-3.198548558406337,-3.1984003459615087,-3.1973828077219806,-3.1922828458977555,-3.188516477242661,-3.187739194985066,-3.187247984942163,-3.1860650895410974,-3.185060271265145,-3.1825313586650386,-3.1817468754692793,-3.1791111650759776,-3.1775327414340677,-3.1775327414340677,-3.17288688499359,-3.17288688499359,-3.1706706345974176,-3.1693507668500422,-3.1668464872425823,-3.1635077993345675,-3.1613777947882933,-3.160585132495797,-3.1588212422546764,-3.1588212422546764,-3.1588212422546764,-3.1577357558139765,-3.1562771582804316,-3.1517824659282234,-3.1509939442919093,-3.147673602802516,-3.146109562025836,-3.1445504363333754,-3.1422293732697297,-3.137857864328174,-3.137857864328174,-3.133775638263642,-3.133435532641347,-3.1313525673103757,-3.129660187088836,-3.1247115657411126,-3.1200393101401653,-3.115363308722814,-3.112392524197539,-3.1039798902750046,-3.103579665139463,-3.103579665139463,-3.103579665139463,-3.102773008263469,-3.1016703745828718,-3.1009430538994978,-3.094072945434093,-3.0927051914184007,-3.0889820663987373,-3.0808312285625923,-3.0776318184953495,-3.0765030551133954,-3.0731715676687488,-3.0695477989459397,-3.064033184230217,-3.0628910410489993,-3.061973149571328,-3.056674754682672,-3.0403192587118775,-3.03671309044438,-3.035431314101747,-3.032733531740632,-3.017973370987368,-3.0124684653451665,-3.0092290836846787,-3.0072370211390482,-3.002898677886398,-2.997260946582693,-2.9943324563118683,-2.9931523310049832,-2.988185844027945,-2.9870098711952577,-2.986492470746803,-2.983480259209043,-2.9815322032398246,-2.9772557097434635,-2.9772557097434635,-2.9772557097434635,-2.9772557097434635,-2.973544614575114,-2.970601417268451,-2.9662523379751704,-2.9631090500179433,-2.961906130338155,-2.961906130338155,-2.958764058881411,-2.9581627834260225,-2.955021919501458,-2.951535309602817,-2.951535309602817,-2.9499352499294202,-2.9492795697953316,-2.948206720871599,-2.9446549201515357,-2.943450269423978,-2.943450269423978,-2.940905394444371,-2.940905394444371,-2.940905394444371,-2.9371573976703274,-2.9335054545309323,-2.930389514251961,-2.929787774165809,-2.929787774165809,-2.9260442204518053,-2.9224435673944953,-2.918757113281348,-2.9151261964093407,-2.9145268344421904,-2.911996989035082,-2.90789435011082,-2.8972323804192803,-2.8935191984750643,-2.884339877037965,-2.8799615125962514,-2.879387028448585,-2.8763734081721104,-2.8740025208865427,-2.871533810942171,-2.867857983819192,-2.8642274214181285,-2.8617355223040954,-2.8617355223040954,-2.8605562306262557,-2.857483007924384,-2.8532412918631374,-2.84595473386544,-2.8434985044786547,-2.841180942148412,-2.8387415789026034,-2.8315970384142406,-2.8304590191797163,-2.8274966335264513,-2.8244749313731714,-2.8209794306251936,-2.8180481116700467,-2.8163829816540824,-2.810807561333135,-2.808458843298255,-2.8077598172988134,-2.806634213583135,-2.8036101646409293,-2.7963138533840577,-2.793526710365964,-2.790241918530325,-2.7897179352977743,-2.7869970257157304,-2.7830976818491115,-2.7794068261583327,-2.7794068261583327,-2.776196861471167,-2.775692621637613,-2.7751902492963842,-2.7735758899118372,-2.773078190864893,-2.7704992404534994,-2.769954727310316,-2.769954727310316,-2.7694101449373747,-2.766571259704611,-2.7639981657637436,-2.7635214684849565,-2.7608457313427164,-2.760245749346924,-2.760245749346924,-2.760245749346924,-2.75820743668529,-2.7577446988261514,-2.7563664938139025,-2.754452342024505,-2.7521290678269215,-2.7516899032665325,-2.7516899032665325,-2.7489991346526503,-2.7472152272318455,-2.744651703332506,-2.744651703332506,-2.74216761703079,-2.741776096827766,-2.7397646943586054,-2.7397646943586054,-2.7343513362215996,-2.7343513362215996,-2.7343513362215996,-2.7337648171717084,-2.7337648171717084,-2.7331781993080653,-2.7331781993080653,-2.7331781993080653,-2.732093204602808,-2.727977271416513,-2.7262315006566404,-2.724313121463567,-2.723990234202755,-2.7233502060498314,-2.7207980510184377,-2.7201293812410685,-2.7201293812410685,-2.719831897411295,-2.719242196260716,-2.7108771018263047,-2.707568190165838,-2.704161917436744,-2.703488929980332,-2.7030776954215265,-2.701826588257764,-2.701826588257764,-2.7016295378841604,-2.699728202167725,-2.6985521793170024,-2.6975941173093623,-2.6952339933547838,-2.6927684584887817,-2.691761070267938,-2.691761070267938,-2.691761070267938,-2.6910966884593788,-2.688945128876885,-2.6882135723027276,-2.68750673574458,-2.6873742667211546,-2.6872426997888423,-2.686443921268755,-2.686443921268755,-2.6828199051020025,-2.6823842253066905,-2.682082885592094,-2.681766026203719,-2.681267778915127,-2.6810816896025944,-2.6810816896025944,-2.68062671153148,-2.677795339647225,-2.6760605368279777,-2.6756066674419023,-2.6756066674419023,-2.67499617757648,-2.6748381105774843,-2.674436981724539,-2.6743621525560237,-2.6735490006543245,-2.6734817288735804,-2.6734150483229673,-2.673076167501932,-2.673076167501932,-2.6729506295298564,-2.6728748723986606,-2.672753025183688,-2.672753025183688,-2.672692917065092,-2.672692917065092,-2.6723880149260073,-2.6710959396377745,-2.6708613118792424,-2.6708613118792424,-2.6705956215889173,-2.6705956215889173,-2.670298155460139,-2.6700213730850546,-2.6700213730850546,-2.6700213730850546,-2.6699368309747773,-2.6697651685485164,-2.669529352379633,-2.6692809336812586,-2.6690883153577802,-2.6690883153577802,-2.668833020063404,-2.6686674956735854,-2.668529095208851,-2.6682916016969256,-2.6683601424036127,-2.668436830230339,-2.6684672074303584,-2.668886722807475,-2.6689161731217967,-2.6690481111787783,-2.6689729534560307,-2.6692233143846757,-2.669931192019898,-2.669931192019898,-2.669931192019898,-2.670097586186118,-2.6705301178341982,-2.6705301178341982,-2.6709398445620702,-2.671165910704005,-2.671707236876879,-2.671865683564242,-2.672665803029707,-2.6727554688074626,-2.672937660482307,-2.672937660482307,-2.673529575850511,-2.6754161324856023,-2.675532014763141,-2.676275399253812,-2.676275399253812,-2.676928621714293,-2.677056681381545,-2.6777416214941243,-2.677875696256945,-2.678453037602847,-2.6796264661861637,-2.6796264661861637,-2.680557711108301,-2.680557711108301,-2.681367975497951,-2.681525946598736,-2.681525946598736,-2.6823669536591015,-2.6823669536591015,-2.6832336457603314,-2.6835720656044226,-2.6844738024324033,-2.686537325237554,-2.6869099511437082,-2.687900231062955,-2.689111664497956,-2.689111664497956,-2.690154636782894,-2.6918439865381005,-2.6925221224747675,-2.6927340869279233,-2.694072670084749,-2.694290688840673,-2.697072829344988,-2.6973015979224853,-2.6999773663769298,-2.702752873171621,-2.704553849121464,-2.705624418544218,-2.7069658058611035,-2.707744506722164,-2.7093799365740217,-2.712727913354737,-2.713886656169628,-2.715894129255914,-2.721518761566305,-2.723049630944189,-2.7289456241754175,-2.730237788388339,-2.731848061758431,-2.735037256778162,-2.743002940716332,-2.7447082594042693,-2.7488159882750827,-2.750557890384861,-2.7547493178259628,-2.75933947730483,-2.7651142257602674,-2.765463384354235,-2.767995231397333,-2.771685112000655,-2.7735420424886064,-2.7806025502875706,-2.7835846315289583,-2.783948394993688,-2.7942792461308112,-2.79465001624775,-2.7992848718226973,-2.8082758790100963,-2.8133868103262505,-2.815764197116658,-2.817381923072715,-2.817381923072715,-2.834252663032314,-2.842762030973269,-2.8448243534510604,-2.8489615039826712,-2.851433804159917,-2.851433804159917,-2.8571947903715795,-2.8638810035933795,-2.866790359881943,-2.867193779324014,-2.880223805986499,-2.8904217830298005,-2.891748789964542,-2.908470268418051,-2.9184775188751257,-2.9215178307366916,-2.9267725861871687,-2.9289840164763636,-2.934267859922924,-2.936065477361814,-2.9364913377918294,-2.9364913377918294,-2.9391452609900544,-2.941804337457668,-2.944468575913676,-2.958300809159238,-2.9587336797481254,-2.960997666437294,-2.965972322129039,-2.97096592912247,-2.971402963731919,-2.9736888105901174,-2.976417411181183,-2.980471506708658,-2.9873898288985545,-3.004924931572297,-3.0237237917347253,-3.033180518218519,-3.0360422528511988,-3.0379883725857413,-3.0389107191842473,-3.0408614269370657,-3.0699716258241683,-3.0738710261819775,-3.07683067017433,-3.07683067017433,-3.082771721652098,-3.094259353163351,-3.0972691452678927,-3.1002865012589105,-3.106343256727614,-3.108894027816263,-3.1119398204689492,-3.1246919586668036,-3.149068880393634,-3.162191020900002,-3.1680332385032237,-3.177616364826281,-3.216643019008087,-3.2265774399368348,-3.2670550419289315,-3.281932235383143,-3.2952887992681794,-3.359098528494849,-3.3961482417291067,-3.3961482417291067,-3.3967513519282635,-3.454150190267998,-3.5253279627259184,-3.6523292385580453],\"yaxis\":\"y\",\"type\":\"scatter\"}],                        {\"template\":{\"data\":{\"bar\":[{\"error_x\":{\"color\":\"#2a3f5f\"},\"error_y\":{\"color\":\"#2a3f5f\"},\"marker\":{\"line\":{\"color\":\"#E5ECF6\",\"width\":0.5},\"pattern\":{\"fillmode\":\"overlay\",\"size\":10,\"solidity\":0.2}},\"type\":\"bar\"}],\"barpolar\":[{\"marker\":{\"line\":{\"color\":\"#E5ECF6\",\"width\":0.5},\"pattern\":{\"fillmode\":\"overlay\",\"size\":10,\"solidity\":0.2}},\"type\":\"barpolar\"}],\"carpet\":[{\"aaxis\":{\"endlinecolor\":\"#2a3f5f\",\"gridcolor\":\"white\",\"linecolor\":\"white\",\"minorgridcolor\":\"white\",\"startlinecolor\":\"#2a3f5f\"},\"baxis\":{\"endlinecolor\":\"#2a3f5f\",\"gridcolor\":\"white\",\"linecolor\":\"white\",\"minorgridcolor\":\"white\",\"startlinecolor\":\"#2a3f5f\"},\"type\":\"carpet\"}],\"choropleth\":[{\"colorbar\":{\"outlinewidth\":0,\"ticks\":\"\"},\"type\":\"choropleth\"}],\"contour\":[{\"colorbar\":{\"outlinewidth\":0,\"ticks\":\"\"},\"colorscale\":[[0.0,\"#0d0887\"],[0.1111111111111111,\"#46039f\"],[0.2222222222222222,\"#7201a8\"],[0.3333333333333333,\"#9c179e\"],[0.4444444444444444,\"#bd3786\"],[0.5555555555555556,\"#d8576b\"],[0.6666666666666666,\"#ed7953\"],[0.7777777777777778,\"#fb9f3a\"],[0.8888888888888888,\"#fdca26\"],[1.0,\"#f0f921\"]],\"type\":\"contour\"}],\"contourcarpet\":[{\"colorbar\":{\"outlinewidth\":0,\"ticks\":\"\"},\"type\":\"contourcarpet\"}],\"heatmap\":[{\"colorbar\":{\"outlinewidth\":0,\"ticks\":\"\"},\"colorscale\":[[0.0,\"#0d0887\"],[0.1111111111111111,\"#46039f\"],[0.2222222222222222,\"#7201a8\"],[0.3333333333333333,\"#9c179e\"],[0.4444444444444444,\"#bd3786\"],[0.5555555555555556,\"#d8576b\"],[0.6666666666666666,\"#ed7953\"],[0.7777777777777778,\"#fb9f3a\"],[0.8888888888888888,\"#fdca26\"],[1.0,\"#f0f921\"]],\"type\":\"heatmap\"}],\"heatmapgl\":[{\"colorbar\":{\"outlinewidth\":0,\"ticks\":\"\"},\"colorscale\":[[0.0,\"#0d0887\"],[0.1111111111111111,\"#46039f\"],[0.2222222222222222,\"#7201a8\"],[0.3333333333333333,\"#9c179e\"],[0.4444444444444444,\"#bd3786\"],[0.5555555555555556,\"#d8576b\"],[0.6666666666666666,\"#ed7953\"],[0.7777777777777778,\"#fb9f3a\"],[0.8888888888888888,\"#fdca26\"],[1.0,\"#f0f921\"]],\"type\":\"heatmapgl\"}],\"histogram\":[{\"marker\":{\"pattern\":{\"fillmode\":\"overlay\",\"size\":10,\"solidity\":0.2}},\"type\":\"histogram\"}],\"histogram2d\":[{\"colorbar\":{\"outlinewidth\":0,\"ticks\":\"\"},\"colorscale\":[[0.0,\"#0d0887\"],[0.1111111111111111,\"#46039f\"],[0.2222222222222222,\"#7201a8\"],[0.3333333333333333,\"#9c179e\"],[0.4444444444444444,\"#bd3786\"],[0.5555555555555556,\"#d8576b\"],[0.6666666666666666,\"#ed7953\"],[0.7777777777777778,\"#fb9f3a\"],[0.8888888888888888,\"#fdca26\"],[1.0,\"#f0f921\"]],\"type\":\"histogram2d\"}],\"histogram2dcontour\":[{\"colorbar\":{\"outlinewidth\":0,\"ticks\":\"\"},\"colorscale\":[[0.0,\"#0d0887\"],[0.1111111111111111,\"#46039f\"],[0.2222222222222222,\"#7201a8\"],[0.3333333333333333,\"#9c179e\"],[0.4444444444444444,\"#bd3786\"],[0.5555555555555556,\"#d8576b\"],[0.6666666666666666,\"#ed7953\"],[0.7777777777777778,\"#fb9f3a\"],[0.8888888888888888,\"#fdca26\"],[1.0,\"#f0f921\"]],\"type\":\"histogram2dcontour\"}],\"mesh3d\":[{\"colorbar\":{\"outlinewidth\":0,\"ticks\":\"\"},\"type\":\"mesh3d\"}],\"parcoords\":[{\"line\":{\"colorbar\":{\"outlinewidth\":0,\"ticks\":\"\"}},\"type\":\"parcoords\"}],\"pie\":[{\"automargin\":true,\"type\":\"pie\"}],\"scatter\":[{\"marker\":{\"colorbar\":{\"outlinewidth\":0,\"ticks\":\"\"}},\"type\":\"scatter\"}],\"scatter3d\":[{\"line\":{\"colorbar\":{\"outlinewidth\":0,\"ticks\":\"\"}},\"marker\":{\"colorbar\":{\"outlinewidth\":0,\"ticks\":\"\"}},\"type\":\"scatter3d\"}],\"scattercarpet\":[{\"marker\":{\"colorbar\":{\"outlinewidth\":0,\"ticks\":\"\"}},\"type\":\"scattercarpet\"}],\"scattergeo\":[{\"marker\":{\"colorbar\":{\"outlinewidth\":0,\"ticks\":\"\"}},\"type\":\"scattergeo\"}],\"scattergl\":[{\"marker\":{\"colorbar\":{\"outlinewidth\":0,\"ticks\":\"\"}},\"type\":\"scattergl\"}],\"scattermapbox\":[{\"marker\":{\"colorbar\":{\"outlinewidth\":0,\"ticks\":\"\"}},\"type\":\"scattermapbox\"}],\"scatterpolar\":[{\"marker\":{\"colorbar\":{\"outlinewidth\":0,\"ticks\":\"\"}},\"type\":\"scatterpolar\"}],\"scatterpolargl\":[{\"marker\":{\"colorbar\":{\"outlinewidth\":0,\"ticks\":\"\"}},\"type\":\"scatterpolargl\"}],\"scatterternary\":[{\"marker\":{\"colorbar\":{\"outlinewidth\":0,\"ticks\":\"\"}},\"type\":\"scatterternary\"}],\"surface\":[{\"colorbar\":{\"outlinewidth\":0,\"ticks\":\"\"},\"colorscale\":[[0.0,\"#0d0887\"],[0.1111111111111111,\"#46039f\"],[0.2222222222222222,\"#7201a8\"],[0.3333333333333333,\"#9c179e\"],[0.4444444444444444,\"#bd3786\"],[0.5555555555555556,\"#d8576b\"],[0.6666666666666666,\"#ed7953\"],[0.7777777777777778,\"#fb9f3a\"],[0.8888888888888888,\"#fdca26\"],[1.0,\"#f0f921\"]],\"type\":\"surface\"}],\"table\":[{\"cells\":{\"fill\":{\"color\":\"#EBF0F8\"},\"line\":{\"color\":\"white\"}},\"header\":{\"fill\":{\"color\":\"#C8D4E3\"},\"line\":{\"color\":\"white\"}},\"type\":\"table\"}]},\"layout\":{\"annotationdefaults\":{\"arrowcolor\":\"#2a3f5f\",\"arrowhead\":0,\"arrowwidth\":1},\"autotypenumbers\":\"strict\",\"coloraxis\":{\"colorbar\":{\"outlinewidth\":0,\"ticks\":\"\"}},\"colorscale\":{\"diverging\":[[0,\"#8e0152\"],[0.1,\"#c51b7d\"],[0.2,\"#de77ae\"],[0.3,\"#f1b6da\"],[0.4,\"#fde0ef\"],[0.5,\"#f7f7f7\"],[0.6,\"#e6f5d0\"],[0.7,\"#b8e186\"],[0.8,\"#7fbc41\"],[0.9,\"#4d9221\"],[1,\"#276419\"]],\"sequential\":[[0.0,\"#0d0887\"],[0.1111111111111111,\"#46039f\"],[0.2222222222222222,\"#7201a8\"],[0.3333333333333333,\"#9c179e\"],[0.4444444444444444,\"#bd3786\"],[0.5555555555555556,\"#d8576b\"],[0.6666666666666666,\"#ed7953\"],[0.7777777777777778,\"#fb9f3a\"],[0.8888888888888888,\"#fdca26\"],[1.0,\"#f0f921\"]],\"sequentialminus\":[[0.0,\"#0d0887\"],[0.1111111111111111,\"#46039f\"],[0.2222222222222222,\"#7201a8\"],[0.3333333333333333,\"#9c179e\"],[0.4444444444444444,\"#bd3786\"],[0.5555555555555556,\"#d8576b\"],[0.6666666666666666,\"#ed7953\"],[0.7777777777777778,\"#fb9f3a\"],[0.8888888888888888,\"#fdca26\"],[1.0,\"#f0f921\"]]},\"colorway\":[\"#636efa\",\"#EF553B\",\"#00cc96\",\"#ab63fa\",\"#FFA15A\",\"#19d3f3\",\"#FF6692\",\"#B6E880\",\"#FF97FF\",\"#FECB52\"],\"font\":{\"color\":\"#2a3f5f\"},\"geo\":{\"bgcolor\":\"white\",\"lakecolor\":\"white\",\"landcolor\":\"#E5ECF6\",\"showlakes\":true,\"showland\":true,\"subunitcolor\":\"white\"},\"hoverlabel\":{\"align\":\"left\"},\"hovermode\":\"closest\",\"mapbox\":{\"style\":\"light\"},\"paper_bgcolor\":\"white\",\"plot_bgcolor\":\"#E5ECF6\",\"polar\":{\"angularaxis\":{\"gridcolor\":\"white\",\"linecolor\":\"white\",\"ticks\":\"\"},\"bgcolor\":\"#E5ECF6\",\"radialaxis\":{\"gridcolor\":\"white\",\"linecolor\":\"white\",\"ticks\":\"\"}},\"scene\":{\"xaxis\":{\"backgroundcolor\":\"#E5ECF6\",\"gridcolor\":\"white\",\"gridwidth\":2,\"linecolor\":\"white\",\"showbackground\":true,\"ticks\":\"\",\"zerolinecolor\":\"white\"},\"yaxis\":{\"backgroundcolor\":\"#E5ECF6\",\"gridcolor\":\"white\",\"gridwidth\":2,\"linecolor\":\"white\",\"showbackground\":true,\"ticks\":\"\",\"zerolinecolor\":\"white\"},\"zaxis\":{\"backgroundcolor\":\"#E5ECF6\",\"gridcolor\":\"white\",\"gridwidth\":2,\"linecolor\":\"white\",\"showbackground\":true,\"ticks\":\"\",\"zerolinecolor\":\"white\"}},\"shapedefaults\":{\"line\":{\"color\":\"#2a3f5f\"}},\"ternary\":{\"aaxis\":{\"gridcolor\":\"white\",\"linecolor\":\"white\",\"ticks\":\"\"},\"baxis\":{\"gridcolor\":\"white\",\"linecolor\":\"white\",\"ticks\":\"\"},\"bgcolor\":\"#E5ECF6\",\"caxis\":{\"gridcolor\":\"white\",\"linecolor\":\"white\",\"ticks\":\"\"}},\"title\":{\"x\":0.05},\"xaxis\":{\"automargin\":true,\"gridcolor\":\"white\",\"linecolor\":\"white\",\"ticks\":\"\",\"title\":{\"standoff\":15},\"zerolinecolor\":\"white\",\"zerolinewidth\":2},\"yaxis\":{\"automargin\":true,\"gridcolor\":\"white\",\"linecolor\":\"white\",\"ticks\":\"\",\"title\":{\"standoff\":15},\"zerolinecolor\":\"white\",\"zerolinewidth\":2}}},\"xaxis\":{\"anchor\":\"y\",\"domain\":[0.0,1.0],\"title\":{\"text\":\"Predicted prices\"}},\"yaxis\":{\"anchor\":\"x\",\"domain\":[0.0,1.0],\"title\":{\"text\":\"Residuals\"}},\"legend\":{\"tracegroupgap\":0},\"margin\":{\"t\":60}},                        {\"responsive\": true}                    ).then(function(){\n",
              "                            \n",
              "var gd = document.getElementById('cdc1458a-4c66-4abb-a57d-a005ae0df362');\n",
              "var x = new MutationObserver(function (mutations, observer) {{\n",
              "        var display = window.getComputedStyle(gd).display;\n",
              "        if (!display || display === 'none') {{\n",
              "            console.log([gd, 'removed!']);\n",
              "            Plotly.purge(gd);\n",
              "            observer.disconnect();\n",
              "        }}\n",
              "}});\n",
              "\n",
              "// Listen for the removal of the full notebook cells\n",
              "var notebookContainer = gd.closest('#notebook-container');\n",
              "if (notebookContainer) {{\n",
              "    x.observe(notebookContainer, {childList: true});\n",
              "}}\n",
              "\n",
              "// Listen for the clearing of the current output cell\n",
              "var outputEl = gd.closest('.output');\n",
              "if (outputEl) {{\n",
              "    x.observe(outputEl, {childList: true});\n",
              "}}\n",
              "\n",
              "                        })                };                            </script>        </div>\n",
              "</body>\n",
              "</html>"
            ]
          },
          "metadata": {}
        }
      ]
    },
    {
      "cell_type": "markdown",
      "metadata": {
        "id": "YWNeoqPLpjVb"
      },
      "source": [
        "# Use Your Model to Make a Prediction\n",
        "\n",
        "How much can someone with a bachelors degree (12 + 4) years of schooling and 5 years work experience expect to earn in 2011?"
      ]
    },
    {
      "cell_type": "code",
      "metadata": {
        "id": "Mof-14lCpv60",
        "colab": {
          "base_uri": "https://localhost:8080/"
        },
        "outputId": "ed0ca9e3-e067-4a63-c8c8-13fb1936a08e"
      },
      "source": [
        "earnings_est = regression2.predict([[16, 5]])[0]\n",
        "print(f'The earnings estimate is ${earnings_est:.3}')"
      ],
      "execution_count": null,
      "outputs": [
        {
          "output_type": "stream",
          "name": "stdout",
          "text": [
            "The log price estimate is $20.0\n"
          ]
        },
        {
          "output_type": "stream",
          "name": "stderr",
          "text": [
            "/usr/local/lib/python3.8/dist-packages/sklearn/base.py:450: UserWarning:\n",
            "\n",
            "X does not have valid feature names, but LinearRegression was fitted with feature names\n",
            "\n"
          ]
        }
      ]
    },
    {
      "cell_type": "markdown",
      "metadata": {
        "id": "TIYI-eQepDSQ"
      },
      "source": [
        "# Experiment and Investigate Further\n",
        "\n",
        "Which other features could you consider adding to further improve the regression to better predict earnings?"
      ]
    },
    {
      "cell_type": "code",
      "metadata": {
        "id": "sd07-pKopJgo",
        "colab": {
          "base_uri": "https://localhost:8080/"
        },
        "outputId": "71a6c43c-9a02-4857-9ac6-75670ff0731f"
      },
      "source": [
        "X3=df_clean2.drop('EARNINGS', axis=1)\n",
        "y3=df_clean2['EARNINGS']\n",
        "X_train3, X_test3, y_train3, y_test3 = train_test_split(X3,y3, random_state=10,test_size=0.2, shuffle=True)\n",
        "regression3 = LinearRegression()\n",
        "regression3.fit(X_train3, y_train3)\n",
        "print(f'The intercept is: {regression3.intercept_}')\n",
        "print(f'The slope coefficient is: {regression3.coef_}')\n",
        "print(f'The r-squared is: {regression3.score(X3, y3)}')"
      ],
      "execution_count": null,
      "outputs": [
        {
          "output_type": "stream",
          "name": "stdout",
          "text": [
            "The intercept is: 27838.117071489833\n",
            "The slope coefficient is: [-1.17597640e-05  8.32829291e-01  6.42620709e-01 -6.47779892e+00\n",
            " -3.44065153e+00 -1.44419745e+01 -1.47442172e+01  1.10649883e-05\n",
            " -1.07659404e-01 -1.41601804e+00 -2.27611837e+00 -1.18710532e+00\n",
            " -3.30038445e+00  1.76048608e+00  6.61331655e-01  2.36736986e+00\n",
            "  1.94719821e+00  1.78449206e+00 -1.82615304e+00  6.11364442e-01\n",
            " -1.33311414e+00  1.38004337e+01  3.25273448e+00 -2.52834776e+00\n",
            " -5.18982626e+00 -6.58797596e+00 -7.31716020e+00 -8.73523058e+00\n",
            " -5.56333497e+00 -1.84100949e+00 -2.04723155e-02 -1.61918269e+00\n",
            " -1.93290354e+00  5.05572435e+00  6.10779626e+00  5.62231362e+00\n",
            "  5.28668030e+00  6.11504090e+00  5.97967848e+00 -1.58428097e+06\n",
            "  1.72379581e+06  1.72379600e+06  6.02385651e+05  2.63798645e-01\n",
            " -6.59112769e-01  3.97885794e+06 -2.15267711e+06 -4.15308526e+06\n",
            "  6.00321131e-05  1.34575577e-01 -1.08553384e-02 -1.20820913e-02\n",
            " -1.39768036e-02  2.42013117e-01 -3.87317916e-02 -1.56566451e+00\n",
            " -7.63849970e-01 -9.32176783e-01 -2.87078555e+00 -2.13692996e+00\n",
            " -1.10998408e+00 -6.69794081e-03  5.37192377e-02  5.54707568e-01\n",
            "  1.26863880e+00  3.19177315e+00  8.92692152e-01  4.97946236e-01\n",
            "  6.51816514e+00  5.31813672e+00 -1.07239136e-01 -2.05010826e+00\n",
            " -4.66343185e+00 -2.41594486e+00 -7.59170433e-02 -3.29184165e+00\n",
            " -3.87602103e+00 -3.09362143e+00  7.38565415e+00  0.00000000e+00]\n",
            "The r-squared is: 0.28461058481417256\n"
          ]
        }
      ]
    }
  ]
}