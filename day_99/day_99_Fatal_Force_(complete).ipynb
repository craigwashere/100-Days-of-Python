{
  "nbformat": 4,
  "nbformat_minor": 0,
  "metadata": {
    "kernelspec": {
      "display_name": "Python 3",
      "language": "python",
      "name": "python3"
    },
    "language_info": {
      "codemirror_mode": {
        "name": "ipython",
        "version": 3
      },
      "file_extension": ".py",
      "mimetype": "text/x-python",
      "name": "python",
      "nbconvert_exporter": "python",
      "pygments_lexer": "ipython3",
      "version": "3.7.9"
    },
    "colab": {
      "provenance": []
    }
  },
  "cells": [
    {
      "cell_type": "markdown",
      "metadata": {
        "id": "0KrR-Qd_wXf-"
      },
      "source": [
        "# Introduction"
      ]
    },
    {
      "cell_type": "markdown",
      "metadata": {
        "id": "I6e2m4XsuRoL"
      },
      "source": [
        "Since Jan. 1, 2015, [The Washington Post](https://www.washingtonpost.com/) has been compiling a database of every fatal shooting in the US by a police officer in the line of duty.\n",
        "\n",
        "<center><img src=https://i.imgur.com/sX3K62b.png></center>\n",
        "\n",
        "While there are many challenges regarding data collection and reporting, The Washington Post has been tracking more than a dozen details about each killing. This includes the race, age and gender of the deceased, whether the person was armed, and whether the victim was experiencing a mental-health crisis. The Washington Post has gathered this supplemental information from law enforcement websites, local new reports, social media, and by monitoring independent databases such as \"Killed by police\" and \"Fatal Encounters\". The Post has also conducted additional reporting in many cases.\n",
        "\n",
        "There are 4 additional datasets: US census data on poverty rate, high school graduation rate, median household income, and racial demographics. [Source of census data](https://factfinder.census.gov/faces/nav/jsf/pages/community_facts.xhtml)."
      ]
    },
    {
      "cell_type": "markdown",
      "metadata": {
        "id": "JwGJl3mnw2Af"
      },
      "source": [
        "### Upgrade Plotly\n",
        "\n",
        "Run the cell below if you are working with Google Colab"
      ]
    },
    {
      "cell_type": "code",
      "metadata": {
        "id": "KvA9PBoRwvQG",
        "outputId": "aa7f53f2-700f-4e7b-f01a-d7685ecec685",
        "colab": {
          "base_uri": "https://localhost:8080/"
        }
      },
      "source": [
        "%pip install --upgrade plotly"
      ],
      "execution_count": null,
      "outputs": [
        {
          "output_type": "stream",
          "name": "stdout",
          "text": [
            "Looking in indexes: https://pypi.org/simple, https://us-python.pkg.dev/colab-wheels/public/simple/\n",
            "Requirement already satisfied: plotly in /usr/local/lib/python3.8/dist-packages (5.5.0)\n",
            "Collecting plotly\n",
            "  Downloading plotly-5.11.0-py2.py3-none-any.whl (15.3 MB)\n",
            "\u001b[K     |████████████████████████████████| 15.3 MB 4.9 MB/s \n",
            "\u001b[?25hRequirement already satisfied: tenacity>=6.2.0 in /usr/local/lib/python3.8/dist-packages (from plotly) (8.1.0)\n",
            "Installing collected packages: plotly\n",
            "  Attempting uninstall: plotly\n",
            "    Found existing installation: plotly 5.5.0\n",
            "    Uninstalling plotly-5.5.0:\n",
            "      Successfully uninstalled plotly-5.5.0\n",
            "Successfully installed plotly-5.11.0\n"
          ]
        }
      ]
    },
    {
      "cell_type": "markdown",
      "metadata": {
        "id": "jqXsMLNJxELp"
      },
      "source": [
        "## Import Statements"
      ]
    },
    {
      "cell_type": "code",
      "metadata": {
        "id": "TPhEXC2FxGSr"
      },
      "source": [
        "import numpy as np\n",
        "import pandas as pd\n",
        "import plotly.express as px\n",
        "import matplotlib.pyplot as plt\n",
        "import seaborn as sns\n",
        "\n",
        "# This might be helpful:\n",
        "from collections import Counter"
      ],
      "execution_count": null,
      "outputs": []
    },
    {
      "cell_type": "markdown",
      "metadata": {
        "id": "SwKGmmaLxS2s"
      },
      "source": [
        "## Notebook Presentation"
      ]
    },
    {
      "cell_type": "code",
      "metadata": {
        "id": "ayQQqhKtxBxj"
      },
      "source": [
        "pd.options.display.float_format = '{:,.2f}'.format"
      ],
      "execution_count": null,
      "outputs": []
    },
    {
      "cell_type": "markdown",
      "metadata": {
        "id": "nKxJMOiMyAUF"
      },
      "source": [
        "## Load the Data"
      ]
    },
    {
      "cell_type": "code",
      "metadata": {
        "_cell_guid": "abb0685f-f844-43f8-84c0-4cd54361c7bf",
        "_uuid": "9c06ed7c41db79ae9d940f2d52aeff23621b3037",
        "id": "8KmGeg6ouRoP"
      },
      "source": [
        "df_hh_income = pd.read_csv('Median_Household_Income_2015.csv', encoding=\"windows-1252\")\n",
        "df_pct_poverty = pd.read_csv('Pct_People_Below_Poverty_Level.csv', encoding=\"windows-1252\")\n",
        "df_pct_completed_hs = pd.read_csv('Pct_Over_25_Completed_High_School.csv', encoding=\"windows-1252\")\n",
        "df_share_race_city = pd.read_csv('Share_of_Race_By_City.csv', encoding=\"windows-1252\")\n",
        "df_fatalities = pd.read_csv('Deaths_by_Police_US.csv', encoding=\"windows-1252\")"
      ],
      "execution_count": null,
      "outputs": []
    },
    {
      "cell_type": "markdown",
      "metadata": {
        "id": "6RuA5SvUyEaB"
      },
      "source": [
        "# Preliminary Data Exploration\n",
        "\n",
        "* What is the shape of the DataFrames?\n",
        "* How many rows and columns do they have?\n",
        "* What are the column names?\n",
        "* Are there any NaN values or duplicates?"
      ]
    },
    {
      "cell_type": "code",
      "metadata": {
        "id": "3U9RcS1WyrRJ",
        "colab": {
          "base_uri": "https://localhost:8080/"
        },
        "outputId": "e32fd4d7-9f6f-416f-d8d6-9680e1dfe4e7"
      },
      "source": [
        "print(f'Shape of df_hh_income: {df_hh_income.shape}')\n",
        "print(f'Shape of df_pct_poverty: {df_pct_poverty.shape}')\n",
        "print(f'Shape of df_pct_completed_hs: {df_pct_completed_hs.shape}')\n",
        "print(f'Shape of df_share_race_city: {df_share_race_city.shape}')\n",
        "print(f'Shape of df_fatalities: {df_fatalities.shape}')"
      ],
      "execution_count": null,
      "outputs": [
        {
          "output_type": "stream",
          "name": "stdout",
          "text": [
            "Shape of df_hh_income: (29322, 3)\n",
            "Shape of df_pct_poverty: (29329, 3)\n",
            "Shape of df_pct_completed_hs: (29329, 3)\n",
            "Shape of df_share_race_city: (29268, 7)\n",
            "Shape of df_fatalities: (2535, 14)\n"
          ]
        }
      ]
    },
    {
      "cell_type": "code",
      "source": [
        "print(f'df_hh_income columns: {df_hh_income.columns}')\n",
        "print(f'df_pct_poverty columns: {df_pct_poverty.columns}')\n",
        "print(f'df_pct_completed_hs columns: {df_pct_completed_hs.columns}')\n",
        "print(f'df_share_race_city columns: {df_share_race_city.columns}')\n",
        "print(f'df_fatalities columns: {df_fatalities.isnull().columns}')"
      ],
      "metadata": {
        "colab": {
          "base_uri": "https://localhost:8080/"
        },
        "id": "viPqkdsiXph5",
        "outputId": "b5fa7aff-a82c-4d8e-b405-f79482214de2"
      },
      "execution_count": null,
      "outputs": [
        {
          "output_type": "stream",
          "name": "stdout",
          "text": [
            "df_hh_income columns: Index(['Geographic Area', 'City', 'Median Income'], dtype='object')\n",
            "df_pct_poverty columns: Index(['Geographic Area', 'City', 'poverty_rate'], dtype='object')\n",
            "df_pct_completed_hs columns: Index(['Geographic Area', 'City', 'percent_completed_hs'], dtype='object')\n",
            "df_share_race_city columns: Index(['Geographic area', 'City', 'share_white', 'share_black',\n",
            "       'share_native_american', 'share_asian', 'share_hispanic'],\n",
            "      dtype='object')\n",
            "df_fatalities columns: Index(['id', 'name', 'date', 'manner_of_death', 'armed', 'age', 'gender',\n",
            "       'race', 'city', 'state', 'signs_of_mental_illness', 'threat_level',\n",
            "       'flee', 'body_camera'],\n",
            "      dtype='object')\n"
          ]
        }
      ]
    },
    {
      "cell_type": "code",
      "metadata": {
        "id": "DmIARadGyrgs",
        "colab": {
          "base_uri": "https://localhost:8080/"
        },
        "outputId": "bee466a9-3b46-4dbe-b9e6-c12ed574ea2a"
      },
      "source": [
        "print(f'df_hh_income number of NaN: {df_hh_income.isnull().sum().sum()}')\n",
        "print(f'df_pct_poverty number of NaN: {df_pct_poverty.isnull().sum().sum()}')\n",
        "print(f'df_pct_completed_hs number of NaN: {df_pct_completed_hs.isnull().sum().sum()}')\n",
        "print(f'df_share_race_city number of NaN: {df_share_race_city.isnull().sum().sum()}')\n",
        "print(f'df_fatalities number of NaN: {df_fatalities.isnull().sum().sum()}')"
      ],
      "execution_count": null,
      "outputs": [
        {
          "output_type": "stream",
          "name": "stdout",
          "text": [
            "df_hh_income number of NaN: 51\n",
            "df_pct_poverty number of NaN: 0\n",
            "df_pct_completed_hs number of NaN: 0\n",
            "df_share_race_city number of NaN: 0\n",
            "df_fatalities number of NaN: 346\n"
          ]
        }
      ]
    },
    {
      "cell_type": "markdown",
      "metadata": {
        "id": "p72TfMvayr2C"
      },
      "source": [
        "## Data Cleaning - Check for Missing Values and Duplicates\n",
        "\n",
        "Consider how to deal with the NaN values. Perhaps substituting 0 is appropriate."
      ]
    },
    {
      "cell_type": "code",
      "metadata": {
        "id": "WEZuPaXvyxxp",
        "colab": {
          "base_uri": "https://localhost:8080/"
        },
        "outputId": "674affd4-d9a7-4ea3-e61f-fb95c8c38b28"
      },
      "source": [
        "for column in df_fatalities.columns.tolist():\n",
        "  print(f'{column} has NaN: {df_fatalities[column].isnull().sum()}')"
      ],
      "execution_count": null,
      "outputs": [
        {
          "output_type": "stream",
          "name": "stdout",
          "text": [
            "id has NaN: 0\n",
            "name has NaN: 0\n",
            "date has NaN: 0\n",
            "manner_of_death has NaN: 0\n",
            "armed has NaN: 9\n",
            "age has NaN: 77\n",
            "gender has NaN: 0\n",
            "race has NaN: 195\n",
            "city has NaN: 0\n",
            "state has NaN: 0\n",
            "signs_of_mental_illness has NaN: 0\n",
            "threat_level has NaN: 0\n",
            "flee has NaN: 65\n",
            "body_camera has NaN: 0\n"
          ]
        }
      ]
    },
    {
      "cell_type": "code",
      "metadata": {
        "id": "550aSczryx01",
        "colab": {
          "base_uri": "https://localhost:8080/"
        },
        "outputId": "d2b9e780-3073-476b-99b1-88749eb901f9"
      },
      "source": [
        "for column in df_hh_income.columns.tolist():\n",
        "  print(f'{column} has NaN: {df_hh_income[column].isnull().sum()}')"
      ],
      "execution_count": null,
      "outputs": [
        {
          "output_type": "stream",
          "name": "stdout",
          "text": [
            "Geographic Area has NaN: 0\n",
            "City has NaN: 0\n",
            "Median Income has NaN: 51\n"
          ]
        }
      ]
    },
    {
      "cell_type": "code",
      "source": [
        "df_hh_income.dropna(inplace=True)"
      ],
      "metadata": {
        "id": "j3SPv_Rgbp46"
      },
      "execution_count": null,
      "outputs": []
    },
    {
      "cell_type": "markdown",
      "metadata": {
        "_uuid": "52b308c936f5835c5cd186497fe3f96e96372483",
        "id": "n3DrcXVQuRoZ"
      },
      "source": [
        "# Chart the Poverty Rate in each US State\n",
        "\n",
        "Create a bar chart that ranks the poverty rate from highest to lowest by US state. Which state has the highest poverty rate? Which state has the lowest poverty rate?  Bar Plot"
      ]
    },
    {
      "cell_type": "code",
      "source": [
        "index_to_drop = df_pct_poverty[ (df_pct_poverty['poverty_rate'] == '-') ].index\n",
        "df_pct_poverty.drop(index_to_drop , inplace=True)\n",
        "df_pct_poverty['poverty_rate'] = df_pct_poverty['poverty_rate'].astype(float)\n",
        "state_poverty = df_pct_poverty.groupby('Geographic Area')['poverty_rate'].mean()\n",
        "state_poverty.sort_values(ascending=False, inplace=True)"
      ],
      "metadata": {
        "id": "_5Bhdo6TeMFX"
      },
      "execution_count": null,
      "outputs": []
    },
    {
      "cell_type": "code",
      "source": [
        "fig = px.bar(state_poverty, title='Poverty Rate in each US State', labels={'value': 'Mean Poverty %', 'Geographic Area': 'State'})\n",
        "fig.show()"
      ],
      "metadata": {
        "colab": {
          "base_uri": "https://localhost:8080/",
          "height": 542
        },
        "id": "p7ikR9lPflla",
        "outputId": "86bf0a6f-94bb-4bba-e249-365fb0d0632b"
      },
      "execution_count": null,
      "outputs": [
        {
          "output_type": "display_data",
          "data": {
            "text/html": [
              "<html>\n",
              "<head><meta charset=\"utf-8\" /></head>\n",
              "<body>\n",
              "    <div>            <script src=\"https://cdnjs.cloudflare.com/ajax/libs/mathjax/2.7.5/MathJax.js?config=TeX-AMS-MML_SVG\"></script><script type=\"text/javascript\">if (window.MathJax && window.MathJax.Hub && window.MathJax.Hub.Config) {window.MathJax.Hub.Config({SVG: {font: \"STIX-Web\"}});}</script>                <script type=\"text/javascript\">window.PlotlyConfig = {MathJaxConfig: 'local'};</script>\n",
              "        <script src=\"https://cdn.plot.ly/plotly-2.16.1.min.js\"></script>                <div id=\"b96cef80-123b-43ca-ae4d-5501aba585f7\" class=\"plotly-graph-div\" style=\"height:525px; width:100%;\"></div>            <script type=\"text/javascript\">                                    window.PLOTLYENV=window.PLOTLYENV || {};                                    if (document.getElementById(\"b96cef80-123b-43ca-ae4d-5501aba585f7\")) {                    Plotly.newPlot(                        \"b96cef80-123b-43ca-ae4d-5501aba585f7\",                        [{\"alignmentgroup\":\"True\",\"hovertemplate\":\"variable=poverty_rate<br>State=%{x}<br>Mean Poverty %=%{y}<extra></extra>\",\"legendgroup\":\"poverty_rate\",\"marker\":{\"color\":\"#636efa\",\"pattern\":{\"shape\":\"\"}},\"name\":\"poverty_rate\",\"offsetgroup\":\"poverty_rate\",\"orientation\":\"v\",\"showlegend\":true,\"textposition\":\"auto\",\"x\":[\"MS\",\"AZ\",\"GA\",\"NM\",\"AR\",\"LA\",\"SC\",\"WV\",\"OK\",\"AL\",\"MO\",\"KY\",\"TX\",\"TN\",\"AK\",\"NC\",\"ID\",\"DC\",\"MI\",\"FL\",\"CA\",\"ME\",\"OR\",\"MT\",\"SD\",\"IN\",\"WA\",\"OH\",\"KS\",\"VA\",\"IL\",\"VT\",\"MN\",\"HI\",\"CO\",\"NE\",\"WI\",\"NH\",\"DE\",\"PA\",\"NV\",\"IA\",\"ND\",\"UT\",\"NY\",\"RI\",\"MD\",\"WY\",\"MA\",\"CT\",\"NJ\"],\"xaxis\":\"x\",\"y\":[26.88425414364641,25.666441441441442,23.777403846153845,23.080787037037037,22.963216266173752,22.33890063424947,22.161518987341772,21.134405940594057,20.657104194857915,20.64708904109589,20.105859375,20.080000000000002,19.918070175438597,19.88720930232558,19.852994011976048,19.74728997289973,18.23688888888889,18.0,17.9007225433526,17.56601092896175,17.12465023317788,16.89384615384615,16.523466666666668,16.513774104683197,16.032291666666666,15.49985294117647,15.017609046849756,14.851112943116242,14.762985074626867,14.5858347386172,13.879780219780221,13.785950413223139,13.745736434108526,13.400662251655628,13.36283185840708,12.984575389948008,12.85868725868726,12.65979381443299,12.555844155844156,12.515585893060297,12.466153846153846,12.292522432701894,12.162249999999998,11.982704402515724,11.668231349538978,10.369444444444445,10.312209302325583,9.88770053475936,9.58530612244898,9.1375,8.19097605893186],\"yaxis\":\"y\",\"type\":\"bar\"}],                        {\"template\":{\"data\":{\"histogram2dcontour\":[{\"type\":\"histogram2dcontour\",\"colorbar\":{\"outlinewidth\":0,\"ticks\":\"\"},\"colorscale\":[[0.0,\"#0d0887\"],[0.1111111111111111,\"#46039f\"],[0.2222222222222222,\"#7201a8\"],[0.3333333333333333,\"#9c179e\"],[0.4444444444444444,\"#bd3786\"],[0.5555555555555556,\"#d8576b\"],[0.6666666666666666,\"#ed7953\"],[0.7777777777777778,\"#fb9f3a\"],[0.8888888888888888,\"#fdca26\"],[1.0,\"#f0f921\"]]}],\"choropleth\":[{\"type\":\"choropleth\",\"colorbar\":{\"outlinewidth\":0,\"ticks\":\"\"}}],\"histogram2d\":[{\"type\":\"histogram2d\",\"colorbar\":{\"outlinewidth\":0,\"ticks\":\"\"},\"colorscale\":[[0.0,\"#0d0887\"],[0.1111111111111111,\"#46039f\"],[0.2222222222222222,\"#7201a8\"],[0.3333333333333333,\"#9c179e\"],[0.4444444444444444,\"#bd3786\"],[0.5555555555555556,\"#d8576b\"],[0.6666666666666666,\"#ed7953\"],[0.7777777777777778,\"#fb9f3a\"],[0.8888888888888888,\"#fdca26\"],[1.0,\"#f0f921\"]]}],\"heatmap\":[{\"type\":\"heatmap\",\"colorbar\":{\"outlinewidth\":0,\"ticks\":\"\"},\"colorscale\":[[0.0,\"#0d0887\"],[0.1111111111111111,\"#46039f\"],[0.2222222222222222,\"#7201a8\"],[0.3333333333333333,\"#9c179e\"],[0.4444444444444444,\"#bd3786\"],[0.5555555555555556,\"#d8576b\"],[0.6666666666666666,\"#ed7953\"],[0.7777777777777778,\"#fb9f3a\"],[0.8888888888888888,\"#fdca26\"],[1.0,\"#f0f921\"]]}],\"heatmapgl\":[{\"type\":\"heatmapgl\",\"colorbar\":{\"outlinewidth\":0,\"ticks\":\"\"},\"colorscale\":[[0.0,\"#0d0887\"],[0.1111111111111111,\"#46039f\"],[0.2222222222222222,\"#7201a8\"],[0.3333333333333333,\"#9c179e\"],[0.4444444444444444,\"#bd3786\"],[0.5555555555555556,\"#d8576b\"],[0.6666666666666666,\"#ed7953\"],[0.7777777777777778,\"#fb9f3a\"],[0.8888888888888888,\"#fdca26\"],[1.0,\"#f0f921\"]]}],\"contourcarpet\":[{\"type\":\"contourcarpet\",\"colorbar\":{\"outlinewidth\":0,\"ticks\":\"\"}}],\"contour\":[{\"type\":\"contour\",\"colorbar\":{\"outlinewidth\":0,\"ticks\":\"\"},\"colorscale\":[[0.0,\"#0d0887\"],[0.1111111111111111,\"#46039f\"],[0.2222222222222222,\"#7201a8\"],[0.3333333333333333,\"#9c179e\"],[0.4444444444444444,\"#bd3786\"],[0.5555555555555556,\"#d8576b\"],[0.6666666666666666,\"#ed7953\"],[0.7777777777777778,\"#fb9f3a\"],[0.8888888888888888,\"#fdca26\"],[1.0,\"#f0f921\"]]}],\"surface\":[{\"type\":\"surface\",\"colorbar\":{\"outlinewidth\":0,\"ticks\":\"\"},\"colorscale\":[[0.0,\"#0d0887\"],[0.1111111111111111,\"#46039f\"],[0.2222222222222222,\"#7201a8\"],[0.3333333333333333,\"#9c179e\"],[0.4444444444444444,\"#bd3786\"],[0.5555555555555556,\"#d8576b\"],[0.6666666666666666,\"#ed7953\"],[0.7777777777777778,\"#fb9f3a\"],[0.8888888888888888,\"#fdca26\"],[1.0,\"#f0f921\"]]}],\"mesh3d\":[{\"type\":\"mesh3d\",\"colorbar\":{\"outlinewidth\":0,\"ticks\":\"\"}}],\"scatter\":[{\"fillpattern\":{\"fillmode\":\"overlay\",\"size\":10,\"solidity\":0.2},\"type\":\"scatter\"}],\"parcoords\":[{\"type\":\"parcoords\",\"line\":{\"colorbar\":{\"outlinewidth\":0,\"ticks\":\"\"}}}],\"scatterpolargl\":[{\"type\":\"scatterpolargl\",\"marker\":{\"colorbar\":{\"outlinewidth\":0,\"ticks\":\"\"}}}],\"bar\":[{\"error_x\":{\"color\":\"#2a3f5f\"},\"error_y\":{\"color\":\"#2a3f5f\"},\"marker\":{\"line\":{\"color\":\"#E5ECF6\",\"width\":0.5},\"pattern\":{\"fillmode\":\"overlay\",\"size\":10,\"solidity\":0.2}},\"type\":\"bar\"}],\"scattergeo\":[{\"type\":\"scattergeo\",\"marker\":{\"colorbar\":{\"outlinewidth\":0,\"ticks\":\"\"}}}],\"scatterpolar\":[{\"type\":\"scatterpolar\",\"marker\":{\"colorbar\":{\"outlinewidth\":0,\"ticks\":\"\"}}}],\"histogram\":[{\"marker\":{\"pattern\":{\"fillmode\":\"overlay\",\"size\":10,\"solidity\":0.2}},\"type\":\"histogram\"}],\"scattergl\":[{\"type\":\"scattergl\",\"marker\":{\"colorbar\":{\"outlinewidth\":0,\"ticks\":\"\"}}}],\"scatter3d\":[{\"type\":\"scatter3d\",\"line\":{\"colorbar\":{\"outlinewidth\":0,\"ticks\":\"\"}},\"marker\":{\"colorbar\":{\"outlinewidth\":0,\"ticks\":\"\"}}}],\"scattermapbox\":[{\"type\":\"scattermapbox\",\"marker\":{\"colorbar\":{\"outlinewidth\":0,\"ticks\":\"\"}}}],\"scatterternary\":[{\"type\":\"scatterternary\",\"marker\":{\"colorbar\":{\"outlinewidth\":0,\"ticks\":\"\"}}}],\"scattercarpet\":[{\"type\":\"scattercarpet\",\"marker\":{\"colorbar\":{\"outlinewidth\":0,\"ticks\":\"\"}}}],\"carpet\":[{\"aaxis\":{\"endlinecolor\":\"#2a3f5f\",\"gridcolor\":\"white\",\"linecolor\":\"white\",\"minorgridcolor\":\"white\",\"startlinecolor\":\"#2a3f5f\"},\"baxis\":{\"endlinecolor\":\"#2a3f5f\",\"gridcolor\":\"white\",\"linecolor\":\"white\",\"minorgridcolor\":\"white\",\"startlinecolor\":\"#2a3f5f\"},\"type\":\"carpet\"}],\"table\":[{\"cells\":{\"fill\":{\"color\":\"#EBF0F8\"},\"line\":{\"color\":\"white\"}},\"header\":{\"fill\":{\"color\":\"#C8D4E3\"},\"line\":{\"color\":\"white\"}},\"type\":\"table\"}],\"barpolar\":[{\"marker\":{\"line\":{\"color\":\"#E5ECF6\",\"width\":0.5},\"pattern\":{\"fillmode\":\"overlay\",\"size\":10,\"solidity\":0.2}},\"type\":\"barpolar\"}],\"pie\":[{\"automargin\":true,\"type\":\"pie\"}]},\"layout\":{\"autotypenumbers\":\"strict\",\"colorway\":[\"#636efa\",\"#EF553B\",\"#00cc96\",\"#ab63fa\",\"#FFA15A\",\"#19d3f3\",\"#FF6692\",\"#B6E880\",\"#FF97FF\",\"#FECB52\"],\"font\":{\"color\":\"#2a3f5f\"},\"hovermode\":\"closest\",\"hoverlabel\":{\"align\":\"left\"},\"paper_bgcolor\":\"white\",\"plot_bgcolor\":\"#E5ECF6\",\"polar\":{\"bgcolor\":\"#E5ECF6\",\"angularaxis\":{\"gridcolor\":\"white\",\"linecolor\":\"white\",\"ticks\":\"\"},\"radialaxis\":{\"gridcolor\":\"white\",\"linecolor\":\"white\",\"ticks\":\"\"}},\"ternary\":{\"bgcolor\":\"#E5ECF6\",\"aaxis\":{\"gridcolor\":\"white\",\"linecolor\":\"white\",\"ticks\":\"\"},\"baxis\":{\"gridcolor\":\"white\",\"linecolor\":\"white\",\"ticks\":\"\"},\"caxis\":{\"gridcolor\":\"white\",\"linecolor\":\"white\",\"ticks\":\"\"}},\"coloraxis\":{\"colorbar\":{\"outlinewidth\":0,\"ticks\":\"\"}},\"colorscale\":{\"sequential\":[[0.0,\"#0d0887\"],[0.1111111111111111,\"#46039f\"],[0.2222222222222222,\"#7201a8\"],[0.3333333333333333,\"#9c179e\"],[0.4444444444444444,\"#bd3786\"],[0.5555555555555556,\"#d8576b\"],[0.6666666666666666,\"#ed7953\"],[0.7777777777777778,\"#fb9f3a\"],[0.8888888888888888,\"#fdca26\"],[1.0,\"#f0f921\"]],\"sequentialminus\":[[0.0,\"#0d0887\"],[0.1111111111111111,\"#46039f\"],[0.2222222222222222,\"#7201a8\"],[0.3333333333333333,\"#9c179e\"],[0.4444444444444444,\"#bd3786\"],[0.5555555555555556,\"#d8576b\"],[0.6666666666666666,\"#ed7953\"],[0.7777777777777778,\"#fb9f3a\"],[0.8888888888888888,\"#fdca26\"],[1.0,\"#f0f921\"]],\"diverging\":[[0,\"#8e0152\"],[0.1,\"#c51b7d\"],[0.2,\"#de77ae\"],[0.3,\"#f1b6da\"],[0.4,\"#fde0ef\"],[0.5,\"#f7f7f7\"],[0.6,\"#e6f5d0\"],[0.7,\"#b8e186\"],[0.8,\"#7fbc41\"],[0.9,\"#4d9221\"],[1,\"#276419\"]]},\"xaxis\":{\"gridcolor\":\"white\",\"linecolor\":\"white\",\"ticks\":\"\",\"title\":{\"standoff\":15},\"zerolinecolor\":\"white\",\"automargin\":true,\"zerolinewidth\":2},\"yaxis\":{\"gridcolor\":\"white\",\"linecolor\":\"white\",\"ticks\":\"\",\"title\":{\"standoff\":15},\"zerolinecolor\":\"white\",\"automargin\":true,\"zerolinewidth\":2},\"scene\":{\"xaxis\":{\"backgroundcolor\":\"#E5ECF6\",\"gridcolor\":\"white\",\"linecolor\":\"white\",\"showbackground\":true,\"ticks\":\"\",\"zerolinecolor\":\"white\",\"gridwidth\":2},\"yaxis\":{\"backgroundcolor\":\"#E5ECF6\",\"gridcolor\":\"white\",\"linecolor\":\"white\",\"showbackground\":true,\"ticks\":\"\",\"zerolinecolor\":\"white\",\"gridwidth\":2},\"zaxis\":{\"backgroundcolor\":\"#E5ECF6\",\"gridcolor\":\"white\",\"linecolor\":\"white\",\"showbackground\":true,\"ticks\":\"\",\"zerolinecolor\":\"white\",\"gridwidth\":2}},\"shapedefaults\":{\"line\":{\"color\":\"#2a3f5f\"}},\"annotationdefaults\":{\"arrowcolor\":\"#2a3f5f\",\"arrowhead\":0,\"arrowwidth\":1},\"geo\":{\"bgcolor\":\"white\",\"landcolor\":\"#E5ECF6\",\"subunitcolor\":\"white\",\"showland\":true,\"showlakes\":true,\"lakecolor\":\"white\"},\"title\":{\"x\":0.05},\"mapbox\":{\"style\":\"light\"}}},\"xaxis\":{\"anchor\":\"y\",\"domain\":[0.0,1.0],\"title\":{\"text\":\"State\"}},\"yaxis\":{\"anchor\":\"x\",\"domain\":[0.0,1.0],\"title\":{\"text\":\"Mean Poverty %\"}},\"legend\":{\"title\":{\"text\":\"variable\"},\"tracegroupgap\":0},\"title\":{\"text\":\"Poverty Rate in each US State\"},\"barmode\":\"relative\"},                        {\"responsive\": true}                    ).then(function(){\n",
              "                            \n",
              "var gd = document.getElementById('b96cef80-123b-43ca-ae4d-5501aba585f7');\n",
              "var x = new MutationObserver(function (mutations, observer) {{\n",
              "        var display = window.getComputedStyle(gd).display;\n",
              "        if (!display || display === 'none') {{\n",
              "            console.log([gd, 'removed!']);\n",
              "            Plotly.purge(gd);\n",
              "            observer.disconnect();\n",
              "        }}\n",
              "}});\n",
              "\n",
              "// Listen for the removal of the full notebook cells\n",
              "var notebookContainer = gd.closest('#notebook-container');\n",
              "if (notebookContainer) {{\n",
              "    x.observe(notebookContainer, {childList: true});\n",
              "}}\n",
              "\n",
              "// Listen for the clearing of the current output cell\n",
              "var outputEl = gd.closest('.output');\n",
              "if (outputEl) {{\n",
              "    x.observe(outputEl, {childList: true});\n",
              "}}\n",
              "\n",
              "                        })                };                            </script>        </div>\n",
              "</body>\n",
              "</html>"
            ]
          },
          "metadata": {}
        }
      ]
    },
    {
      "cell_type": "markdown",
      "metadata": {
        "id": "GhUibVz5z4sn"
      },
      "source": [
        "# Chart the High School Graduation Rate by US State\n",
        "\n",
        "Show the High School Graduation Rate in ascending order of US States. Which state has the lowest high school graduation rate? Which state has the highest?"
      ]
    },
    {
      "cell_type": "code",
      "metadata": {
        "id": "laD6W9eG0JFR"
      },
      "source": [
        "index_to_drop = df_pct_completed_hs[ (df_pct_completed_hs['percent_completed_hs'] == '-') ].index\n",
        "df_pct_completed_hs.drop(index_to_drop , inplace=True)\n",
        "df_pct_completed_hs['percent_completed_hs'] = df_pct_completed_hs['percent_completed_hs'].astype(float)\n",
        "state_hs_graduation = df_pct_completed_hs.groupby('Geographic Area')['percent_completed_hs'].mean()\n",
        "state_hs_graduation.sort_values(ascending=False, inplace=True)"
      ],
      "execution_count": null,
      "outputs": []
    },
    {
      "cell_type": "code",
      "source": [
        "fig = px.bar(state_hs_graduation, title='HS Graduation Rate in each US State', labels={'value': 'Mean % HS Graduated', 'Geographic Area': 'State'})\n",
        "fig.show()"
      ],
      "metadata": {
        "colab": {
          "base_uri": "https://localhost:8080/",
          "height": 542
        },
        "id": "iFifyQoAkN7A",
        "outputId": "c8432cba-6ea4-4f24-c442-c8df879785cd"
      },
      "execution_count": null,
      "outputs": [
        {
          "output_type": "display_data",
          "data": {
            "text/html": [
              "<html>\n",
              "<head><meta charset=\"utf-8\" /></head>\n",
              "<body>\n",
              "    <div>            <script src=\"https://cdnjs.cloudflare.com/ajax/libs/mathjax/2.7.5/MathJax.js?config=TeX-AMS-MML_SVG\"></script><script type=\"text/javascript\">if (window.MathJax) {MathJax.Hub.Config({SVG: {font: \"STIX-Web\"}});}</script>                <script type=\"text/javascript\">window.PlotlyConfig = {MathJaxConfig: 'local'};</script>\n",
              "        <script src=\"https://cdn.plot.ly/plotly-2.8.3.min.js\"></script>                <div id=\"852e6668-e0eb-41fa-9862-535c6279238e\" class=\"plotly-graph-div\" style=\"height:525px; width:100%;\"></div>            <script type=\"text/javascript\">                                    window.PLOTLYENV=window.PLOTLYENV || {};                                    if (document.getElementById(\"852e6668-e0eb-41fa-9862-535c6279238e\")) {                    Plotly.newPlot(                        \"852e6668-e0eb-41fa-9862-535c6279238e\",                        [{\"alignmentgroup\":\"True\",\"hovertemplate\":\"variable=percent_completed_hs<br>State=%{x}<br>Mean % HS Graduated=%{y}<extra></extra>\",\"legendgroup\":\"percent_completed_hs\",\"marker\":{\"color\":\"#636efa\",\"pattern\":{\"shape\":\"\"}},\"name\":\"percent_completed_hs\",\"offsetgroup\":\"percent_completed_hs\",\"orientation\":\"v\",\"showlegend\":true,\"textposition\":\"auto\",\"x\":[\"MA\",\"WY\",\"HI\",\"UT\",\"CT\",\"ME\",\"NJ\",\"NH\",\"NY\",\"MT\",\"WI\",\"IA\",\"CO\",\"NE\",\"VT\",\"MN\",\"DC\",\"MI\",\"PA\",\"RI\",\"DE\",\"IL\",\"MD\",\"OH\",\"OR\",\"KS\",\"WA\",\"ND\",\"SD\",\"NV\",\"IN\",\"FL\",\"ID\",\"VA\",\"AK\",\"MO\",\"NC\",\"OK\",\"KY\",\"WV\",\"CA\",\"TN\",\"NM\",\"SC\",\"AZ\",\"AL\",\"AR\",\"LA\",\"GA\",\"MS\",\"TX\"],\"xaxis\":\"x\",\"y\":[92.40408163265306,92.10053763440861,91.66556291390728,91.61792452830188,91.59166666666667,91.43076923076923,90.85395948434622,90.71134020618557,90.61372384937238,90.48842975206612,90.26396396396397,90.1122632103689,90.10663716814159,89.98786828422877,89.97685950413224,89.46555924695458,89.3,89.20765895953757,89.02339579784214,88.82499999999999,88.51948051948052,88.48344322344322,88.42248062015504,88.34460016488046,88.30454545454546,88.23044776119403,88.19757673667206,87.81524999999999,87.75390625,87.71538461538462,86.31926470588235,85.73781420765027,85.16799999999999,84.88026981450253,84.62738095238095,83.522265625,83.24945799457994,82.90974289580515,82.37012987012987,82.3450495049505,81.95542971352432,81.63116279069767,80.98263888888889,80.84987341772153,80.46711711711713,80.30068493150685,79.94953789279113,79.28964059196618,79.0125,78.4707182320442,75.69],\"yaxis\":\"y\",\"type\":\"bar\"}],                        {\"template\":{\"data\":{\"bar\":[{\"error_x\":{\"color\":\"#2a3f5f\"},\"error_y\":{\"color\":\"#2a3f5f\"},\"marker\":{\"line\":{\"color\":\"#E5ECF6\",\"width\":0.5},\"pattern\":{\"fillmode\":\"overlay\",\"size\":10,\"solidity\":0.2}},\"type\":\"bar\"}],\"barpolar\":[{\"marker\":{\"line\":{\"color\":\"#E5ECF6\",\"width\":0.5},\"pattern\":{\"fillmode\":\"overlay\",\"size\":10,\"solidity\":0.2}},\"type\":\"barpolar\"}],\"carpet\":[{\"aaxis\":{\"endlinecolor\":\"#2a3f5f\",\"gridcolor\":\"white\",\"linecolor\":\"white\",\"minorgridcolor\":\"white\",\"startlinecolor\":\"#2a3f5f\"},\"baxis\":{\"endlinecolor\":\"#2a3f5f\",\"gridcolor\":\"white\",\"linecolor\":\"white\",\"minorgridcolor\":\"white\",\"startlinecolor\":\"#2a3f5f\"},\"type\":\"carpet\"}],\"choropleth\":[{\"colorbar\":{\"outlinewidth\":0,\"ticks\":\"\"},\"type\":\"choropleth\"}],\"contour\":[{\"colorbar\":{\"outlinewidth\":0,\"ticks\":\"\"},\"colorscale\":[[0.0,\"#0d0887\"],[0.1111111111111111,\"#46039f\"],[0.2222222222222222,\"#7201a8\"],[0.3333333333333333,\"#9c179e\"],[0.4444444444444444,\"#bd3786\"],[0.5555555555555556,\"#d8576b\"],[0.6666666666666666,\"#ed7953\"],[0.7777777777777778,\"#fb9f3a\"],[0.8888888888888888,\"#fdca26\"],[1.0,\"#f0f921\"]],\"type\":\"contour\"}],\"contourcarpet\":[{\"colorbar\":{\"outlinewidth\":0,\"ticks\":\"\"},\"type\":\"contourcarpet\"}],\"heatmap\":[{\"colorbar\":{\"outlinewidth\":0,\"ticks\":\"\"},\"colorscale\":[[0.0,\"#0d0887\"],[0.1111111111111111,\"#46039f\"],[0.2222222222222222,\"#7201a8\"],[0.3333333333333333,\"#9c179e\"],[0.4444444444444444,\"#bd3786\"],[0.5555555555555556,\"#d8576b\"],[0.6666666666666666,\"#ed7953\"],[0.7777777777777778,\"#fb9f3a\"],[0.8888888888888888,\"#fdca26\"],[1.0,\"#f0f921\"]],\"type\":\"heatmap\"}],\"heatmapgl\":[{\"colorbar\":{\"outlinewidth\":0,\"ticks\":\"\"},\"colorscale\":[[0.0,\"#0d0887\"],[0.1111111111111111,\"#46039f\"],[0.2222222222222222,\"#7201a8\"],[0.3333333333333333,\"#9c179e\"],[0.4444444444444444,\"#bd3786\"],[0.5555555555555556,\"#d8576b\"],[0.6666666666666666,\"#ed7953\"],[0.7777777777777778,\"#fb9f3a\"],[0.8888888888888888,\"#fdca26\"],[1.0,\"#f0f921\"]],\"type\":\"heatmapgl\"}],\"histogram\":[{\"marker\":{\"pattern\":{\"fillmode\":\"overlay\",\"size\":10,\"solidity\":0.2}},\"type\":\"histogram\"}],\"histogram2d\":[{\"colorbar\":{\"outlinewidth\":0,\"ticks\":\"\"},\"colorscale\":[[0.0,\"#0d0887\"],[0.1111111111111111,\"#46039f\"],[0.2222222222222222,\"#7201a8\"],[0.3333333333333333,\"#9c179e\"],[0.4444444444444444,\"#bd3786\"],[0.5555555555555556,\"#d8576b\"],[0.6666666666666666,\"#ed7953\"],[0.7777777777777778,\"#fb9f3a\"],[0.8888888888888888,\"#fdca26\"],[1.0,\"#f0f921\"]],\"type\":\"histogram2d\"}],\"histogram2dcontour\":[{\"colorbar\":{\"outlinewidth\":0,\"ticks\":\"\"},\"colorscale\":[[0.0,\"#0d0887\"],[0.1111111111111111,\"#46039f\"],[0.2222222222222222,\"#7201a8\"],[0.3333333333333333,\"#9c179e\"],[0.4444444444444444,\"#bd3786\"],[0.5555555555555556,\"#d8576b\"],[0.6666666666666666,\"#ed7953\"],[0.7777777777777778,\"#fb9f3a\"],[0.8888888888888888,\"#fdca26\"],[1.0,\"#f0f921\"]],\"type\":\"histogram2dcontour\"}],\"mesh3d\":[{\"colorbar\":{\"outlinewidth\":0,\"ticks\":\"\"},\"type\":\"mesh3d\"}],\"parcoords\":[{\"line\":{\"colorbar\":{\"outlinewidth\":0,\"ticks\":\"\"}},\"type\":\"parcoords\"}],\"pie\":[{\"automargin\":true,\"type\":\"pie\"}],\"scatter\":[{\"marker\":{\"colorbar\":{\"outlinewidth\":0,\"ticks\":\"\"}},\"type\":\"scatter\"}],\"scatter3d\":[{\"line\":{\"colorbar\":{\"outlinewidth\":0,\"ticks\":\"\"}},\"marker\":{\"colorbar\":{\"outlinewidth\":0,\"ticks\":\"\"}},\"type\":\"scatter3d\"}],\"scattercarpet\":[{\"marker\":{\"colorbar\":{\"outlinewidth\":0,\"ticks\":\"\"}},\"type\":\"scattercarpet\"}],\"scattergeo\":[{\"marker\":{\"colorbar\":{\"outlinewidth\":0,\"ticks\":\"\"}},\"type\":\"scattergeo\"}],\"scattergl\":[{\"marker\":{\"colorbar\":{\"outlinewidth\":0,\"ticks\":\"\"}},\"type\":\"scattergl\"}],\"scattermapbox\":[{\"marker\":{\"colorbar\":{\"outlinewidth\":0,\"ticks\":\"\"}},\"type\":\"scattermapbox\"}],\"scatterpolar\":[{\"marker\":{\"colorbar\":{\"outlinewidth\":0,\"ticks\":\"\"}},\"type\":\"scatterpolar\"}],\"scatterpolargl\":[{\"marker\":{\"colorbar\":{\"outlinewidth\":0,\"ticks\":\"\"}},\"type\":\"scatterpolargl\"}],\"scatterternary\":[{\"marker\":{\"colorbar\":{\"outlinewidth\":0,\"ticks\":\"\"}},\"type\":\"scatterternary\"}],\"surface\":[{\"colorbar\":{\"outlinewidth\":0,\"ticks\":\"\"},\"colorscale\":[[0.0,\"#0d0887\"],[0.1111111111111111,\"#46039f\"],[0.2222222222222222,\"#7201a8\"],[0.3333333333333333,\"#9c179e\"],[0.4444444444444444,\"#bd3786\"],[0.5555555555555556,\"#d8576b\"],[0.6666666666666666,\"#ed7953\"],[0.7777777777777778,\"#fb9f3a\"],[0.8888888888888888,\"#fdca26\"],[1.0,\"#f0f921\"]],\"type\":\"surface\"}],\"table\":[{\"cells\":{\"fill\":{\"color\":\"#EBF0F8\"},\"line\":{\"color\":\"white\"}},\"header\":{\"fill\":{\"color\":\"#C8D4E3\"},\"line\":{\"color\":\"white\"}},\"type\":\"table\"}]},\"layout\":{\"annotationdefaults\":{\"arrowcolor\":\"#2a3f5f\",\"arrowhead\":0,\"arrowwidth\":1},\"autotypenumbers\":\"strict\",\"coloraxis\":{\"colorbar\":{\"outlinewidth\":0,\"ticks\":\"\"}},\"colorscale\":{\"diverging\":[[0,\"#8e0152\"],[0.1,\"#c51b7d\"],[0.2,\"#de77ae\"],[0.3,\"#f1b6da\"],[0.4,\"#fde0ef\"],[0.5,\"#f7f7f7\"],[0.6,\"#e6f5d0\"],[0.7,\"#b8e186\"],[0.8,\"#7fbc41\"],[0.9,\"#4d9221\"],[1,\"#276419\"]],\"sequential\":[[0.0,\"#0d0887\"],[0.1111111111111111,\"#46039f\"],[0.2222222222222222,\"#7201a8\"],[0.3333333333333333,\"#9c179e\"],[0.4444444444444444,\"#bd3786\"],[0.5555555555555556,\"#d8576b\"],[0.6666666666666666,\"#ed7953\"],[0.7777777777777778,\"#fb9f3a\"],[0.8888888888888888,\"#fdca26\"],[1.0,\"#f0f921\"]],\"sequentialminus\":[[0.0,\"#0d0887\"],[0.1111111111111111,\"#46039f\"],[0.2222222222222222,\"#7201a8\"],[0.3333333333333333,\"#9c179e\"],[0.4444444444444444,\"#bd3786\"],[0.5555555555555556,\"#d8576b\"],[0.6666666666666666,\"#ed7953\"],[0.7777777777777778,\"#fb9f3a\"],[0.8888888888888888,\"#fdca26\"],[1.0,\"#f0f921\"]]},\"colorway\":[\"#636efa\",\"#EF553B\",\"#00cc96\",\"#ab63fa\",\"#FFA15A\",\"#19d3f3\",\"#FF6692\",\"#B6E880\",\"#FF97FF\",\"#FECB52\"],\"font\":{\"color\":\"#2a3f5f\"},\"geo\":{\"bgcolor\":\"white\",\"lakecolor\":\"white\",\"landcolor\":\"#E5ECF6\",\"showlakes\":true,\"showland\":true,\"subunitcolor\":\"white\"},\"hoverlabel\":{\"align\":\"left\"},\"hovermode\":\"closest\",\"mapbox\":{\"style\":\"light\"},\"paper_bgcolor\":\"white\",\"plot_bgcolor\":\"#E5ECF6\",\"polar\":{\"angularaxis\":{\"gridcolor\":\"white\",\"linecolor\":\"white\",\"ticks\":\"\"},\"bgcolor\":\"#E5ECF6\",\"radialaxis\":{\"gridcolor\":\"white\",\"linecolor\":\"white\",\"ticks\":\"\"}},\"scene\":{\"xaxis\":{\"backgroundcolor\":\"#E5ECF6\",\"gridcolor\":\"white\",\"gridwidth\":2,\"linecolor\":\"white\",\"showbackground\":true,\"ticks\":\"\",\"zerolinecolor\":\"white\"},\"yaxis\":{\"backgroundcolor\":\"#E5ECF6\",\"gridcolor\":\"white\",\"gridwidth\":2,\"linecolor\":\"white\",\"showbackground\":true,\"ticks\":\"\",\"zerolinecolor\":\"white\"},\"zaxis\":{\"backgroundcolor\":\"#E5ECF6\",\"gridcolor\":\"white\",\"gridwidth\":2,\"linecolor\":\"white\",\"showbackground\":true,\"ticks\":\"\",\"zerolinecolor\":\"white\"}},\"shapedefaults\":{\"line\":{\"color\":\"#2a3f5f\"}},\"ternary\":{\"aaxis\":{\"gridcolor\":\"white\",\"linecolor\":\"white\",\"ticks\":\"\"},\"baxis\":{\"gridcolor\":\"white\",\"linecolor\":\"white\",\"ticks\":\"\"},\"bgcolor\":\"#E5ECF6\",\"caxis\":{\"gridcolor\":\"white\",\"linecolor\":\"white\",\"ticks\":\"\"}},\"title\":{\"x\":0.05},\"xaxis\":{\"automargin\":true,\"gridcolor\":\"white\",\"linecolor\":\"white\",\"ticks\":\"\",\"title\":{\"standoff\":15},\"zerolinecolor\":\"white\",\"zerolinewidth\":2},\"yaxis\":{\"automargin\":true,\"gridcolor\":\"white\",\"linecolor\":\"white\",\"ticks\":\"\",\"title\":{\"standoff\":15},\"zerolinecolor\":\"white\",\"zerolinewidth\":2}}},\"xaxis\":{\"anchor\":\"y\",\"domain\":[0.0,1.0],\"title\":{\"text\":\"State\"}},\"yaxis\":{\"anchor\":\"x\",\"domain\":[0.0,1.0],\"title\":{\"text\":\"Mean % HS Graduated\"}},\"legend\":{\"title\":{\"text\":\"variable\"},\"tracegroupgap\":0},\"title\":{\"text\":\"HS Graduation Rate in each US State\"},\"barmode\":\"relative\"},                        {\"responsive\": true}                    ).then(function(){\n",
              "                            \n",
              "var gd = document.getElementById('852e6668-e0eb-41fa-9862-535c6279238e');\n",
              "var x = new MutationObserver(function (mutations, observer) {{\n",
              "        var display = window.getComputedStyle(gd).display;\n",
              "        if (!display || display === 'none') {{\n",
              "            console.log([gd, 'removed!']);\n",
              "            Plotly.purge(gd);\n",
              "            observer.disconnect();\n",
              "        }}\n",
              "}});\n",
              "\n",
              "// Listen for the removal of the full notebook cells\n",
              "var notebookContainer = gd.closest('#notebook-container');\n",
              "if (notebookContainer) {{\n",
              "    x.observe(notebookContainer, {childList: true});\n",
              "}}\n",
              "\n",
              "// Listen for the clearing of the current output cell\n",
              "var outputEl = gd.closest('.output');\n",
              "if (outputEl) {{\n",
              "    x.observe(outputEl, {childList: true});\n",
              "}}\n",
              "\n",
              "                        })                };                            </script>        </div>\n",
              "</body>\n",
              "</html>"
            ]
          },
          "metadata": {}
        }
      ]
    },
    {
      "cell_type": "markdown",
      "metadata": {
        "id": "ENGTEmPQ0Rvt"
      },
      "source": [
        "# Visualise the Relationship between Poverty Rates and High School Graduation Rates\n",
        "\n",
        "#### Create a line chart with two y-axes to show if the rations of poverty and high school graduation move together.  "
      ]
    },
    {
      "cell_type": "code",
      "source": [
        "df_hs_grad_poverty = pd.concat([state_poverty, state_hs_graduation], axis=1)\n",
        "fig = px.line(df_hs_grad_poverty)\n",
        "fig.show()"
      ],
      "metadata": {
        "colab": {
          "base_uri": "https://localhost:8080/",
          "height": 542
        },
        "id": "ssVF8mwbmN_P",
        "outputId": "6314c45f-705b-4892-fc54-2a4ac7d46545"
      },
      "execution_count": null,
      "outputs": [
        {
          "output_type": "display_data",
          "data": {
            "text/html": [
              "<html>\n",
              "<head><meta charset=\"utf-8\" /></head>\n",
              "<body>\n",
              "    <div>            <script src=\"https://cdnjs.cloudflare.com/ajax/libs/mathjax/2.7.5/MathJax.js?config=TeX-AMS-MML_SVG\"></script><script type=\"text/javascript\">if (window.MathJax && window.MathJax.Hub && window.MathJax.Hub.Config) {window.MathJax.Hub.Config({SVG: {font: \"STIX-Web\"}});}</script>                <script type=\"text/javascript\">window.PlotlyConfig = {MathJaxConfig: 'local'};</script>\n",
              "        <script src=\"https://cdn.plot.ly/plotly-2.16.1.min.js\"></script>                <div id=\"d2588ef6-9c30-4536-9358-86ade31aebf3\" class=\"plotly-graph-div\" style=\"height:525px; width:100%;\"></div>            <script type=\"text/javascript\">                                    window.PLOTLYENV=window.PLOTLYENV || {};                                    if (document.getElementById(\"d2588ef6-9c30-4536-9358-86ade31aebf3\")) {                    Plotly.newPlot(                        \"d2588ef6-9c30-4536-9358-86ade31aebf3\",                        [{\"hovertemplate\":\"variable=poverty_rate<br>Geographic Area=%{x}<br>value=%{y}<extra></extra>\",\"legendgroup\":\"poverty_rate\",\"line\":{\"color\":\"#636efa\",\"dash\":\"solid\"},\"marker\":{\"symbol\":\"circle\"},\"mode\":\"lines\",\"name\":\"poverty_rate\",\"orientation\":\"v\",\"showlegend\":true,\"x\":[\"MS\",\"AZ\",\"GA\",\"NM\",\"AR\",\"LA\",\"SC\",\"WV\",\"OK\",\"AL\",\"MO\",\"KY\",\"TX\",\"TN\",\"AK\",\"NC\",\"ID\",\"DC\",\"MI\",\"FL\",\"CA\",\"ME\",\"OR\",\"MT\",\"SD\",\"IN\",\"WA\",\"OH\",\"KS\",\"VA\",\"IL\",\"VT\",\"MN\",\"HI\",\"CO\",\"NE\",\"WI\",\"NH\",\"DE\",\"PA\",\"NV\",\"IA\",\"ND\",\"UT\",\"NY\",\"RI\",\"MD\",\"WY\",\"MA\",\"CT\",\"NJ\"],\"xaxis\":\"x\",\"y\":[26.88425414364641,25.666441441441442,23.777403846153845,23.080787037037037,22.963216266173752,22.33890063424947,22.161518987341772,21.134405940594057,20.657104194857915,20.64708904109589,20.105859375,20.080000000000002,19.918070175438597,19.88720930232558,19.852994011976048,19.74728997289973,18.23688888888889,18.0,17.9007225433526,17.56601092896175,17.12465023317788,16.89384615384615,16.523466666666668,16.513774104683197,16.032291666666666,15.49985294117647,15.017609046849756,14.851112943116242,14.762985074626867,14.5858347386172,13.879780219780221,13.785950413223139,13.745736434108526,13.400662251655628,13.36283185840708,12.984575389948008,12.85868725868726,12.65979381443299,12.555844155844156,12.515585893060297,12.466153846153846,12.292522432701894,12.162249999999998,11.982704402515724,11.668231349538978,10.369444444444445,10.312209302325583,9.88770053475936,9.58530612244898,9.1375,8.19097605893186],\"yaxis\":\"y\",\"type\":\"scatter\"},{\"hovertemplate\":\"variable=percent_completed_hs<br>Geographic Area=%{x}<br>value=%{y}<extra></extra>\",\"legendgroup\":\"percent_completed_hs\",\"line\":{\"color\":\"#EF553B\",\"dash\":\"solid\"},\"marker\":{\"symbol\":\"circle\"},\"mode\":\"lines\",\"name\":\"percent_completed_hs\",\"orientation\":\"v\",\"showlegend\":true,\"x\":[\"MS\",\"AZ\",\"GA\",\"NM\",\"AR\",\"LA\",\"SC\",\"WV\",\"OK\",\"AL\",\"MO\",\"KY\",\"TX\",\"TN\",\"AK\",\"NC\",\"ID\",\"DC\",\"MI\",\"FL\",\"CA\",\"ME\",\"OR\",\"MT\",\"SD\",\"IN\",\"WA\",\"OH\",\"KS\",\"VA\",\"IL\",\"VT\",\"MN\",\"HI\",\"CO\",\"NE\",\"WI\",\"NH\",\"DE\",\"PA\",\"NV\",\"IA\",\"ND\",\"UT\",\"NY\",\"RI\",\"MD\",\"WY\",\"MA\",\"CT\",\"NJ\"],\"xaxis\":\"x\",\"y\":[78.4707182320442,80.46711711711713,79.0125,80.98263888888889,79.94953789279113,79.28964059196618,80.84987341772153,82.3450495049505,82.90974289580515,80.30068493150685,83.522265625,82.37012987012987,75.69,81.63116279069767,84.62738095238095,83.24945799457994,85.16799999999999,89.3,89.20765895953757,85.73781420765027,81.95542971352432,91.43076923076923,88.30454545454546,90.48842975206612,87.75390625,86.31926470588235,88.19757673667206,88.34460016488046,88.23044776119403,84.88026981450253,88.48344322344322,89.97685950413224,89.46555924695458,91.66556291390728,90.10663716814159,89.98786828422877,90.26396396396397,90.71134020618557,88.51948051948052,89.02339579784214,87.71538461538462,90.1122632103689,87.81524999999999,91.61792452830188,90.61372384937238,88.82499999999999,88.42248062015504,92.10053763440861,92.40408163265306,91.59166666666667,90.85395948434622],\"yaxis\":\"y\",\"type\":\"scatter\"}],                        {\"template\":{\"data\":{\"histogram2dcontour\":[{\"type\":\"histogram2dcontour\",\"colorbar\":{\"outlinewidth\":0,\"ticks\":\"\"},\"colorscale\":[[0.0,\"#0d0887\"],[0.1111111111111111,\"#46039f\"],[0.2222222222222222,\"#7201a8\"],[0.3333333333333333,\"#9c179e\"],[0.4444444444444444,\"#bd3786\"],[0.5555555555555556,\"#d8576b\"],[0.6666666666666666,\"#ed7953\"],[0.7777777777777778,\"#fb9f3a\"],[0.8888888888888888,\"#fdca26\"],[1.0,\"#f0f921\"]]}],\"choropleth\":[{\"type\":\"choropleth\",\"colorbar\":{\"outlinewidth\":0,\"ticks\":\"\"}}],\"histogram2d\":[{\"type\":\"histogram2d\",\"colorbar\":{\"outlinewidth\":0,\"ticks\":\"\"},\"colorscale\":[[0.0,\"#0d0887\"],[0.1111111111111111,\"#46039f\"],[0.2222222222222222,\"#7201a8\"],[0.3333333333333333,\"#9c179e\"],[0.4444444444444444,\"#bd3786\"],[0.5555555555555556,\"#d8576b\"],[0.6666666666666666,\"#ed7953\"],[0.7777777777777778,\"#fb9f3a\"],[0.8888888888888888,\"#fdca26\"],[1.0,\"#f0f921\"]]}],\"heatmap\":[{\"type\":\"heatmap\",\"colorbar\":{\"outlinewidth\":0,\"ticks\":\"\"},\"colorscale\":[[0.0,\"#0d0887\"],[0.1111111111111111,\"#46039f\"],[0.2222222222222222,\"#7201a8\"],[0.3333333333333333,\"#9c179e\"],[0.4444444444444444,\"#bd3786\"],[0.5555555555555556,\"#d8576b\"],[0.6666666666666666,\"#ed7953\"],[0.7777777777777778,\"#fb9f3a\"],[0.8888888888888888,\"#fdca26\"],[1.0,\"#f0f921\"]]}],\"heatmapgl\":[{\"type\":\"heatmapgl\",\"colorbar\":{\"outlinewidth\":0,\"ticks\":\"\"},\"colorscale\":[[0.0,\"#0d0887\"],[0.1111111111111111,\"#46039f\"],[0.2222222222222222,\"#7201a8\"],[0.3333333333333333,\"#9c179e\"],[0.4444444444444444,\"#bd3786\"],[0.5555555555555556,\"#d8576b\"],[0.6666666666666666,\"#ed7953\"],[0.7777777777777778,\"#fb9f3a\"],[0.8888888888888888,\"#fdca26\"],[1.0,\"#f0f921\"]]}],\"contourcarpet\":[{\"type\":\"contourcarpet\",\"colorbar\":{\"outlinewidth\":0,\"ticks\":\"\"}}],\"contour\":[{\"type\":\"contour\",\"colorbar\":{\"outlinewidth\":0,\"ticks\":\"\"},\"colorscale\":[[0.0,\"#0d0887\"],[0.1111111111111111,\"#46039f\"],[0.2222222222222222,\"#7201a8\"],[0.3333333333333333,\"#9c179e\"],[0.4444444444444444,\"#bd3786\"],[0.5555555555555556,\"#d8576b\"],[0.6666666666666666,\"#ed7953\"],[0.7777777777777778,\"#fb9f3a\"],[0.8888888888888888,\"#fdca26\"],[1.0,\"#f0f921\"]]}],\"surface\":[{\"type\":\"surface\",\"colorbar\":{\"outlinewidth\":0,\"ticks\":\"\"},\"colorscale\":[[0.0,\"#0d0887\"],[0.1111111111111111,\"#46039f\"],[0.2222222222222222,\"#7201a8\"],[0.3333333333333333,\"#9c179e\"],[0.4444444444444444,\"#bd3786\"],[0.5555555555555556,\"#d8576b\"],[0.6666666666666666,\"#ed7953\"],[0.7777777777777778,\"#fb9f3a\"],[0.8888888888888888,\"#fdca26\"],[1.0,\"#f0f921\"]]}],\"mesh3d\":[{\"type\":\"mesh3d\",\"colorbar\":{\"outlinewidth\":0,\"ticks\":\"\"}}],\"scatter\":[{\"fillpattern\":{\"fillmode\":\"overlay\",\"size\":10,\"solidity\":0.2},\"type\":\"scatter\"}],\"parcoords\":[{\"type\":\"parcoords\",\"line\":{\"colorbar\":{\"outlinewidth\":0,\"ticks\":\"\"}}}],\"scatterpolargl\":[{\"type\":\"scatterpolargl\",\"marker\":{\"colorbar\":{\"outlinewidth\":0,\"ticks\":\"\"}}}],\"bar\":[{\"error_x\":{\"color\":\"#2a3f5f\"},\"error_y\":{\"color\":\"#2a3f5f\"},\"marker\":{\"line\":{\"color\":\"#E5ECF6\",\"width\":0.5},\"pattern\":{\"fillmode\":\"overlay\",\"size\":10,\"solidity\":0.2}},\"type\":\"bar\"}],\"scattergeo\":[{\"type\":\"scattergeo\",\"marker\":{\"colorbar\":{\"outlinewidth\":0,\"ticks\":\"\"}}}],\"scatterpolar\":[{\"type\":\"scatterpolar\",\"marker\":{\"colorbar\":{\"outlinewidth\":0,\"ticks\":\"\"}}}],\"histogram\":[{\"marker\":{\"pattern\":{\"fillmode\":\"overlay\",\"size\":10,\"solidity\":0.2}},\"type\":\"histogram\"}],\"scattergl\":[{\"type\":\"scattergl\",\"marker\":{\"colorbar\":{\"outlinewidth\":0,\"ticks\":\"\"}}}],\"scatter3d\":[{\"type\":\"scatter3d\",\"line\":{\"colorbar\":{\"outlinewidth\":0,\"ticks\":\"\"}},\"marker\":{\"colorbar\":{\"outlinewidth\":0,\"ticks\":\"\"}}}],\"scattermapbox\":[{\"type\":\"scattermapbox\",\"marker\":{\"colorbar\":{\"outlinewidth\":0,\"ticks\":\"\"}}}],\"scatterternary\":[{\"type\":\"scatterternary\",\"marker\":{\"colorbar\":{\"outlinewidth\":0,\"ticks\":\"\"}}}],\"scattercarpet\":[{\"type\":\"scattercarpet\",\"marker\":{\"colorbar\":{\"outlinewidth\":0,\"ticks\":\"\"}}}],\"carpet\":[{\"aaxis\":{\"endlinecolor\":\"#2a3f5f\",\"gridcolor\":\"white\",\"linecolor\":\"white\",\"minorgridcolor\":\"white\",\"startlinecolor\":\"#2a3f5f\"},\"baxis\":{\"endlinecolor\":\"#2a3f5f\",\"gridcolor\":\"white\",\"linecolor\":\"white\",\"minorgridcolor\":\"white\",\"startlinecolor\":\"#2a3f5f\"},\"type\":\"carpet\"}],\"table\":[{\"cells\":{\"fill\":{\"color\":\"#EBF0F8\"},\"line\":{\"color\":\"white\"}},\"header\":{\"fill\":{\"color\":\"#C8D4E3\"},\"line\":{\"color\":\"white\"}},\"type\":\"table\"}],\"barpolar\":[{\"marker\":{\"line\":{\"color\":\"#E5ECF6\",\"width\":0.5},\"pattern\":{\"fillmode\":\"overlay\",\"size\":10,\"solidity\":0.2}},\"type\":\"barpolar\"}],\"pie\":[{\"automargin\":true,\"type\":\"pie\"}]},\"layout\":{\"autotypenumbers\":\"strict\",\"colorway\":[\"#636efa\",\"#EF553B\",\"#00cc96\",\"#ab63fa\",\"#FFA15A\",\"#19d3f3\",\"#FF6692\",\"#B6E880\",\"#FF97FF\",\"#FECB52\"],\"font\":{\"color\":\"#2a3f5f\"},\"hovermode\":\"closest\",\"hoverlabel\":{\"align\":\"left\"},\"paper_bgcolor\":\"white\",\"plot_bgcolor\":\"#E5ECF6\",\"polar\":{\"bgcolor\":\"#E5ECF6\",\"angularaxis\":{\"gridcolor\":\"white\",\"linecolor\":\"white\",\"ticks\":\"\"},\"radialaxis\":{\"gridcolor\":\"white\",\"linecolor\":\"white\",\"ticks\":\"\"}},\"ternary\":{\"bgcolor\":\"#E5ECF6\",\"aaxis\":{\"gridcolor\":\"white\",\"linecolor\":\"white\",\"ticks\":\"\"},\"baxis\":{\"gridcolor\":\"white\",\"linecolor\":\"white\",\"ticks\":\"\"},\"caxis\":{\"gridcolor\":\"white\",\"linecolor\":\"white\",\"ticks\":\"\"}},\"coloraxis\":{\"colorbar\":{\"outlinewidth\":0,\"ticks\":\"\"}},\"colorscale\":{\"sequential\":[[0.0,\"#0d0887\"],[0.1111111111111111,\"#46039f\"],[0.2222222222222222,\"#7201a8\"],[0.3333333333333333,\"#9c179e\"],[0.4444444444444444,\"#bd3786\"],[0.5555555555555556,\"#d8576b\"],[0.6666666666666666,\"#ed7953\"],[0.7777777777777778,\"#fb9f3a\"],[0.8888888888888888,\"#fdca26\"],[1.0,\"#f0f921\"]],\"sequentialminus\":[[0.0,\"#0d0887\"],[0.1111111111111111,\"#46039f\"],[0.2222222222222222,\"#7201a8\"],[0.3333333333333333,\"#9c179e\"],[0.4444444444444444,\"#bd3786\"],[0.5555555555555556,\"#d8576b\"],[0.6666666666666666,\"#ed7953\"],[0.7777777777777778,\"#fb9f3a\"],[0.8888888888888888,\"#fdca26\"],[1.0,\"#f0f921\"]],\"diverging\":[[0,\"#8e0152\"],[0.1,\"#c51b7d\"],[0.2,\"#de77ae\"],[0.3,\"#f1b6da\"],[0.4,\"#fde0ef\"],[0.5,\"#f7f7f7\"],[0.6,\"#e6f5d0\"],[0.7,\"#b8e186\"],[0.8,\"#7fbc41\"],[0.9,\"#4d9221\"],[1,\"#276419\"]]},\"xaxis\":{\"gridcolor\":\"white\",\"linecolor\":\"white\",\"ticks\":\"\",\"title\":{\"standoff\":15},\"zerolinecolor\":\"white\",\"automargin\":true,\"zerolinewidth\":2},\"yaxis\":{\"gridcolor\":\"white\",\"linecolor\":\"white\",\"ticks\":\"\",\"title\":{\"standoff\":15},\"zerolinecolor\":\"white\",\"automargin\":true,\"zerolinewidth\":2},\"scene\":{\"xaxis\":{\"backgroundcolor\":\"#E5ECF6\",\"gridcolor\":\"white\",\"linecolor\":\"white\",\"showbackground\":true,\"ticks\":\"\",\"zerolinecolor\":\"white\",\"gridwidth\":2},\"yaxis\":{\"backgroundcolor\":\"#E5ECF6\",\"gridcolor\":\"white\",\"linecolor\":\"white\",\"showbackground\":true,\"ticks\":\"\",\"zerolinecolor\":\"white\",\"gridwidth\":2},\"zaxis\":{\"backgroundcolor\":\"#E5ECF6\",\"gridcolor\":\"white\",\"linecolor\":\"white\",\"showbackground\":true,\"ticks\":\"\",\"zerolinecolor\":\"white\",\"gridwidth\":2}},\"shapedefaults\":{\"line\":{\"color\":\"#2a3f5f\"}},\"annotationdefaults\":{\"arrowcolor\":\"#2a3f5f\",\"arrowhead\":0,\"arrowwidth\":1},\"geo\":{\"bgcolor\":\"white\",\"landcolor\":\"#E5ECF6\",\"subunitcolor\":\"white\",\"showland\":true,\"showlakes\":true,\"lakecolor\":\"white\"},\"title\":{\"x\":0.05},\"mapbox\":{\"style\":\"light\"}}},\"xaxis\":{\"anchor\":\"y\",\"domain\":[0.0,1.0],\"title\":{\"text\":\"Geographic Area\"}},\"yaxis\":{\"anchor\":\"x\",\"domain\":[0.0,1.0],\"title\":{\"text\":\"value\"}},\"legend\":{\"title\":{\"text\":\"variable\"},\"tracegroupgap\":0},\"margin\":{\"t\":60}},                        {\"responsive\": true}                    ).then(function(){\n",
              "                            \n",
              "var gd = document.getElementById('d2588ef6-9c30-4536-9358-86ade31aebf3');\n",
              "var x = new MutationObserver(function (mutations, observer) {{\n",
              "        var display = window.getComputedStyle(gd).display;\n",
              "        if (!display || display === 'none') {{\n",
              "            console.log([gd, 'removed!']);\n",
              "            Plotly.purge(gd);\n",
              "            observer.disconnect();\n",
              "        }}\n",
              "}});\n",
              "\n",
              "// Listen for the removal of the full notebook cells\n",
              "var notebookContainer = gd.closest('#notebook-container');\n",
              "if (notebookContainer) {{\n",
              "    x.observe(notebookContainer, {childList: true});\n",
              "}}\n",
              "\n",
              "// Listen for the clearing of the current output cell\n",
              "var outputEl = gd.closest('.output');\n",
              "if (outputEl) {{\n",
              "    x.observe(outputEl, {childList: true});\n",
              "}}\n",
              "\n",
              "                        })                };                            </script>        </div>\n",
              "</body>\n",
              "</html>"
            ]
          },
          "metadata": {}
        }
      ]
    },
    {
      "cell_type": "code",
      "metadata": {
        "id": "MkNk5U8v0JPB",
        "colab": {
          "base_uri": "https://localhost:8080/",
          "height": 298
        },
        "outputId": "9acac1fb-1a9a-42ed-ab78-8aa4ab7b1522"
      },
      "source": [
        "state_poverty.sort_index(inplace=True)\n",
        "state_hs_graduation.sort_index(inplace=True)\n",
        "\n",
        "ax1 = plt.gca()\n",
        "ax2 = ax1.twinx()\n",
        "\n",
        "plt.figure(figsize=(140,8))\n",
        "\n",
        "ax1.plot(df_hs_grad_poverty.index, df_hs_grad_poverty['poverty_rate'], color='g')\n",
        "ax2.plot(df_hs_grad_poverty.index, df_hs_grad_poverty['percent_completed_hs'], 'b')\n",
        "\n",
        "ax1.set_xlabel('State')\n",
        "ax1.set_ylabel('% Poverty', color='green')\n",
        "ax2.set_ylabel('HS Graduation', color='blue')\n",
        "\n",
        "plt.show()"
      ],
      "execution_count": null,
      "outputs": [
        {
          "output_type": "display_data",
          "data": {
            "text/plain": [
              "<Figure size 432x288 with 2 Axes>"
            ],
            "image/png": "[encoded data removed]"
          },
          "metadata": {
            "needs_background": "light"
          }
        },
        {
          "output_type": "display_data",
          "data": {
            "text/plain": [
              "<Figure size 10080x576 with 0 Axes>"
            ]
          },
          "metadata": {}
        }
      ]
    },
    {
      "cell_type": "markdown",
      "metadata": {
        "id": "Zavx_8PL1Jy9"
      },
      "source": [
        "#### Now use a Seaborn .jointplot() with a Kernel Density Estimate (KDE) and/or scatter plot to visualise the same relationship"
      ]
    },
    {
      "cell_type": "code",
      "metadata": {
        "id": "u77CHfdX0pjW",
        "colab": {
          "base_uri": "https://localhost:8080/",
          "height": 459
        },
        "outputId": "57cb2676-2a5f-49ce-cc2a-fcfb75d6b7ea"
      },
      "source": [
        "sns.jointplot(data=df_hs_grad_poverty, x=\"poverty_rate\", y=\"percent_completed_hs\",kind=\"kde\")"
      ],
      "execution_count": null,
      "outputs": [
        {
          "output_type": "execute_result",
          "data": {
            "text/plain": [
              "<seaborn.axisgrid.JointGrid at 0x7f4c0a46f070>"
            ]
          },
          "metadata": {},
          "execution_count": 84
        },
        {
          "output_type": "display_data",
          "data": {
            "text/plain": [
              "<Figure size 432x432 with 3 Axes>"
            ],
            "image/png": "[encoded data removed]"
          },
          "metadata": {
            "needs_background": "light"
          }
        }
      ]
    },
    {
      "cell_type": "code",
      "metadata": {
        "id": "CYy89o-u1zu0",
        "colab": {
          "base_uri": "https://localhost:8080/",
          "height": 459
        },
        "outputId": "5a8bd5af-d621-4fae-cf21-d679434f4ade"
      },
      "source": [
        "sns.jointplot(data=df_hs_grad_poverty, x=\"poverty_rate\", y=\"percent_completed_hs\")"
      ],
      "execution_count": null,
      "outputs": [
        {
          "output_type": "execute_result",
          "data": {
            "text/plain": [
              "<seaborn.axisgrid.JointGrid at 0x7f4c05811e20>"
            ]
          },
          "metadata": {},
          "execution_count": 85
        },
        {
          "output_type": "display_data",
          "data": {
            "text/plain": [
              "<Figure size 432x432 with 3 Axes>"
            ],
            "image/png": "[encoded data removed]"
          },
          "metadata": {
            "needs_background": "light"
          }
        }
      ]
    },
    {
      "cell_type": "markdown",
      "metadata": {
        "id": "PXNFQmHl10Fx"
      },
      "source": [
        "#### Seaborn's `.lmplot()` or `.regplot()` to show a linear regression between the poverty ratio and the high school graduation ratio."
      ]
    },
    {
      "cell_type": "code",
      "metadata": {
        "id": "F1xrjFgT1znI",
        "colab": {
          "base_uri": "https://localhost:8080/",
          "height": 301
        },
        "outputId": "228d0272-7a8b-496e-ad93-5e1a4bf278a4"
      },
      "source": [
        "sns.regplot(data=df_hs_grad_poverty,\n",
        "            x='poverty_rate',\n",
        "            y='percent_completed_hs')"
      ],
      "execution_count": null,
      "outputs": [
        {
          "output_type": "execute_result",
          "data": {
            "text/plain": [
              "<matplotlib.axes._subplots.AxesSubplot at 0x7f4c0a3ff0d0>"
            ]
          },
          "metadata": {},
          "execution_count": 86
        },
        {
          "output_type": "display_data",
          "data": {
            "text/plain": [
              "<Figure size 432x288 with 1 Axes>"
            ],
            "image/png": "[encoded data removed]"
          },
          "metadata": {
            "needs_background": "light"
          }
        }
      ]
    },
    {
      "cell_type": "markdown",
      "metadata": {
        "id": "QJTbZZKg0p6i"
      },
      "source": [
        "# Create a Bar Chart with Subsections Showing the Racial Makeup of Each US State\n",
        "\n",
        "Visualise the share of the white, black, hispanic, asian and native american population in each US State using a bar chart with sub sections."
      ]
    },
    {
      "cell_type": "code",
      "source": [
        "cols = ['share_white','share_black','share_native_american','share_asian','share_hispanic']\n",
        "for col in cols:\n",
        "  print(f'(X) in {col}: {df_share_race_city[col].value_counts()[\"(X)\"]}')"
      ],
      "metadata": {
        "colab": {
          "base_uri": "https://localhost:8080/"
        },
        "id": "MVbeYzW0wDt6",
        "outputId": "e5f63fb1-7294-42c9-ad2a-3561524a7306"
      },
      "execution_count": null,
      "outputs": [
        {
          "output_type": "stream",
          "name": "stdout",
          "text": [
            "(X) in share_white: 20\n",
            "(X) in share_black: 20\n",
            "(X) in share_native_american: 20\n",
            "(X) in share_asian: 20\n",
            "(X) in share_hispanic: 20\n"
          ]
        }
      ]
    },
    {
      "cell_type": "code",
      "source": [
        "cols = ['share_white','share_black','share_native_american','share_asian','share_hispanic']\n",
        "for col in cols:\n",
        "  index_to_drop3 = df_share_race_city[ (df_share_race_city[col] == '(X)') ].index\n",
        "  df_share_race_city.drop(index_to_drop3 , inplace=True)\n",
        "  df_share_race_city[col] = df_share_race_city[col].astype(float)"
      ],
      "metadata": {
        "id": "1WUCJOuNtDQe"
      },
      "execution_count": null,
      "outputs": []
    },
    {
      "cell_type": "code",
      "metadata": {
        "id": "YQbXb6Ex09D9"
      },
      "source": [
        "df_state_race = df_share_race_city.groupby('Geographic area')[cols].mean()"
      ],
      "execution_count": null,
      "outputs": []
    },
    {
      "cell_type": "code",
      "metadata": {
        "id": "LqrimlLo09Na",
        "colab": {
          "base_uri": "https://localhost:8080/",
          "height": 542
        },
        "outputId": "574455f2-f949-4a12-9911-3df23dc7dc81"
      },
      "source": [
        "fig = px.bar(df_state_race, title='Racial Makeup of Each US State', labels={'value':'Population', 'Geographic area': 'State'})\n",
        "fig.show()"
      ],
      "execution_count": null,
      "outputs": [
        {
          "output_type": "display_data",
          "data": {
            "text/html": [
              "<html>\n",
              "<head><meta charset=\"utf-8\" /></head>\n",
              "<body>\n",
              "    <div>            <script src=\"https://cdnjs.cloudflare.com/ajax/libs/mathjax/2.7.5/MathJax.js?config=TeX-AMS-MML_SVG\"></script><script type=\"text/javascript\">if (window.MathJax && window.MathJax.Hub && window.MathJax.Hub.Config) {window.MathJax.Hub.Config({SVG: {font: \"STIX-Web\"}});}</script>                <script type=\"text/javascript\">window.PlotlyConfig = {MathJaxConfig: 'local'};</script>\n",
              "        <script src=\"https://cdn.plot.ly/plotly-2.16.1.min.js\"></script>                <div id=\"3d6ef950-78a9-4434-b88c-59f75ba5fcf5\" class=\"plotly-graph-div\" style=\"height:525px; width:100%;\"></div>            <script type=\"text/javascript\">                                    window.PLOTLYENV=window.PLOTLYENV || {};                                    if (document.getElementById(\"3d6ef950-78a9-4434-b88c-59f75ba5fcf5\")) {                    Plotly.newPlot(                        \"3d6ef950-78a9-4434-b88c-59f75ba5fcf5\",                        [{\"alignmentgroup\":\"True\",\"hovertemplate\":\"variable=share_white<br>State=%{x}<br>Population=%{y}<extra></extra>\",\"legendgroup\":\"share_white\",\"marker\":{\"color\":\"#636efa\",\"pattern\":{\"shape\":\"\"}},\"name\":\"share_white\",\"offsetgroup\":\"share_white\",\"orientation\":\"v\",\"showlegend\":true,\"textposition\":\"auto\",\"x\":[\"AK\",\"AL\",\"AR\",\"AZ\",\"CA\",\"CO\",\"CT\",\"DC\",\"DE\",\"FL\",\"GA\",\"HI\",\"IA\",\"ID\",\"IL\",\"IN\",\"KS\",\"KY\",\"LA\",\"MA\",\"MD\",\"ME\",\"MI\",\"MN\",\"MO\",\"MS\",\"MT\",\"NC\",\"ND\",\"NE\",\"NH\",\"NJ\",\"NM\",\"NV\",\"NY\",\"OH\",\"OK\",\"OR\",\"PA\",\"RI\",\"SC\",\"SD\",\"TN\",\"TX\",\"UT\",\"VA\",\"VT\",\"WA\",\"WI\",\"WV\",\"WY\"],\"xaxis\":\"x\",\"y\":[45.65,72.50726643598615,78.44953789279113,59.929046563192905,71.86629287598944,87.76834061135372,86.1055944055944,38.5,76.24605263157895,78.6725,62.591533546325884,33.36953642384106,96.70584737363725,88.81762114537445,90.35705925384053,94.82390029325514,92.96259314456036,92.22685714285714,64.81458773784355,89.67201646090534,72.11640926640928,95.68625954198473,90.67153179190751,91.80022075055187,90.44392614188533,53.8,84.47589041095891,71.51650879566982,92.29376558603492,94.71758620689654,95.68124999999999,80.88954128440368,65.41851015801355,82.3263565891473,88.87830109335576,92.80406976744186,72.92578444747612,87.62553191489361,93.25323129251701,89.22647058823529,61.97569620253165,84.81769230769231,88.94708624708625,82.59193363844395,89.44325153374233,74.59712351945855,95.86638655462185,82.37595541401274,92.96054333764553,95.0354114713217,92.37376237623762],\"yaxis\":\"y\",\"type\":\"bar\"},{\"alignmentgroup\":\"True\",\"hovertemplate\":\"variable=share_black<br>State=%{x}<br>Population=%{y}<extra></extra>\",\"legendgroup\":\"share_black\",\"marker\":{\"color\":\"#EF553B\",\"pattern\":{\"shape\":\"\"}},\"name\":\"share_black\",\"offsetgroup\":\"share_black\",\"orientation\":\"v\",\"showlegend\":true,\"textposition\":\"auto\",\"x\":[\"AK\",\"AL\",\"AR\",\"AZ\",\"CA\",\"CO\",\"CT\",\"DC\",\"DE\",\"FL\",\"GA\",\"HI\",\"IA\",\"ID\",\"IL\",\"IN\",\"KS\",\"KY\",\"LA\",\"MA\",\"MD\",\"ME\",\"MI\",\"MN\",\"MO\",\"MS\",\"MT\",\"NC\",\"ND\",\"NE\",\"NH\",\"NJ\",\"NM\",\"NV\",\"NY\",\"OH\",\"OK\",\"OR\",\"PA\",\"RI\",\"SC\",\"SD\",\"TN\",\"TX\",\"UT\",\"VA\",\"VT\",\"WA\",\"WI\",\"WV\",\"WY\"],\"xaxis\":\"x\",\"y\":[0.5673295454545454,23.322318339100345,16.29685767097967,0.9545454545454546,2.692018469656992,0.9176855895196507,4.992307692307692,50.7,15.393421052631581,13.370869565217392,30.63354632587859,1.0708609271523177,0.5635282457879088,0.29515418502202645,4.70431602048281,1.6882697947214078,0.9605067064083458,4.421142857142857,30.775475687103594,2.8020576131687243,19.463899613899613,0.8198473282442749,4.124277456647399,1.0007726269315673,5.8793974732750245,41.83397790055248,0.22657534246575342,20.40230040595399,0.357356608478803,0.42051724137931035,0.7156250000000001,6.975045871559633,0.6670428893905191,1.5674418604651161,4.007737594617326,3.959966777408638,3.376261937244202,0.5295212765957447,3.270238095238095,2.988235294117647,32.834430379746834,0.29,7.302797202797203,5.87974828375286,0.38496932515337423,16.51082910321489,0.7705882352941177,1.426592356687898,0.9372574385510997,2.915211970074813,0.3995049504950495],\"yaxis\":\"y\",\"type\":\"bar\"},{\"alignmentgroup\":\"True\",\"hovertemplate\":\"variable=share_native_american<br>State=%{x}<br>Population=%{y}<extra></extra>\",\"legendgroup\":\"share_native_american\",\"marker\":{\"color\":\"#00cc96\",\"pattern\":{\"shape\":\"\"}},\"name\":\"share_native_american\",\"offsetgroup\":\"share_native_american\",\"orientation\":\"v\",\"showlegend\":true,\"textposition\":\"auto\",\"x\":[\"AK\",\"AL\",\"AR\",\"AZ\",\"CA\",\"CO\",\"CT\",\"DC\",\"DE\",\"FL\",\"GA\",\"HI\",\"IA\",\"ID\",\"IL\",\"IN\",\"KS\",\"KY\",\"LA\",\"MA\",\"MD\",\"ME\",\"MI\",\"MN\",\"MO\",\"MS\",\"MT\",\"NC\",\"ND\",\"NE\",\"NH\",\"NJ\",\"NM\",\"NV\",\"NY\",\"OH\",\"OK\",\"OR\",\"PA\",\"RI\",\"SC\",\"SD\",\"TN\",\"TX\",\"UT\",\"VA\",\"VT\",\"WA\",\"WI\",\"WV\",\"WY\"],\"xaxis\":\"x\",\"y\":[45.86477272727273,0.6593425605536333,0.7598890942698706,28.58980044345898,1.7230870712401054,1.624890829694323,0.6566433566433567,0.3,0.5236842105263158,0.45543478260869563,0.3003194888178914,0.3880794701986755,0.2713577799801784,2.524669603524229,0.26181419166057057,0.27580645161290324,1.8731743666169898,0.21009523809523808,0.9572938689217759,0.26625514403292183,0.34092664092664093,0.5450381679389313,1.0770231213872832,3.363134657836645,0.5443148688046647,1.6146408839779005,11.870958904109589,1.7880920162381597,5.329925187032419,1.5598275862068964,0.28750000000000003,0.25706422018348624,15.340406320541762,5.576744186046511,0.3613120269133726,0.2150332225913621,14.382128240109141,2.5885638297872338,0.16156462585034015,0.6705882352941177,0.4627848101265823,12.026666666666666,0.31655011655011656,0.6588672768878718,3.8702453987730063,0.34230118443316415,0.3697478991596639,3.7503184713375792,2.6203104786545923,0.20024937655860348,3.095049504950495],\"yaxis\":\"y\",\"type\":\"bar\"},{\"alignmentgroup\":\"True\",\"hovertemplate\":\"variable=share_asian<br>State=%{x}<br>Population=%{y}<extra></extra>\",\"legendgroup\":\"share_asian\",\"marker\":{\"color\":\"#ab63fa\",\"pattern\":{\"shape\":\"\"}},\"name\":\"share_asian\",\"offsetgroup\":\"share_asian\",\"orientation\":\"v\",\"showlegend\":true,\"textposition\":\"auto\",\"x\":[\"AK\",\"AL\",\"AR\",\"AZ\",\"CA\",\"CO\",\"CT\",\"DC\",\"DE\",\"FL\",\"GA\",\"HI\",\"IA\",\"ID\",\"IL\",\"IN\",\"KS\",\"KY\",\"LA\",\"MA\",\"MD\",\"ME\",\"MI\",\"MN\",\"MO\",\"MS\",\"MT\",\"NC\",\"ND\",\"NE\",\"NH\",\"NJ\",\"NM\",\"NV\",\"NY\",\"OH\",\"OK\",\"OR\",\"PA\",\"RI\",\"SC\",\"SD\",\"TN\",\"TX\",\"UT\",\"VA\",\"VT\",\"WA\",\"WI\",\"WV\",\"WY\"],\"xaxis\":\"x\",\"y\":[1.3883522727272728,0.47975778546712805,0.4770794824399261,0.7266075388026607,5.56820580474934,1.1548034934497815,2.9895104895104896,3.5,2.0,1.6167391304347827,1.4915335463258788,25.65496688741722,0.400792864222002,0.48766519823788546,1.337454279444038,0.5868035190615836,0.42637853949329363,0.711047619047619,0.7864693446088795,2.853497942386831,2.9801158301158304,1.03206106870229,0.9541907514450867,1.0257174392935982,0.5498542274052478,0.5461325966850828,0.3189041095890411,0.9262516914749662,0.29351620947630924,0.291896551724138,1.3427083333333334,5.944770642201835,0.49390519187358917,2.0069767441860464,2.719343986543314,0.7514950166112957,0.4264665757162347,1.3824468085106383,0.9890022675736961,1.688235294117647,0.74,0.31794871794871793,0.6372960372960372,1.0147597254004577,0.7708588957055215,3.669035532994924,0.9100840336134454,3.0745222929936307,0.7908150064683053,0.3411471321695761,0.3896039603960396],\"yaxis\":\"y\",\"type\":\"bar\"},{\"alignmentgroup\":\"True\",\"hovertemplate\":\"variable=share_hispanic<br>State=%{x}<br>Population=%{y}<extra></extra>\",\"legendgroup\":\"share_hispanic\",\"marker\":{\"color\":\"#FFA15A\",\"pattern\":{\"shape\":\"\"}},\"name\":\"share_hispanic\",\"offsetgroup\":\"share_hispanic\",\"orientation\":\"v\",\"showlegend\":true,\"textposition\":\"auto\",\"x\":[\"AK\",\"AL\",\"AR\",\"AZ\",\"CA\",\"CO\",\"CT\",\"DC\",\"DE\",\"FL\",\"GA\",\"HI\",\"IA\",\"ID\",\"IL\",\"IN\",\"KS\",\"KY\",\"LA\",\"MA\",\"MD\",\"ME\",\"MI\",\"MN\",\"MO\",\"MS\",\"MT\",\"NC\",\"ND\",\"NE\",\"NH\",\"NJ\",\"NM\",\"NV\",\"NY\",\"OH\",\"OK\",\"OR\",\"PA\",\"RI\",\"SC\",\"SD\",\"TN\",\"TX\",\"UT\",\"VA\",\"VT\",\"WA\",\"WI\",\"WV\",\"WY\"],\"xaxis\":\"x\",\"y\":[2.149147727272727,2.9801038062283736,4.273012939001848,20.144567627494457,29.649868073878626,17.89868995633188,7.975524475524476,9.1,7.417105263157896,16.52913043478261,6.415175718849841,10.358278145695364,2.8190287413280477,10.695154185022027,5.170519385515728,3.3181818181818183,5.071684053651267,2.2255238095238097,2.9765327695560257,4.946090534979424,5.931467181467181,1.3129770992366412,3.5354046242774566,3.1538631346578367,2.364820213799806,2.3218232044198897,2.192054794520548,6.412855209742896,1.8229426433915212,4.070172413793103,1.7447916666666667,11.122935779816514,45.434537246049665,13.173643410852714,6.629184188393609,2.1303986710963456,5.696452933151432,9.77686170212766,2.7325396825396826,6.667647058823529,4.475443037974683,2.036923076923077,2.8561771561771563,39.364874141876435,7.663190184049079,6.152961082910322,1.3798319327731092,10.60843949044586,3.3232858990944374,0.9042394014962594,6.017821782178217],\"yaxis\":\"y\",\"type\":\"bar\"}],                        {\"template\":{\"data\":{\"histogram2dcontour\":[{\"type\":\"histogram2dcontour\",\"colorbar\":{\"outlinewidth\":0,\"ticks\":\"\"},\"colorscale\":[[0.0,\"#0d0887\"],[0.1111111111111111,\"#46039f\"],[0.2222222222222222,\"#7201a8\"],[0.3333333333333333,\"#9c179e\"],[0.4444444444444444,\"#bd3786\"],[0.5555555555555556,\"#d8576b\"],[0.6666666666666666,\"#ed7953\"],[0.7777777777777778,\"#fb9f3a\"],[0.8888888888888888,\"#fdca26\"],[1.0,\"#f0f921\"]]}],\"choropleth\":[{\"type\":\"choropleth\",\"colorbar\":{\"outlinewidth\":0,\"ticks\":\"\"}}],\"histogram2d\":[{\"type\":\"histogram2d\",\"colorbar\":{\"outlinewidth\":0,\"ticks\":\"\"},\"colorscale\":[[0.0,\"#0d0887\"],[0.1111111111111111,\"#46039f\"],[0.2222222222222222,\"#7201a8\"],[0.3333333333333333,\"#9c179e\"],[0.4444444444444444,\"#bd3786\"],[0.5555555555555556,\"#d8576b\"],[0.6666666666666666,\"#ed7953\"],[0.7777777777777778,\"#fb9f3a\"],[0.8888888888888888,\"#fdca26\"],[1.0,\"#f0f921\"]]}],\"heatmap\":[{\"type\":\"heatmap\",\"colorbar\":{\"outlinewidth\":0,\"ticks\":\"\"},\"colorscale\":[[0.0,\"#0d0887\"],[0.1111111111111111,\"#46039f\"],[0.2222222222222222,\"#7201a8\"],[0.3333333333333333,\"#9c179e\"],[0.4444444444444444,\"#bd3786\"],[0.5555555555555556,\"#d8576b\"],[0.6666666666666666,\"#ed7953\"],[0.7777777777777778,\"#fb9f3a\"],[0.8888888888888888,\"#fdca26\"],[1.0,\"#f0f921\"]]}],\"heatmapgl\":[{\"type\":\"heatmapgl\",\"colorbar\":{\"outlinewidth\":0,\"ticks\":\"\"},\"colorscale\":[[0.0,\"#0d0887\"],[0.1111111111111111,\"#46039f\"],[0.2222222222222222,\"#7201a8\"],[0.3333333333333333,\"#9c179e\"],[0.4444444444444444,\"#bd3786\"],[0.5555555555555556,\"#d8576b\"],[0.6666666666666666,\"#ed7953\"],[0.7777777777777778,\"#fb9f3a\"],[0.8888888888888888,\"#fdca26\"],[1.0,\"#f0f921\"]]}],\"contourcarpet\":[{\"type\":\"contourcarpet\",\"colorbar\":{\"outlinewidth\":0,\"ticks\":\"\"}}],\"contour\":[{\"type\":\"contour\",\"colorbar\":{\"outlinewidth\":0,\"ticks\":\"\"},\"colorscale\":[[0.0,\"#0d0887\"],[0.1111111111111111,\"#46039f\"],[0.2222222222222222,\"#7201a8\"],[0.3333333333333333,\"#9c179e\"],[0.4444444444444444,\"#bd3786\"],[0.5555555555555556,\"#d8576b\"],[0.6666666666666666,\"#ed7953\"],[0.7777777777777778,\"#fb9f3a\"],[0.8888888888888888,\"#fdca26\"],[1.0,\"#f0f921\"]]}],\"surface\":[{\"type\":\"surface\",\"colorbar\":{\"outlinewidth\":0,\"ticks\":\"\"},\"colorscale\":[[0.0,\"#0d0887\"],[0.1111111111111111,\"#46039f\"],[0.2222222222222222,\"#7201a8\"],[0.3333333333333333,\"#9c179e\"],[0.4444444444444444,\"#bd3786\"],[0.5555555555555556,\"#d8576b\"],[0.6666666666666666,\"#ed7953\"],[0.7777777777777778,\"#fb9f3a\"],[0.8888888888888888,\"#fdca26\"],[1.0,\"#f0f921\"]]}],\"mesh3d\":[{\"type\":\"mesh3d\",\"colorbar\":{\"outlinewidth\":0,\"ticks\":\"\"}}],\"scatter\":[{\"fillpattern\":{\"fillmode\":\"overlay\",\"size\":10,\"solidity\":0.2},\"type\":\"scatter\"}],\"parcoords\":[{\"type\":\"parcoords\",\"line\":{\"colorbar\":{\"outlinewidth\":0,\"ticks\":\"\"}}}],\"scatterpolargl\":[{\"type\":\"scatterpolargl\",\"marker\":{\"colorbar\":{\"outlinewidth\":0,\"ticks\":\"\"}}}],\"bar\":[{\"error_x\":{\"color\":\"#2a3f5f\"},\"error_y\":{\"color\":\"#2a3f5f\"},\"marker\":{\"line\":{\"color\":\"#E5ECF6\",\"width\":0.5},\"pattern\":{\"fillmode\":\"overlay\",\"size\":10,\"solidity\":0.2}},\"type\":\"bar\"}],\"scattergeo\":[{\"type\":\"scattergeo\",\"marker\":{\"colorbar\":{\"outlinewidth\":0,\"ticks\":\"\"}}}],\"scatterpolar\":[{\"type\":\"scatterpolar\",\"marker\":{\"colorbar\":{\"outlinewidth\":0,\"ticks\":\"\"}}}],\"histogram\":[{\"marker\":{\"pattern\":{\"fillmode\":\"overlay\",\"size\":10,\"solidity\":0.2}},\"type\":\"histogram\"}],\"scattergl\":[{\"type\":\"scattergl\",\"marker\":{\"colorbar\":{\"outlinewidth\":0,\"ticks\":\"\"}}}],\"scatter3d\":[{\"type\":\"scatter3d\",\"line\":{\"colorbar\":{\"outlinewidth\":0,\"ticks\":\"\"}},\"marker\":{\"colorbar\":{\"outlinewidth\":0,\"ticks\":\"\"}}}],\"scattermapbox\":[{\"type\":\"scattermapbox\",\"marker\":{\"colorbar\":{\"outlinewidth\":0,\"ticks\":\"\"}}}],\"scatterternary\":[{\"type\":\"scatterternary\",\"marker\":{\"colorbar\":{\"outlinewidth\":0,\"ticks\":\"\"}}}],\"scattercarpet\":[{\"type\":\"scattercarpet\",\"marker\":{\"colorbar\":{\"outlinewidth\":0,\"ticks\":\"\"}}}],\"carpet\":[{\"aaxis\":{\"endlinecolor\":\"#2a3f5f\",\"gridcolor\":\"white\",\"linecolor\":\"white\",\"minorgridcolor\":\"white\",\"startlinecolor\":\"#2a3f5f\"},\"baxis\":{\"endlinecolor\":\"#2a3f5f\",\"gridcolor\":\"white\",\"linecolor\":\"white\",\"minorgridcolor\":\"white\",\"startlinecolor\":\"#2a3f5f\"},\"type\":\"carpet\"}],\"table\":[{\"cells\":{\"fill\":{\"color\":\"#EBF0F8\"},\"line\":{\"color\":\"white\"}},\"header\":{\"fill\":{\"color\":\"#C8D4E3\"},\"line\":{\"color\":\"white\"}},\"type\":\"table\"}],\"barpolar\":[{\"marker\":{\"line\":{\"color\":\"#E5ECF6\",\"width\":0.5},\"pattern\":{\"fillmode\":\"overlay\",\"size\":10,\"solidity\":0.2}},\"type\":\"barpolar\"}],\"pie\":[{\"automargin\":true,\"type\":\"pie\"}]},\"layout\":{\"autotypenumbers\":\"strict\",\"colorway\":[\"#636efa\",\"#EF553B\",\"#00cc96\",\"#ab63fa\",\"#FFA15A\",\"#19d3f3\",\"#FF6692\",\"#B6E880\",\"#FF97FF\",\"#FECB52\"],\"font\":{\"color\":\"#2a3f5f\"},\"hovermode\":\"closest\",\"hoverlabel\":{\"align\":\"left\"},\"paper_bgcolor\":\"white\",\"plot_bgcolor\":\"#E5ECF6\",\"polar\":{\"bgcolor\":\"#E5ECF6\",\"angularaxis\":{\"gridcolor\":\"white\",\"linecolor\":\"white\",\"ticks\":\"\"},\"radialaxis\":{\"gridcolor\":\"white\",\"linecolor\":\"white\",\"ticks\":\"\"}},\"ternary\":{\"bgcolor\":\"#E5ECF6\",\"aaxis\":{\"gridcolor\":\"white\",\"linecolor\":\"white\",\"ticks\":\"\"},\"baxis\":{\"gridcolor\":\"white\",\"linecolor\":\"white\",\"ticks\":\"\"},\"caxis\":{\"gridcolor\":\"white\",\"linecolor\":\"white\",\"ticks\":\"\"}},\"coloraxis\":{\"colorbar\":{\"outlinewidth\":0,\"ticks\":\"\"}},\"colorscale\":{\"sequential\":[[0.0,\"#0d0887\"],[0.1111111111111111,\"#46039f\"],[0.2222222222222222,\"#7201a8\"],[0.3333333333333333,\"#9c179e\"],[0.4444444444444444,\"#bd3786\"],[0.5555555555555556,\"#d8576b\"],[0.6666666666666666,\"#ed7953\"],[0.7777777777777778,\"#fb9f3a\"],[0.8888888888888888,\"#fdca26\"],[1.0,\"#f0f921\"]],\"sequentialminus\":[[0.0,\"#0d0887\"],[0.1111111111111111,\"#46039f\"],[0.2222222222222222,\"#7201a8\"],[0.3333333333333333,\"#9c179e\"],[0.4444444444444444,\"#bd3786\"],[0.5555555555555556,\"#d8576b\"],[0.6666666666666666,\"#ed7953\"],[0.7777777777777778,\"#fb9f3a\"],[0.8888888888888888,\"#fdca26\"],[1.0,\"#f0f921\"]],\"diverging\":[[0,\"#8e0152\"],[0.1,\"#c51b7d\"],[0.2,\"#de77ae\"],[0.3,\"#f1b6da\"],[0.4,\"#fde0ef\"],[0.5,\"#f7f7f7\"],[0.6,\"#e6f5d0\"],[0.7,\"#b8e186\"],[0.8,\"#7fbc41\"],[0.9,\"#4d9221\"],[1,\"#276419\"]]},\"xaxis\":{\"gridcolor\":\"white\",\"linecolor\":\"white\",\"ticks\":\"\",\"title\":{\"standoff\":15},\"zerolinecolor\":\"white\",\"automargin\":true,\"zerolinewidth\":2},\"yaxis\":{\"gridcolor\":\"white\",\"linecolor\":\"white\",\"ticks\":\"\",\"title\":{\"standoff\":15},\"zerolinecolor\":\"white\",\"automargin\":true,\"zerolinewidth\":2},\"scene\":{\"xaxis\":{\"backgroundcolor\":\"#E5ECF6\",\"gridcolor\":\"white\",\"linecolor\":\"white\",\"showbackground\":true,\"ticks\":\"\",\"zerolinecolor\":\"white\",\"gridwidth\":2},\"yaxis\":{\"backgroundcolor\":\"#E5ECF6\",\"gridcolor\":\"white\",\"linecolor\":\"white\",\"showbackground\":true,\"ticks\":\"\",\"zerolinecolor\":\"white\",\"gridwidth\":2},\"zaxis\":{\"backgroundcolor\":\"#E5ECF6\",\"gridcolor\":\"white\",\"linecolor\":\"white\",\"showbackground\":true,\"ticks\":\"\",\"zerolinecolor\":\"white\",\"gridwidth\":2}},\"shapedefaults\":{\"line\":{\"color\":\"#2a3f5f\"}},\"annotationdefaults\":{\"arrowcolor\":\"#2a3f5f\",\"arrowhead\":0,\"arrowwidth\":1},\"geo\":{\"bgcolor\":\"white\",\"landcolor\":\"#E5ECF6\",\"subunitcolor\":\"white\",\"showland\":true,\"showlakes\":true,\"lakecolor\":\"white\"},\"title\":{\"x\":0.05},\"mapbox\":{\"style\":\"light\"}}},\"xaxis\":{\"anchor\":\"y\",\"domain\":[0.0,1.0],\"title\":{\"text\":\"State\"}},\"yaxis\":{\"anchor\":\"x\",\"domain\":[0.0,1.0],\"title\":{\"text\":\"Population\"}},\"legend\":{\"title\":{\"text\":\"variable\"},\"tracegroupgap\":0},\"title\":{\"text\":\"Racial Makeup of Each US State\"},\"barmode\":\"relative\"},                        {\"responsive\": true}                    ).then(function(){\n",
              "                            \n",
              "var gd = document.getElementById('3d6ef950-78a9-4434-b88c-59f75ba5fcf5');\n",
              "var x = new MutationObserver(function (mutations, observer) {{\n",
              "        var display = window.getComputedStyle(gd).display;\n",
              "        if (!display || display === 'none') {{\n",
              "            console.log([gd, 'removed!']);\n",
              "            Plotly.purge(gd);\n",
              "            observer.disconnect();\n",
              "        }}\n",
              "}});\n",
              "\n",
              "// Listen for the removal of the full notebook cells\n",
              "var notebookContainer = gd.closest('#notebook-container');\n",
              "if (notebookContainer) {{\n",
              "    x.observe(notebookContainer, {childList: true});\n",
              "}}\n",
              "\n",
              "// Listen for the clearing of the current output cell\n",
              "var outputEl = gd.closest('.output');\n",
              "if (outputEl) {{\n",
              "    x.observe(outputEl, {childList: true});\n",
              "}}\n",
              "\n",
              "                        })                };                            </script>        </div>\n",
              "</body>\n",
              "</html>"
            ]
          },
          "metadata": {}
        }
      ]
    },
    {
      "cell_type": "markdown",
      "metadata": {
        "_uuid": "77493cfd86a031612be8fb8d60f27713e74e6d80",
        "id": "K7xvQXkjuRo7"
      },
      "source": [
        "# Create Donut Chart by of People Killed by Race\n",
        "\n",
        "Hint: Use `.value_counts()`"
      ]
    },
    {
      "cell_type": "code",
      "metadata": {
        "id": "1nOafPdy1u9Z"
      },
      "source": [
        "deaths_by_race = df_fatalities.groupby('race')['race'].count()"
      ],
      "execution_count": null,
      "outputs": []
    },
    {
      "cell_type": "code",
      "metadata": {
        "id": "YN3hzJTe1vHJ",
        "colab": {
          "base_uri": "https://localhost:8080/",
          "height": 542
        },
        "outputId": "b13eccf2-ecbd-46a9-ae42-0518fcd486d5"
      },
      "source": [
        "fig = px.pie(deaths_by_race, values=deaths_by_race.values, names=deaths_by_race.index, hole=.3, title='Police killings by race')\n",
        "fig.show()"
      ],
      "execution_count": null,
      "outputs": [
        {
          "output_type": "display_data",
          "data": {
            "text/html": [
              "<html>\n",
              "<head><meta charset=\"utf-8\" /></head>\n",
              "<body>\n",
              "    <div>            <script src=\"https://cdnjs.cloudflare.com/ajax/libs/mathjax/2.7.5/MathJax.js?config=TeX-AMS-MML_SVG\"></script><script type=\"text/javascript\">if (window.MathJax) {MathJax.Hub.Config({SVG: {font: \"STIX-Web\"}});}</script>                <script type=\"text/javascript\">window.PlotlyConfig = {MathJaxConfig: 'local'};</script>\n",
              "        <script src=\"https://cdn.plot.ly/plotly-2.8.3.min.js\"></script>                <div id=\"bf1c363a-f457-4a0c-83ca-5a443815236c\" class=\"plotly-graph-div\" style=\"height:525px; width:100%;\"></div>            <script type=\"text/javascript\">                                    window.PLOTLYENV=window.PLOTLYENV || {};                                    if (document.getElementById(\"bf1c363a-f457-4a0c-83ca-5a443815236c\")) {                    Plotly.newPlot(                        \"bf1c363a-f457-4a0c-83ca-5a443815236c\",                        [{\"domain\":{\"x\":[0.0,1.0],\"y\":[0.0,1.0]},\"hole\":0.3,\"hovertemplate\":\"index=%{label}<br>value=%{value}<extra></extra>\",\"labels\":[\"A\",\"B\",\"H\",\"N\",\"O\",\"W\"],\"legendgroup\":\"\",\"name\":\"\",\"showlegend\":true,\"values\":[39,618,423,31,28,1201],\"type\":\"pie\"}],                        {\"template\":{\"data\":{\"bar\":[{\"error_x\":{\"color\":\"#2a3f5f\"},\"error_y\":{\"color\":\"#2a3f5f\"},\"marker\":{\"line\":{\"color\":\"#E5ECF6\",\"width\":0.5},\"pattern\":{\"fillmode\":\"overlay\",\"size\":10,\"solidity\":0.2}},\"type\":\"bar\"}],\"barpolar\":[{\"marker\":{\"line\":{\"color\":\"#E5ECF6\",\"width\":0.5},\"pattern\":{\"fillmode\":\"overlay\",\"size\":10,\"solidity\":0.2}},\"type\":\"barpolar\"}],\"carpet\":[{\"aaxis\":{\"endlinecolor\":\"#2a3f5f\",\"gridcolor\":\"white\",\"linecolor\":\"white\",\"minorgridcolor\":\"white\",\"startlinecolor\":\"#2a3f5f\"},\"baxis\":{\"endlinecolor\":\"#2a3f5f\",\"gridcolor\":\"white\",\"linecolor\":\"white\",\"minorgridcolor\":\"white\",\"startlinecolor\":\"#2a3f5f\"},\"type\":\"carpet\"}],\"choropleth\":[{\"colorbar\":{\"outlinewidth\":0,\"ticks\":\"\"},\"type\":\"choropleth\"}],\"contour\":[{\"colorbar\":{\"outlinewidth\":0,\"ticks\":\"\"},\"colorscale\":[[0.0,\"#0d0887\"],[0.1111111111111111,\"#46039f\"],[0.2222222222222222,\"#7201a8\"],[0.3333333333333333,\"#9c179e\"],[0.4444444444444444,\"#bd3786\"],[0.5555555555555556,\"#d8576b\"],[0.6666666666666666,\"#ed7953\"],[0.7777777777777778,\"#fb9f3a\"],[0.8888888888888888,\"#fdca26\"],[1.0,\"#f0f921\"]],\"type\":\"contour\"}],\"contourcarpet\":[{\"colorbar\":{\"outlinewidth\":0,\"ticks\":\"\"},\"type\":\"contourcarpet\"}],\"heatmap\":[{\"colorbar\":{\"outlinewidth\":0,\"ticks\":\"\"},\"colorscale\":[[0.0,\"#0d0887\"],[0.1111111111111111,\"#46039f\"],[0.2222222222222222,\"#7201a8\"],[0.3333333333333333,\"#9c179e\"],[0.4444444444444444,\"#bd3786\"],[0.5555555555555556,\"#d8576b\"],[0.6666666666666666,\"#ed7953\"],[0.7777777777777778,\"#fb9f3a\"],[0.8888888888888888,\"#fdca26\"],[1.0,\"#f0f921\"]],\"type\":\"heatmap\"}],\"heatmapgl\":[{\"colorbar\":{\"outlinewidth\":0,\"ticks\":\"\"},\"colorscale\":[[0.0,\"#0d0887\"],[0.1111111111111111,\"#46039f\"],[0.2222222222222222,\"#7201a8\"],[0.3333333333333333,\"#9c179e\"],[0.4444444444444444,\"#bd3786\"],[0.5555555555555556,\"#d8576b\"],[0.6666666666666666,\"#ed7953\"],[0.7777777777777778,\"#fb9f3a\"],[0.8888888888888888,\"#fdca26\"],[1.0,\"#f0f921\"]],\"type\":\"heatmapgl\"}],\"histogram\":[{\"marker\":{\"pattern\":{\"fillmode\":\"overlay\",\"size\":10,\"solidity\":0.2}},\"type\":\"histogram\"}],\"histogram2d\":[{\"colorbar\":{\"outlinewidth\":0,\"ticks\":\"\"},\"colorscale\":[[0.0,\"#0d0887\"],[0.1111111111111111,\"#46039f\"],[0.2222222222222222,\"#7201a8\"],[0.3333333333333333,\"#9c179e\"],[0.4444444444444444,\"#bd3786\"],[0.5555555555555556,\"#d8576b\"],[0.6666666666666666,\"#ed7953\"],[0.7777777777777778,\"#fb9f3a\"],[0.8888888888888888,\"#fdca26\"],[1.0,\"#f0f921\"]],\"type\":\"histogram2d\"}],\"histogram2dcontour\":[{\"colorbar\":{\"outlinewidth\":0,\"ticks\":\"\"},\"colorscale\":[[0.0,\"#0d0887\"],[0.1111111111111111,\"#46039f\"],[0.2222222222222222,\"#7201a8\"],[0.3333333333333333,\"#9c179e\"],[0.4444444444444444,\"#bd3786\"],[0.5555555555555556,\"#d8576b\"],[0.6666666666666666,\"#ed7953\"],[0.7777777777777778,\"#fb9f3a\"],[0.8888888888888888,\"#fdca26\"],[1.0,\"#f0f921\"]],\"type\":\"histogram2dcontour\"}],\"mesh3d\":[{\"colorbar\":{\"outlinewidth\":0,\"ticks\":\"\"},\"type\":\"mesh3d\"}],\"parcoords\":[{\"line\":{\"colorbar\":{\"outlinewidth\":0,\"ticks\":\"\"}},\"type\":\"parcoords\"}],\"pie\":[{\"automargin\":true,\"type\":\"pie\"}],\"scatter\":[{\"marker\":{\"colorbar\":{\"outlinewidth\":0,\"ticks\":\"\"}},\"type\":\"scatter\"}],\"scatter3d\":[{\"line\":{\"colorbar\":{\"outlinewidth\":0,\"ticks\":\"\"}},\"marker\":{\"colorbar\":{\"outlinewidth\":0,\"ticks\":\"\"}},\"type\":\"scatter3d\"}],\"scattercarpet\":[{\"marker\":{\"colorbar\":{\"outlinewidth\":0,\"ticks\":\"\"}},\"type\":\"scattercarpet\"}],\"scattergeo\":[{\"marker\":{\"colorbar\":{\"outlinewidth\":0,\"ticks\":\"\"}},\"type\":\"scattergeo\"}],\"scattergl\":[{\"marker\":{\"colorbar\":{\"outlinewidth\":0,\"ticks\":\"\"}},\"type\":\"scattergl\"}],\"scattermapbox\":[{\"marker\":{\"colorbar\":{\"outlinewidth\":0,\"ticks\":\"\"}},\"type\":\"scattermapbox\"}],\"scatterpolar\":[{\"marker\":{\"colorbar\":{\"outlinewidth\":0,\"ticks\":\"\"}},\"type\":\"scatterpolar\"}],\"scatterpolargl\":[{\"marker\":{\"colorbar\":{\"outlinewidth\":0,\"ticks\":\"\"}},\"type\":\"scatterpolargl\"}],\"scatterternary\":[{\"marker\":{\"colorbar\":{\"outlinewidth\":0,\"ticks\":\"\"}},\"type\":\"scatterternary\"}],\"surface\":[{\"colorbar\":{\"outlinewidth\":0,\"ticks\":\"\"},\"colorscale\":[[0.0,\"#0d0887\"],[0.1111111111111111,\"#46039f\"],[0.2222222222222222,\"#7201a8\"],[0.3333333333333333,\"#9c179e\"],[0.4444444444444444,\"#bd3786\"],[0.5555555555555556,\"#d8576b\"],[0.6666666666666666,\"#ed7953\"],[0.7777777777777778,\"#fb9f3a\"],[0.8888888888888888,\"#fdca26\"],[1.0,\"#f0f921\"]],\"type\":\"surface\"}],\"table\":[{\"cells\":{\"fill\":{\"color\":\"#EBF0F8\"},\"line\":{\"color\":\"white\"}},\"header\":{\"fill\":{\"color\":\"#C8D4E3\"},\"line\":{\"color\":\"white\"}},\"type\":\"table\"}]},\"layout\":{\"annotationdefaults\":{\"arrowcolor\":\"#2a3f5f\",\"arrowhead\":0,\"arrowwidth\":1},\"autotypenumbers\":\"strict\",\"coloraxis\":{\"colorbar\":{\"outlinewidth\":0,\"ticks\":\"\"}},\"colorscale\":{\"diverging\":[[0,\"#8e0152\"],[0.1,\"#c51b7d\"],[0.2,\"#de77ae\"],[0.3,\"#f1b6da\"],[0.4,\"#fde0ef\"],[0.5,\"#f7f7f7\"],[0.6,\"#e6f5d0\"],[0.7,\"#b8e186\"],[0.8,\"#7fbc41\"],[0.9,\"#4d9221\"],[1,\"#276419\"]],\"sequential\":[[0.0,\"#0d0887\"],[0.1111111111111111,\"#46039f\"],[0.2222222222222222,\"#7201a8\"],[0.3333333333333333,\"#9c179e\"],[0.4444444444444444,\"#bd3786\"],[0.5555555555555556,\"#d8576b\"],[0.6666666666666666,\"#ed7953\"],[0.7777777777777778,\"#fb9f3a\"],[0.8888888888888888,\"#fdca26\"],[1.0,\"#f0f921\"]],\"sequentialminus\":[[0.0,\"#0d0887\"],[0.1111111111111111,\"#46039f\"],[0.2222222222222222,\"#7201a8\"],[0.3333333333333333,\"#9c179e\"],[0.4444444444444444,\"#bd3786\"],[0.5555555555555556,\"#d8576b\"],[0.6666666666666666,\"#ed7953\"],[0.7777777777777778,\"#fb9f3a\"],[0.8888888888888888,\"#fdca26\"],[1.0,\"#f0f921\"]]},\"colorway\":[\"#636efa\",\"#EF553B\",\"#00cc96\",\"#ab63fa\",\"#FFA15A\",\"#19d3f3\",\"#FF6692\",\"#B6E880\",\"#FF97FF\",\"#FECB52\"],\"font\":{\"color\":\"#2a3f5f\"},\"geo\":{\"bgcolor\":\"white\",\"lakecolor\":\"white\",\"landcolor\":\"#E5ECF6\",\"showlakes\":true,\"showland\":true,\"subunitcolor\":\"white\"},\"hoverlabel\":{\"align\":\"left\"},\"hovermode\":\"closest\",\"mapbox\":{\"style\":\"light\"},\"paper_bgcolor\":\"white\",\"plot_bgcolor\":\"#E5ECF6\",\"polar\":{\"angularaxis\":{\"gridcolor\":\"white\",\"linecolor\":\"white\",\"ticks\":\"\"},\"bgcolor\":\"#E5ECF6\",\"radialaxis\":{\"gridcolor\":\"white\",\"linecolor\":\"white\",\"ticks\":\"\"}},\"scene\":{\"xaxis\":{\"backgroundcolor\":\"#E5ECF6\",\"gridcolor\":\"white\",\"gridwidth\":2,\"linecolor\":\"white\",\"showbackground\":true,\"ticks\":\"\",\"zerolinecolor\":\"white\"},\"yaxis\":{\"backgroundcolor\":\"#E5ECF6\",\"gridcolor\":\"white\",\"gridwidth\":2,\"linecolor\":\"white\",\"showbackground\":true,\"ticks\":\"\",\"zerolinecolor\":\"white\"},\"zaxis\":{\"backgroundcolor\":\"#E5ECF6\",\"gridcolor\":\"white\",\"gridwidth\":2,\"linecolor\":\"white\",\"showbackground\":true,\"ticks\":\"\",\"zerolinecolor\":\"white\"}},\"shapedefaults\":{\"line\":{\"color\":\"#2a3f5f\"}},\"ternary\":{\"aaxis\":{\"gridcolor\":\"white\",\"linecolor\":\"white\",\"ticks\":\"\"},\"baxis\":{\"gridcolor\":\"white\",\"linecolor\":\"white\",\"ticks\":\"\"},\"bgcolor\":\"#E5ECF6\",\"caxis\":{\"gridcolor\":\"white\",\"linecolor\":\"white\",\"ticks\":\"\"}},\"title\":{\"x\":0.05},\"xaxis\":{\"automargin\":true,\"gridcolor\":\"white\",\"linecolor\":\"white\",\"ticks\":\"\",\"title\":{\"standoff\":15},\"zerolinecolor\":\"white\",\"zerolinewidth\":2},\"yaxis\":{\"automargin\":true,\"gridcolor\":\"white\",\"linecolor\":\"white\",\"ticks\":\"\",\"title\":{\"standoff\":15},\"zerolinecolor\":\"white\",\"zerolinewidth\":2}}},\"legend\":{\"tracegroupgap\":0},\"title\":{\"text\":\"Population of European continent\"}},                        {\"responsive\": true}                    ).then(function(){\n",
              "                            \n",
              "var gd = document.getElementById('bf1c363a-f457-4a0c-83ca-5a443815236c');\n",
              "var x = new MutationObserver(function (mutations, observer) {{\n",
              "        var display = window.getComputedStyle(gd).display;\n",
              "        if (!display || display === 'none') {{\n",
              "            console.log([gd, 'removed!']);\n",
              "            Plotly.purge(gd);\n",
              "            observer.disconnect();\n",
              "        }}\n",
              "}});\n",
              "\n",
              "// Listen for the removal of the full notebook cells\n",
              "var notebookContainer = gd.closest('#notebook-container');\n",
              "if (notebookContainer) {{\n",
              "    x.observe(notebookContainer, {childList: true});\n",
              "}}\n",
              "\n",
              "// Listen for the clearing of the current output cell\n",
              "var outputEl = gd.closest('.output');\n",
              "if (outputEl) {{\n",
              "    x.observe(outputEl, {childList: true});\n",
              "}}\n",
              "\n",
              "                        })                };                            </script>        </div>\n",
              "</body>\n",
              "</html>"
            ]
          },
          "metadata": {}
        }
      ]
    },
    {
      "cell_type": "markdown",
      "metadata": {
        "id": "kr-8Rezn3Bep"
      },
      "source": [
        "# Create a Chart Comparing the Total Number of Deaths of Men and Women\n",
        "\n",
        "Use `df_fatalities` to illustrate how many more men are killed compared to women."
      ]
    },
    {
      "cell_type": "code",
      "metadata": {
        "id": "joH1L4303BsJ",
        "colab": {
          "base_uri": "https://localhost:8080/",
          "height": 417
        },
        "outputId": "07f7537b-121c-40a0-f9c9-5d83ddd7a5c6"
      },
      "source": [
        "df = df_fatalities['gender'].value_counts()\n",
        "fig = px.histogram(df, x=df.index, y=df.values, color=df.index,\n",
        "             height=400)\n",
        "fig.update_layout(yaxis_title=\"Total Deaths\")\n",
        "fig.show()"
      ],
      "execution_count": null,
      "outputs": [
        {
          "output_type": "display_data",
          "data": {
            "text/html": [
              "<html>\n",
              "<head><meta charset=\"utf-8\" /></head>\n",
              "<body>\n",
              "    <div>            <script src=\"https://cdnjs.cloudflare.com/ajax/libs/mathjax/2.7.5/MathJax.js?config=TeX-AMS-MML_SVG\"></script><script type=\"text/javascript\">if (window.MathJax) {MathJax.Hub.Config({SVG: {font: \"STIX-Web\"}});}</script>                <script type=\"text/javascript\">window.PlotlyConfig = {MathJaxConfig: 'local'};</script>\n",
              "        <script src=\"https://cdn.plot.ly/plotly-2.8.3.min.js\"></script>                <div id=\"b450ed82-2a92-463a-ad87-09f02b4e968f\" class=\"plotly-graph-div\" style=\"height:400px; width:100%;\"></div>            <script type=\"text/javascript\">                                    window.PLOTLYENV=window.PLOTLYENV || {};                                    if (document.getElementById(\"b450ed82-2a92-463a-ad87-09f02b4e968f\")) {                    Plotly.newPlot(                        \"b450ed82-2a92-463a-ad87-09f02b4e968f\",                        [{\"alignmentgroup\":\"True\",\"bingroup\":\"x\",\"histfunc\":\"sum\",\"hovertemplate\":\"index=%{x}<br>sum of y=%{y}<extra></extra>\",\"legendgroup\":\"M\",\"marker\":{\"color\":\"#636efa\",\"pattern\":{\"shape\":\"\"}},\"name\":\"M\",\"offsetgroup\":\"M\",\"orientation\":\"v\",\"showlegend\":true,\"x\":[\"M\"],\"xaxis\":\"x\",\"y\":[2428],\"yaxis\":\"y\",\"type\":\"histogram\"},{\"alignmentgroup\":\"True\",\"bingroup\":\"x\",\"histfunc\":\"sum\",\"hovertemplate\":\"index=%{x}<br>sum of y=%{y}<extra></extra>\",\"legendgroup\":\"F\",\"marker\":{\"color\":\"#EF553B\",\"pattern\":{\"shape\":\"\"}},\"name\":\"F\",\"offsetgroup\":\"F\",\"orientation\":\"v\",\"showlegend\":true,\"x\":[\"F\"],\"xaxis\":\"x\",\"y\":[107],\"yaxis\":\"y\",\"type\":\"histogram\"}],                        {\"template\":{\"data\":{\"bar\":[{\"error_x\":{\"color\":\"#2a3f5f\"},\"error_y\":{\"color\":\"#2a3f5f\"},\"marker\":{\"line\":{\"color\":\"#E5ECF6\",\"width\":0.5},\"pattern\":{\"fillmode\":\"overlay\",\"size\":10,\"solidity\":0.2}},\"type\":\"bar\"}],\"barpolar\":[{\"marker\":{\"line\":{\"color\":\"#E5ECF6\",\"width\":0.5},\"pattern\":{\"fillmode\":\"overlay\",\"size\":10,\"solidity\":0.2}},\"type\":\"barpolar\"}],\"carpet\":[{\"aaxis\":{\"endlinecolor\":\"#2a3f5f\",\"gridcolor\":\"white\",\"linecolor\":\"white\",\"minorgridcolor\":\"white\",\"startlinecolor\":\"#2a3f5f\"},\"baxis\":{\"endlinecolor\":\"#2a3f5f\",\"gridcolor\":\"white\",\"linecolor\":\"white\",\"minorgridcolor\":\"white\",\"startlinecolor\":\"#2a3f5f\"},\"type\":\"carpet\"}],\"choropleth\":[{\"colorbar\":{\"outlinewidth\":0,\"ticks\":\"\"},\"type\":\"choropleth\"}],\"contour\":[{\"colorbar\":{\"outlinewidth\":0,\"ticks\":\"\"},\"colorscale\":[[0.0,\"#0d0887\"],[0.1111111111111111,\"#46039f\"],[0.2222222222222222,\"#7201a8\"],[0.3333333333333333,\"#9c179e\"],[0.4444444444444444,\"#bd3786\"],[0.5555555555555556,\"#d8576b\"],[0.6666666666666666,\"#ed7953\"],[0.7777777777777778,\"#fb9f3a\"],[0.8888888888888888,\"#fdca26\"],[1.0,\"#f0f921\"]],\"type\":\"contour\"}],\"contourcarpet\":[{\"colorbar\":{\"outlinewidth\":0,\"ticks\":\"\"},\"type\":\"contourcarpet\"}],\"heatmap\":[{\"colorbar\":{\"outlinewidth\":0,\"ticks\":\"\"},\"colorscale\":[[0.0,\"#0d0887\"],[0.1111111111111111,\"#46039f\"],[0.2222222222222222,\"#7201a8\"],[0.3333333333333333,\"#9c179e\"],[0.4444444444444444,\"#bd3786\"],[0.5555555555555556,\"#d8576b\"],[0.6666666666666666,\"#ed7953\"],[0.7777777777777778,\"#fb9f3a\"],[0.8888888888888888,\"#fdca26\"],[1.0,\"#f0f921\"]],\"type\":\"heatmap\"}],\"heatmapgl\":[{\"colorbar\":{\"outlinewidth\":0,\"ticks\":\"\"},\"colorscale\":[[0.0,\"#0d0887\"],[0.1111111111111111,\"#46039f\"],[0.2222222222222222,\"#7201a8\"],[0.3333333333333333,\"#9c179e\"],[0.4444444444444444,\"#bd3786\"],[0.5555555555555556,\"#d8576b\"],[0.6666666666666666,\"#ed7953\"],[0.7777777777777778,\"#fb9f3a\"],[0.8888888888888888,\"#fdca26\"],[1.0,\"#f0f921\"]],\"type\":\"heatmapgl\"}],\"histogram\":[{\"marker\":{\"pattern\":{\"fillmode\":\"overlay\",\"size\":10,\"solidity\":0.2}},\"type\":\"histogram\"}],\"histogram2d\":[{\"colorbar\":{\"outlinewidth\":0,\"ticks\":\"\"},\"colorscale\":[[0.0,\"#0d0887\"],[0.1111111111111111,\"#46039f\"],[0.2222222222222222,\"#7201a8\"],[0.3333333333333333,\"#9c179e\"],[0.4444444444444444,\"#bd3786\"],[0.5555555555555556,\"#d8576b\"],[0.6666666666666666,\"#ed7953\"],[0.7777777777777778,\"#fb9f3a\"],[0.8888888888888888,\"#fdca26\"],[1.0,\"#f0f921\"]],\"type\":\"histogram2d\"}],\"histogram2dcontour\":[{\"colorbar\":{\"outlinewidth\":0,\"ticks\":\"\"},\"colorscale\":[[0.0,\"#0d0887\"],[0.1111111111111111,\"#46039f\"],[0.2222222222222222,\"#7201a8\"],[0.3333333333333333,\"#9c179e\"],[0.4444444444444444,\"#bd3786\"],[0.5555555555555556,\"#d8576b\"],[0.6666666666666666,\"#ed7953\"],[0.7777777777777778,\"#fb9f3a\"],[0.8888888888888888,\"#fdca26\"],[1.0,\"#f0f921\"]],\"type\":\"histogram2dcontour\"}],\"mesh3d\":[{\"colorbar\":{\"outlinewidth\":0,\"ticks\":\"\"},\"type\":\"mesh3d\"}],\"parcoords\":[{\"line\":{\"colorbar\":{\"outlinewidth\":0,\"ticks\":\"\"}},\"type\":\"parcoords\"}],\"pie\":[{\"automargin\":true,\"type\":\"pie\"}],\"scatter\":[{\"marker\":{\"colorbar\":{\"outlinewidth\":0,\"ticks\":\"\"}},\"type\":\"scatter\"}],\"scatter3d\":[{\"line\":{\"colorbar\":{\"outlinewidth\":0,\"ticks\":\"\"}},\"marker\":{\"colorbar\":{\"outlinewidth\":0,\"ticks\":\"\"}},\"type\":\"scatter3d\"}],\"scattercarpet\":[{\"marker\":{\"colorbar\":{\"outlinewidth\":0,\"ticks\":\"\"}},\"type\":\"scattercarpet\"}],\"scattergeo\":[{\"marker\":{\"colorbar\":{\"outlinewidth\":0,\"ticks\":\"\"}},\"type\":\"scattergeo\"}],\"scattergl\":[{\"marker\":{\"colorbar\":{\"outlinewidth\":0,\"ticks\":\"\"}},\"type\":\"scattergl\"}],\"scattermapbox\":[{\"marker\":{\"colorbar\":{\"outlinewidth\":0,\"ticks\":\"\"}},\"type\":\"scattermapbox\"}],\"scatterpolar\":[{\"marker\":{\"colorbar\":{\"outlinewidth\":0,\"ticks\":\"\"}},\"type\":\"scatterpolar\"}],\"scatterpolargl\":[{\"marker\":{\"colorbar\":{\"outlinewidth\":0,\"ticks\":\"\"}},\"type\":\"scatterpolargl\"}],\"scatterternary\":[{\"marker\":{\"colorbar\":{\"outlinewidth\":0,\"ticks\":\"\"}},\"type\":\"scatterternary\"}],\"surface\":[{\"colorbar\":{\"outlinewidth\":0,\"ticks\":\"\"},\"colorscale\":[[0.0,\"#0d0887\"],[0.1111111111111111,\"#46039f\"],[0.2222222222222222,\"#7201a8\"],[0.3333333333333333,\"#9c179e\"],[0.4444444444444444,\"#bd3786\"],[0.5555555555555556,\"#d8576b\"],[0.6666666666666666,\"#ed7953\"],[0.7777777777777778,\"#fb9f3a\"],[0.8888888888888888,\"#fdca26\"],[1.0,\"#f0f921\"]],\"type\":\"surface\"}],\"table\":[{\"cells\":{\"fill\":{\"color\":\"#EBF0F8\"},\"line\":{\"color\":\"white\"}},\"header\":{\"fill\":{\"color\":\"#C8D4E3\"},\"line\":{\"color\":\"white\"}},\"type\":\"table\"}]},\"layout\":{\"annotationdefaults\":{\"arrowcolor\":\"#2a3f5f\",\"arrowhead\":0,\"arrowwidth\":1},\"autotypenumbers\":\"strict\",\"coloraxis\":{\"colorbar\":{\"outlinewidth\":0,\"ticks\":\"\"}},\"colorscale\":{\"diverging\":[[0,\"#8e0152\"],[0.1,\"#c51b7d\"],[0.2,\"#de77ae\"],[0.3,\"#f1b6da\"],[0.4,\"#fde0ef\"],[0.5,\"#f7f7f7\"],[0.6,\"#e6f5d0\"],[0.7,\"#b8e186\"],[0.8,\"#7fbc41\"],[0.9,\"#4d9221\"],[1,\"#276419\"]],\"sequential\":[[0.0,\"#0d0887\"],[0.1111111111111111,\"#46039f\"],[0.2222222222222222,\"#7201a8\"],[0.3333333333333333,\"#9c179e\"],[0.4444444444444444,\"#bd3786\"],[0.5555555555555556,\"#d8576b\"],[0.6666666666666666,\"#ed7953\"],[0.7777777777777778,\"#fb9f3a\"],[0.8888888888888888,\"#fdca26\"],[1.0,\"#f0f921\"]],\"sequentialminus\":[[0.0,\"#0d0887\"],[0.1111111111111111,\"#46039f\"],[0.2222222222222222,\"#7201a8\"],[0.3333333333333333,\"#9c179e\"],[0.4444444444444444,\"#bd3786\"],[0.5555555555555556,\"#d8576b\"],[0.6666666666666666,\"#ed7953\"],[0.7777777777777778,\"#fb9f3a\"],[0.8888888888888888,\"#fdca26\"],[1.0,\"#f0f921\"]]},\"colorway\":[\"#636efa\",\"#EF553B\",\"#00cc96\",\"#ab63fa\",\"#FFA15A\",\"#19d3f3\",\"#FF6692\",\"#B6E880\",\"#FF97FF\",\"#FECB52\"],\"font\":{\"color\":\"#2a3f5f\"},\"geo\":{\"bgcolor\":\"white\",\"lakecolor\":\"white\",\"landcolor\":\"#E5ECF6\",\"showlakes\":true,\"showland\":true,\"subunitcolor\":\"white\"},\"hoverlabel\":{\"align\":\"left\"},\"hovermode\":\"closest\",\"mapbox\":{\"style\":\"light\"},\"paper_bgcolor\":\"white\",\"plot_bgcolor\":\"#E5ECF6\",\"polar\":{\"angularaxis\":{\"gridcolor\":\"white\",\"linecolor\":\"white\",\"ticks\":\"\"},\"bgcolor\":\"#E5ECF6\",\"radialaxis\":{\"gridcolor\":\"white\",\"linecolor\":\"white\",\"ticks\":\"\"}},\"scene\":{\"xaxis\":{\"backgroundcolor\":\"#E5ECF6\",\"gridcolor\":\"white\",\"gridwidth\":2,\"linecolor\":\"white\",\"showbackground\":true,\"ticks\":\"\",\"zerolinecolor\":\"white\"},\"yaxis\":{\"backgroundcolor\":\"#E5ECF6\",\"gridcolor\":\"white\",\"gridwidth\":2,\"linecolor\":\"white\",\"showbackground\":true,\"ticks\":\"\",\"zerolinecolor\":\"white\"},\"zaxis\":{\"backgroundcolor\":\"#E5ECF6\",\"gridcolor\":\"white\",\"gridwidth\":2,\"linecolor\":\"white\",\"showbackground\":true,\"ticks\":\"\",\"zerolinecolor\":\"white\"}},\"shapedefaults\":{\"line\":{\"color\":\"#2a3f5f\"}},\"ternary\":{\"aaxis\":{\"gridcolor\":\"white\",\"linecolor\":\"white\",\"ticks\":\"\"},\"baxis\":{\"gridcolor\":\"white\",\"linecolor\":\"white\",\"ticks\":\"\"},\"bgcolor\":\"#E5ECF6\",\"caxis\":{\"gridcolor\":\"white\",\"linecolor\":\"white\",\"ticks\":\"\"}},\"title\":{\"x\":0.05},\"xaxis\":{\"automargin\":true,\"gridcolor\":\"white\",\"linecolor\":\"white\",\"ticks\":\"\",\"title\":{\"standoff\":15},\"zerolinecolor\":\"white\",\"zerolinewidth\":2},\"yaxis\":{\"automargin\":true,\"gridcolor\":\"white\",\"linecolor\":\"white\",\"ticks\":\"\",\"title\":{\"standoff\":15},\"zerolinecolor\":\"white\",\"zerolinewidth\":2}}},\"xaxis\":{\"anchor\":\"y\",\"domain\":[0.0,1.0],\"title\":{\"text\":\"index\"},\"categoryorder\":\"array\",\"categoryarray\":[\"M\",\"F\"]},\"yaxis\":{\"anchor\":\"x\",\"domain\":[0.0,1.0],\"title\":{\"text\":\"Total Deaths\"}},\"legend\":{\"title\":{\"text\":\"index\"},\"tracegroupgap\":0},\"margin\":{\"t\":60},\"barmode\":\"relative\",\"height\":400},                        {\"responsive\": true}                    ).then(function(){\n",
              "                            \n",
              "var gd = document.getElementById('b450ed82-2a92-463a-ad87-09f02b4e968f');\n",
              "var x = new MutationObserver(function (mutations, observer) {{\n",
              "        var display = window.getComputedStyle(gd).display;\n",
              "        if (!display || display === 'none') {{\n",
              "            console.log([gd, 'removed!']);\n",
              "            Plotly.purge(gd);\n",
              "            observer.disconnect();\n",
              "        }}\n",
              "}});\n",
              "\n",
              "// Listen for the removal of the full notebook cells\n",
              "var notebookContainer = gd.closest('#notebook-container');\n",
              "if (notebookContainer) {{\n",
              "    x.observe(notebookContainer, {childList: true});\n",
              "}}\n",
              "\n",
              "// Listen for the clearing of the current output cell\n",
              "var outputEl = gd.closest('.output');\n",
              "if (outputEl) {{\n",
              "    x.observe(outputEl, {childList: true});\n",
              "}}\n",
              "\n",
              "                        })                };                            </script>        </div>\n",
              "</body>\n",
              "</html>"
            ]
          },
          "metadata": {}
        }
      ]
    },
    {
      "cell_type": "code",
      "metadata": {
        "id": "X4MrMkVa3MTk",
        "colab": {
          "base_uri": "https://localhost:8080/",
          "height": 337
        },
        "outputId": "e607d68b-287b-4238-9fcd-38dc0476cab5"
      },
      "source": [
        "df_fatalities.head()"
      ],
      "execution_count": null,
      "outputs": [
        {
          "output_type": "execute_result",
          "data": {
            "text/plain": [
              "   id                name      date   manner_of_death       armed   age  \\\n",
              "0   3          Tim Elliot  02/01/15              shot         gun 53.00   \n",
              "1   4    Lewis Lee Lembke  02/01/15              shot         gun 47.00   \n",
              "2   5  John Paul Quintero  03/01/15  shot and Tasered     unarmed 23.00   \n",
              "3   8     Matthew Hoffman  04/01/15              shot  toy weapon 32.00   \n",
              "4   9   Michael Rodriguez  04/01/15              shot    nail gun 39.00   \n",
              "\n",
              "  gender race           city state  signs_of_mental_illness threat_level  \\\n",
              "0      M    A        Shelton    WA                     True       attack   \n",
              "1      M    W          Aloha    OR                    False       attack   \n",
              "2      M    H        Wichita    KS                    False        other   \n",
              "3      M    W  San Francisco    CA                     True       attack   \n",
              "4      M    H          Evans    CO                    False       attack   \n",
              "\n",
              "          flee  body_camera  \n",
              "0  Not fleeing        False  \n",
              "1  Not fleeing        False  \n",
              "2  Not fleeing        False  \n",
              "3  Not fleeing        False  \n",
              "4  Not fleeing        False  "
            ],
            "text/html": [
              "\n",
              "  <div id=\"df-4a4d03da-f289-445d-bdd1-7f812061caf1\">\n",
              "    <div class=\"colab-df-container\">\n",
              "      <div>\n",
              "<style scoped>\n",
              "    .dataframe tbody tr th:only-of-type {\n",
              "        vertical-align: middle;\n",
              "    }\n",
              "\n",
              "    .dataframe tbody tr th {\n",
              "        vertical-align: top;\n",
              "    }\n",
              "\n",
              "    .dataframe thead th {\n",
              "        text-align: right;\n",
              "    }\n",
              "</style>\n",
              "<table border=\"1\" class=\"dataframe\">\n",
              "  <thead>\n",
              "    <tr style=\"text-align: right;\">\n",
              "      <th></th>\n",
              "      <th>id</th>\n",
              "      <th>name</th>\n",
              "      <th>date</th>\n",
              "      <th>manner_of_death</th>\n",
              "      <th>armed</th>\n",
              "      <th>age</th>\n",
              "      <th>gender</th>\n",
              "      <th>race</th>\n",
              "      <th>city</th>\n",
              "      <th>state</th>\n",
              "      <th>signs_of_mental_illness</th>\n",
              "      <th>threat_level</th>\n",
              "      <th>flee</th>\n",
              "      <th>body_camera</th>\n",
              "    </tr>\n",
              "  </thead>\n",
              "  <tbody>\n",
              "    <tr>\n",
              "      <th>0</th>\n",
              "      <td>3</td>\n",
              "      <td>Tim Elliot</td>\n",
              "      <td>02/01/15</td>\n",
              "      <td>shot</td>\n",
              "      <td>gun</td>\n",
              "      <td>53.00</td>\n",
              "      <td>M</td>\n",
              "      <td>A</td>\n",
              "      <td>Shelton</td>\n",
              "      <td>WA</td>\n",
              "      <td>True</td>\n",
              "      <td>attack</td>\n",
              "      <td>Not fleeing</td>\n",
              "      <td>False</td>\n",
              "    </tr>\n",
              "    <tr>\n",
              "      <th>1</th>\n",
              "      <td>4</td>\n",
              "      <td>Lewis Lee Lembke</td>\n",
              "      <td>02/01/15</td>\n",
              "      <td>shot</td>\n",
              "      <td>gun</td>\n",
              "      <td>47.00</td>\n",
              "      <td>M</td>\n",
              "      <td>W</td>\n",
              "      <td>Aloha</td>\n",
              "      <td>OR</td>\n",
              "      <td>False</td>\n",
              "      <td>attack</td>\n",
              "      <td>Not fleeing</td>\n",
              "      <td>False</td>\n",
              "    </tr>\n",
              "    <tr>\n",
              "      <th>2</th>\n",
              "      <td>5</td>\n",
              "      <td>John Paul Quintero</td>\n",
              "      <td>03/01/15</td>\n",
              "      <td>shot and Tasered</td>\n",
              "      <td>unarmed</td>\n",
              "      <td>23.00</td>\n",
              "      <td>M</td>\n",
              "      <td>H</td>\n",
              "      <td>Wichita</td>\n",
              "      <td>KS</td>\n",
              "      <td>False</td>\n",
              "      <td>other</td>\n",
              "      <td>Not fleeing</td>\n",
              "      <td>False</td>\n",
              "    </tr>\n",
              "    <tr>\n",
              "      <th>3</th>\n",
              "      <td>8</td>\n",
              "      <td>Matthew Hoffman</td>\n",
              "      <td>04/01/15</td>\n",
              "      <td>shot</td>\n",
              "      <td>toy weapon</td>\n",
              "      <td>32.00</td>\n",
              "      <td>M</td>\n",
              "      <td>W</td>\n",
              "      <td>San Francisco</td>\n",
              "      <td>CA</td>\n",
              "      <td>True</td>\n",
              "      <td>attack</td>\n",
              "      <td>Not fleeing</td>\n",
              "      <td>False</td>\n",
              "    </tr>\n",
              "    <tr>\n",
              "      <th>4</th>\n",
              "      <td>9</td>\n",
              "      <td>Michael Rodriguez</td>\n",
              "      <td>04/01/15</td>\n",
              "      <td>shot</td>\n",
              "      <td>nail gun</td>\n",
              "      <td>39.00</td>\n",
              "      <td>M</td>\n",
              "      <td>H</td>\n",
              "      <td>Evans</td>\n",
              "      <td>CO</td>\n",
              "      <td>False</td>\n",
              "      <td>attack</td>\n",
              "      <td>Not fleeing</td>\n",
              "      <td>False</td>\n",
              "    </tr>\n",
              "  </tbody>\n",
              "</table>\n",
              "</div>\n",
              "      <button class=\"colab-df-convert\" onclick=\"convertToInteractive('df-4a4d03da-f289-445d-bdd1-7f812061caf1')\"\n",
              "              title=\"Convert this dataframe to an interactive table.\"\n",
              "              style=\"display:none;\">\n",
              "        \n",
              "  <svg xmlns=\"http://www.w3.org/2000/svg\" height=\"24px\"viewBox=\"0 0 24 24\"\n",
              "       width=\"24px\">\n",
              "    <path d=\"M0 0h24v24H0V0z\" fill=\"none\"/>\n",
              "    <path d=\"M18.56 5.44l.94 2.06.94-2.06 2.06-.94-2.06-.94-.94-2.06-.94 2.06-2.06.94zm-11 1L8.5 8.5l.94-2.06 2.06-.94-2.06-.94L8.5 2.5l-.94 2.06-2.06.94zm10 10l.94 2.06.94-2.06 2.06-.94-2.06-.94-.94-2.06-.94 2.06-2.06.94z\"/><path d=\"M17.41 7.96l-1.37-1.37c-.4-.4-.92-.59-1.43-.59-.52 0-1.04.2-1.43.59L10.3 9.45l-7.72 7.72c-.78.78-.78 2.05 0 2.83L4 21.41c.39.39.9.59 1.41.59.51 0 1.02-.2 1.41-.59l7.78-7.78 2.81-2.81c.8-.78.8-2.07 0-2.86zM5.41 20L4 18.59l7.72-7.72 1.47 1.35L5.41 20z\"/>\n",
              "  </svg>\n",
              "      </button>\n",
              "      \n",
              "  <style>\n",
              "    .colab-df-container {\n",
              "      display:flex;\n",
              "      flex-wrap:wrap;\n",
              "      gap: 12px;\n",
              "    }\n",
              "\n",
              "    .colab-df-convert {\n",
              "      background-color: #E8F0FE;\n",
              "      border: none;\n",
              "      border-radius: 50%;\n",
              "      cursor: pointer;\n",
              "      display: none;\n",
              "      fill: #1967D2;\n",
              "      height: 32px;\n",
              "      padding: 0 0 0 0;\n",
              "      width: 32px;\n",
              "    }\n",
              "\n",
              "    .colab-df-convert:hover {\n",
              "      background-color: #E2EBFA;\n",
              "      box-shadow: 0px 1px 2px rgba(60, 64, 67, 0.3), 0px 1px 3px 1px rgba(60, 64, 67, 0.15);\n",
              "      fill: #174EA6;\n",
              "    }\n",
              "\n",
              "    [theme=dark] .colab-df-convert {\n",
              "      background-color: #3B4455;\n",
              "      fill: #D2E3FC;\n",
              "    }\n",
              "\n",
              "    [theme=dark] .colab-df-convert:hover {\n",
              "      background-color: #434B5C;\n",
              "      box-shadow: 0px 1px 3px 1px rgba(0, 0, 0, 0.15);\n",
              "      filter: drop-shadow(0px 1px 2px rgba(0, 0, 0, 0.3));\n",
              "      fill: #FFFFFF;\n",
              "    }\n",
              "  </style>\n",
              "\n",
              "      <script>\n",
              "        const buttonEl =\n",
              "          document.querySelector('#df-4a4d03da-f289-445d-bdd1-7f812061caf1 button.colab-df-convert');\n",
              "        buttonEl.style.display =\n",
              "          google.colab.kernel.accessAllowed ? 'block' : 'none';\n",
              "\n",
              "        async function convertToInteractive(key) {\n",
              "          const element = document.querySelector('#df-4a4d03da-f289-445d-bdd1-7f812061caf1');\n",
              "          const dataTable =\n",
              "            await google.colab.kernel.invokeFunction('convertToInteractive',\n",
              "                                                     [key], {});\n",
              "          if (!dataTable) return;\n",
              "\n",
              "          const docLinkHtml = 'Like what you see? Visit the ' +\n",
              "            '<a target=\"_blank\" href=https://colab.research.google.com/notebooks/data_table.ipynb>data table notebook</a>'\n",
              "            + ' to learn more about interactive tables.';\n",
              "          element.innerHTML = '';\n",
              "          dataTable['output_type'] = 'display_data';\n",
              "          await google.colab.output.renderOutput(dataTable, element);\n",
              "          const docLink = document.createElement('div');\n",
              "          docLink.innerHTML = docLinkHtml;\n",
              "          element.appendChild(docLink);\n",
              "        }\n",
              "      </script>\n",
              "    </div>\n",
              "  </div>\n",
              "  "
            ]
          },
          "metadata": {},
          "execution_count": 20
        }
      ]
    },
    {
      "cell_type": "code",
      "source": [
        "fig = px.histogram(df_fatalities, x=\"manner_of_death\",\n",
        "             color='gender', barmode='group',\n",
        "             height=400)\n",
        "fig.show()"
      ],
      "metadata": {
        "colab": {
          "base_uri": "https://localhost:8080/",
          "height": 417
        },
        "id": "cCAz-snJnJiT",
        "outputId": "6a793c59-998d-4ab3-a5e0-136b30e2bf8e"
      },
      "execution_count": null,
      "outputs": [
        {
          "output_type": "display_data",
          "data": {
            "text/html": [
              "<html>\n",
              "<head><meta charset=\"utf-8\" /></head>\n",
              "<body>\n",
              "    <div>            <script src=\"https://cdnjs.cloudflare.com/ajax/libs/mathjax/2.7.5/MathJax.js?config=TeX-AMS-MML_SVG\"></script><script type=\"text/javascript\">if (window.MathJax) {MathJax.Hub.Config({SVG: {font: \"STIX-Web\"}});}</script>                <script type=\"text/javascript\">window.PlotlyConfig = {MathJaxConfig: 'local'};</script>\n",
              "        <script src=\"https://cdn.plot.ly/plotly-2.8.3.min.js\"></script>                <div id=\"31aed43a-bbf7-49e5-bd32-ae7745fe1c26\" class=\"plotly-graph-div\" style=\"height:400px; width:100%;\"></div>            <script type=\"text/javascript\">                                    window.PLOTLYENV=window.PLOTLYENV || {};                                    if (document.getElementById(\"31aed43a-bbf7-49e5-bd32-ae7745fe1c26\")) {                    Plotly.newPlot(                        \"31aed43a-bbf7-49e5-bd32-ae7745fe1c26\",                        [{\"alignmentgroup\":\"True\",\"bingroup\":\"x\",\"hovertemplate\":\"gender=M<br>manner_of_death=%{x}<br>count=%{y}<extra></extra>\",\"legendgroup\":\"M\",\"marker\":{\"color\":\"#636efa\",\"pattern\":{\"shape\":\"\"}},\"name\":\"M\",\"offsetgroup\":\"M\",\"orientation\":\"v\",\"showlegend\":true,\"x\":[\"shot\",\"shot\",\"shot and Tasered\",\"shot\",\"shot\",\"shot\",\"shot\",\"shot\",\"shot\",\"shot and Tasered\",\"shot\",\"shot\",\"shot\",\"shot\",\"shot\",\"shot\",\"shot\",\"shot\",\"shot\",\"shot\",\"shot\",\"shot\",\"shot and Tasered\",\"shot\",\"shot\",\"shot\",\"shot\",\"shot\",\"shot\",\"shot\",\"shot\",\"shot\",\"shot\",\"shot\",\"shot\",\"shot\",\"shot\",\"shot and Tasered\",\"shot\",\"shot\",\"shot\",\"shot\",\"shot and Tasered\",\"shot\",\"shot\",\"shot\",\"shot\",\"shot\",\"shot\",\"shot\",\"shot\",\"shot\",\"shot\",\"shot\",\"shot\",\"shot\",\"shot\",\"shot\",\"shot\",\"shot\",\"shot\",\"shot\",\"shot\",\"shot\",\"shot\",\"shot and Tasered\",\"shot\",\"shot\",\"shot\",\"shot\",\"shot\",\"shot and Tasered\",\"shot\",\"shot\",\"shot\",\"shot\",\"shot\",\"shot\",\"shot\",\"shot\",\"shot\",\"shot\",\"shot\",\"shot\",\"shot\",\"shot\",\"shot\",\"shot\",\"shot\",\"shot\",\"shot\",\"shot\",\"shot\",\"shot\",\"shot\",\"shot and Tasered\",\"shot\",\"shot\",\"shot\",\"shot\",\"shot\",\"shot\",\"shot\",\"shot\",\"shot\",\"shot\",\"shot\",\"shot and Tasered\",\"shot\",\"shot\",\"shot\",\"shot\",\"shot\",\"shot\",\"shot\",\"shot\",\"shot\",\"shot\",\"shot\",\"shot\",\"shot\",\"shot\",\"shot\",\"shot\",\"shot and Tasered\",\"shot and Tasered\",\"shot\",\"shot\",\"shot\",\"shot\",\"shot and Tasered\",\"shot\",\"shot\",\"shot and Tasered\",\"shot\",\"shot\",\"shot\",\"shot\",\"shot\",\"shot and Tasered\",\"shot\",\"shot\",\"shot\",\"shot\",\"shot and Tasered\",\"shot\",\"shot\",\"shot\",\"shot\",\"shot\",\"shot\",\"shot\",\"shot\",\"shot\",\"shot\",\"shot\",\"shot\",\"shot\",\"shot\",\"shot\",\"shot\",\"shot\",\"shot\",\"shot\",\"shot\",\"shot\",\"shot\",\"shot\",\"shot\",\"shot\",\"shot\",\"shot\",\"shot\",\"shot\",\"shot\",\"shot\",\"shot\",\"shot\",\"shot\",\"shot\",\"shot\",\"shot\",\"shot\",\"shot\",\"shot\",\"shot\",\"shot\",\"shot\",\"shot\",\"shot\",\"shot\",\"shot\",\"shot\",\"shot\",\"shot\",\"shot\",\"shot\",\"shot\",\"shot\",\"shot\",\"shot\",\"shot\",\"shot\",\"shot\",\"shot\",\"shot\",\"shot and Tasered\",\"shot and Tasered\",\"shot\",\"shot\",\"shot\",\"shot\",\"shot\",\"shot\",\"shot\",\"shot and Tasered\",\"shot\",\"shot\",\"shot\",\"shot\",\"shot\",\"shot\",\"shot\",\"shot\",\"shot\",\"shot\",\"shot\",\"shot\",\"shot\",\"shot\",\"shot\",\"shot\",\"shot and Tasered\",\"shot\",\"shot\",\"shot\",\"shot\",\"shot and Tasered\",\"shot\",\"shot\",\"shot\",\"shot\",\"shot\",\"shot\",\"shot\",\"shot\",\"shot\",\"shot\",\"shot\",\"shot\",\"shot and Tasered\",\"shot\",\"shot\",\"shot\",\"shot\",\"shot\",\"shot\",\"shot\",\"shot\",\"shot\",\"shot\",\"shot\",\"shot\",\"shot\",\"shot\",\"shot\",\"shot\",\"shot\",\"shot\",\"shot\",\"shot\",\"shot\",\"shot\",\"shot\",\"shot\",\"shot\",\"shot\",\"shot\",\"shot\",\"shot\",\"shot\",\"shot\",\"shot\",\"shot\",\"shot\",\"shot\",\"shot\",\"shot\",\"shot\",\"shot\",\"shot\",\"shot\",\"shot\",\"shot\",\"shot\",\"shot\",\"shot\",\"shot\",\"shot\",\"shot\",\"shot\",\"shot\",\"shot\",\"shot\",\"shot\",\"shot\",\"shot\",\"shot\",\"shot\",\"shot\",\"shot and Tasered\",\"shot\",\"shot\",\"shot\",\"shot\",\"shot\",\"shot\",\"shot\",\"shot\",\"shot\",\"shot\",\"shot\",\"shot\",\"shot\",\"shot\",\"shot\",\"shot\",\"shot\",\"shot\",\"shot\",\"shot\",\"shot\",\"shot\",\"shot\",\"shot and Tasered\",\"shot\",\"shot\",\"shot\",\"shot\",\"shot\",\"shot\",\"shot\",\"shot\",\"shot\",\"shot\",\"shot\",\"shot\",\"shot\",\"shot and Tasered\",\"shot\",\"shot\",\"shot\",\"shot\",\"shot\",\"shot\",\"shot\",\"shot\",\"shot\",\"shot\",\"shot\",\"shot\",\"shot\",\"shot\",\"shot\",\"shot\",\"shot\",\"shot\",\"shot and Tasered\",\"shot and Tasered\",\"shot\",\"shot\",\"shot\",\"shot and Tasered\",\"shot\",\"shot\",\"shot\",\"shot\",\"shot\",\"shot\",\"shot\",\"shot\",\"shot\",\"shot\",\"shot\",\"shot and Tasered\",\"shot\",\"shot\",\"shot\",\"shot\",\"shot and Tasered\",\"shot\",\"shot\",\"shot\",\"shot\",\"shot\",\"shot\",\"shot\",\"shot\",\"shot\",\"shot\",\"shot\",\"shot\",\"shot\",\"shot\",\"shot\",\"shot\",\"shot\",\"shot\",\"shot\",\"shot\",\"shot\",\"shot\",\"shot\",\"shot\",\"shot\",\"shot\",\"shot\",\"shot\",\"shot\",\"shot\",\"shot\",\"shot\",\"shot\",\"shot\",\"shot\",\"shot\",\"shot\",\"shot\",\"shot\",\"shot\",\"shot\",\"shot\",\"shot\",\"shot\",\"shot\",\"shot\",\"shot\",\"shot\",\"shot\",\"shot\",\"shot\",\"shot\",\"shot\",\"shot\",\"shot\",\"shot\",\"shot\",\"shot\",\"shot and Tasered\",\"shot\",\"shot\",\"shot\",\"shot\",\"shot\",\"shot\",\"shot\",\"shot\",\"shot\",\"shot and Tasered\",\"shot\",\"shot\",\"shot\",\"shot and Tasered\",\"shot and Tasered\",\"shot\",\"shot\",\"shot\",\"shot\",\"shot\",\"shot\",\"shot\",\"shot\",\"shot\",\"shot\",\"shot\",\"shot\",\"shot\",\"shot\",\"shot\",\"shot and Tasered\",\"shot\",\"shot\",\"shot\",\"shot\",\"shot\",\"shot\",\"shot and Tasered\",\"shot\",\"shot\",\"shot\",\"shot\",\"shot\",\"shot\",\"shot and Tasered\",\"shot\",\"shot\",\"shot and Tasered\",\"shot and Tasered\",\"shot\",\"shot\",\"shot\",\"shot\",\"shot\",\"shot\",\"shot\",\"shot and Tasered\",\"shot\",\"shot\",\"shot\",\"shot\",\"shot\",\"shot\",\"shot\",\"shot\",\"shot\",\"shot\",\"shot\",\"shot\",\"shot\",\"shot and Tasered\",\"shot\",\"shot\",\"shot and Tasered\",\"shot\",\"shot\",\"shot\",\"shot and Tasered\",\"shot\",\"shot\",\"shot\",\"shot\",\"shot\",\"shot\",\"shot\",\"shot\",\"shot and Tasered\",\"shot\",\"shot\",\"shot\",\"shot\",\"shot\",\"shot\",\"shot and Tasered\",\"shot\",\"shot\",\"shot\",\"shot\",\"shot\",\"shot\",\"shot\",\"shot\",\"shot\",\"shot\",\"shot\",\"shot\",\"shot\",\"shot\",\"shot\",\"shot\",\"shot\",\"shot\",\"shot\",\"shot\",\"shot\",\"shot\",\"shot\",\"shot\",\"shot\",\"shot\",\"shot\",\"shot\",\"shot\",\"shot\",\"shot\",\"shot\",\"shot\",\"shot\",\"shot\",\"shot and Tasered\",\"shot\",\"shot\",\"shot\",\"shot\",\"shot\",\"shot\",\"shot\",\"shot\",\"shot and Tasered\",\"shot and Tasered\",\"shot\",\"shot\",\"shot\",\"shot\",\"shot\",\"shot\",\"shot\",\"shot\",\"shot\",\"shot\",\"shot\",\"shot\",\"shot and Tasered\",\"shot\",\"shot\",\"shot\",\"shot\",\"shot\",\"shot and Tasered\",\"shot\",\"shot\",\"shot\",\"shot\",\"shot\",\"shot\",\"shot\",\"shot\",\"shot\",\"shot\",\"shot\",\"shot\",\"shot\",\"shot\",\"shot\",\"shot\",\"shot and Tasered\",\"shot\",\"shot\",\"shot\",\"shot\",\"shot\",\"shot\",\"shot\",\"shot\",\"shot\",\"shot\",\"shot\",\"shot\",\"shot\",\"shot\",\"shot\",\"shot\",\"shot\",\"shot\",\"shot\",\"shot and Tasered\",\"shot\",\"shot\",\"shot\",\"shot\",\"shot\",\"shot\",\"shot\",\"shot\",\"shot\",\"shot\",\"shot\",\"shot\",\"shot\",\"shot\",\"shot\",\"shot\",\"shot\",\"shot\",\"shot\",\"shot\",\"shot\",\"shot\",\"shot\",\"shot\",\"shot\",\"shot\",\"shot\",\"shot\",\"shot\",\"shot\",\"shot\",\"shot\",\"shot\",\"shot\",\"shot\",\"shot\",\"shot\",\"shot\",\"shot\",\"shot\",\"shot\",\"shot\",\"shot\",\"shot\",\"shot\",\"shot and Tasered\",\"shot\",\"shot\",\"shot\",\"shot\",\"shot\",\"shot\",\"shot\",\"shot\",\"shot\",\"shot\",\"shot\",\"shot\",\"shot\",\"shot\",\"shot\",\"shot and Tasered\",\"shot\",\"shot\",\"shot\",\"shot\",\"shot\",\"shot and Tasered\",\"shot\",\"shot\",\"shot\",\"shot\",\"shot\",\"shot and Tasered\",\"shot\",\"shot\",\"shot\",\"shot\",\"shot\",\"shot\",\"shot\",\"shot\",\"shot\",\"shot\",\"shot\",\"shot\",\"shot\",\"shot\",\"shot\",\"shot and Tasered\",\"shot\",\"shot\",\"shot\",\"shot\",\"shot\",\"shot\",\"shot\",\"shot\",\"shot\",\"shot\",\"shot\",\"shot\",\"shot\",\"shot\",\"shot\",\"shot\",\"shot\",\"shot\",\"shot\",\"shot\",\"shot and Tasered\",\"shot\",\"shot\",\"shot\",\"shot\",\"shot\",\"shot\",\"shot\",\"shot\",\"shot\",\"shot\",\"shot\",\"shot\",\"shot\",\"shot\",\"shot\",\"shot\",\"shot\",\"shot\",\"shot\",\"shot\",\"shot\",\"shot\",\"shot\",\"shot\",\"shot\",\"shot\",\"shot\",\"shot\",\"shot\",\"shot\",\"shot\",\"shot\",\"shot\",\"shot\",\"shot and Tasered\",\"shot\",\"shot\",\"shot\",\"shot\",\"shot\",\"shot\",\"shot\",\"shot\",\"shot\",\"shot\",\"shot\",\"shot\",\"shot\",\"shot\",\"shot\",\"shot\",\"shot\",\"shot\",\"shot\",\"shot\",\"shot\",\"shot and Tasered\",\"shot\",\"shot\",\"shot\",\"shot\",\"shot\",\"shot\",\"shot\",\"shot\",\"shot\",\"shot\",\"shot\",\"shot\",\"shot\",\"shot\",\"shot and Tasered\",\"shot\",\"shot\",\"shot\",\"shot\",\"shot\",\"shot\",\"shot\",\"shot\",\"shot\",\"shot\",\"shot\",\"shot\",\"shot\",\"shot\",\"shot\",\"shot\",\"shot\",\"shot\",\"shot\",\"shot\",\"shot\",\"shot and Tasered\",\"shot\",\"shot\",\"shot and Tasered\",\"shot\",\"shot\",\"shot\",\"shot\",\"shot\",\"shot\",\"shot\",\"shot\",\"shot\",\"shot\",\"shot\",\"shot\",\"shot\",\"shot\",\"shot\",\"shot\",\"shot\",\"shot\",\"shot\",\"shot\",\"shot\",\"shot\",\"shot and Tasered\",\"shot\",\"shot\",\"shot and Tasered\",\"shot\",\"shot\",\"shot\",\"shot\",\"shot\",\"shot\",\"shot\",\"shot\",\"shot\",\"shot\",\"shot\",\"shot\",\"shot\",\"shot\",\"shot\",\"shot\",\"shot\",\"shot\",\"shot\",\"shot\",\"shot\",\"shot\",\"shot\",\"shot\",\"shot\",\"shot and Tasered\",\"shot\",\"shot\",\"shot\",\"shot\",\"shot\",\"shot\",\"shot\",\"shot\",\"shot\",\"shot\",\"shot\",\"shot\",\"shot\",\"shot\",\"shot\",\"shot\",\"shot\",\"shot\",\"shot\",\"shot\",\"shot\",\"shot\",\"shot\",\"shot\",\"shot\",\"shot\",\"shot\",\"shot\",\"shot\",\"shot\",\"shot\",\"shot\",\"shot\",\"shot\",\"shot\",\"shot\",\"shot\",\"shot\",\"shot\",\"shot\",\"shot\",\"shot\",\"shot\",\"shot\",\"shot\",\"shot and Tasered\",\"shot\",\"shot\",\"shot\",\"shot\",\"shot\",\"shot\",\"shot\",\"shot\",\"shot\",\"shot\",\"shot and Tasered\",\"shot\",\"shot\",\"shot\",\"shot\",\"shot\",\"shot\",\"shot\",\"shot\",\"shot\",\"shot\",\"shot\",\"shot\",\"shot\",\"shot\",\"shot\",\"shot\",\"shot\",\"shot\",\"shot\",\"shot\",\"shot\",\"shot\",\"shot\",\"shot and Tasered\",\"shot and Tasered\",\"shot\",\"shot\",\"shot\",\"shot\",\"shot\",\"shot\",\"shot\",\"shot\",\"shot\",\"shot\",\"shot\",\"shot\",\"shot\",\"shot\",\"shot\",\"shot and Tasered\",\"shot\",\"shot\",\"shot\",\"shot\",\"shot\",\"shot\",\"shot\",\"shot\",\"shot\",\"shot\",\"shot\",\"shot\",\"shot\",\"shot\",\"shot\",\"shot\",\"shot\",\"shot and Tasered\",\"shot\",\"shot and Tasered\",\"shot\",\"shot\",\"shot\",\"shot and Tasered\",\"shot\",\"shot\",\"shot\",\"shot\",\"shot\",\"shot\",\"shot\",\"shot\",\"shot\",\"shot\",\"shot\",\"shot\",\"shot\",\"shot\",\"shot\",\"shot\",\"shot\",\"shot\",\"shot\",\"shot\",\"shot\",\"shot\",\"shot\",\"shot\",\"shot\",\"shot\",\"shot\",\"shot\",\"shot\",\"shot\",\"shot\",\"shot\",\"shot and Tasered\",\"shot\",\"shot\",\"shot\",\"shot\",\"shot\",\"shot\",\"shot\",\"shot\",\"shot\",\"shot\",\"shot\",\"shot and Tasered\",\"shot\",\"shot\",\"shot\",\"shot\",\"shot\",\"shot\",\"shot\",\"shot\",\"shot\",\"shot\",\"shot\",\"shot\",\"shot\",\"shot\",\"shot\",\"shot\",\"shot\",\"shot and Tasered\",\"shot\",\"shot\",\"shot\",\"shot\",\"shot\",\"shot\",\"shot\",\"shot\",\"shot\",\"shot\",\"shot\",\"shot\",\"shot\",\"shot\",\"shot\",\"shot\",\"shot\",\"shot\",\"shot\",\"shot\",\"shot and Tasered\",\"shot\",\"shot\",\"shot\",\"shot\",\"shot\",\"shot\",\"shot\",\"shot\",\"shot\",\"shot\",\"shot\",\"shot\",\"shot\",\"shot\",\"shot\",\"shot\",\"shot\",\"shot\",\"shot\",\"shot\",\"shot\",\"shot\",\"shot\",\"shot and Tasered\",\"shot and Tasered\",\"shot\",\"shot\",\"shot\",\"shot\",\"shot\",\"shot\",\"shot\",\"shot\",\"shot\",\"shot\",\"shot\",\"shot\",\"shot\",\"shot\",\"shot\",\"shot\",\"shot\",\"shot\",\"shot\",\"shot\",\"shot\",\"shot\",\"shot\",\"shot\",\"shot\",\"shot\",\"shot\",\"shot and Tasered\",\"shot\",\"shot\",\"shot\",\"shot\",\"shot\",\"shot\",\"shot\",\"shot\",\"shot\",\"shot\",\"shot\",\"shot\",\"shot\",\"shot\",\"shot\",\"shot\",\"shot\",\"shot\",\"shot\",\"shot\",\"shot\",\"shot and Tasered\",\"shot\",\"shot\",\"shot\",\"shot\",\"shot\",\"shot\",\"shot\",\"shot\",\"shot\",\"shot\",\"shot\",\"shot\",\"shot\",\"shot\",\"shot\",\"shot\",\"shot\",\"shot\",\"shot and Tasered\",\"shot\",\"shot\",\"shot\",\"shot\",\"shot\",\"shot\",\"shot\",\"shot\",\"shot\",\"shot\",\"shot\",\"shot\",\"shot\",\"shot\",\"shot\",\"shot\",\"shot\",\"shot and Tasered\",\"shot\",\"shot\",\"shot\",\"shot\",\"shot\",\"shot\",\"shot\",\"shot\",\"shot\",\"shot\",\"shot\",\"shot\",\"shot\",\"shot\",\"shot\",\"shot\",\"shot\",\"shot\",\"shot\",\"shot\",\"shot\",\"shot\",\"shot and Tasered\",\"shot\",\"shot\",\"shot\",\"shot\",\"shot\",\"shot\",\"shot\",\"shot\",\"shot and Tasered\",\"shot\",\"shot\",\"shot\",\"shot\",\"shot\",\"shot\",\"shot\",\"shot\",\"shot\",\"shot\",\"shot\",\"shot\",\"shot\",\"shot\",\"shot\",\"shot\",\"shot\",\"shot\",\"shot\",\"shot and Tasered\",\"shot\",\"shot\",\"shot\",\"shot\",\"shot\",\"shot\",\"shot\",\"shot\",\"shot\",\"shot\",\"shot\",\"shot\",\"shot\",\"shot\",\"shot\",\"shot\",\"shot and Tasered\",\"shot\",\"shot\",\"shot\",\"shot\",\"shot\",\"shot\",\"shot\",\"shot\",\"shot\",\"shot\",\"shot\",\"shot\",\"shot\",\"shot\",\"shot\",\"shot\",\"shot\",\"shot\",\"shot\",\"shot\",\"shot\",\"shot\",\"shot\",\"shot\",\"shot\",\"shot\",\"shot\",\"shot\",\"shot\",\"shot\",\"shot\",\"shot\",\"shot\",\"shot\",\"shot\",\"shot\",\"shot and Tasered\",\"shot\",\"shot\",\"shot\",\"shot\",\"shot\",\"shot\",\"shot\",\"shot\",\"shot\",\"shot\",\"shot\",\"shot\",\"shot\",\"shot\",\"shot\",\"shot\",\"shot\",\"shot\",\"shot\",\"shot\",\"shot\",\"shot\",\"shot\",\"shot\",\"shot\",\"shot\",\"shot\",\"shot\",\"shot\",\"shot\",\"shot\",\"shot\",\"shot\",\"shot\",\"shot\",\"shot\",\"shot\",\"shot\",\"shot\",\"shot\",\"shot\",\"shot\",\"shot\",\"shot\",\"shot\",\"shot\",\"shot\",\"shot\",\"shot\",\"shot\",\"shot\",\"shot\",\"shot\",\"shot\",\"shot\",\"shot and Tasered\",\"shot\",\"shot\",\"shot\",\"shot\",\"shot\",\"shot\",\"shot\",\"shot\",\"shot\",\"shot\",\"shot\",\"shot\",\"shot\",\"shot\",\"shot\",\"shot\",\"shot\",\"shot\",\"shot and Tasered\",\"shot\",\"shot\",\"shot\",\"shot\",\"shot\",\"shot\",\"shot\",\"shot\",\"shot\",\"shot\",\"shot\",\"shot\",\"shot\",\"shot\",\"shot\",\"shot\",\"shot\",\"shot\",\"shot\",\"shot\",\"shot and Tasered\",\"shot\",\"shot\",\"shot\",\"shot\",\"shot\",\"shot\",\"shot\",\"shot\",\"shot\",\"shot\",\"shot and Tasered\",\"shot\",\"shot\",\"shot\",\"shot\",\"shot\",\"shot\",\"shot\",\"shot\",\"shot\",\"shot\",\"shot\",\"shot\",\"shot\",\"shot\",\"shot\",\"shot\",\"shot\",\"shot\",\"shot\",\"shot\",\"shot\",\"shot and Tasered\",\"shot\",\"shot\",\"shot and Tasered\",\"shot\",\"shot\",\"shot\",\"shot\",\"shot\",\"shot\",\"shot\",\"shot\",\"shot\",\"shot\",\"shot\",\"shot\",\"shot\",\"shot\",\"shot\",\"shot\",\"shot\",\"shot\",\"shot\",\"shot\",\"shot\",\"shot\",\"shot\",\"shot\",\"shot\",\"shot\",\"shot\",\"shot\",\"shot\",\"shot\",\"shot\",\"shot\",\"shot\",\"shot\",\"shot\",\"shot\",\"shot\",\"shot\",\"shot\",\"shot\",\"shot\",\"shot\",\"shot\",\"shot\",\"shot\",\"shot\",\"shot\",\"shot\",\"shot\",\"shot\",\"shot\",\"shot\",\"shot\",\"shot\",\"shot\",\"shot\",\"shot\",\"shot\",\"shot\",\"shot\",\"shot\",\"shot and Tasered\",\"shot\",\"shot\",\"shot\",\"shot\",\"shot\",\"shot\",\"shot\",\"shot\",\"shot\",\"shot\",\"shot\",\"shot\",\"shot\",\"shot\",\"shot\",\"shot\",\"shot\",\"shot\",\"shot\",\"shot\",\"shot\",\"shot\",\"shot\",\"shot\",\"shot\",\"shot\",\"shot\",\"shot\",\"shot\",\"shot\",\"shot\",\"shot\",\"shot\",\"shot and Tasered\",\"shot\",\"shot\",\"shot\",\"shot\",\"shot and Tasered\",\"shot\",\"shot\",\"shot\",\"shot and Tasered\",\"shot and Tasered\",\"shot and Tasered\",\"shot\",\"shot\",\"shot and Tasered\",\"shot\",\"shot\",\"shot\",\"shot\",\"shot\",\"shot and Tasered\",\"shot\",\"shot\",\"shot\",\"shot\",\"shot\",\"shot\",\"shot\",\"shot\",\"shot\",\"shot\",\"shot\",\"shot\",\"shot\",\"shot\",\"shot\",\"shot\",\"shot\",\"shot\",\"shot\",\"shot\",\"shot\",\"shot\",\"shot\",\"shot\",\"shot\",\"shot\",\"shot\",\"shot\",\"shot\",\"shot\",\"shot\",\"shot\",\"shot\",\"shot and Tasered\",\"shot\",\"shot\",\"shot and Tasered\",\"shot\",\"shot\",\"shot\",\"shot\",\"shot\",\"shot\",\"shot\",\"shot\",\"shot\",\"shot\",\"shot\",\"shot\",\"shot\",\"shot\",\"shot\",\"shot\",\"shot\",\"shot\",\"shot\",\"shot\",\"shot\",\"shot\",\"shot\",\"shot\",\"shot\",\"shot\",\"shot\",\"shot\",\"shot\",\"shot\",\"shot\",\"shot\",\"shot\",\"shot\",\"shot\",\"shot\",\"shot\",\"shot\",\"shot\",\"shot\",\"shot\",\"shot\",\"shot\",\"shot\",\"shot\",\"shot\",\"shot\",\"shot\",\"shot\",\"shot\",\"shot\",\"shot\",\"shot\",\"shot\",\"shot\",\"shot\",\"shot\",\"shot\",\"shot\",\"shot\",\"shot\",\"shot\",\"shot\",\"shot\",\"shot\",\"shot\",\"shot\",\"shot and Tasered\",\"shot\",\"shot\",\"shot\",\"shot\",\"shot\",\"shot and Tasered\",\"shot\",\"shot\",\"shot and Tasered\",\"shot\",\"shot\",\"shot\",\"shot\",\"shot\",\"shot\",\"shot\",\"shot and Tasered\",\"shot\",\"shot\",\"shot\",\"shot\",\"shot\",\"shot\",\"shot\",\"shot\",\"shot\",\"shot and Tasered\",\"shot\",\"shot\",\"shot\",\"shot\",\"shot\",\"shot\",\"shot\",\"shot\",\"shot\",\"shot\",\"shot\",\"shot\",\"shot\",\"shot\",\"shot\",\"shot\",\"shot\",\"shot\",\"shot\",\"shot\",\"shot\",\"shot\",\"shot\",\"shot and Tasered\",\"shot\",\"shot and Tasered\",\"shot\",\"shot\",\"shot\",\"shot\",\"shot and Tasered\",\"shot\",\"shot\",\"shot\",\"shot\",\"shot\",\"shot\",\"shot and Tasered\",\"shot\",\"shot\",\"shot\",\"shot\",\"shot\",\"shot and Tasered\",\"shot\",\"shot\",\"shot\",\"shot\",\"shot\",\"shot\",\"shot\",\"shot and Tasered\",\"shot and Tasered\",\"shot\",\"shot and Tasered\",\"shot\",\"shot\",\"shot and Tasered\",\"shot\",\"shot\",\"shot\",\"shot\",\"shot\",\"shot\",\"shot\",\"shot\",\"shot\",\"shot\",\"shot\",\"shot\",\"shot\",\"shot\",\"shot\",\"shot\",\"shot\",\"shot\",\"shot and Tasered\",\"shot\",\"shot\",\"shot\",\"shot\",\"shot\",\"shot\",\"shot\",\"shot\",\"shot\",\"shot\",\"shot\",\"shot\",\"shot\",\"shot\",\"shot\",\"shot\",\"shot\",\"shot\",\"shot\",\"shot\",\"shot\",\"shot\",\"shot\",\"shot and Tasered\",\"shot and Tasered\",\"shot\",\"shot\",\"shot\",\"shot\",\"shot\",\"shot\",\"shot\",\"shot\",\"shot\",\"shot\",\"shot and Tasered\",\"shot\",\"shot\",\"shot\",\"shot\",\"shot\",\"shot\",\"shot\",\"shot and Tasered\",\"shot and Tasered\",\"shot\",\"shot\",\"shot\",\"shot\",\"shot\",\"shot\",\"shot\",\"shot\",\"shot\",\"shot\",\"shot\",\"shot\",\"shot\",\"shot\",\"shot\",\"shot\",\"shot\",\"shot\",\"shot\",\"shot\",\"shot and Tasered\",\"shot\",\"shot\",\"shot\",\"shot\",\"shot\",\"shot\",\"shot\",\"shot\",\"shot\",\"shot\",\"shot\",\"shot\",\"shot\",\"shot\",\"shot\",\"shot\",\"shot and Tasered\",\"shot and Tasered\",\"shot\",\"shot\",\"shot\",\"shot\",\"shot and Tasered\",\"shot\",\"shot\",\"shot\",\"shot\",\"shot and Tasered\",\"shot\",\"shot\",\"shot\",\"shot\",\"shot\",\"shot\",\"shot\",\"shot\",\"shot\",\"shot\",\"shot\",\"shot\",\"shot\",\"shot\",\"shot\",\"shot\",\"shot\",\"shot\",\"shot and Tasered\",\"shot\",\"shot\",\"shot\",\"shot\",\"shot\",\"shot\",\"shot\",\"shot\",\"shot and Tasered\",\"shot\",\"shot\",\"shot and Tasered\",\"shot\",\"shot\",\"shot and Tasered\",\"shot\",\"shot\",\"shot and Tasered\",\"shot\",\"shot\",\"shot\",\"shot\",\"shot and Tasered\",\"shot\",\"shot\",\"shot\",\"shot\",\"shot and Tasered\",\"shot\",\"shot\",\"shot\",\"shot\",\"shot\",\"shot\",\"shot\",\"shot and Tasered\",\"shot\",\"shot\",\"shot\",\"shot\",\"shot\",\"shot\",\"shot and Tasered\",\"shot\",\"shot\",\"shot\",\"shot\",\"shot\",\"shot\",\"shot\",\"shot\",\"shot\",\"shot\",\"shot\",\"shot\",\"shot\",\"shot\",\"shot\",\"shot\",\"shot\",\"shot and Tasered\",\"shot and Tasered\",\"shot and Tasered\",\"shot\",\"shot\",\"shot\",\"shot\",\"shot\",\"shot\",\"shot\",\"shot\",\"shot\",\"shot\",\"shot\",\"shot\",\"shot\",\"shot\",\"shot\",\"shot\",\"shot\",\"shot\",\"shot\",\"shot\",\"shot and Tasered\",\"shot and Tasered\",\"shot\",\"shot\",\"shot\",\"shot\",\"shot\",\"shot\",\"shot\",\"shot and Tasered\",\"shot and Tasered\",\"shot\",\"shot\",\"shot\",\"shot\",\"shot\",\"shot\",\"shot\",\"shot\",\"shot\",\"shot\",\"shot\",\"shot\",\"shot\",\"shot\",\"shot\",\"shot\",\"shot\",\"shot\",\"shot\",\"shot\",\"shot\",\"shot\",\"shot\",\"shot\",\"shot\",\"shot\",\"shot\",\"shot\",\"shot\",\"shot\",\"shot\",\"shot\",\"shot\",\"shot\",\"shot\",\"shot\",\"shot\",\"shot\",\"shot\",\"shot and Tasered\",\"shot\",\"shot\",\"shot\",\"shot\",\"shot\",\"shot\",\"shot\",\"shot\",\"shot\",\"shot\",\"shot\",\"shot\",\"shot\",\"shot\",\"shot\",\"shot\",\"shot\",\"shot\",\"shot\",\"shot\",\"shot\",\"shot\",\"shot\",\"shot\",\"shot\",\"shot\",\"shot\",\"shot\",\"shot\",\"shot\",\"shot\",\"shot\",\"shot\",\"shot\",\"shot and Tasered\",\"shot\",\"shot\",\"shot and Tasered\",\"shot\",\"shot\",\"shot\",\"shot and Tasered\",\"shot\",\"shot\",\"shot\",\"shot\",\"shot and Tasered\",\"shot\",\"shot\",\"shot\",\"shot\",\"shot\",\"shot\",\"shot\",\"shot\",\"shot\",\"shot\",\"shot\",\"shot\",\"shot and Tasered\",\"shot\",\"shot\",\"shot\",\"shot and Tasered\",\"shot\",\"shot\",\"shot\",\"shot\",\"shot\",\"shot\",\"shot\",\"shot\",\"shot\",\"shot\",\"shot\",\"shot\",\"shot\",\"shot\",\"shot\",\"shot\",\"shot\",\"shot\",\"shot\",\"shot\",\"shot\",\"shot\",\"shot\",\"shot\",\"shot\",\"shot\",\"shot\",\"shot\",\"shot\",\"shot\",\"shot\",\"shot\",\"shot\",\"shot\",\"shot\",\"shot and Tasered\",\"shot\",\"shot\",\"shot\",\"shot\",\"shot\",\"shot\",\"shot\",\"shot\",\"shot\",\"shot\",\"shot\",\"shot\",\"shot\",\"shot\",\"shot\",\"shot\",\"shot\",\"shot\",\"shot\",\"shot\",\"shot\",\"shot\",\"shot\",\"shot\",\"shot\",\"shot\",\"shot\",\"shot\",\"shot\",\"shot\",\"shot\",\"shot\",\"shot\",\"shot and Tasered\",\"shot\",\"shot\",\"shot\",\"shot\",\"shot\",\"shot\",\"shot\",\"shot\",\"shot\",\"shot\",\"shot\",\"shot\",\"shot\",\"shot\",\"shot and Tasered\",\"shot and Tasered\",\"shot\",\"shot\",\"shot\",\"shot\",\"shot\",\"shot\",\"shot\",\"shot\",\"shot\",\"shot\",\"shot\",\"shot\",\"shot\",\"shot\",\"shot and Tasered\",\"shot\",\"shot\",\"shot\",\"shot\",\"shot\",\"shot\",\"shot\",\"shot\",\"shot\",\"shot\",\"shot\",\"shot\",\"shot\",\"shot\",\"shot\",\"shot\",\"shot\",\"shot\",\"shot\",\"shot\",\"shot and Tasered\",\"shot\",\"shot and Tasered\",\"shot\",\"shot\",\"shot\",\"shot\",\"shot\",\"shot\",\"shot\",\"shot\",\"shot\",\"shot\",\"shot\",\"shot\",\"shot\",\"shot\",\"shot\",\"shot\",\"shot\",\"shot\",\"shot\",\"shot\",\"shot\",\"shot\",\"shot\",\"shot\",\"shot and Tasered\",\"shot\",\"shot\",\"shot\",\"shot\",\"shot\",\"shot\",\"shot\",\"shot\",\"shot\",\"shot\",\"shot\",\"shot\",\"shot\",\"shot and Tasered\",\"shot\",\"shot\",\"shot\",\"shot\",\"shot\",\"shot\",\"shot\",\"shot\",\"shot\",\"shot\",\"shot\",\"shot\",\"shot\",\"shot\",\"shot\",\"shot\",\"shot\",\"shot\",\"shot\",\"shot\",\"shot\",\"shot\",\"shot\",\"shot\",\"shot\",\"shot\",\"shot\",\"shot and Tasered\",\"shot\",\"shot\",\"shot and Tasered\",\"shot\",\"shot\",\"shot\",\"shot\",\"shot\",\"shot\",\"shot and Tasered\",\"shot\",\"shot\",\"shot\",\"shot\",\"shot\",\"shot\",\"shot\",\"shot and Tasered\",\"shot\",\"shot\",\"shot\",\"shot\",\"shot\",\"shot\",\"shot\",\"shot\",\"shot\",\"shot\",\"shot\",\"shot and Tasered\",\"shot\",\"shot\",\"shot\",\"shot\",\"shot\",\"shot\",\"shot\",\"shot\",\"shot\",\"shot\",\"shot\",\"shot\",\"shot\",\"shot\",\"shot\",\"shot\",\"shot\",\"shot\",\"shot and Tasered\",\"shot\",\"shot\",\"shot\",\"shot\",\"shot\",\"shot\",\"shot\",\"shot\",\"shot\",\"shot\",\"shot\",\"shot\",\"shot\",\"shot\",\"shot\",\"shot\",\"shot\",\"shot\",\"shot\",\"shot\",\"shot\",\"shot\",\"shot\",\"shot\",\"shot\",\"shot\",\"shot\",\"shot\",\"shot\",\"shot\",\"shot\",\"shot\",\"shot\",\"shot\",\"shot\",\"shot\",\"shot\",\"shot\",\"shot\",\"shot\",\"shot\",\"shot\",\"shot\",\"shot\",\"shot\",\"shot\",\"shot\",\"shot\",\"shot\",\"shot\",\"shot\",\"shot\",\"shot\",\"shot\",\"shot\",\"shot\",\"shot\",\"shot\",\"shot\",\"shot\",\"shot\",\"shot\",\"shot\",\"shot\",\"shot\",\"shot\",\"shot\",\"shot\",\"shot\",\"shot\",\"shot\",\"shot\",\"shot\",\"shot\",\"shot\",\"shot\",\"shot\",\"shot\",\"shot\",\"shot\",\"shot\",\"shot\",\"shot\",\"shot\",\"shot\",\"shot\",\"shot\",\"shot\",\"shot\",\"shot\",\"shot\"],\"xaxis\":\"x\",\"yaxis\":\"y\",\"type\":\"histogram\"},{\"alignmentgroup\":\"True\",\"bingroup\":\"x\",\"hovertemplate\":\"gender=F<br>manner_of_death=%{x}<br>count=%{y}<extra></extra>\",\"legendgroup\":\"F\",\"marker\":{\"color\":\"#EF553B\",\"pattern\":{\"shape\":\"\"}},\"name\":\"F\",\"offsetgroup\":\"F\",\"orientation\":\"v\",\"showlegend\":true,\"x\":[\"shot\",\"shot and Tasered\",\"shot\",\"shot\",\"shot\",\"shot\",\"shot\",\"shot\",\"shot\",\"shot\",\"shot\",\"shot\",\"shot\",\"shot\",\"shot\",\"shot\",\"shot\",\"shot\",\"shot and Tasered\",\"shot\",\"shot\",\"shot\",\"shot\",\"shot\",\"shot and Tasered\",\"shot\",\"shot\",\"shot\",\"shot\",\"shot\",\"shot\",\"shot\",\"shot\",\"shot\",\"shot\",\"shot\",\"shot\",\"shot\",\"shot\",\"shot\",\"shot\",\"shot\",\"shot\",\"shot\",\"shot\",\"shot\",\"shot\",\"shot\",\"shot\",\"shot\",\"shot\",\"shot\",\"shot\",\"shot\",\"shot\",\"shot\",\"shot\",\"shot\",\"shot\",\"shot\",\"shot\",\"shot\",\"shot\",\"shot\",\"shot\",\"shot\",\"shot\",\"shot\",\"shot\",\"shot\",\"shot\",\"shot\",\"shot\",\"shot\",\"shot\",\"shot\",\"shot\",\"shot\",\"shot\",\"shot\",\"shot\",\"shot\",\"shot and Tasered\",\"shot\",\"shot\",\"shot and Tasered\",\"shot\",\"shot\",\"shot\",\"shot\",\"shot\",\"shot\",\"shot\",\"shot\",\"shot\",\"shot\",\"shot\",\"shot\",\"shot\",\"shot\",\"shot\",\"shot\",\"shot\",\"shot\",\"shot\",\"shot\",\"shot\"],\"xaxis\":\"x\",\"yaxis\":\"y\",\"type\":\"histogram\"}],                        {\"template\":{\"data\":{\"bar\":[{\"error_x\":{\"color\":\"#2a3f5f\"},\"error_y\":{\"color\":\"#2a3f5f\"},\"marker\":{\"line\":{\"color\":\"#E5ECF6\",\"width\":0.5},\"pattern\":{\"fillmode\":\"overlay\",\"size\":10,\"solidity\":0.2}},\"type\":\"bar\"}],\"barpolar\":[{\"marker\":{\"line\":{\"color\":\"#E5ECF6\",\"width\":0.5},\"pattern\":{\"fillmode\":\"overlay\",\"size\":10,\"solidity\":0.2}},\"type\":\"barpolar\"}],\"carpet\":[{\"aaxis\":{\"endlinecolor\":\"#2a3f5f\",\"gridcolor\":\"white\",\"linecolor\":\"white\",\"minorgridcolor\":\"white\",\"startlinecolor\":\"#2a3f5f\"},\"baxis\":{\"endlinecolor\":\"#2a3f5f\",\"gridcolor\":\"white\",\"linecolor\":\"white\",\"minorgridcolor\":\"white\",\"startlinecolor\":\"#2a3f5f\"},\"type\":\"carpet\"}],\"choropleth\":[{\"colorbar\":{\"outlinewidth\":0,\"ticks\":\"\"},\"type\":\"choropleth\"}],\"contour\":[{\"colorbar\":{\"outlinewidth\":0,\"ticks\":\"\"},\"colorscale\":[[0.0,\"#0d0887\"],[0.1111111111111111,\"#46039f\"],[0.2222222222222222,\"#7201a8\"],[0.3333333333333333,\"#9c179e\"],[0.4444444444444444,\"#bd3786\"],[0.5555555555555556,\"#d8576b\"],[0.6666666666666666,\"#ed7953\"],[0.7777777777777778,\"#fb9f3a\"],[0.8888888888888888,\"#fdca26\"],[1.0,\"#f0f921\"]],\"type\":\"contour\"}],\"contourcarpet\":[{\"colorbar\":{\"outlinewidth\":0,\"ticks\":\"\"},\"type\":\"contourcarpet\"}],\"heatmap\":[{\"colorbar\":{\"outlinewidth\":0,\"ticks\":\"\"},\"colorscale\":[[0.0,\"#0d0887\"],[0.1111111111111111,\"#46039f\"],[0.2222222222222222,\"#7201a8\"],[0.3333333333333333,\"#9c179e\"],[0.4444444444444444,\"#bd3786\"],[0.5555555555555556,\"#d8576b\"],[0.6666666666666666,\"#ed7953\"],[0.7777777777777778,\"#fb9f3a\"],[0.8888888888888888,\"#fdca26\"],[1.0,\"#f0f921\"]],\"type\":\"heatmap\"}],\"heatmapgl\":[{\"colorbar\":{\"outlinewidth\":0,\"ticks\":\"\"},\"colorscale\":[[0.0,\"#0d0887\"],[0.1111111111111111,\"#46039f\"],[0.2222222222222222,\"#7201a8\"],[0.3333333333333333,\"#9c179e\"],[0.4444444444444444,\"#bd3786\"],[0.5555555555555556,\"#d8576b\"],[0.6666666666666666,\"#ed7953\"],[0.7777777777777778,\"#fb9f3a\"],[0.8888888888888888,\"#fdca26\"],[1.0,\"#f0f921\"]],\"type\":\"heatmapgl\"}],\"histogram\":[{\"marker\":{\"pattern\":{\"fillmode\":\"overlay\",\"size\":10,\"solidity\":0.2}},\"type\":\"histogram\"}],\"histogram2d\":[{\"colorbar\":{\"outlinewidth\":0,\"ticks\":\"\"},\"colorscale\":[[0.0,\"#0d0887\"],[0.1111111111111111,\"#46039f\"],[0.2222222222222222,\"#7201a8\"],[0.3333333333333333,\"#9c179e\"],[0.4444444444444444,\"#bd3786\"],[0.5555555555555556,\"#d8576b\"],[0.6666666666666666,\"#ed7953\"],[0.7777777777777778,\"#fb9f3a\"],[0.8888888888888888,\"#fdca26\"],[1.0,\"#f0f921\"]],\"type\":\"histogram2d\"}],\"histogram2dcontour\":[{\"colorbar\":{\"outlinewidth\":0,\"ticks\":\"\"},\"colorscale\":[[0.0,\"#0d0887\"],[0.1111111111111111,\"#46039f\"],[0.2222222222222222,\"#7201a8\"],[0.3333333333333333,\"#9c179e\"],[0.4444444444444444,\"#bd3786\"],[0.5555555555555556,\"#d8576b\"],[0.6666666666666666,\"#ed7953\"],[0.7777777777777778,\"#fb9f3a\"],[0.8888888888888888,\"#fdca26\"],[1.0,\"#f0f921\"]],\"type\":\"histogram2dcontour\"}],\"mesh3d\":[{\"colorbar\":{\"outlinewidth\":0,\"ticks\":\"\"},\"type\":\"mesh3d\"}],\"parcoords\":[{\"line\":{\"colorbar\":{\"outlinewidth\":0,\"ticks\":\"\"}},\"type\":\"parcoords\"}],\"pie\":[{\"automargin\":true,\"type\":\"pie\"}],\"scatter\":[{\"marker\":{\"colorbar\":{\"outlinewidth\":0,\"ticks\":\"\"}},\"type\":\"scatter\"}],\"scatter3d\":[{\"line\":{\"colorbar\":{\"outlinewidth\":0,\"ticks\":\"\"}},\"marker\":{\"colorbar\":{\"outlinewidth\":0,\"ticks\":\"\"}},\"type\":\"scatter3d\"}],\"scattercarpet\":[{\"marker\":{\"colorbar\":{\"outlinewidth\":0,\"ticks\":\"\"}},\"type\":\"scattercarpet\"}],\"scattergeo\":[{\"marker\":{\"colorbar\":{\"outlinewidth\":0,\"ticks\":\"\"}},\"type\":\"scattergeo\"}],\"scattergl\":[{\"marker\":{\"colorbar\":{\"outlinewidth\":0,\"ticks\":\"\"}},\"type\":\"scattergl\"}],\"scattermapbox\":[{\"marker\":{\"colorbar\":{\"outlinewidth\":0,\"ticks\":\"\"}},\"type\":\"scattermapbox\"}],\"scatterpolar\":[{\"marker\":{\"colorbar\":{\"outlinewidth\":0,\"ticks\":\"\"}},\"type\":\"scatterpolar\"}],\"scatterpolargl\":[{\"marker\":{\"colorbar\":{\"outlinewidth\":0,\"ticks\":\"\"}},\"type\":\"scatterpolargl\"}],\"scatterternary\":[{\"marker\":{\"colorbar\":{\"outlinewidth\":0,\"ticks\":\"\"}},\"type\":\"scatterternary\"}],\"surface\":[{\"colorbar\":{\"outlinewidth\":0,\"ticks\":\"\"},\"colorscale\":[[0.0,\"#0d0887\"],[0.1111111111111111,\"#46039f\"],[0.2222222222222222,\"#7201a8\"],[0.3333333333333333,\"#9c179e\"],[0.4444444444444444,\"#bd3786\"],[0.5555555555555556,\"#d8576b\"],[0.6666666666666666,\"#ed7953\"],[0.7777777777777778,\"#fb9f3a\"],[0.8888888888888888,\"#fdca26\"],[1.0,\"#f0f921\"]],\"type\":\"surface\"}],\"table\":[{\"cells\":{\"fill\":{\"color\":\"#EBF0F8\"},\"line\":{\"color\":\"white\"}},\"header\":{\"fill\":{\"color\":\"#C8D4E3\"},\"line\":{\"color\":\"white\"}},\"type\":\"table\"}]},\"layout\":{\"annotationdefaults\":{\"arrowcolor\":\"#2a3f5f\",\"arrowhead\":0,\"arrowwidth\":1},\"autotypenumbers\":\"strict\",\"coloraxis\":{\"colorbar\":{\"outlinewidth\":0,\"ticks\":\"\"}},\"colorscale\":{\"diverging\":[[0,\"#8e0152\"],[0.1,\"#c51b7d\"],[0.2,\"#de77ae\"],[0.3,\"#f1b6da\"],[0.4,\"#fde0ef\"],[0.5,\"#f7f7f7\"],[0.6,\"#e6f5d0\"],[0.7,\"#b8e186\"],[0.8,\"#7fbc41\"],[0.9,\"#4d9221\"],[1,\"#276419\"]],\"sequential\":[[0.0,\"#0d0887\"],[0.1111111111111111,\"#46039f\"],[0.2222222222222222,\"#7201a8\"],[0.3333333333333333,\"#9c179e\"],[0.4444444444444444,\"#bd3786\"],[0.5555555555555556,\"#d8576b\"],[0.6666666666666666,\"#ed7953\"],[0.7777777777777778,\"#fb9f3a\"],[0.8888888888888888,\"#fdca26\"],[1.0,\"#f0f921\"]],\"sequentialminus\":[[0.0,\"#0d0887\"],[0.1111111111111111,\"#46039f\"],[0.2222222222222222,\"#7201a8\"],[0.3333333333333333,\"#9c179e\"],[0.4444444444444444,\"#bd3786\"],[0.5555555555555556,\"#d8576b\"],[0.6666666666666666,\"#ed7953\"],[0.7777777777777778,\"#fb9f3a\"],[0.8888888888888888,\"#fdca26\"],[1.0,\"#f0f921\"]]},\"colorway\":[\"#636efa\",\"#EF553B\",\"#00cc96\",\"#ab63fa\",\"#FFA15A\",\"#19d3f3\",\"#FF6692\",\"#B6E880\",\"#FF97FF\",\"#FECB52\"],\"font\":{\"color\":\"#2a3f5f\"},\"geo\":{\"bgcolor\":\"white\",\"lakecolor\":\"white\",\"landcolor\":\"#E5ECF6\",\"showlakes\":true,\"showland\":true,\"subunitcolor\":\"white\"},\"hoverlabel\":{\"align\":\"left\"},\"hovermode\":\"closest\",\"mapbox\":{\"style\":\"light\"},\"paper_bgcolor\":\"white\",\"plot_bgcolor\":\"#E5ECF6\",\"polar\":{\"angularaxis\":{\"gridcolor\":\"white\",\"linecolor\":\"white\",\"ticks\":\"\"},\"bgcolor\":\"#E5ECF6\",\"radialaxis\":{\"gridcolor\":\"white\",\"linecolor\":\"white\",\"ticks\":\"\"}},\"scene\":{\"xaxis\":{\"backgroundcolor\":\"#E5ECF6\",\"gridcolor\":\"white\",\"gridwidth\":2,\"linecolor\":\"white\",\"showbackground\":true,\"ticks\":\"\",\"zerolinecolor\":\"white\"},\"yaxis\":{\"backgroundcolor\":\"#E5ECF6\",\"gridcolor\":\"white\",\"gridwidth\":2,\"linecolor\":\"white\",\"showbackground\":true,\"ticks\":\"\",\"zerolinecolor\":\"white\"},\"zaxis\":{\"backgroundcolor\":\"#E5ECF6\",\"gridcolor\":\"white\",\"gridwidth\":2,\"linecolor\":\"white\",\"showbackground\":true,\"ticks\":\"\",\"zerolinecolor\":\"white\"}},\"shapedefaults\":{\"line\":{\"color\":\"#2a3f5f\"}},\"ternary\":{\"aaxis\":{\"gridcolor\":\"white\",\"linecolor\":\"white\",\"ticks\":\"\"},\"baxis\":{\"gridcolor\":\"white\",\"linecolor\":\"white\",\"ticks\":\"\"},\"bgcolor\":\"#E5ECF6\",\"caxis\":{\"gridcolor\":\"white\",\"linecolor\":\"white\",\"ticks\":\"\"}},\"title\":{\"x\":0.05},\"xaxis\":{\"automargin\":true,\"gridcolor\":\"white\",\"linecolor\":\"white\",\"ticks\":\"\",\"title\":{\"standoff\":15},\"zerolinecolor\":\"white\",\"zerolinewidth\":2},\"yaxis\":{\"automargin\":true,\"gridcolor\":\"white\",\"linecolor\":\"white\",\"ticks\":\"\",\"title\":{\"standoff\":15},\"zerolinecolor\":\"white\",\"zerolinewidth\":2}}},\"xaxis\":{\"anchor\":\"y\",\"domain\":[0.0,1.0],\"title\":{\"text\":\"manner_of_death\"}},\"yaxis\":{\"anchor\":\"x\",\"domain\":[0.0,1.0],\"title\":{\"text\":\"count\"}},\"legend\":{\"title\":{\"text\":\"gender\"},\"tracegroupgap\":0},\"margin\":{\"t\":60},\"barmode\":\"group\",\"height\":400},                        {\"responsive\": true}                    ).then(function(){\n",
              "                            \n",
              "var gd = document.getElementById('31aed43a-bbf7-49e5-bd32-ae7745fe1c26');\n",
              "var x = new MutationObserver(function (mutations, observer) {{\n",
              "        var display = window.getComputedStyle(gd).display;\n",
              "        if (!display || display === 'none') {{\n",
              "            console.log([gd, 'removed!']);\n",
              "            Plotly.purge(gd);\n",
              "            observer.disconnect();\n",
              "        }}\n",
              "}});\n",
              "\n",
              "// Listen for the removal of the full notebook cells\n",
              "var notebookContainer = gd.closest('#notebook-container');\n",
              "if (notebookContainer) {{\n",
              "    x.observe(notebookContainer, {childList: true});\n",
              "}}\n",
              "\n",
              "// Listen for the clearing of the current output cell\n",
              "var outputEl = gd.closest('.output');\n",
              "if (outputEl) {{\n",
              "    x.observe(outputEl, {childList: true});\n",
              "}}\n",
              "\n",
              "                        })                };                            </script>        </div>\n",
              "</body>\n",
              "</html>"
            ]
          },
          "metadata": {}
        }
      ]
    },
    {
      "cell_type": "markdown",
      "metadata": {
        "_uuid": "cd1531c8421bfb6967cebf7039056779f9b960a6",
        "id": "ZxbBdvM0uRpQ"
      },
      "source": [
        "# Create a Box Plot Showing the Age and Manner of Death\n",
        "\n",
        "Break out the data by gender using `df_fatalities`. Is there a difference between men and women in the manner of death?"
      ]
    },
    {
      "cell_type": "code",
      "metadata": {
        "id": "WdPPZLJY2shA",
        "colab": {
          "base_uri": "https://localhost:8080/",
          "height": 542
        },
        "outputId": "e1261fb1-1dd9-4cea-e7ea-e8d8fa3f1c23"
      },
      "source": [
        "fig = px.box(df_fatalities, x=\"manner_of_death\", y='age', color=\"gender\")\n",
        "\n",
        "fig.show()"
      ],
      "execution_count": null,
      "outputs": [
        {
          "output_type": "display_data",
          "data": {
            "text/html": [
              "<html>\n",
              "<head><meta charset=\"utf-8\" /></head>\n",
              "<body>\n",
              "    <div>            <script src=\"https://cdnjs.cloudflare.com/ajax/libs/mathjax/2.7.5/MathJax.js?config=TeX-AMS-MML_SVG\"></script><script type=\"text/javascript\">if (window.MathJax) {MathJax.Hub.Config({SVG: {font: \"STIX-Web\"}});}</script>                <script type=\"text/javascript\">window.PlotlyConfig = {MathJaxConfig: 'local'};</script>\n",
              "        <script src=\"https://cdn.plot.ly/plotly-2.8.3.min.js\"></script>                <div id=\"ca014ce1-e90a-42db-abef-c4702a7dab6f\" class=\"plotly-graph-div\" style=\"height:525px; width:100%;\"></div>            <script type=\"text/javascript\">                                    window.PLOTLYENV=window.PLOTLYENV || {};                                    if (document.getElementById(\"ca014ce1-e90a-42db-abef-c4702a7dab6f\")) {                    Plotly.newPlot(                        \"ca014ce1-e90a-42db-abef-c4702a7dab6f\",                        [{\"alignmentgroup\":\"True\",\"hovertemplate\":\"gender=M<br>manner_of_death=%{x}<br>age=%{y}<extra></extra>\",\"legendgroup\":\"M\",\"marker\":{\"color\":\"#636efa\"},\"name\":\"M\",\"notched\":false,\"offsetgroup\":\"M\",\"orientation\":\"v\",\"showlegend\":true,\"x\":[\"shot\",\"shot\",\"shot and Tasered\",\"shot\",\"shot\",\"shot\",\"shot\",\"shot\",\"shot\",\"shot and Tasered\",\"shot\",\"shot\",\"shot\",\"shot\",\"shot\",\"shot\",\"shot\",\"shot\",\"shot\",\"shot\",\"shot\",\"shot\",\"shot and Tasered\",\"shot\",\"shot\",\"shot\",\"shot\",\"shot\",\"shot\",\"shot\",\"shot\",\"shot\",\"shot\",\"shot\",\"shot\",\"shot\",\"shot\",\"shot and Tasered\",\"shot\",\"shot\",\"shot\",\"shot\",\"shot and Tasered\",\"shot\",\"shot\",\"shot\",\"shot\",\"shot\",\"shot\",\"shot\",\"shot\",\"shot\",\"shot\",\"shot\",\"shot\",\"shot\",\"shot\",\"shot\",\"shot\",\"shot\",\"shot\",\"shot\",\"shot\",\"shot\",\"shot\",\"shot and Tasered\",\"shot\",\"shot\",\"shot\",\"shot\",\"shot\",\"shot and Tasered\",\"shot\",\"shot\",\"shot\",\"shot\",\"shot\",\"shot\",\"shot\",\"shot\",\"shot\",\"shot\",\"shot\",\"shot\",\"shot\",\"shot\",\"shot\",\"shot\",\"shot\",\"shot\",\"shot\",\"shot\",\"shot\",\"shot\",\"shot\",\"shot and Tasered\",\"shot\",\"shot\",\"shot\",\"shot\",\"shot\",\"shot\",\"shot\",\"shot\",\"shot\",\"shot\",\"shot\",\"shot and Tasered\",\"shot\",\"shot\",\"shot\",\"shot\",\"shot\",\"shot\",\"shot\",\"shot\",\"shot\",\"shot\",\"shot\",\"shot\",\"shot\",\"shot\",\"shot\",\"shot\",\"shot and Tasered\",\"shot and Tasered\",\"shot\",\"shot\",\"shot\",\"shot\",\"shot and Tasered\",\"shot\",\"shot\",\"shot and Tasered\",\"shot\",\"shot\",\"shot\",\"shot\",\"shot\",\"shot and Tasered\",\"shot\",\"shot\",\"shot\",\"shot\",\"shot and Tasered\",\"shot\",\"shot\",\"shot\",\"shot\",\"shot\",\"shot\",\"shot\",\"shot\",\"shot\",\"shot\",\"shot\",\"shot\",\"shot\",\"shot\",\"shot\",\"shot\",\"shot\",\"shot\",\"shot\",\"shot\",\"shot\",\"shot\",\"shot\",\"shot\",\"shot\",\"shot\",\"shot\",\"shot\",\"shot\",\"shot\",\"shot\",\"shot\",\"shot\",\"shot\",\"shot\",\"shot\",\"shot\",\"shot\",\"shot\",\"shot\",\"shot\",\"shot\",\"shot\",\"shot\",\"shot\",\"shot\",\"shot\",\"shot\",\"shot\",\"shot\",\"shot\",\"shot\",\"shot\",\"shot\",\"shot\",\"shot\",\"shot\",\"shot\",\"shot\",\"shot\",\"shot\",\"shot and Tasered\",\"shot and Tasered\",\"shot\",\"shot\",\"shot\",\"shot\",\"shot\",\"shot\",\"shot\",\"shot and Tasered\",\"shot\",\"shot\",\"shot\",\"shot\",\"shot\",\"shot\",\"shot\",\"shot\",\"shot\",\"shot\",\"shot\",\"shot\",\"shot\",\"shot\",\"shot\",\"shot\",\"shot and Tasered\",\"shot\",\"shot\",\"shot\",\"shot\",\"shot and Tasered\",\"shot\",\"shot\",\"shot\",\"shot\",\"shot\",\"shot\",\"shot\",\"shot\",\"shot\",\"shot\",\"shot\",\"shot\",\"shot and Tasered\",\"shot\",\"shot\",\"shot\",\"shot\",\"shot\",\"shot\",\"shot\",\"shot\",\"shot\",\"shot\",\"shot\",\"shot\",\"shot\",\"shot\",\"shot\",\"shot\",\"shot\",\"shot\",\"shot\",\"shot\",\"shot\",\"shot\",\"shot\",\"shot\",\"shot\",\"shot\",\"shot\",\"shot\",\"shot\",\"shot\",\"shot\",\"shot\",\"shot\",\"shot\",\"shot\",\"shot\",\"shot\",\"shot\",\"shot\",\"shot\",\"shot\",\"shot\",\"shot\",\"shot\",\"shot\",\"shot\",\"shot\",\"shot\",\"shot\",\"shot\",\"shot\",\"shot\",\"shot\",\"shot\",\"shot\",\"shot\",\"shot\",\"shot\",\"shot\",\"shot and Tasered\",\"shot\",\"shot\",\"shot\",\"shot\",\"shot\",\"shot\",\"shot\",\"shot\",\"shot\",\"shot\",\"shot\",\"shot\",\"shot\",\"shot\",\"shot\",\"shot\",\"shot\",\"shot\",\"shot\",\"shot\",\"shot\",\"shot\",\"shot\",\"shot and Tasered\",\"shot\",\"shot\",\"shot\",\"shot\",\"shot\",\"shot\",\"shot\",\"shot\",\"shot\",\"shot\",\"shot\",\"shot\",\"shot\",\"shot and Tasered\",\"shot\",\"shot\",\"shot\",\"shot\",\"shot\",\"shot\",\"shot\",\"shot\",\"shot\",\"shot\",\"shot\",\"shot\",\"shot\",\"shot\",\"shot\",\"shot\",\"shot\",\"shot\",\"shot and Tasered\",\"shot and Tasered\",\"shot\",\"shot\",\"shot\",\"shot and Tasered\",\"shot\",\"shot\",\"shot\",\"shot\",\"shot\",\"shot\",\"shot\",\"shot\",\"shot\",\"shot\",\"shot\",\"shot and Tasered\",\"shot\",\"shot\",\"shot\",\"shot\",\"shot and Tasered\",\"shot\",\"shot\",\"shot\",\"shot\",\"shot\",\"shot\",\"shot\",\"shot\",\"shot\",\"shot\",\"shot\",\"shot\",\"shot\",\"shot\",\"shot\",\"shot\",\"shot\",\"shot\",\"shot\",\"shot\",\"shot\",\"shot\",\"shot\",\"shot\",\"shot\",\"shot\",\"shot\",\"shot\",\"shot\",\"shot\",\"shot\",\"shot\",\"shot\",\"shot\",\"shot\",\"shot\",\"shot\",\"shot\",\"shot\",\"shot\",\"shot\",\"shot\",\"shot\",\"shot\",\"shot\",\"shot\",\"shot\",\"shot\",\"shot\",\"shot\",\"shot\",\"shot\",\"shot\",\"shot\",\"shot\",\"shot\",\"shot\",\"shot\",\"shot and Tasered\",\"shot\",\"shot\",\"shot\",\"shot\",\"shot\",\"shot\",\"shot\",\"shot\",\"shot\",\"shot and Tasered\",\"shot\",\"shot\",\"shot\",\"shot and Tasered\",\"shot and Tasered\",\"shot\",\"shot\",\"shot\",\"shot\",\"shot\",\"shot\",\"shot\",\"shot\",\"shot\",\"shot\",\"shot\",\"shot\",\"shot\",\"shot\",\"shot\",\"shot and Tasered\",\"shot\",\"shot\",\"shot\",\"shot\",\"shot\",\"shot\",\"shot and Tasered\",\"shot\",\"shot\",\"shot\",\"shot\",\"shot\",\"shot\",\"shot and Tasered\",\"shot\",\"shot\",\"shot and Tasered\",\"shot and Tasered\",\"shot\",\"shot\",\"shot\",\"shot\",\"shot\",\"shot\",\"shot\",\"shot and Tasered\",\"shot\",\"shot\",\"shot\",\"shot\",\"shot\",\"shot\",\"shot\",\"shot\",\"shot\",\"shot\",\"shot\",\"shot\",\"shot\",\"shot and Tasered\",\"shot\",\"shot\",\"shot and Tasered\",\"shot\",\"shot\",\"shot\",\"shot and Tasered\",\"shot\",\"shot\",\"shot\",\"shot\",\"shot\",\"shot\",\"shot\",\"shot\",\"shot and Tasered\",\"shot\",\"shot\",\"shot\",\"shot\",\"shot\",\"shot\",\"shot and Tasered\",\"shot\",\"shot\",\"shot\",\"shot\",\"shot\",\"shot\",\"shot\",\"shot\",\"shot\",\"shot\",\"shot\",\"shot\",\"shot\",\"shot\",\"shot\",\"shot\",\"shot\",\"shot\",\"shot\",\"shot\",\"shot\",\"shot\",\"shot\",\"shot\",\"shot\",\"shot\",\"shot\",\"shot\",\"shot\",\"shot\",\"shot\",\"shot\",\"shot\",\"shot\",\"shot\",\"shot and Tasered\",\"shot\",\"shot\",\"shot\",\"shot\",\"shot\",\"shot\",\"shot\",\"shot\",\"shot and Tasered\",\"shot and Tasered\",\"shot\",\"shot\",\"shot\",\"shot\",\"shot\",\"shot\",\"shot\",\"shot\",\"shot\",\"shot\",\"shot\",\"shot\",\"shot and Tasered\",\"shot\",\"shot\",\"shot\",\"shot\",\"shot\",\"shot and Tasered\",\"shot\",\"shot\",\"shot\",\"shot\",\"shot\",\"shot\",\"shot\",\"shot\",\"shot\",\"shot\",\"shot\",\"shot\",\"shot\",\"shot\",\"shot\",\"shot\",\"shot and Tasered\",\"shot\",\"shot\",\"shot\",\"shot\",\"shot\",\"shot\",\"shot\",\"shot\",\"shot\",\"shot\",\"shot\",\"shot\",\"shot\",\"shot\",\"shot\",\"shot\",\"shot\",\"shot\",\"shot\",\"shot and Tasered\",\"shot\",\"shot\",\"shot\",\"shot\",\"shot\",\"shot\",\"shot\",\"shot\",\"shot\",\"shot\",\"shot\",\"shot\",\"shot\",\"shot\",\"shot\",\"shot\",\"shot\",\"shot\",\"shot\",\"shot\",\"shot\",\"shot\",\"shot\",\"shot\",\"shot\",\"shot\",\"shot\",\"shot\",\"shot\",\"shot\",\"shot\",\"shot\",\"shot\",\"shot\",\"shot\",\"shot\",\"shot\",\"shot\",\"shot\",\"shot\",\"shot\",\"shot\",\"shot\",\"shot\",\"shot\",\"shot and Tasered\",\"shot\",\"shot\",\"shot\",\"shot\",\"shot\",\"shot\",\"shot\",\"shot\",\"shot\",\"shot\",\"shot\",\"shot\",\"shot\",\"shot\",\"shot\",\"shot and Tasered\",\"shot\",\"shot\",\"shot\",\"shot\",\"shot\",\"shot and Tasered\",\"shot\",\"shot\",\"shot\",\"shot\",\"shot\",\"shot and Tasered\",\"shot\",\"shot\",\"shot\",\"shot\",\"shot\",\"shot\",\"shot\",\"shot\",\"shot\",\"shot\",\"shot\",\"shot\",\"shot\",\"shot\",\"shot\",\"shot and Tasered\",\"shot\",\"shot\",\"shot\",\"shot\",\"shot\",\"shot\",\"shot\",\"shot\",\"shot\",\"shot\",\"shot\",\"shot\",\"shot\",\"shot\",\"shot\",\"shot\",\"shot\",\"shot\",\"shot\",\"shot\",\"shot and Tasered\",\"shot\",\"shot\",\"shot\",\"shot\",\"shot\",\"shot\",\"shot\",\"shot\",\"shot\",\"shot\",\"shot\",\"shot\",\"shot\",\"shot\",\"shot\",\"shot\",\"shot\",\"shot\",\"shot\",\"shot\",\"shot\",\"shot\",\"shot\",\"shot\",\"shot\",\"shot\",\"shot\",\"shot\",\"shot\",\"shot\",\"shot\",\"shot\",\"shot\",\"shot\",\"shot and Tasered\",\"shot\",\"shot\",\"shot\",\"shot\",\"shot\",\"shot\",\"shot\",\"shot\",\"shot\",\"shot\",\"shot\",\"shot\",\"shot\",\"shot\",\"shot\",\"shot\",\"shot\",\"shot\",\"shot\",\"shot\",\"shot\",\"shot and Tasered\",\"shot\",\"shot\",\"shot\",\"shot\",\"shot\",\"shot\",\"shot\",\"shot\",\"shot\",\"shot\",\"shot\",\"shot\",\"shot\",\"shot\",\"shot and Tasered\",\"shot\",\"shot\",\"shot\",\"shot\",\"shot\",\"shot\",\"shot\",\"shot\",\"shot\",\"shot\",\"shot\",\"shot\",\"shot\",\"shot\",\"shot\",\"shot\",\"shot\",\"shot\",\"shot\",\"shot\",\"shot\",\"shot and Tasered\",\"shot\",\"shot\",\"shot and Tasered\",\"shot\",\"shot\",\"shot\",\"shot\",\"shot\",\"shot\",\"shot\",\"shot\",\"shot\",\"shot\",\"shot\",\"shot\",\"shot\",\"shot\",\"shot\",\"shot\",\"shot\",\"shot\",\"shot\",\"shot\",\"shot\",\"shot\",\"shot and Tasered\",\"shot\",\"shot\",\"shot and Tasered\",\"shot\",\"shot\",\"shot\",\"shot\",\"shot\",\"shot\",\"shot\",\"shot\",\"shot\",\"shot\",\"shot\",\"shot\",\"shot\",\"shot\",\"shot\",\"shot\",\"shot\",\"shot\",\"shot\",\"shot\",\"shot\",\"shot\",\"shot\",\"shot\",\"shot\",\"shot and Tasered\",\"shot\",\"shot\",\"shot\",\"shot\",\"shot\",\"shot\",\"shot\",\"shot\",\"shot\",\"shot\",\"shot\",\"shot\",\"shot\",\"shot\",\"shot\",\"shot\",\"shot\",\"shot\",\"shot\",\"shot\",\"shot\",\"shot\",\"shot\",\"shot\",\"shot\",\"shot\",\"shot\",\"shot\",\"shot\",\"shot\",\"shot\",\"shot\",\"shot\",\"shot\",\"shot\",\"shot\",\"shot\",\"shot\",\"shot\",\"shot\",\"shot\",\"shot\",\"shot\",\"shot\",\"shot\",\"shot and Tasered\",\"shot\",\"shot\",\"shot\",\"shot\",\"shot\",\"shot\",\"shot\",\"shot\",\"shot\",\"shot\",\"shot and Tasered\",\"shot\",\"shot\",\"shot\",\"shot\",\"shot\",\"shot\",\"shot\",\"shot\",\"shot\",\"shot\",\"shot\",\"shot\",\"shot\",\"shot\",\"shot\",\"shot\",\"shot\",\"shot\",\"shot\",\"shot\",\"shot\",\"shot\",\"shot\",\"shot and Tasered\",\"shot and Tasered\",\"shot\",\"shot\",\"shot\",\"shot\",\"shot\",\"shot\",\"shot\",\"shot\",\"shot\",\"shot\",\"shot\",\"shot\",\"shot\",\"shot\",\"shot\",\"shot and Tasered\",\"shot\",\"shot\",\"shot\",\"shot\",\"shot\",\"shot\",\"shot\",\"shot\",\"shot\",\"shot\",\"shot\",\"shot\",\"shot\",\"shot\",\"shot\",\"shot\",\"shot\",\"shot and Tasered\",\"shot\",\"shot and Tasered\",\"shot\",\"shot\",\"shot\",\"shot and Tasered\",\"shot\",\"shot\",\"shot\",\"shot\",\"shot\",\"shot\",\"shot\",\"shot\",\"shot\",\"shot\",\"shot\",\"shot\",\"shot\",\"shot\",\"shot\",\"shot\",\"shot\",\"shot\",\"shot\",\"shot\",\"shot\",\"shot\",\"shot\",\"shot\",\"shot\",\"shot\",\"shot\",\"shot\",\"shot\",\"shot\",\"shot\",\"shot\",\"shot and Tasered\",\"shot\",\"shot\",\"shot\",\"shot\",\"shot\",\"shot\",\"shot\",\"shot\",\"shot\",\"shot\",\"shot\",\"shot and Tasered\",\"shot\",\"shot\",\"shot\",\"shot\",\"shot\",\"shot\",\"shot\",\"shot\",\"shot\",\"shot\",\"shot\",\"shot\",\"shot\",\"shot\",\"shot\",\"shot\",\"shot\",\"shot and Tasered\",\"shot\",\"shot\",\"shot\",\"shot\",\"shot\",\"shot\",\"shot\",\"shot\",\"shot\",\"shot\",\"shot\",\"shot\",\"shot\",\"shot\",\"shot\",\"shot\",\"shot\",\"shot\",\"shot\",\"shot\",\"shot and Tasered\",\"shot\",\"shot\",\"shot\",\"shot\",\"shot\",\"shot\",\"shot\",\"shot\",\"shot\",\"shot\",\"shot\",\"shot\",\"shot\",\"shot\",\"shot\",\"shot\",\"shot\",\"shot\",\"shot\",\"shot\",\"shot\",\"shot\",\"shot\",\"shot and Tasered\",\"shot and Tasered\",\"shot\",\"shot\",\"shot\",\"shot\",\"shot\",\"shot\",\"shot\",\"shot\",\"shot\",\"shot\",\"shot\",\"shot\",\"shot\",\"shot\",\"shot\",\"shot\",\"shot\",\"shot\",\"shot\",\"shot\",\"shot\",\"shot\",\"shot\",\"shot\",\"shot\",\"shot\",\"shot\",\"shot and Tasered\",\"shot\",\"shot\",\"shot\",\"shot\",\"shot\",\"shot\",\"shot\",\"shot\",\"shot\",\"shot\",\"shot\",\"shot\",\"shot\",\"shot\",\"shot\",\"shot\",\"shot\",\"shot\",\"shot\",\"shot\",\"shot\",\"shot and Tasered\",\"shot\",\"shot\",\"shot\",\"shot\",\"shot\",\"shot\",\"shot\",\"shot\",\"shot\",\"shot\",\"shot\",\"shot\",\"shot\",\"shot\",\"shot\",\"shot\",\"shot\",\"shot\",\"shot and Tasered\",\"shot\",\"shot\",\"shot\",\"shot\",\"shot\",\"shot\",\"shot\",\"shot\",\"shot\",\"shot\",\"shot\",\"shot\",\"shot\",\"shot\",\"shot\",\"shot\",\"shot\",\"shot and Tasered\",\"shot\",\"shot\",\"shot\",\"shot\",\"shot\",\"shot\",\"shot\",\"shot\",\"shot\",\"shot\",\"shot\",\"shot\",\"shot\",\"shot\",\"shot\",\"shot\",\"shot\",\"shot\",\"shot\",\"shot\",\"shot\",\"shot\",\"shot and Tasered\",\"shot\",\"shot\",\"shot\",\"shot\",\"shot\",\"shot\",\"shot\",\"shot\",\"shot and Tasered\",\"shot\",\"shot\",\"shot\",\"shot\",\"shot\",\"shot\",\"shot\",\"shot\",\"shot\",\"shot\",\"shot\",\"shot\",\"shot\",\"shot\",\"shot\",\"shot\",\"shot\",\"shot\",\"shot\",\"shot and Tasered\",\"shot\",\"shot\",\"shot\",\"shot\",\"shot\",\"shot\",\"shot\",\"shot\",\"shot\",\"shot\",\"shot\",\"shot\",\"shot\",\"shot\",\"shot\",\"shot\",\"shot and Tasered\",\"shot\",\"shot\",\"shot\",\"shot\",\"shot\",\"shot\",\"shot\",\"shot\",\"shot\",\"shot\",\"shot\",\"shot\",\"shot\",\"shot\",\"shot\",\"shot\",\"shot\",\"shot\",\"shot\",\"shot\",\"shot\",\"shot\",\"shot\",\"shot\",\"shot\",\"shot\",\"shot\",\"shot\",\"shot\",\"shot\",\"shot\",\"shot\",\"shot\",\"shot\",\"shot\",\"shot\",\"shot and Tasered\",\"shot\",\"shot\",\"shot\",\"shot\",\"shot\",\"shot\",\"shot\",\"shot\",\"shot\",\"shot\",\"shot\",\"shot\",\"shot\",\"shot\",\"shot\",\"shot\",\"shot\",\"shot\",\"shot\",\"shot\",\"shot\",\"shot\",\"shot\",\"shot\",\"shot\",\"shot\",\"shot\",\"shot\",\"shot\",\"shot\",\"shot\",\"shot\",\"shot\",\"shot\",\"shot\",\"shot\",\"shot\",\"shot\",\"shot\",\"shot\",\"shot\",\"shot\",\"shot\",\"shot\",\"shot\",\"shot\",\"shot\",\"shot\",\"shot\",\"shot\",\"shot\",\"shot\",\"shot\",\"shot\",\"shot\",\"shot and Tasered\",\"shot\",\"shot\",\"shot\",\"shot\",\"shot\",\"shot\",\"shot\",\"shot\",\"shot\",\"shot\",\"shot\",\"shot\",\"shot\",\"shot\",\"shot\",\"shot\",\"shot\",\"shot\",\"shot and Tasered\",\"shot\",\"shot\",\"shot\",\"shot\",\"shot\",\"shot\",\"shot\",\"shot\",\"shot\",\"shot\",\"shot\",\"shot\",\"shot\",\"shot\",\"shot\",\"shot\",\"shot\",\"shot\",\"shot\",\"shot\",\"shot and Tasered\",\"shot\",\"shot\",\"shot\",\"shot\",\"shot\",\"shot\",\"shot\",\"shot\",\"shot\",\"shot\",\"shot and Tasered\",\"shot\",\"shot\",\"shot\",\"shot\",\"shot\",\"shot\",\"shot\",\"shot\",\"shot\",\"shot\",\"shot\",\"shot\",\"shot\",\"shot\",\"shot\",\"shot\",\"shot\",\"shot\",\"shot\",\"shot\",\"shot\",\"shot and Tasered\",\"shot\",\"shot\",\"shot and Tasered\",\"shot\",\"shot\",\"shot\",\"shot\",\"shot\",\"shot\",\"shot\",\"shot\",\"shot\",\"shot\",\"shot\",\"shot\",\"shot\",\"shot\",\"shot\",\"shot\",\"shot\",\"shot\",\"shot\",\"shot\",\"shot\",\"shot\",\"shot\",\"shot\",\"shot\",\"shot\",\"shot\",\"shot\",\"shot\",\"shot\",\"shot\",\"shot\",\"shot\",\"shot\",\"shot\",\"shot\",\"shot\",\"shot\",\"shot\",\"shot\",\"shot\",\"shot\",\"shot\",\"shot\",\"shot\",\"shot\",\"shot\",\"shot\",\"shot\",\"shot\",\"shot\",\"shot\",\"shot\",\"shot\",\"shot\",\"shot\",\"shot\",\"shot\",\"shot\",\"shot\",\"shot\",\"shot and Tasered\",\"shot\",\"shot\",\"shot\",\"shot\",\"shot\",\"shot\",\"shot\",\"shot\",\"shot\",\"shot\",\"shot\",\"shot\",\"shot\",\"shot\",\"shot\",\"shot\",\"shot\",\"shot\",\"shot\",\"shot\",\"shot\",\"shot\",\"shot\",\"shot\",\"shot\",\"shot\",\"shot\",\"shot\",\"shot\",\"shot\",\"shot\",\"shot\",\"shot\",\"shot and Tasered\",\"shot\",\"shot\",\"shot\",\"shot\",\"shot and Tasered\",\"shot\",\"shot\",\"shot\",\"shot and Tasered\",\"shot and Tasered\",\"shot and Tasered\",\"shot\",\"shot\",\"shot and Tasered\",\"shot\",\"shot\",\"shot\",\"shot\",\"shot\",\"shot and Tasered\",\"shot\",\"shot\",\"shot\",\"shot\",\"shot\",\"shot\",\"shot\",\"shot\",\"shot\",\"shot\",\"shot\",\"shot\",\"shot\",\"shot\",\"shot\",\"shot\",\"shot\",\"shot\",\"shot\",\"shot\",\"shot\",\"shot\",\"shot\",\"shot\",\"shot\",\"shot\",\"shot\",\"shot\",\"shot\",\"shot\",\"shot\",\"shot\",\"shot\",\"shot and Tasered\",\"shot\",\"shot\",\"shot and Tasered\",\"shot\",\"shot\",\"shot\",\"shot\",\"shot\",\"shot\",\"shot\",\"shot\",\"shot\",\"shot\",\"shot\",\"shot\",\"shot\",\"shot\",\"shot\",\"shot\",\"shot\",\"shot\",\"shot\",\"shot\",\"shot\",\"shot\",\"shot\",\"shot\",\"shot\",\"shot\",\"shot\",\"shot\",\"shot\",\"shot\",\"shot\",\"shot\",\"shot\",\"shot\",\"shot\",\"shot\",\"shot\",\"shot\",\"shot\",\"shot\",\"shot\",\"shot\",\"shot\",\"shot\",\"shot\",\"shot\",\"shot\",\"shot\",\"shot\",\"shot\",\"shot\",\"shot\",\"shot\",\"shot\",\"shot\",\"shot\",\"shot\",\"shot\",\"shot\",\"shot\",\"shot\",\"shot\",\"shot\",\"shot\",\"shot\",\"shot\",\"shot\",\"shot and Tasered\",\"shot\",\"shot\",\"shot\",\"shot\",\"shot\",\"shot and Tasered\",\"shot\",\"shot\",\"shot and Tasered\",\"shot\",\"shot\",\"shot\",\"shot\",\"shot\",\"shot\",\"shot\",\"shot and Tasered\",\"shot\",\"shot\",\"shot\",\"shot\",\"shot\",\"shot\",\"shot\",\"shot\",\"shot\",\"shot and Tasered\",\"shot\",\"shot\",\"shot\",\"shot\",\"shot\",\"shot\",\"shot\",\"shot\",\"shot\",\"shot\",\"shot\",\"shot\",\"shot\",\"shot\",\"shot\",\"shot\",\"shot\",\"shot\",\"shot\",\"shot\",\"shot\",\"shot\",\"shot\",\"shot and Tasered\",\"shot\",\"shot and Tasered\",\"shot\",\"shot\",\"shot\",\"shot\",\"shot and Tasered\",\"shot\",\"shot\",\"shot\",\"shot\",\"shot\",\"shot\",\"shot and Tasered\",\"shot\",\"shot\",\"shot\",\"shot\",\"shot\",\"shot and Tasered\",\"shot\",\"shot\",\"shot\",\"shot\",\"shot\",\"shot\",\"shot\",\"shot and Tasered\",\"shot and Tasered\",\"shot\",\"shot and Tasered\",\"shot\",\"shot\",\"shot and Tasered\",\"shot\",\"shot\",\"shot\",\"shot\",\"shot\",\"shot\",\"shot\",\"shot\",\"shot\",\"shot\",\"shot\",\"shot\",\"shot\",\"shot\",\"shot\",\"shot\",\"shot\",\"shot\",\"shot and Tasered\",\"shot\",\"shot\",\"shot\",\"shot\",\"shot\",\"shot\",\"shot\",\"shot\",\"shot\",\"shot\",\"shot\",\"shot\",\"shot\",\"shot\",\"shot\",\"shot\",\"shot\",\"shot\",\"shot\",\"shot\",\"shot\",\"shot\",\"shot\",\"shot and Tasered\",\"shot and Tasered\",\"shot\",\"shot\",\"shot\",\"shot\",\"shot\",\"shot\",\"shot\",\"shot\",\"shot\",\"shot\",\"shot and Tasered\",\"shot\",\"shot\",\"shot\",\"shot\",\"shot\",\"shot\",\"shot\",\"shot and Tasered\",\"shot and Tasered\",\"shot\",\"shot\",\"shot\",\"shot\",\"shot\",\"shot\",\"shot\",\"shot\",\"shot\",\"shot\",\"shot\",\"shot\",\"shot\",\"shot\",\"shot\",\"shot\",\"shot\",\"shot\",\"shot\",\"shot\",\"shot and Tasered\",\"shot\",\"shot\",\"shot\",\"shot\",\"shot\",\"shot\",\"shot\",\"shot\",\"shot\",\"shot\",\"shot\",\"shot\",\"shot\",\"shot\",\"shot\",\"shot\",\"shot and Tasered\",\"shot and Tasered\",\"shot\",\"shot\",\"shot\",\"shot\",\"shot and Tasered\",\"shot\",\"shot\",\"shot\",\"shot\",\"shot and Tasered\",\"shot\",\"shot\",\"shot\",\"shot\",\"shot\",\"shot\",\"shot\",\"shot\",\"shot\",\"shot\",\"shot\",\"shot\",\"shot\",\"shot\",\"shot\",\"shot\",\"shot\",\"shot\",\"shot and Tasered\",\"shot\",\"shot\",\"shot\",\"shot\",\"shot\",\"shot\",\"shot\",\"shot\",\"shot and Tasered\",\"shot\",\"shot\",\"shot and Tasered\",\"shot\",\"shot\",\"shot and Tasered\",\"shot\",\"shot\",\"shot and Tasered\",\"shot\",\"shot\",\"shot\",\"shot\",\"shot and Tasered\",\"shot\",\"shot\",\"shot\",\"shot\",\"shot and Tasered\",\"shot\",\"shot\",\"shot\",\"shot\",\"shot\",\"shot\",\"shot\",\"shot and Tasered\",\"shot\",\"shot\",\"shot\",\"shot\",\"shot\",\"shot\",\"shot and Tasered\",\"shot\",\"shot\",\"shot\",\"shot\",\"shot\",\"shot\",\"shot\",\"shot\",\"shot\",\"shot\",\"shot\",\"shot\",\"shot\",\"shot\",\"shot\",\"shot\",\"shot\",\"shot and Tasered\",\"shot and Tasered\",\"shot and Tasered\",\"shot\",\"shot\",\"shot\",\"shot\",\"shot\",\"shot\",\"shot\",\"shot\",\"shot\",\"shot\",\"shot\",\"shot\",\"shot\",\"shot\",\"shot\",\"shot\",\"shot\",\"shot\",\"shot\",\"shot\",\"shot and Tasered\",\"shot and Tasered\",\"shot\",\"shot\",\"shot\",\"shot\",\"shot\",\"shot\",\"shot\",\"shot and Tasered\",\"shot and Tasered\",\"shot\",\"shot\",\"shot\",\"shot\",\"shot\",\"shot\",\"shot\",\"shot\",\"shot\",\"shot\",\"shot\",\"shot\",\"shot\",\"shot\",\"shot\",\"shot\",\"shot\",\"shot\",\"shot\",\"shot\",\"shot\",\"shot\",\"shot\",\"shot\",\"shot\",\"shot\",\"shot\",\"shot\",\"shot\",\"shot\",\"shot\",\"shot\",\"shot\",\"shot\",\"shot\",\"shot\",\"shot\",\"shot\",\"shot\",\"shot and Tasered\",\"shot\",\"shot\",\"shot\",\"shot\",\"shot\",\"shot\",\"shot\",\"shot\",\"shot\",\"shot\",\"shot\",\"shot\",\"shot\",\"shot\",\"shot\",\"shot\",\"shot\",\"shot\",\"shot\",\"shot\",\"shot\",\"shot\",\"shot\",\"shot\",\"shot\",\"shot\",\"shot\",\"shot\",\"shot\",\"shot\",\"shot\",\"shot\",\"shot\",\"shot\",\"shot and Tasered\",\"shot\",\"shot\",\"shot and Tasered\",\"shot\",\"shot\",\"shot\",\"shot and Tasered\",\"shot\",\"shot\",\"shot\",\"shot\",\"shot and Tasered\",\"shot\",\"shot\",\"shot\",\"shot\",\"shot\",\"shot\",\"shot\",\"shot\",\"shot\",\"shot\",\"shot\",\"shot\",\"shot and Tasered\",\"shot\",\"shot\",\"shot\",\"shot and Tasered\",\"shot\",\"shot\",\"shot\",\"shot\",\"shot\",\"shot\",\"shot\",\"shot\",\"shot\",\"shot\",\"shot\",\"shot\",\"shot\",\"shot\",\"shot\",\"shot\",\"shot\",\"shot\",\"shot\",\"shot\",\"shot\",\"shot\",\"shot\",\"shot\",\"shot\",\"shot\",\"shot\",\"shot\",\"shot\",\"shot\",\"shot\",\"shot\",\"shot\",\"shot\",\"shot\",\"shot and Tasered\",\"shot\",\"shot\",\"shot\",\"shot\",\"shot\",\"shot\",\"shot\",\"shot\",\"shot\",\"shot\",\"shot\",\"shot\",\"shot\",\"shot\",\"shot\",\"shot\",\"shot\",\"shot\",\"shot\",\"shot\",\"shot\",\"shot\",\"shot\",\"shot\",\"shot\",\"shot\",\"shot\",\"shot\",\"shot\",\"shot\",\"shot\",\"shot\",\"shot\",\"shot and Tasered\",\"shot\",\"shot\",\"shot\",\"shot\",\"shot\",\"shot\",\"shot\",\"shot\",\"shot\",\"shot\",\"shot\",\"shot\",\"shot\",\"shot\",\"shot and Tasered\",\"shot and Tasered\",\"shot\",\"shot\",\"shot\",\"shot\",\"shot\",\"shot\",\"shot\",\"shot\",\"shot\",\"shot\",\"shot\",\"shot\",\"shot\",\"shot\",\"shot and Tasered\",\"shot\",\"shot\",\"shot\",\"shot\",\"shot\",\"shot\",\"shot\",\"shot\",\"shot\",\"shot\",\"shot\",\"shot\",\"shot\",\"shot\",\"shot\",\"shot\",\"shot\",\"shot\",\"shot\",\"shot\",\"shot and Tasered\",\"shot\",\"shot and Tasered\",\"shot\",\"shot\",\"shot\",\"shot\",\"shot\",\"shot\",\"shot\",\"shot\",\"shot\",\"shot\",\"shot\",\"shot\",\"shot\",\"shot\",\"shot\",\"shot\",\"shot\",\"shot\",\"shot\",\"shot\",\"shot\",\"shot\",\"shot\",\"shot\",\"shot and Tasered\",\"shot\",\"shot\",\"shot\",\"shot\",\"shot\",\"shot\",\"shot\",\"shot\",\"shot\",\"shot\",\"shot\",\"shot\",\"shot\",\"shot and Tasered\",\"shot\",\"shot\",\"shot\",\"shot\",\"shot\",\"shot\",\"shot\",\"shot\",\"shot\",\"shot\",\"shot\",\"shot\",\"shot\",\"shot\",\"shot\",\"shot\",\"shot\",\"shot\",\"shot\",\"shot\",\"shot\",\"shot\",\"shot\",\"shot\",\"shot\",\"shot\",\"shot\",\"shot and Tasered\",\"shot\",\"shot\",\"shot and Tasered\",\"shot\",\"shot\",\"shot\",\"shot\",\"shot\",\"shot\",\"shot and Tasered\",\"shot\",\"shot\",\"shot\",\"shot\",\"shot\",\"shot\",\"shot\",\"shot and Tasered\",\"shot\",\"shot\",\"shot\",\"shot\",\"shot\",\"shot\",\"shot\",\"shot\",\"shot\",\"shot\",\"shot\",\"shot and Tasered\",\"shot\",\"shot\",\"shot\",\"shot\",\"shot\",\"shot\",\"shot\",\"shot\",\"shot\",\"shot\",\"shot\",\"shot\",\"shot\",\"shot\",\"shot\",\"shot\",\"shot\",\"shot\",\"shot and Tasered\",\"shot\",\"shot\",\"shot\",\"shot\",\"shot\",\"shot\",\"shot\",\"shot\",\"shot\",\"shot\",\"shot\",\"shot\",\"shot\",\"shot\",\"shot\",\"shot\",\"shot\",\"shot\",\"shot\",\"shot\",\"shot\",\"shot\",\"shot\",\"shot\",\"shot\",\"shot\",\"shot\",\"shot\",\"shot\",\"shot\",\"shot\",\"shot\",\"shot\",\"shot\",\"shot\",\"shot\",\"shot\",\"shot\",\"shot\",\"shot\",\"shot\",\"shot\",\"shot\",\"shot\",\"shot\",\"shot\",\"shot\",\"shot\",\"shot\",\"shot\",\"shot\",\"shot\",\"shot\",\"shot\",\"shot\",\"shot\",\"shot\",\"shot\",\"shot\",\"shot\",\"shot\",\"shot\",\"shot\",\"shot\",\"shot\",\"shot\",\"shot\",\"shot\",\"shot\",\"shot\",\"shot\",\"shot\",\"shot\",\"shot\",\"shot\",\"shot\",\"shot\",\"shot\",\"shot\",\"shot\",\"shot\",\"shot\",\"shot\",\"shot\",\"shot\",\"shot\",\"shot\",\"shot\",\"shot\",\"shot\",\"shot\"],\"x0\":\" \",\"xaxis\":\"x\",\"y\":[53.0,47.0,23.0,32.0,39.0,18.0,22.0,35.0,47.0,25.0,31.0,41.0,30.0,37.0,28.0,42.0,36.0,49.0,71.0,33.0,39.0,23.0,29.0,34.0,43.0,24.0,29.0,34.0,75.0,68.0,34.0,27.0,39.0,24.0,36.0,33.0,41.0,48.0,21.0,24.0,27.0,32.0,67.0,49.0,42.0,36.0,36.0,19.0,54.0,25.0,61.0,29.0,56.0,40.0,45.0,26.0,26.0,59.0,68.0,24.0,34.0,26.0,29.0,33.0,45.0,35.0,26.0,42.0,31.0,48.0,31.0,54.0,17.0,59.0,42.0,23.0,29.0,45.0,28.0,37.0,28.0,28.0,51.0,36.0,59.0,25.0,26.0,74.0,33.0,27.0,57.0,46.0,41.0,61.0,45.0,35.0,49.0,45.0,23.0,46.0,23.0,21.0,35.0,27.0,37.0,16.0,51.0,25.0,34.0,34.0,56.0,26.0,24.0,31.0,32.0,30.0,50.0,null,31.0,38.0,77.0,41.0,51.0,50.0,42.0,39.0,47.0,37.0,41.0,16.0,30.0,27.0,43.0,31.0,42.0,21.0,49.0,27.0,24.0,17.0,34.0,28.0,40.0,49.0,43.0,35.0,20.0,25.0,25.0,26.0,28.0,45.0,36.0,34.0,37.0,48.0,19.0,29.0,40.0,35.0,58.0,46.0,30.0,27.0,31.0,23.0,37.0,64.0,31.0,39.0,31.0,25.0,54.0,53.0,37.0,35.0,59.0,36.0,32.0,41.0,29.0,53.0,26.0,27.0,28.0,52.0,20.0,22.0,49.0,24.0,47.0,64.0,16.0,20.0,36.0,39.0,18.0,31.0,24.0,63.0,34.0,44.0,60.0,42.0,21.0,37.0,36.0,21.0,24.0,38.0,29.0,57.0,23.0,27.0,28.0,63.0,35.0,56.0,39.0,23.0,40.0,42.0,41.0,26.0,29.0,49.0,54.0,36.0,21.0,37.0,36.0,32.0,63.0,44.0,27.0,38.0,17.0,50.0,31.0,34.0,51.0,56.0,23.0,25.0,31.0,32.0,60.0,42.0,39.0,28.0,54.0,22.0,29.0,31.0,28.0,21.0,38.0,66.0,36.0,83.0,32.0,27.0,26.0,31.0,22.0,41.0,41.0,51.0,72.0,52.0,47.0,18.0,29.0,23.0,43.0,45.0,40.0,44.0,25.0,35.0,37.0,59.0,35.0,18.0,51.0,30.0,31.0,39.0,26.0,51.0,19.0,49.0,63.0,20.0,25.0,24.0,58.0,29.0,76.0,45.0,20.0,58.0,21.0,27.0,26.0,33.0,27.0,53.0,53.0,42.0,22.0,52.0,36.0,30.0,34.0,44.0,53.0,36.0,29.0,32.0,46.0,18.0,72.0,38.0,21.0,35.0,58.0,48.0,31.0,47.0,34.0,30.0,28.0,28.0,46.0,40.0,37.0,53.0,41.0,42.0,45.0,34.0,18.0,27.0,54.0,35.0,17.0,29.0,52.0,38.0,26.0,22.0,29.0,43.0,24.0,32.0,40.0,25.0,47.0,40.0,36.0,62.0,51.0,24.0,39.0,24.0,57.0,20.0,33.0,60.0,32.0,40.0,18.0,36.0,35.0,55.0,19.0,39.0,40.0,47.0,23.0,26.0,26.0,46.0,36.0,18.0,33.0,56.0,50.0,30.0,53.0,45.0,42.0,27.0,36.0,58.0,54.0,30.0,69.0,30.0,45.0,22.0,28.0,19.0,40.0,86.0,46.0,28.0,22.0,46.0,35.0,35.0,28.0,15.0,22.0,28.0,31.0,48.0,58.0,44.0,21.0,50.0,23.0,24.0,49.0,60.0,35.0,29.0,20.0,34.0,22.0,49.0,32.0,26.0,41.0,61.0,49.0,28.0,35.0,29.0,51.0,52.0,24.0,32.0,45.0,60.0,23.0,59.0,27.0,46.0,33.0,40.0,42.0,37.0,23.0,36.0,19.0,35.0,25.0,43.0,20.0,42.0,42.0,31.0,29.0,18.0,33.0,59.0,47.0,39.0,37.0,35.0,28.0,59.0,62.0,50.0,68.0,27.0,17.0,38.0,21.0,54.0,20.0,25.0,31.0,35.0,36.0,60.0,24.0,27.0,20.0,24.0,23.0,41.0,20.0,76.0,43.0,25.0,29.0,35.0,30.0,24.0,23.0,29.0,27.0,23.0,50.0,19.0,24.0,22.0,46.0,65.0,43.0,35.0,54.0,47.0,24.0,35.0,25.0,26.0,27.0,34.0,31.0,32.0,47.0,44.0,30.0,60.0,50.0,36.0,59.0,33.0,19.0,56.0,45.0,22.0,41.0,34.0,53.0,48.0,25.0,30.0,47.0,33.0,34.0,52.0,29.0,63.0,49.0,18.0,71.0,35.0,55.0,31.0,18.0,51.0,39.0,20.0,29.0,40.0,42.0,22.0,19.0,24.0,30.0,53.0,25.0,28.0,33.0,24.0,59.0,46.0,15.0,41.0,77.0,22.0,24.0,34.0,48.0,24.0,27.0,27.0,27.0,49.0,38.0,26.0,30.0,53.0,43.0,23.0,34.0,30.0,29.0,47.0,35.0,40.0,18.0,24.0,29.0,44.0,19.0,50.0,17.0,57.0,30.0,38.0,31.0,39.0,29.0,26.0,64.0,36.0,36.0,21.0,53.0,57.0,30.0,34.0,53.0,45.0,22.0,22.0,46.0,27.0,42.0,30.0,54.0,29.0,41.0,28.0,61.0,23.0,25.0,null,29.0,20.0,40.0,45.0,33.0,76.0,47.0,45.0,40.0,37.0,49.0,27.0,36.0,23.0,21.0,32.0,35.0,59.0,28.0,45.0,45.0,19.0,25.0,37.0,33.0,59.0,31.0,35.0,29.0,32.0,41.0,31.0,44.0,23.0,45.0,39.0,67.0,29.0,25.0,28.0,21.0,32.0,51.0,39.0,27.0,31.0,50.0,null,32.0,47.0,46.0,57.0,23.0,56.0,24.0,27.0,21.0,26.0,34.0,32.0,33.0,55.0,26.0,48.0,35.0,19.0,45.0,28.0,42.0,17.0,30.0,21.0,33.0,45.0,46.0,23.0,43.0,40.0,31.0,59.0,46.0,37.0,28.0,28.0,26.0,29.0,45.0,27.0,31.0,51.0,50.0,27.0,18.0,39.0,46.0,19.0,49.0,31.0,38.0,40.0,35.0,34.0,44.0,23.0,43.0,null,31.0,27.0,18.0,59.0,57.0,15.0,25.0,31.0,35.0,27.0,20.0,27.0,45.0,33.0,22.0,28.0,31.0,28.0,53.0,30.0,39.0,40.0,30.0,21.0,35.0,21.0,47.0,38.0,36.0,53.0,null,34.0,34.0,30.0,28.0,47.0,49.0,36.0,45.0,18.0,25.0,29.0,57.0,34.0,35.0,null,18.0,62.0,29.0,25.0,30.0,33.0,56.0,49.0,20.0,62.0,62.0,6.0,30.0,57.0,18.0,47.0,48.0,20.0,30.0,51.0,55.0,48.0,20.0,25.0,26.0,45.0,35.0,63.0,34.0,36.0,22.0,31.0,25.0,57.0,32.0,42.0,52.0,25.0,25.0,31.0,39.0,32.0,16.0,24.0,28.0,25.0,41.0,28.0,21.0,30.0,58.0,47.0,25.0,44.0,34.0,27.0,34.0,39.0,29.0,24.0,47.0,45.0,28.0,49.0,50.0,45.0,32.0,24.0,23.0,52.0,26.0,58.0,50.0,22.0,53.0,69.0,23.0,29.0,25.0,18.0,31.0,23.0,18.0,35.0,28.0,26.0,32.0,36.0,66.0,47.0,21.0,24.0,51.0,60.0,38.0,35.0,46.0,48.0,36.0,33.0,66.0,51.0,34.0,55.0,54.0,null,36.0,25.0,24.0,28.0,36.0,20.0,49.0,null,21.0,30.0,32.0,33.0,52.0,56.0,39.0,19.0,45.0,33.0,51.0,null,25.0,24.0,32.0,58.0,24.0,26.0,30.0,31.0,34.0,48.0,null,21.0,39.0,25.0,30.0,61.0,56.0,29.0,19.0,35.0,36.0,54.0,24.0,23.0,18.0,31.0,41.0,19.0,38.0,36.0,34.0,52.0,28.0,null,55.0,39.0,23.0,30.0,37.0,54.0,37.0,30.0,27.0,22.0,29.0,39.0,33.0,52.0,28.0,54.0,38.0,32.0,34.0,26.0,50.0,37.0,56.0,45.0,32.0,49.0,58.0,29.0,60.0,40.0,39.0,26.0,24.0,34.0,27.0,44.0,55.0,19.0,52.0,24.0,38.0,31.0,26.0,33.0,28.0,27.0,39.0,29.0,36.0,55.0,28.0,40.0,33.0,37.0,39.0,43.0,38.0,55.0,52.0,32.0,31.0,27.0,40.0,30.0,26.0,33.0,19.0,33.0,29.0,29.0,38.0,64.0,42.0,42.0,37.0,46.0,25.0,62.0,36.0,21.0,30.0,53.0,31.0,22.0,24.0,36.0,47.0,54.0,43.0,38.0,30.0,51.0,55.0,16.0,23.0,36.0,27.0,33.0,17.0,22.0,22.0,29.0,41.0,67.0,36.0,52.0,56.0,35.0,45.0,30.0,29.0,53.0,22.0,29.0,24.0,19.0,26.0,50.0,29.0,52.0,39.0,51.0,48.0,30.0,37.0,25.0,30.0,35.0,32.0,35.0,31.0,30.0,23.0,41.0,45.0,46.0,32.0,33.0,45.0,38.0,22.0,48.0,36.0,39.0,26.0,16.0,58.0,27.0,26.0,21.0,37.0,56.0,19.0,38.0,18.0,35.0,23.0,41.0,44.0,24.0,39.0,22.0,37.0,36.0,41.0,27.0,66.0,30.0,34.0,22.0,51.0,42.0,41.0,49.0,45.0,45.0,42.0,41.0,27.0,37.0,22.0,21.0,50.0,23.0,25.0,51.0,46.0,23.0,37.0,20.0,43.0,45.0,16.0,30.0,26.0,24.0,28.0,29.0,34.0,38.0,43.0,23.0,33.0,40.0,38.0,53.0,29.0,30.0,49.0,60.0,24.0,21.0,23.0,61.0,54.0,62.0,16.0,76.0,25.0,28.0,25.0,33.0,51.0,34.0,30.0,44.0,24.0,29.0,48.0,19.0,22.0,39.0,36.0,55.0,46.0,34.0,33.0,18.0,33.0,46.0,51.0,33.0,25.0,52.0,31.0,18.0,43.0,34.0,65.0,37.0,30.0,48.0,25.0,69.0,50.0,52.0,44.0,60.0,20.0,45.0,44.0,40.0,43.0,27.0,19.0,39.0,30.0,28.0,22.0,16.0,40.0,38.0,20.0,35.0,52.0,26.0,54.0,38.0,52.0,26.0,53.0,22.0,31.0,32.0,37.0,28.0,18.0,41.0,15.0,38.0,41.0,52.0,48.0,29.0,51.0,21.0,24.0,18.0,30.0,33.0,28.0,26.0,44.0,36.0,34.0,21.0,37.0,53.0,45.0,24.0,48.0,42.0,33.0,55.0,28.0,25.0,28.0,52.0,59.0,52.0,39.0,18.0,40.0,36.0,38.0,null,29.0,37.0,29.0,21.0,33.0,33.0,23.0,26.0,59.0,29.0,28.0,35.0,33.0,24.0,null,28.0,19.0,43.0,59.0,34.0,35.0,23.0,36.0,46.0,44.0,20.0,30.0,35.0,36.0,22.0,31.0,63.0,38.0,31.0,27.0,35.0,22.0,28.0,26.0,22.0,57.0,31.0,43.0,24.0,29.0,43.0,null,21.0,19.0,25.0,59.0,50.0,58.0,25.0,32.0,53.0,38.0,70.0,33.0,36.0,null,21.0,51.0,43.0,18.0,33.0,34.0,31.0,35.0,31.0,31.0,23.0,25.0,25.0,21.0,49.0,63.0,43.0,34.0,38.0,52.0,68.0,null,31.0,29.0,32.0,50.0,27.0,31.0,29.0,23.0,61.0,33.0,18.0,80.0,43.0,50.0,47.0,54.0,22.0,43.0,38.0,21.0,36.0,30.0,null,34.0,17.0,37.0,25.0,30.0,23.0,20.0,19.0,50.0,24.0,25.0,20.0,37.0,44.0,22.0,31.0,25.0,null,29.0,36.0,50.0,42.0,26.0,19.0,59.0,36.0,null,51.0,27.0,22.0,30.0,28.0,63.0,32.0,26.0,25.0,27.0,61.0,30.0,null,37.0,41.0,25.0,24.0,44.0,63.0,30.0,58.0,35.0,50.0,40.0,null,19.0,34.0,18.0,21.0,null,37.0,29.0,49.0,32.0,65.0,37.0,33.0,63.0,30.0,40.0,38.0,50.0,41.0,41.0,39.0,44.0,23.0,32.0,56.0,33.0,63.0,31.0,26.0,57.0,39.0,43.0,42.0,29.0,56.0,31.0,50.0,36.0,50.0,34.0,49.0,31.0,36.0,29.0,32.0,18.0,50.0,36.0,33.0,17.0,19.0,24.0,24.0,20.0,41.0,47.0,18.0,31.0,27.0,36.0,59.0,32.0,38.0,18.0,32.0,43.0,67.0,22.0,31.0,43.0,34.0,51.0,31.0,54.0,69.0,58.0,26.0,31.0,59.0,25.0,20.0,69.0,57.0,56.0,64.0,34.0,45.0,14.0,44.0,54.0,59.0,33.0,22.0,49.0,36.0,23.0,38.0,53.0,29.0,42.0,25.0,18.0,55.0,36.0,32.0,53.0,30.0,27.0,37.0,29.0,40.0,36.0,38.0,29.0,59.0,47.0,22.0,31.0,29.0,54.0,71.0,36.0,34.0,49.0,36.0,43.0,53.0,63.0,31.0,32.0,41.0,26.0,49.0,82.0,37.0,24.0,56.0,28.0,36.0,22.0,59.0,36.0,21.0,38.0,60.0,18.0,23.0,null,38.0,40.0,22.0,38.0,25.0,25.0,36.0,null,null,44.0,36.0,35.0,25.0,65.0,31.0,70.0,25.0,55.0,35.0,25.0,32.0,38.0,32.0,64.0,55.0,69.0,37.0,31.0,86.0,25.0,25.0,13.0,32.0,34.0,69.0,46.0,40.0,29.0,29.0,42.0,25.0,45.0,55.0,22.0,61.0,30.0,56.0,35.0,22.0,23.0,43.0,43.0,49.0,23.0,41.0,33.0,30.0,25.0,52.0,32.0,46.0,48.0,38.0,26.0,32.0,28.0,53.0,38.0,18.0,32.0,37.0,18.0,20.0,28.0,18.0,16.0,36.0,57.0,49.0,31.0,26.0,51.0,28.0,35.0,57.0,36.0,42.0,null,49.0,62.0,21.0,39.0,41.0,40.0,50.0,27.0,19.0,26.0,44.0,30.0,31.0,33.0,22.0,50.0,46.0,38.0,23.0,24.0,26.0,38.0,32.0,50.0,17.0,39.0,28.0,42.0,34.0,38.0,24.0,28.0,29.0,58.0,21.0,45.0,38.0,40.0,19.0,46.0,25.0,37.0,25.0,36.0,32.0,33.0,24.0,37.0,38.0,45.0,31.0,34.0,23.0,38.0,55.0,76.0,59.0,40.0,23.0,64.0,26.0,35.0,49.0,36.0,56.0,59.0,34.0,33.0,43.0,43.0,31.0,17.0,32.0,31.0,19.0,23.0,26.0,45.0,36.0,41.0,53.0,null,24.0,null,47.0,40.0,29.0,38.0,22.0,21.0,25.0,37.0,48.0,37.0,56.0,35.0,25.0,25.0,48.0,26.0,29.0,15.0,55.0,21.0,24.0,18.0,19.0,27.0,45.0,36.0,34.0,23.0,43.0,43.0,19.0,45.0,37.0,23.0,26.0,20.0,50.0,59.0,33.0,48.0,18.0,23.0,41.0,41.0,55.0,29.0,31.0,25.0,38.0,null,83.0,22.0,33.0,36.0,38.0,26.0,29.0,55.0,47.0,52.0,49.0,31.0,37.0,37.0,36.0,20.0,null,30.0,null,35.0,35.0,36.0,53.0,39.0,30.0,24.0,73.0,31.0,28.0,18.0,32.0,60.0,36.0,48.0,33.0,44.0,20.0,37.0,72.0,52.0,31.0,46.0,null,31.0,25.0,46.0,38.0,25.0,null,27.0,24.0,19.0,31.0,55.0,null,18.0,null,48.0,29.0,30.0,33.0,61.0,35.0,41.0,36.0,28.0,52.0,21.0,null,31.0,33.0,46.0,32.0,42.0,17.0,44.0,35.0,23.0,21.0,53.0,63.0,18.0,51.0,64.0,45.0,20.0,41.0,23.0,32.0,25.0,42.0,41.0,31.0,50.0,38.0,44.0,38.0,21.0,32.0,23.0,41.0,41.0,38.0,54.0,20.0,26.0,29.0,47.0,28.0,48.0,34.0,33.0,36.0,43.0,32.0,29.0,39.0,16.0,40.0,50.0,19.0,28.0,25.0,49.0,44.0,39.0,44.0,50.0,57.0,57.0,33.0,21.0,52.0,27.0,60.0,25.0,34.0,22.0,26.0,27.0,29.0,30.0,18.0,32.0,37.0,54.0,50.0,28.0,59.0,24.0,34.0,25.0,48.0,45.0,25.0,17.0,53.0,18.0,50.0,36.0,45.0,42.0,null,23.0,31.0,18.0,26.0,57.0,27.0,41.0,33.0,22.0,38.0,26.0,45.0,23.0,68.0,56.0,45.0,41.0,33.0,22.0,50.0,52.0,18.0,35.0,18.0,34.0,51.0,29.0,34.0,25.0,26.0,33.0,17.0,null,25.0,31.0,25.0,45.0,25.0,23.0,37.0,33.0,27.0,32.0,null,31.0,26.0,32.0,53.0,19.0,53.0,35.0,64.0,24.0,33.0,55.0,17.0,48.0,21.0,22.0,30.0,34.0,35.0,32.0,22.0,46.0,27.0,18.0,33.0,26.0,27.0,26.0,51.0,63.0,38.0,25.0,39.0,41.0,26.0,33.0,54.0,38.0,24.0,47.0,62.0,30.0,23.0,39.0,null,36.0,66.0,27.0,40.0,25.0,20.0,43.0,40.0,33.0,34.0,27.0,25.0,37.0,32.0,25.0,38.0,50.0,70.0,26.0,null,41.0,91.0,null,25.0,24.0,29.0,40.0,51.0,30.0,33.0,28.0,23.0,23.0,20.0,56.0,36.0,18.0,43.0,29.0,25.0,34.0,32.0,32.0,58.0,36.0,25.0,25.0,25.0,42.0,36.0,59.0,19.0,45.0,null,42.0,27.0,45.0,null,42.0,24.0,39.0,18.0,26.0,35.0,53.0,56.0,54.0,36.0,51.0,45.0,28.0,36.0,73.0,26.0,41.0,59.0,28.0,45.0,27.0,46.0,null,30.0,46.0,47.0,32.0,65.0,19.0,22.0,39.0,38.0,68.0,49.0,37.0,33.0,25.0,36.0,36.0,30.0,39.0,28.0,28.0,25.0,57.0,35.0,24.0,null,33.0,56.0,56.0,16.0,47.0,33.0,32.0,21.0,64.0,19.0,55.0,null,25.0,25.0,43.0,39.0,24.0,70.0,15.0,79.0,16.0,35.0,24.0,53.0,20.0,27.0,57.0,53.0,32.0,26.0,53.0,32.0,25.0,15.0,59.0,35.0,33.0,32.0,49.0,46.0,25.0,48.0,20.0,null,24.0,18.0,67.0,26.0,15.0,62.0,24.0,27.0,26.0,32.0,29.0,16.0,25.0,null,39.0,34.0,36.0,24.0,50.0,null,51.0,30.0,35.0,46.0,37.0,41.0,41.0,48.0,29.0,47.0,null,34.0,48.0,25.0,24.0,38.0,28.0,47.0,65.0,58.0,33.0,43.0,24.0,37.0,null,21.0,65.0,59.0,74.0,24.0,null,23.0,59.0,33.0,34.0,30.0,null,null,22.0,35.0,37.0,20.0,62.0,18.0,24.0,17.0,27.0,51.0,29.0,34.0,18.0,17.0,55.0,44.0,27.0,66.0,45.0,47.0,34.0,37.0,54.0,50.0,21.0,21.0,35.0,75.0,45.0,30.0,48.0,58.0,29.0,44.0,82.0,null,53.0,60.0,19.0,45.0,63.0,50.0,35.0,24.0,36.0,35.0,33.0,20.0,66.0,54.0,40.0,41.0,30.0,32.0,37.0,48.0,64.0,21.0,28.0,null,null,40.0,32.0,50.0,33.0,37.0,17.0,20.0,34.0,37.0,null,47.0,20.0,56.0,24.0,47.0,null,36.0,35.0,null,37.0,45.0,null,23.0,37.0,23.0,33.0,23.0,37.0,19.0,null,53.0,null,null,45.0,null,28.0,36.0,32.0,39.0,46.0,34.0,53.0,45.0,24.0,51.0,35.0,27.0,33.0,null,30.0,22.0,null,28.0,34.0,24.0,54.0,26.0,39.0,34.0,27.0,48.0,47.0,null,33.0,40.0,null,55.0,56.0,42.0,34.0,29.0,23.0,null,52.0,43.0,37.0,32.0,70.0,36.0,24.0,24.0,38.0,52.0,27.0,22.0,42.0,49.0,59.0,41.0,34.0,31.0,23.0,28.0,33.0,16.0,35.0,null,25.0,46.0,39.0,25.0,31.0,null,32.0,31.0,null,48.0,28.0,32.0],\"y0\":\" \",\"yaxis\":\"y\",\"type\":\"box\"},{\"alignmentgroup\":\"True\",\"hovertemplate\":\"gender=F<br>manner_of_death=%{x}<br>age=%{y}<extra></extra>\",\"legendgroup\":\"F\",\"marker\":{\"color\":\"#EF553B\"},\"name\":\"F\",\"notched\":false,\"offsetgroup\":\"F\",\"orientation\":\"v\",\"showlegend\":true,\"x\":[\"shot\",\"shot and Tasered\",\"shot\",\"shot\",\"shot\",\"shot\",\"shot\",\"shot\",\"shot\",\"shot\",\"shot\",\"shot\",\"shot\",\"shot\",\"shot\",\"shot\",\"shot\",\"shot\",\"shot and Tasered\",\"shot\",\"shot\",\"shot\",\"shot\",\"shot\",\"shot and Tasered\",\"shot\",\"shot\",\"shot\",\"shot\",\"shot\",\"shot\",\"shot\",\"shot\",\"shot\",\"shot\",\"shot\",\"shot\",\"shot\",\"shot\",\"shot\",\"shot\",\"shot\",\"shot\",\"shot\",\"shot\",\"shot\",\"shot\",\"shot\",\"shot\",\"shot\",\"shot\",\"shot\",\"shot\",\"shot\",\"shot\",\"shot\",\"shot\",\"shot\",\"shot\",\"shot\",\"shot\",\"shot\",\"shot\",\"shot\",\"shot\",\"shot\",\"shot\",\"shot\",\"shot\",\"shot\",\"shot\",\"shot\",\"shot\",\"shot\",\"shot\",\"shot\",\"shot\",\"shot\",\"shot\",\"shot\",\"shot\",\"shot\",\"shot and Tasered\",\"shot\",\"shot\",\"shot and Tasered\",\"shot\",\"shot\",\"shot\",\"shot\",\"shot\",\"shot\",\"shot\",\"shot\",\"shot\",\"shot\",\"shot\",\"shot\",\"shot\",\"shot\",\"shot\",\"shot\",\"shot\",\"shot\",\"shot\",\"shot\",\"shot\"],\"x0\":\" \",\"xaxis\":\"x\",\"y\":[34.0,17.0,17.0,39.0,38.0,43.0,20.0,34.0,28.0,37.0,43.0,24.0,49.0,53.0,26.0,27.0,46.0,25.0,39.0,31.0,45.0,17.0,40.0,44.0,30.0,28.0,23.0,37.0,55.0,62.0,46.0,50.0,21.0,36.0,37.0,27.0,61.0,51.0,48.0,22.0,55.0,50.0,45.0,12.0,25.0,31.0,32.0,41.0,32.0,36.0,31.0,38.0,38.0,25.0,27.0,50.0,36.0,40.0,25.0,35.0,60.0,24.0,26.0,29.0,null,42.0,24.0,40.0,23.0,35.0,46.0,53.0,26.0,66.0,23.0,25.0,39.0,31.0,56.0,44.0,53.0,71.0,37.0,21.0,18.0,55.0,30.0,33.0,46.0,16.0,59.0,21.0,17.0,54.0,50.0,27.0,41.0,null,24.0,28.0,30.0,null,29.0,50.0,40.0,25.0,62.0],\"y0\":\" \",\"yaxis\":\"y\",\"type\":\"box\"}],                        {\"template\":{\"data\":{\"bar\":[{\"error_x\":{\"color\":\"#2a3f5f\"},\"error_y\":{\"color\":\"#2a3f5f\"},\"marker\":{\"line\":{\"color\":\"#E5ECF6\",\"width\":0.5},\"pattern\":{\"fillmode\":\"overlay\",\"size\":10,\"solidity\":0.2}},\"type\":\"bar\"}],\"barpolar\":[{\"marker\":{\"line\":{\"color\":\"#E5ECF6\",\"width\":0.5},\"pattern\":{\"fillmode\":\"overlay\",\"size\":10,\"solidity\":0.2}},\"type\":\"barpolar\"}],\"carpet\":[{\"aaxis\":{\"endlinecolor\":\"#2a3f5f\",\"gridcolor\":\"white\",\"linecolor\":\"white\",\"minorgridcolor\":\"white\",\"startlinecolor\":\"#2a3f5f\"},\"baxis\":{\"endlinecolor\":\"#2a3f5f\",\"gridcolor\":\"white\",\"linecolor\":\"white\",\"minorgridcolor\":\"white\",\"startlinecolor\":\"#2a3f5f\"},\"type\":\"carpet\"}],\"choropleth\":[{\"colorbar\":{\"outlinewidth\":0,\"ticks\":\"\"},\"type\":\"choropleth\"}],\"contour\":[{\"colorbar\":{\"outlinewidth\":0,\"ticks\":\"\"},\"colorscale\":[[0.0,\"#0d0887\"],[0.1111111111111111,\"#46039f\"],[0.2222222222222222,\"#7201a8\"],[0.3333333333333333,\"#9c179e\"],[0.4444444444444444,\"#bd3786\"],[0.5555555555555556,\"#d8576b\"],[0.6666666666666666,\"#ed7953\"],[0.7777777777777778,\"#fb9f3a\"],[0.8888888888888888,\"#fdca26\"],[1.0,\"#f0f921\"]],\"type\":\"contour\"}],\"contourcarpet\":[{\"colorbar\":{\"outlinewidth\":0,\"ticks\":\"\"},\"type\":\"contourcarpet\"}],\"heatmap\":[{\"colorbar\":{\"outlinewidth\":0,\"ticks\":\"\"},\"colorscale\":[[0.0,\"#0d0887\"],[0.1111111111111111,\"#46039f\"],[0.2222222222222222,\"#7201a8\"],[0.3333333333333333,\"#9c179e\"],[0.4444444444444444,\"#bd3786\"],[0.5555555555555556,\"#d8576b\"],[0.6666666666666666,\"#ed7953\"],[0.7777777777777778,\"#fb9f3a\"],[0.8888888888888888,\"#fdca26\"],[1.0,\"#f0f921\"]],\"type\":\"heatmap\"}],\"heatmapgl\":[{\"colorbar\":{\"outlinewidth\":0,\"ticks\":\"\"},\"colorscale\":[[0.0,\"#0d0887\"],[0.1111111111111111,\"#46039f\"],[0.2222222222222222,\"#7201a8\"],[0.3333333333333333,\"#9c179e\"],[0.4444444444444444,\"#bd3786\"],[0.5555555555555556,\"#d8576b\"],[0.6666666666666666,\"#ed7953\"],[0.7777777777777778,\"#fb9f3a\"],[0.8888888888888888,\"#fdca26\"],[1.0,\"#f0f921\"]],\"type\":\"heatmapgl\"}],\"histogram\":[{\"marker\":{\"pattern\":{\"fillmode\":\"overlay\",\"size\":10,\"solidity\":0.2}},\"type\":\"histogram\"}],\"histogram2d\":[{\"colorbar\":{\"outlinewidth\":0,\"ticks\":\"\"},\"colorscale\":[[0.0,\"#0d0887\"],[0.1111111111111111,\"#46039f\"],[0.2222222222222222,\"#7201a8\"],[0.3333333333333333,\"#9c179e\"],[0.4444444444444444,\"#bd3786\"],[0.5555555555555556,\"#d8576b\"],[0.6666666666666666,\"#ed7953\"],[0.7777777777777778,\"#fb9f3a\"],[0.8888888888888888,\"#fdca26\"],[1.0,\"#f0f921\"]],\"type\":\"histogram2d\"}],\"histogram2dcontour\":[{\"colorbar\":{\"outlinewidth\":0,\"ticks\":\"\"},\"colorscale\":[[0.0,\"#0d0887\"],[0.1111111111111111,\"#46039f\"],[0.2222222222222222,\"#7201a8\"],[0.3333333333333333,\"#9c179e\"],[0.4444444444444444,\"#bd3786\"],[0.5555555555555556,\"#d8576b\"],[0.6666666666666666,\"#ed7953\"],[0.7777777777777778,\"#fb9f3a\"],[0.8888888888888888,\"#fdca26\"],[1.0,\"#f0f921\"]],\"type\":\"histogram2dcontour\"}],\"mesh3d\":[{\"colorbar\":{\"outlinewidth\":0,\"ticks\":\"\"},\"type\":\"mesh3d\"}],\"parcoords\":[{\"line\":{\"colorbar\":{\"outlinewidth\":0,\"ticks\":\"\"}},\"type\":\"parcoords\"}],\"pie\":[{\"automargin\":true,\"type\":\"pie\"}],\"scatter\":[{\"marker\":{\"colorbar\":{\"outlinewidth\":0,\"ticks\":\"\"}},\"type\":\"scatter\"}],\"scatter3d\":[{\"line\":{\"colorbar\":{\"outlinewidth\":0,\"ticks\":\"\"}},\"marker\":{\"colorbar\":{\"outlinewidth\":0,\"ticks\":\"\"}},\"type\":\"scatter3d\"}],\"scattercarpet\":[{\"marker\":{\"colorbar\":{\"outlinewidth\":0,\"ticks\":\"\"}},\"type\":\"scattercarpet\"}],\"scattergeo\":[{\"marker\":{\"colorbar\":{\"outlinewidth\":0,\"ticks\":\"\"}},\"type\":\"scattergeo\"}],\"scattergl\":[{\"marker\":{\"colorbar\":{\"outlinewidth\":0,\"ticks\":\"\"}},\"type\":\"scattergl\"}],\"scattermapbox\":[{\"marker\":{\"colorbar\":{\"outlinewidth\":0,\"ticks\":\"\"}},\"type\":\"scattermapbox\"}],\"scatterpolar\":[{\"marker\":{\"colorbar\":{\"outlinewidth\":0,\"ticks\":\"\"}},\"type\":\"scatterpolar\"}],\"scatterpolargl\":[{\"marker\":{\"colorbar\":{\"outlinewidth\":0,\"ticks\":\"\"}},\"type\":\"scatterpolargl\"}],\"scatterternary\":[{\"marker\":{\"colorbar\":{\"outlinewidth\":0,\"ticks\":\"\"}},\"type\":\"scatterternary\"}],\"surface\":[{\"colorbar\":{\"outlinewidth\":0,\"ticks\":\"\"},\"colorscale\":[[0.0,\"#0d0887\"],[0.1111111111111111,\"#46039f\"],[0.2222222222222222,\"#7201a8\"],[0.3333333333333333,\"#9c179e\"],[0.4444444444444444,\"#bd3786\"],[0.5555555555555556,\"#d8576b\"],[0.6666666666666666,\"#ed7953\"],[0.7777777777777778,\"#fb9f3a\"],[0.8888888888888888,\"#fdca26\"],[1.0,\"#f0f921\"]],\"type\":\"surface\"}],\"table\":[{\"cells\":{\"fill\":{\"color\":\"#EBF0F8\"},\"line\":{\"color\":\"white\"}},\"header\":{\"fill\":{\"color\":\"#C8D4E3\"},\"line\":{\"color\":\"white\"}},\"type\":\"table\"}]},\"layout\":{\"annotationdefaults\":{\"arrowcolor\":\"#2a3f5f\",\"arrowhead\":0,\"arrowwidth\":1},\"autotypenumbers\":\"strict\",\"coloraxis\":{\"colorbar\":{\"outlinewidth\":0,\"ticks\":\"\"}},\"colorscale\":{\"diverging\":[[0,\"#8e0152\"],[0.1,\"#c51b7d\"],[0.2,\"#de77ae\"],[0.3,\"#f1b6da\"],[0.4,\"#fde0ef\"],[0.5,\"#f7f7f7\"],[0.6,\"#e6f5d0\"],[0.7,\"#b8e186\"],[0.8,\"#7fbc41\"],[0.9,\"#4d9221\"],[1,\"#276419\"]],\"sequential\":[[0.0,\"#0d0887\"],[0.1111111111111111,\"#46039f\"],[0.2222222222222222,\"#7201a8\"],[0.3333333333333333,\"#9c179e\"],[0.4444444444444444,\"#bd3786\"],[0.5555555555555556,\"#d8576b\"],[0.6666666666666666,\"#ed7953\"],[0.7777777777777778,\"#fb9f3a\"],[0.8888888888888888,\"#fdca26\"],[1.0,\"#f0f921\"]],\"sequentialminus\":[[0.0,\"#0d0887\"],[0.1111111111111111,\"#46039f\"],[0.2222222222222222,\"#7201a8\"],[0.3333333333333333,\"#9c179e\"],[0.4444444444444444,\"#bd3786\"],[0.5555555555555556,\"#d8576b\"],[0.6666666666666666,\"#ed7953\"],[0.7777777777777778,\"#fb9f3a\"],[0.8888888888888888,\"#fdca26\"],[1.0,\"#f0f921\"]]},\"colorway\":[\"#636efa\",\"#EF553B\",\"#00cc96\",\"#ab63fa\",\"#FFA15A\",\"#19d3f3\",\"#FF6692\",\"#B6E880\",\"#FF97FF\",\"#FECB52\"],\"font\":{\"color\":\"#2a3f5f\"},\"geo\":{\"bgcolor\":\"white\",\"lakecolor\":\"white\",\"landcolor\":\"#E5ECF6\",\"showlakes\":true,\"showland\":true,\"subunitcolor\":\"white\"},\"hoverlabel\":{\"align\":\"left\"},\"hovermode\":\"closest\",\"mapbox\":{\"style\":\"light\"},\"paper_bgcolor\":\"white\",\"plot_bgcolor\":\"#E5ECF6\",\"polar\":{\"angularaxis\":{\"gridcolor\":\"white\",\"linecolor\":\"white\",\"ticks\":\"\"},\"bgcolor\":\"#E5ECF6\",\"radialaxis\":{\"gridcolor\":\"white\",\"linecolor\":\"white\",\"ticks\":\"\"}},\"scene\":{\"xaxis\":{\"backgroundcolor\":\"#E5ECF6\",\"gridcolor\":\"white\",\"gridwidth\":2,\"linecolor\":\"white\",\"showbackground\":true,\"ticks\":\"\",\"zerolinecolor\":\"white\"},\"yaxis\":{\"backgroundcolor\":\"#E5ECF6\",\"gridcolor\":\"white\",\"gridwidth\":2,\"linecolor\":\"white\",\"showbackground\":true,\"ticks\":\"\",\"zerolinecolor\":\"white\"},\"zaxis\":{\"backgroundcolor\":\"#E5ECF6\",\"gridcolor\":\"white\",\"gridwidth\":2,\"linecolor\":\"white\",\"showbackground\":true,\"ticks\":\"\",\"zerolinecolor\":\"white\"}},\"shapedefaults\":{\"line\":{\"color\":\"#2a3f5f\"}},\"ternary\":{\"aaxis\":{\"gridcolor\":\"white\",\"linecolor\":\"white\",\"ticks\":\"\"},\"baxis\":{\"gridcolor\":\"white\",\"linecolor\":\"white\",\"ticks\":\"\"},\"bgcolor\":\"#E5ECF6\",\"caxis\":{\"gridcolor\":\"white\",\"linecolor\":\"white\",\"ticks\":\"\"}},\"title\":{\"x\":0.05},\"xaxis\":{\"automargin\":true,\"gridcolor\":\"white\",\"linecolor\":\"white\",\"ticks\":\"\",\"title\":{\"standoff\":15},\"zerolinecolor\":\"white\",\"zerolinewidth\":2},\"yaxis\":{\"automargin\":true,\"gridcolor\":\"white\",\"linecolor\":\"white\",\"ticks\":\"\",\"title\":{\"standoff\":15},\"zerolinecolor\":\"white\",\"zerolinewidth\":2}}},\"xaxis\":{\"anchor\":\"y\",\"domain\":[0.0,1.0],\"title\":{\"text\":\"manner_of_death\"}},\"yaxis\":{\"anchor\":\"x\",\"domain\":[0.0,1.0],\"title\":{\"text\":\"age\"}},\"legend\":{\"title\":{\"text\":\"gender\"},\"tracegroupgap\":0},\"margin\":{\"t\":60},\"boxmode\":\"group\"},                        {\"responsive\": true}                    ).then(function(){\n",
              "                            \n",
              "var gd = document.getElementById('ca014ce1-e90a-42db-abef-c4702a7dab6f');\n",
              "var x = new MutationObserver(function (mutations, observer) {{\n",
              "        var display = window.getComputedStyle(gd).display;\n",
              "        if (!display || display === 'none') {{\n",
              "            console.log([gd, 'removed!']);\n",
              "            Plotly.purge(gd);\n",
              "            observer.disconnect();\n",
              "        }}\n",
              "}});\n",
              "\n",
              "// Listen for the removal of the full notebook cells\n",
              "var notebookContainer = gd.closest('#notebook-container');\n",
              "if (notebookContainer) {{\n",
              "    x.observe(notebookContainer, {childList: true});\n",
              "}}\n",
              "\n",
              "// Listen for the clearing of the current output cell\n",
              "var outputEl = gd.closest('.output');\n",
              "if (outputEl) {{\n",
              "    x.observe(outputEl, {childList: true});\n",
              "}}\n",
              "\n",
              "                        })                };                            </script>        </div>\n",
              "</body>\n",
              "</html>"
            ]
          },
          "metadata": {}
        }
      ]
    },
    {
      "cell_type": "markdown",
      "metadata": {
        "id": "h1pAgkyb3Xb0"
      },
      "source": [
        "# Were People Armed?\n",
        "\n",
        "In what percentage of police killings were people armed? Create chart that show what kind of weapon (if any) the deceased was carrying. How many of the people killed by police were armed with guns versus unarmed?"
      ]
    },
    {
      "cell_type": "code",
      "metadata": {
        "id": "0d9B3Pec4TdM",
        "colab": {
          "base_uri": "https://localhost:8080/",
          "height": 542
        },
        "outputId": "05e9b950-fb8d-4079-d06a-af3b6b052e7b"
      },
      "source": [
        "armed = df_fatalities.groupby('armed')['armed'].count()\n",
        "fig = px.bar(armed, title='Armed vs Unarmed Victims')\n",
        "fig.show()"
      ],
      "execution_count": null,
      "outputs": [
        {
          "output_type": "display_data",
          "data": {
            "text/html": [
              "<html>\n",
              "<head><meta charset=\"utf-8\" /></head>\n",
              "<body>\n",
              "    <div>            <script src=\"https://cdnjs.cloudflare.com/ajax/libs/mathjax/2.7.5/MathJax.js?config=TeX-AMS-MML_SVG\"></script><script type=\"text/javascript\">if (window.MathJax) {MathJax.Hub.Config({SVG: {font: \"STIX-Web\"}});}</script>                <script type=\"text/javascript\">window.PlotlyConfig = {MathJaxConfig: 'local'};</script>\n",
              "        <script src=\"https://cdn.plot.ly/plotly-2.8.3.min.js\"></script>                <div id=\"99ed1492-0062-4fbb-b403-8ce292bf261b\" class=\"plotly-graph-div\" style=\"height:525px; width:100%;\"></div>            <script type=\"text/javascript\">                                    window.PLOTLYENV=window.PLOTLYENV || {};                                    if (document.getElementById(\"99ed1492-0062-4fbb-b403-8ce292bf261b\")) {                    Plotly.newPlot(                        \"99ed1492-0062-4fbb-b403-8ce292bf261b\",                        [{\"alignmentgroup\":\"True\",\"hovertemplate\":\"variable=armed<br>index=%{x}<br>value=%{y}<extra></extra>\",\"legendgroup\":\"armed\",\"marker\":{\"color\":\"#636efa\",\"pattern\":{\"shape\":\"\"}},\"name\":\"armed\",\"offsetgroup\":\"armed\",\"orientation\":\"v\",\"showlegend\":true,\"textposition\":\"auto\",\"x\":[\"Taser\",\"air conditioner\",\"ax\",\"baseball bat\",\"baseball bat and bottle\",\"baseball bat and fireplace poker\",\"baton\",\"bayonet\",\"bean-bag gun\",\"beer bottle\",\"blunt object\",\"box cutter\",\"brick\",\"carjack\",\"chain\",\"chain saw\",\"contractor's level\",\"cordless drill\",\"crossbow\",\"crowbar\",\"fireworks\",\"flagpole\",\"flashlight\",\"garden tool\",\"glass shard\",\"gun\",\"gun and knife\",\"guns and explosives\",\"hammer\",\"hand torch\",\"hatchet\",\"hatchet and gun\",\"knife\",\"lawn mower blade\",\"machete\",\"machete and gun\",\"meat cleaver\",\"metal hand tool\",\"metal object\",\"metal pipe\",\"metal pole\",\"metal rake\",\"metal stick\",\"motorcycle\",\"nail gun\",\"oar\",\"pen\",\"pick-axe\",\"piece of wood\",\"pipe\",\"pitchfork\",\"pole\",\"pole and knife\",\"rock\",\"scissors\",\"screwdriver\",\"sharp object\",\"shovel\",\"spear\",\"stapler\",\"straight edge razor\",\"sword\",\"tire iron\",\"toy weapon\",\"unarmed\",\"undetermined\",\"unknown weapon\",\"vehicle\"],\"xaxis\":\"x\",\"y\":[9,1,9,8,1,1,2,1,1,2,5,7,2,1,1,2,1,1,6,1,1,1,1,1,1,1398,5,3,7,1,6,2,373,1,18,1,2,1,2,7,2,1,3,1,1,1,1,1,2,2,1,1,1,3,3,5,2,2,1,1,1,8,1,104,171,117,18,177],\"yaxis\":\"y\",\"type\":\"bar\"}],                        {\"template\":{\"data\":{\"bar\":[{\"error_x\":{\"color\":\"#2a3f5f\"},\"error_y\":{\"color\":\"#2a3f5f\"},\"marker\":{\"line\":{\"color\":\"#E5ECF6\",\"width\":0.5},\"pattern\":{\"fillmode\":\"overlay\",\"size\":10,\"solidity\":0.2}},\"type\":\"bar\"}],\"barpolar\":[{\"marker\":{\"line\":{\"color\":\"#E5ECF6\",\"width\":0.5},\"pattern\":{\"fillmode\":\"overlay\",\"size\":10,\"solidity\":0.2}},\"type\":\"barpolar\"}],\"carpet\":[{\"aaxis\":{\"endlinecolor\":\"#2a3f5f\",\"gridcolor\":\"white\",\"linecolor\":\"white\",\"minorgridcolor\":\"white\",\"startlinecolor\":\"#2a3f5f\"},\"baxis\":{\"endlinecolor\":\"#2a3f5f\",\"gridcolor\":\"white\",\"linecolor\":\"white\",\"minorgridcolor\":\"white\",\"startlinecolor\":\"#2a3f5f\"},\"type\":\"carpet\"}],\"choropleth\":[{\"colorbar\":{\"outlinewidth\":0,\"ticks\":\"\"},\"type\":\"choropleth\"}],\"contour\":[{\"colorbar\":{\"outlinewidth\":0,\"ticks\":\"\"},\"colorscale\":[[0.0,\"#0d0887\"],[0.1111111111111111,\"#46039f\"],[0.2222222222222222,\"#7201a8\"],[0.3333333333333333,\"#9c179e\"],[0.4444444444444444,\"#bd3786\"],[0.5555555555555556,\"#d8576b\"],[0.6666666666666666,\"#ed7953\"],[0.7777777777777778,\"#fb9f3a\"],[0.8888888888888888,\"#fdca26\"],[1.0,\"#f0f921\"]],\"type\":\"contour\"}],\"contourcarpet\":[{\"colorbar\":{\"outlinewidth\":0,\"ticks\":\"\"},\"type\":\"contourcarpet\"}],\"heatmap\":[{\"colorbar\":{\"outlinewidth\":0,\"ticks\":\"\"},\"colorscale\":[[0.0,\"#0d0887\"],[0.1111111111111111,\"#46039f\"],[0.2222222222222222,\"#7201a8\"],[0.3333333333333333,\"#9c179e\"],[0.4444444444444444,\"#bd3786\"],[0.5555555555555556,\"#d8576b\"],[0.6666666666666666,\"#ed7953\"],[0.7777777777777778,\"#fb9f3a\"],[0.8888888888888888,\"#fdca26\"],[1.0,\"#f0f921\"]],\"type\":\"heatmap\"}],\"heatmapgl\":[{\"colorbar\":{\"outlinewidth\":0,\"ticks\":\"\"},\"colorscale\":[[0.0,\"#0d0887\"],[0.1111111111111111,\"#46039f\"],[0.2222222222222222,\"#7201a8\"],[0.3333333333333333,\"#9c179e\"],[0.4444444444444444,\"#bd3786\"],[0.5555555555555556,\"#d8576b\"],[0.6666666666666666,\"#ed7953\"],[0.7777777777777778,\"#fb9f3a\"],[0.8888888888888888,\"#fdca26\"],[1.0,\"#f0f921\"]],\"type\":\"heatmapgl\"}],\"histogram\":[{\"marker\":{\"pattern\":{\"fillmode\":\"overlay\",\"size\":10,\"solidity\":0.2}},\"type\":\"histogram\"}],\"histogram2d\":[{\"colorbar\":{\"outlinewidth\":0,\"ticks\":\"\"},\"colorscale\":[[0.0,\"#0d0887\"],[0.1111111111111111,\"#46039f\"],[0.2222222222222222,\"#7201a8\"],[0.3333333333333333,\"#9c179e\"],[0.4444444444444444,\"#bd3786\"],[0.5555555555555556,\"#d8576b\"],[0.6666666666666666,\"#ed7953\"],[0.7777777777777778,\"#fb9f3a\"],[0.8888888888888888,\"#fdca26\"],[1.0,\"#f0f921\"]],\"type\":\"histogram2d\"}],\"histogram2dcontour\":[{\"colorbar\":{\"outlinewidth\":0,\"ticks\":\"\"},\"colorscale\":[[0.0,\"#0d0887\"],[0.1111111111111111,\"#46039f\"],[0.2222222222222222,\"#7201a8\"],[0.3333333333333333,\"#9c179e\"],[0.4444444444444444,\"#bd3786\"],[0.5555555555555556,\"#d8576b\"],[0.6666666666666666,\"#ed7953\"],[0.7777777777777778,\"#fb9f3a\"],[0.8888888888888888,\"#fdca26\"],[1.0,\"#f0f921\"]],\"type\":\"histogram2dcontour\"}],\"mesh3d\":[{\"colorbar\":{\"outlinewidth\":0,\"ticks\":\"\"},\"type\":\"mesh3d\"}],\"parcoords\":[{\"line\":{\"colorbar\":{\"outlinewidth\":0,\"ticks\":\"\"}},\"type\":\"parcoords\"}],\"pie\":[{\"automargin\":true,\"type\":\"pie\"}],\"scatter\":[{\"marker\":{\"colorbar\":{\"outlinewidth\":0,\"ticks\":\"\"}},\"type\":\"scatter\"}],\"scatter3d\":[{\"line\":{\"colorbar\":{\"outlinewidth\":0,\"ticks\":\"\"}},\"marker\":{\"colorbar\":{\"outlinewidth\":0,\"ticks\":\"\"}},\"type\":\"scatter3d\"}],\"scattercarpet\":[{\"marker\":{\"colorbar\":{\"outlinewidth\":0,\"ticks\":\"\"}},\"type\":\"scattercarpet\"}],\"scattergeo\":[{\"marker\":{\"colorbar\":{\"outlinewidth\":0,\"ticks\":\"\"}},\"type\":\"scattergeo\"}],\"scattergl\":[{\"marker\":{\"colorbar\":{\"outlinewidth\":0,\"ticks\":\"\"}},\"type\":\"scattergl\"}],\"scattermapbox\":[{\"marker\":{\"colorbar\":{\"outlinewidth\":0,\"ticks\":\"\"}},\"type\":\"scattermapbox\"}],\"scatterpolar\":[{\"marker\":{\"colorbar\":{\"outlinewidth\":0,\"ticks\":\"\"}},\"type\":\"scatterpolar\"}],\"scatterpolargl\":[{\"marker\":{\"colorbar\":{\"outlinewidth\":0,\"ticks\":\"\"}},\"type\":\"scatterpolargl\"}],\"scatterternary\":[{\"marker\":{\"colorbar\":{\"outlinewidth\":0,\"ticks\":\"\"}},\"type\":\"scatterternary\"}],\"surface\":[{\"colorbar\":{\"outlinewidth\":0,\"ticks\":\"\"},\"colorscale\":[[0.0,\"#0d0887\"],[0.1111111111111111,\"#46039f\"],[0.2222222222222222,\"#7201a8\"],[0.3333333333333333,\"#9c179e\"],[0.4444444444444444,\"#bd3786\"],[0.5555555555555556,\"#d8576b\"],[0.6666666666666666,\"#ed7953\"],[0.7777777777777778,\"#fb9f3a\"],[0.8888888888888888,\"#fdca26\"],[1.0,\"#f0f921\"]],\"type\":\"surface\"}],\"table\":[{\"cells\":{\"fill\":{\"color\":\"#EBF0F8\"},\"line\":{\"color\":\"white\"}},\"header\":{\"fill\":{\"color\":\"#C8D4E3\"},\"line\":{\"color\":\"white\"}},\"type\":\"table\"}]},\"layout\":{\"annotationdefaults\":{\"arrowcolor\":\"#2a3f5f\",\"arrowhead\":0,\"arrowwidth\":1},\"autotypenumbers\":\"strict\",\"coloraxis\":{\"colorbar\":{\"outlinewidth\":0,\"ticks\":\"\"}},\"colorscale\":{\"diverging\":[[0,\"#8e0152\"],[0.1,\"#c51b7d\"],[0.2,\"#de77ae\"],[0.3,\"#f1b6da\"],[0.4,\"#fde0ef\"],[0.5,\"#f7f7f7\"],[0.6,\"#e6f5d0\"],[0.7,\"#b8e186\"],[0.8,\"#7fbc41\"],[0.9,\"#4d9221\"],[1,\"#276419\"]],\"sequential\":[[0.0,\"#0d0887\"],[0.1111111111111111,\"#46039f\"],[0.2222222222222222,\"#7201a8\"],[0.3333333333333333,\"#9c179e\"],[0.4444444444444444,\"#bd3786\"],[0.5555555555555556,\"#d8576b\"],[0.6666666666666666,\"#ed7953\"],[0.7777777777777778,\"#fb9f3a\"],[0.8888888888888888,\"#fdca26\"],[1.0,\"#f0f921\"]],\"sequentialminus\":[[0.0,\"#0d0887\"],[0.1111111111111111,\"#46039f\"],[0.2222222222222222,\"#7201a8\"],[0.3333333333333333,\"#9c179e\"],[0.4444444444444444,\"#bd3786\"],[0.5555555555555556,\"#d8576b\"],[0.6666666666666666,\"#ed7953\"],[0.7777777777777778,\"#fb9f3a\"],[0.8888888888888888,\"#fdca26\"],[1.0,\"#f0f921\"]]},\"colorway\":[\"#636efa\",\"#EF553B\",\"#00cc96\",\"#ab63fa\",\"#FFA15A\",\"#19d3f3\",\"#FF6692\",\"#B6E880\",\"#FF97FF\",\"#FECB52\"],\"font\":{\"color\":\"#2a3f5f\"},\"geo\":{\"bgcolor\":\"white\",\"lakecolor\":\"white\",\"landcolor\":\"#E5ECF6\",\"showlakes\":true,\"showland\":true,\"subunitcolor\":\"white\"},\"hoverlabel\":{\"align\":\"left\"},\"hovermode\":\"closest\",\"mapbox\":{\"style\":\"light\"},\"paper_bgcolor\":\"white\",\"plot_bgcolor\":\"#E5ECF6\",\"polar\":{\"angularaxis\":{\"gridcolor\":\"white\",\"linecolor\":\"white\",\"ticks\":\"\"},\"bgcolor\":\"#E5ECF6\",\"radialaxis\":{\"gridcolor\":\"white\",\"linecolor\":\"white\",\"ticks\":\"\"}},\"scene\":{\"xaxis\":{\"backgroundcolor\":\"#E5ECF6\",\"gridcolor\":\"white\",\"gridwidth\":2,\"linecolor\":\"white\",\"showbackground\":true,\"ticks\":\"\",\"zerolinecolor\":\"white\"},\"yaxis\":{\"backgroundcolor\":\"#E5ECF6\",\"gridcolor\":\"white\",\"gridwidth\":2,\"linecolor\":\"white\",\"showbackground\":true,\"ticks\":\"\",\"zerolinecolor\":\"white\"},\"zaxis\":{\"backgroundcolor\":\"#E5ECF6\",\"gridcolor\":\"white\",\"gridwidth\":2,\"linecolor\":\"white\",\"showbackground\":true,\"ticks\":\"\",\"zerolinecolor\":\"white\"}},\"shapedefaults\":{\"line\":{\"color\":\"#2a3f5f\"}},\"ternary\":{\"aaxis\":{\"gridcolor\":\"white\",\"linecolor\":\"white\",\"ticks\":\"\"},\"baxis\":{\"gridcolor\":\"white\",\"linecolor\":\"white\",\"ticks\":\"\"},\"bgcolor\":\"#E5ECF6\",\"caxis\":{\"gridcolor\":\"white\",\"linecolor\":\"white\",\"ticks\":\"\"}},\"title\":{\"x\":0.05},\"xaxis\":{\"automargin\":true,\"gridcolor\":\"white\",\"linecolor\":\"white\",\"ticks\":\"\",\"title\":{\"standoff\":15},\"zerolinecolor\":\"white\",\"zerolinewidth\":2},\"yaxis\":{\"automargin\":true,\"gridcolor\":\"white\",\"linecolor\":\"white\",\"ticks\":\"\",\"title\":{\"standoff\":15},\"zerolinecolor\":\"white\",\"zerolinewidth\":2}}},\"xaxis\":{\"anchor\":\"y\",\"domain\":[0.0,1.0],\"title\":{\"text\":\"index\"}},\"yaxis\":{\"anchor\":\"x\",\"domain\":[0.0,1.0],\"title\":{\"text\":\"value\"}},\"legend\":{\"title\":{\"text\":\"variable\"},\"tracegroupgap\":0},\"title\":{\"text\":\"Armed vs Unarmed Victims\"},\"barmode\":\"relative\"},                        {\"responsive\": true}                    ).then(function(){\n",
              "                            \n",
              "var gd = document.getElementById('99ed1492-0062-4fbb-b403-8ce292bf261b');\n",
              "var x = new MutationObserver(function (mutations, observer) {{\n",
              "        var display = window.getComputedStyle(gd).display;\n",
              "        if (!display || display === 'none') {{\n",
              "            console.log([gd, 'removed!']);\n",
              "            Plotly.purge(gd);\n",
              "            observer.disconnect();\n",
              "        }}\n",
              "}});\n",
              "\n",
              "// Listen for the removal of the full notebook cells\n",
              "var notebookContainer = gd.closest('#notebook-container');\n",
              "if (notebookContainer) {{\n",
              "    x.observe(notebookContainer, {childList: true});\n",
              "}}\n",
              "\n",
              "// Listen for the clearing of the current output cell\n",
              "var outputEl = gd.closest('.output');\n",
              "if (outputEl) {{\n",
              "    x.observe(outputEl, {childList: true});\n",
              "}}\n",
              "\n",
              "                        })                };                            </script>        </div>\n",
              "</body>\n",
              "</html>"
            ]
          },
          "metadata": {}
        }
      ]
    },
    {
      "cell_type": "code",
      "metadata": {
        "id": "vdGTO3pW4Tp5",
        "colab": {
          "base_uri": "https://localhost:8080/"
        },
        "outputId": "13073a93-a140-4f16-b6f2-7ef445f3d2da"
      },
      "source": [
        "print(f'percentage of police killings were people armed: {(1-(armed[\"unarmed\"]/len(df_fatalities)))*100}')"
      ],
      "execution_count": null,
      "outputs": [
        {
          "output_type": "stream",
          "name": "stdout",
          "text": [
            "percentage of police killings were people armed: 93.25443786982248\n"
          ]
        }
      ]
    },
    {
      "cell_type": "code",
      "metadata": {
        "id": "qnO_rckl4WuJ",
        "colab": {
          "base_uri": "https://localhost:8080/"
        },
        "outputId": "0afeb5a0-2b0e-4fc1-e158-acc898397568"
      },
      "source": [
        "print(f'people killed by police were armed with guns({armed[\"gun\"]}) versus unarmed({armed[\"unarmed\"]}).')"
      ],
      "execution_count": null,
      "outputs": [
        {
          "output_type": "stream",
          "name": "stdout",
          "text": [
            "people killed by police were armed with guns(1398) versus unarmed(171)\n"
          ]
        }
      ]
    },
    {
      "cell_type": "markdown",
      "metadata": {
        "id": "IgD2a5-L4W_I"
      },
      "source": [
        "# How Old Were the People Killed?"
      ]
    },
    {
      "cell_type": "markdown",
      "metadata": {
        "id": "BNPrdT-W9lf3"
      },
      "source": [
        "Work out what percentage of people killed were under 25 years old.  "
      ]
    },
    {
      "cell_type": "code",
      "metadata": {
        "id": "zSyDgzb542O9",
        "colab": {
          "base_uri": "https://localhost:8080/"
        },
        "outputId": "65839048-72ee-4e40-8028-02c207dd7ddc"
      },
      "source": [
        "print(f'Percentage of people killed were under 25 years old: {len(df_fatalities[df_fatalities[\"age\"] < 26])/len(df_fatalities)*100}')"
      ],
      "execution_count": null,
      "outputs": [
        {
          "output_type": "stream",
          "name": "stdout",
          "text": [
            "Percentage of people killed were under 25 years old: 21.814595660749507\n"
          ]
        }
      ]
    },
    {
      "cell_type": "markdown",
      "metadata": {
        "id": "5XrAD_ey9qBB"
      },
      "source": [
        "Create a histogram and KDE plot that shows the distribution of ages of the people killed by police."
      ]
    },
    {
      "cell_type": "code",
      "metadata": {
        "id": "U6B1Qp7l42H8",
        "colab": {
          "base_uri": "https://localhost:8080/",
          "height": 297
        },
        "outputId": "ba9c2513-1495-4406-8176-87a68ed8a96a"
      },
      "source": [
        "sns.histplot(data=df_fatalities, x=\"age\", kde=True)"
      ],
      "execution_count": null,
      "outputs": [
        {
          "output_type": "execute_result",
          "data": {
            "text/plain": [
              "<matplotlib.axes._subplots.AxesSubplot at 0x7fac78525b50>"
            ]
          },
          "metadata": {},
          "execution_count": 53
        },
        {
          "output_type": "display_data",
          "data": {
            "text/plain": [
              "<Figure size 432x288 with 1 Axes>"
            ],
            "image/png": "[encoded data removed]"
          },
          "metadata": {
            "needs_background": "light"
          }
        }
      ]
    },
    {
      "cell_type": "markdown",
      "metadata": {
        "id": "zcqqPDo79rTx"
      },
      "source": [
        "Create a seperate KDE plot for each race. Is there a difference between the distributions?"
      ]
    },
    {
      "cell_type": "code",
      "metadata": {
        "id": "ubUnMjok43Zo",
        "colab": {
          "base_uri": "https://localhost:8080/",
          "height": 297
        },
        "outputId": "0f1873a0-91cc-4afd-86f4-2809c976a0ac"
      },
      "source": [
        "sns.kdeplot(data=df_fatalities, x=\"age\", hue='race')"
      ],
      "execution_count": null,
      "outputs": [
        {
          "output_type": "execute_result",
          "data": {
            "text/plain": [
              "<matplotlib.axes._subplots.AxesSubplot at 0x7fac75c885e0>"
            ]
          },
          "metadata": {},
          "execution_count": 57
        },
        {
          "output_type": "display_data",
          "data": {
            "text/plain": [
              "<Figure size 432x288 with 1 Axes>"
            ],
            "image/png": "[encoded data removed]"
          },
          "metadata": {
            "needs_background": "light"
          }
        }
      ]
    },
    {
      "cell_type": "markdown",
      "metadata": {
        "id": "JkcHvMUt43uE"
      },
      "source": [
        "# Race of People Killed\n",
        "\n",
        "Create a chart that shows the total number of people killed by race."
      ]
    },
    {
      "cell_type": "code",
      "metadata": {
        "id": "e8wZvBrt5BEb",
        "colab": {
          "base_uri": "https://localhost:8080/",
          "height": 542
        },
        "outputId": "682818a1-3add-4469-a93b-de05f544326b"
      },
      "source": [
        "races = df_fatalities.groupby('race')['race'].count()\n",
        "fig = px.bar(races, title='Deaths by race')\n",
        "fig.show()"
      ],
      "execution_count": null,
      "outputs": [
        {
          "output_type": "display_data",
          "data": {
            "text/html": [
              "<html>\n",
              "<head><meta charset=\"utf-8\" /></head>\n",
              "<body>\n",
              "    <div>            <script src=\"https://cdnjs.cloudflare.com/ajax/libs/mathjax/2.7.5/MathJax.js?config=TeX-AMS-MML_SVG\"></script><script type=\"text/javascript\">if (window.MathJax) {MathJax.Hub.Config({SVG: {font: \"STIX-Web\"}});}</script>                <script type=\"text/javascript\">window.PlotlyConfig = {MathJaxConfig: 'local'};</script>\n",
              "        <script src=\"https://cdn.plot.ly/plotly-2.8.3.min.js\"></script>                <div id=\"b6bec95d-5da7-4ecd-a5bb-da3db3975e5e\" class=\"plotly-graph-div\" style=\"height:525px; width:100%;\"></div>            <script type=\"text/javascript\">                                    window.PLOTLYENV=window.PLOTLYENV || {};                                    if (document.getElementById(\"b6bec95d-5da7-4ecd-a5bb-da3db3975e5e\")) {                    Plotly.newPlot(                        \"b6bec95d-5da7-4ecd-a5bb-da3db3975e5e\",                        [{\"alignmentgroup\":\"True\",\"hovertemplate\":\"variable=race<br>index=%{x}<br>value=%{y}<extra></extra>\",\"legendgroup\":\"race\",\"marker\":{\"color\":\"#636efa\",\"pattern\":{\"shape\":\"\"}},\"name\":\"race\",\"offsetgroup\":\"race\",\"orientation\":\"v\",\"showlegend\":true,\"textposition\":\"auto\",\"x\":[\"A\",\"B\",\"H\",\"N\",\"O\",\"W\"],\"xaxis\":\"x\",\"y\":[39,618,423,31,28,1201],\"yaxis\":\"y\",\"type\":\"bar\"}],                        {\"template\":{\"data\":{\"bar\":[{\"error_x\":{\"color\":\"#2a3f5f\"},\"error_y\":{\"color\":\"#2a3f5f\"},\"marker\":{\"line\":{\"color\":\"#E5ECF6\",\"width\":0.5},\"pattern\":{\"fillmode\":\"overlay\",\"size\":10,\"solidity\":0.2}},\"type\":\"bar\"}],\"barpolar\":[{\"marker\":{\"line\":{\"color\":\"#E5ECF6\",\"width\":0.5},\"pattern\":{\"fillmode\":\"overlay\",\"size\":10,\"solidity\":0.2}},\"type\":\"barpolar\"}],\"carpet\":[{\"aaxis\":{\"endlinecolor\":\"#2a3f5f\",\"gridcolor\":\"white\",\"linecolor\":\"white\",\"minorgridcolor\":\"white\",\"startlinecolor\":\"#2a3f5f\"},\"baxis\":{\"endlinecolor\":\"#2a3f5f\",\"gridcolor\":\"white\",\"linecolor\":\"white\",\"minorgridcolor\":\"white\",\"startlinecolor\":\"#2a3f5f\"},\"type\":\"carpet\"}],\"choropleth\":[{\"colorbar\":{\"outlinewidth\":0,\"ticks\":\"\"},\"type\":\"choropleth\"}],\"contour\":[{\"colorbar\":{\"outlinewidth\":0,\"ticks\":\"\"},\"colorscale\":[[0.0,\"#0d0887\"],[0.1111111111111111,\"#46039f\"],[0.2222222222222222,\"#7201a8\"],[0.3333333333333333,\"#9c179e\"],[0.4444444444444444,\"#bd3786\"],[0.5555555555555556,\"#d8576b\"],[0.6666666666666666,\"#ed7953\"],[0.7777777777777778,\"#fb9f3a\"],[0.8888888888888888,\"#fdca26\"],[1.0,\"#f0f921\"]],\"type\":\"contour\"}],\"contourcarpet\":[{\"colorbar\":{\"outlinewidth\":0,\"ticks\":\"\"},\"type\":\"contourcarpet\"}],\"heatmap\":[{\"colorbar\":{\"outlinewidth\":0,\"ticks\":\"\"},\"colorscale\":[[0.0,\"#0d0887\"],[0.1111111111111111,\"#46039f\"],[0.2222222222222222,\"#7201a8\"],[0.3333333333333333,\"#9c179e\"],[0.4444444444444444,\"#bd3786\"],[0.5555555555555556,\"#d8576b\"],[0.6666666666666666,\"#ed7953\"],[0.7777777777777778,\"#fb9f3a\"],[0.8888888888888888,\"#fdca26\"],[1.0,\"#f0f921\"]],\"type\":\"heatmap\"}],\"heatmapgl\":[{\"colorbar\":{\"outlinewidth\":0,\"ticks\":\"\"},\"colorscale\":[[0.0,\"#0d0887\"],[0.1111111111111111,\"#46039f\"],[0.2222222222222222,\"#7201a8\"],[0.3333333333333333,\"#9c179e\"],[0.4444444444444444,\"#bd3786\"],[0.5555555555555556,\"#d8576b\"],[0.6666666666666666,\"#ed7953\"],[0.7777777777777778,\"#fb9f3a\"],[0.8888888888888888,\"#fdca26\"],[1.0,\"#f0f921\"]],\"type\":\"heatmapgl\"}],\"histogram\":[{\"marker\":{\"pattern\":{\"fillmode\":\"overlay\",\"size\":10,\"solidity\":0.2}},\"type\":\"histogram\"}],\"histogram2d\":[{\"colorbar\":{\"outlinewidth\":0,\"ticks\":\"\"},\"colorscale\":[[0.0,\"#0d0887\"],[0.1111111111111111,\"#46039f\"],[0.2222222222222222,\"#7201a8\"],[0.3333333333333333,\"#9c179e\"],[0.4444444444444444,\"#bd3786\"],[0.5555555555555556,\"#d8576b\"],[0.6666666666666666,\"#ed7953\"],[0.7777777777777778,\"#fb9f3a\"],[0.8888888888888888,\"#fdca26\"],[1.0,\"#f0f921\"]],\"type\":\"histogram2d\"}],\"histogram2dcontour\":[{\"colorbar\":{\"outlinewidth\":0,\"ticks\":\"\"},\"colorscale\":[[0.0,\"#0d0887\"],[0.1111111111111111,\"#46039f\"],[0.2222222222222222,\"#7201a8\"],[0.3333333333333333,\"#9c179e\"],[0.4444444444444444,\"#bd3786\"],[0.5555555555555556,\"#d8576b\"],[0.6666666666666666,\"#ed7953\"],[0.7777777777777778,\"#fb9f3a\"],[0.8888888888888888,\"#fdca26\"],[1.0,\"#f0f921\"]],\"type\":\"histogram2dcontour\"}],\"mesh3d\":[{\"colorbar\":{\"outlinewidth\":0,\"ticks\":\"\"},\"type\":\"mesh3d\"}],\"parcoords\":[{\"line\":{\"colorbar\":{\"outlinewidth\":0,\"ticks\":\"\"}},\"type\":\"parcoords\"}],\"pie\":[{\"automargin\":true,\"type\":\"pie\"}],\"scatter\":[{\"marker\":{\"colorbar\":{\"outlinewidth\":0,\"ticks\":\"\"}},\"type\":\"scatter\"}],\"scatter3d\":[{\"line\":{\"colorbar\":{\"outlinewidth\":0,\"ticks\":\"\"}},\"marker\":{\"colorbar\":{\"outlinewidth\":0,\"ticks\":\"\"}},\"type\":\"scatter3d\"}],\"scattercarpet\":[{\"marker\":{\"colorbar\":{\"outlinewidth\":0,\"ticks\":\"\"}},\"type\":\"scattercarpet\"}],\"scattergeo\":[{\"marker\":{\"colorbar\":{\"outlinewidth\":0,\"ticks\":\"\"}},\"type\":\"scattergeo\"}],\"scattergl\":[{\"marker\":{\"colorbar\":{\"outlinewidth\":0,\"ticks\":\"\"}},\"type\":\"scattergl\"}],\"scattermapbox\":[{\"marker\":{\"colorbar\":{\"outlinewidth\":0,\"ticks\":\"\"}},\"type\":\"scattermapbox\"}],\"scatterpolar\":[{\"marker\":{\"colorbar\":{\"outlinewidth\":0,\"ticks\":\"\"}},\"type\":\"scatterpolar\"}],\"scatterpolargl\":[{\"marker\":{\"colorbar\":{\"outlinewidth\":0,\"ticks\":\"\"}},\"type\":\"scatterpolargl\"}],\"scatterternary\":[{\"marker\":{\"colorbar\":{\"outlinewidth\":0,\"ticks\":\"\"}},\"type\":\"scatterternary\"}],\"surface\":[{\"colorbar\":{\"outlinewidth\":0,\"ticks\":\"\"},\"colorscale\":[[0.0,\"#0d0887\"],[0.1111111111111111,\"#46039f\"],[0.2222222222222222,\"#7201a8\"],[0.3333333333333333,\"#9c179e\"],[0.4444444444444444,\"#bd3786\"],[0.5555555555555556,\"#d8576b\"],[0.6666666666666666,\"#ed7953\"],[0.7777777777777778,\"#fb9f3a\"],[0.8888888888888888,\"#fdca26\"],[1.0,\"#f0f921\"]],\"type\":\"surface\"}],\"table\":[{\"cells\":{\"fill\":{\"color\":\"#EBF0F8\"},\"line\":{\"color\":\"white\"}},\"header\":{\"fill\":{\"color\":\"#C8D4E3\"},\"line\":{\"color\":\"white\"}},\"type\":\"table\"}]},\"layout\":{\"annotationdefaults\":{\"arrowcolor\":\"#2a3f5f\",\"arrowhead\":0,\"arrowwidth\":1},\"autotypenumbers\":\"strict\",\"coloraxis\":{\"colorbar\":{\"outlinewidth\":0,\"ticks\":\"\"}},\"colorscale\":{\"diverging\":[[0,\"#8e0152\"],[0.1,\"#c51b7d\"],[0.2,\"#de77ae\"],[0.3,\"#f1b6da\"],[0.4,\"#fde0ef\"],[0.5,\"#f7f7f7\"],[0.6,\"#e6f5d0\"],[0.7,\"#b8e186\"],[0.8,\"#7fbc41\"],[0.9,\"#4d9221\"],[1,\"#276419\"]],\"sequential\":[[0.0,\"#0d0887\"],[0.1111111111111111,\"#46039f\"],[0.2222222222222222,\"#7201a8\"],[0.3333333333333333,\"#9c179e\"],[0.4444444444444444,\"#bd3786\"],[0.5555555555555556,\"#d8576b\"],[0.6666666666666666,\"#ed7953\"],[0.7777777777777778,\"#fb9f3a\"],[0.8888888888888888,\"#fdca26\"],[1.0,\"#f0f921\"]],\"sequentialminus\":[[0.0,\"#0d0887\"],[0.1111111111111111,\"#46039f\"],[0.2222222222222222,\"#7201a8\"],[0.3333333333333333,\"#9c179e\"],[0.4444444444444444,\"#bd3786\"],[0.5555555555555556,\"#d8576b\"],[0.6666666666666666,\"#ed7953\"],[0.7777777777777778,\"#fb9f3a\"],[0.8888888888888888,\"#fdca26\"],[1.0,\"#f0f921\"]]},\"colorway\":[\"#636efa\",\"#EF553B\",\"#00cc96\",\"#ab63fa\",\"#FFA15A\",\"#19d3f3\",\"#FF6692\",\"#B6E880\",\"#FF97FF\",\"#FECB52\"],\"font\":{\"color\":\"#2a3f5f\"},\"geo\":{\"bgcolor\":\"white\",\"lakecolor\":\"white\",\"landcolor\":\"#E5ECF6\",\"showlakes\":true,\"showland\":true,\"subunitcolor\":\"white\"},\"hoverlabel\":{\"align\":\"left\"},\"hovermode\":\"closest\",\"mapbox\":{\"style\":\"light\"},\"paper_bgcolor\":\"white\",\"plot_bgcolor\":\"#E5ECF6\",\"polar\":{\"angularaxis\":{\"gridcolor\":\"white\",\"linecolor\":\"white\",\"ticks\":\"\"},\"bgcolor\":\"#E5ECF6\",\"radialaxis\":{\"gridcolor\":\"white\",\"linecolor\":\"white\",\"ticks\":\"\"}},\"scene\":{\"xaxis\":{\"backgroundcolor\":\"#E5ECF6\",\"gridcolor\":\"white\",\"gridwidth\":2,\"linecolor\":\"white\",\"showbackground\":true,\"ticks\":\"\",\"zerolinecolor\":\"white\"},\"yaxis\":{\"backgroundcolor\":\"#E5ECF6\",\"gridcolor\":\"white\",\"gridwidth\":2,\"linecolor\":\"white\",\"showbackground\":true,\"ticks\":\"\",\"zerolinecolor\":\"white\"},\"zaxis\":{\"backgroundcolor\":\"#E5ECF6\",\"gridcolor\":\"white\",\"gridwidth\":2,\"linecolor\":\"white\",\"showbackground\":true,\"ticks\":\"\",\"zerolinecolor\":\"white\"}},\"shapedefaults\":{\"line\":{\"color\":\"#2a3f5f\"}},\"ternary\":{\"aaxis\":{\"gridcolor\":\"white\",\"linecolor\":\"white\",\"ticks\":\"\"},\"baxis\":{\"gridcolor\":\"white\",\"linecolor\":\"white\",\"ticks\":\"\"},\"bgcolor\":\"#E5ECF6\",\"caxis\":{\"gridcolor\":\"white\",\"linecolor\":\"white\",\"ticks\":\"\"}},\"title\":{\"x\":0.05},\"xaxis\":{\"automargin\":true,\"gridcolor\":\"white\",\"linecolor\":\"white\",\"ticks\":\"\",\"title\":{\"standoff\":15},\"zerolinecolor\":\"white\",\"zerolinewidth\":2},\"yaxis\":{\"automargin\":true,\"gridcolor\":\"white\",\"linecolor\":\"white\",\"ticks\":\"\",\"title\":{\"standoff\":15},\"zerolinecolor\":\"white\",\"zerolinewidth\":2}}},\"xaxis\":{\"anchor\":\"y\",\"domain\":[0.0,1.0],\"title\":{\"text\":\"index\"}},\"yaxis\":{\"anchor\":\"x\",\"domain\":[0.0,1.0],\"title\":{\"text\":\"value\"}},\"legend\":{\"title\":{\"text\":\"variable\"},\"tracegroupgap\":0},\"title\":{\"text\":\"Deaths by race\"},\"barmode\":\"relative\"},                        {\"responsive\": true}                    ).then(function(){\n",
              "                            \n",
              "var gd = document.getElementById('b6bec95d-5da7-4ecd-a5bb-da3db3975e5e');\n",
              "var x = new MutationObserver(function (mutations, observer) {{\n",
              "        var display = window.getComputedStyle(gd).display;\n",
              "        if (!display || display === 'none') {{\n",
              "            console.log([gd, 'removed!']);\n",
              "            Plotly.purge(gd);\n",
              "            observer.disconnect();\n",
              "        }}\n",
              "}});\n",
              "\n",
              "// Listen for the removal of the full notebook cells\n",
              "var notebookContainer = gd.closest('#notebook-container');\n",
              "if (notebookContainer) {{\n",
              "    x.observe(notebookContainer, {childList: true});\n",
              "}}\n",
              "\n",
              "// Listen for the clearing of the current output cell\n",
              "var outputEl = gd.closest('.output');\n",
              "if (outputEl) {{\n",
              "    x.observe(outputEl, {childList: true});\n",
              "}}\n",
              "\n",
              "                        })                };                            </script>        </div>\n",
              "</body>\n",
              "</html>"
            ]
          },
          "metadata": {}
        }
      ]
    },
    {
      "cell_type": "markdown",
      "metadata": {
        "id": "SJaNm4rC5nWm"
      },
      "source": [
        "# Mental Illness and Police Killings\n",
        "\n",
        "What percentage of people killed by police have been diagnosed with a mental illness?"
      ]
    },
    {
      "cell_type": "code",
      "metadata": {
        "id": "dbuGvCnN5ytC",
        "colab": {
          "base_uri": "https://localhost:8080/"
        },
        "outputId": "7b3bc9c2-7428-43ad-cf61-d4f17452bcf0"
      },
      "source": [
        "print(f'percentage of people killed by police have been diagnosed with a mental illness: \\\n",
        "{df_fatalities[\"signs_of_mental_illness\"].value_counts()[1]/len(df_fatalities)*100}')"
      ],
      "execution_count": null,
      "outputs": [
        {
          "output_type": "stream",
          "name": "stdout",
          "text": [
            "percentage of people killed by police have been diagnosed with a mental illness: 24.970414201183434\n"
          ]
        }
      ]
    },
    {
      "cell_type": "markdown",
      "metadata": {
        "id": "R0WSPeKD5Cir"
      },
      "source": [
        "# In Which Cities Do the Most Police Killings Take Place?\n",
        "\n",
        "Create a chart ranking the top 10 cities with the most police killings. Which cities are the most dangerous?  "
      ]
    },
    {
      "cell_type": "code",
      "metadata": {
        "id": "NYVwo3qy5UV3"
      },
      "source": [
        "dangerous_cities = df_fatalities.groupby('city')['city'].count().sort_values(ascending=False)[:10]"
      ],
      "execution_count": null,
      "outputs": []
    },
    {
      "cell_type": "code",
      "metadata": {
        "id": "T_FU4GFk5Upa",
        "colab": {
          "base_uri": "https://localhost:8080/",
          "height": 417
        },
        "outputId": "7d63e93c-1fda-451d-9003-fea822f2746a"
      },
      "source": [
        "fig = px.bar(dangerous_cities, title=\"Most Dangerous Cities\", height=400, labels={'value':'Deaths'})\n",
        "fig.show()"
      ],
      "execution_count": null,
      "outputs": [
        {
          "output_type": "display_data",
          "data": {
            "text/html": [
              "<html>\n",
              "<head><meta charset=\"utf-8\" /></head>\n",
              "<body>\n",
              "    <div>            <script src=\"https://cdnjs.cloudflare.com/ajax/libs/mathjax/2.7.5/MathJax.js?config=TeX-AMS-MML_SVG\"></script><script type=\"text/javascript\">if (window.MathJax) {MathJax.Hub.Config({SVG: {font: \"STIX-Web\"}});}</script>                <script type=\"text/javascript\">window.PlotlyConfig = {MathJaxConfig: 'local'};</script>\n",
              "        <script src=\"https://cdn.plot.ly/plotly-2.8.3.min.js\"></script>                <div id=\"db6e16b4-f90e-49fb-9e23-311af36c285e\" class=\"plotly-graph-div\" style=\"height:400px; width:100%;\"></div>            <script type=\"text/javascript\">                                    window.PLOTLYENV=window.PLOTLYENV || {};                                    if (document.getElementById(\"db6e16b4-f90e-49fb-9e23-311af36c285e\")) {                    Plotly.newPlot(                        \"db6e16b4-f90e-49fb-9e23-311af36c285e\",                        [{\"alignmentgroup\":\"True\",\"hovertemplate\":\"variable=city<br>index=%{x}<br>Deaths=%{y}<extra></extra>\",\"legendgroup\":\"city\",\"marker\":{\"color\":\"#636efa\",\"pattern\":{\"shape\":\"\"}},\"name\":\"city\",\"offsetgroup\":\"city\",\"orientation\":\"v\",\"showlegend\":true,\"textposition\":\"auto\",\"x\":[\"Los Angeles\",\"Phoenix\",\"Houston\",\"Chicago\",\"Las Vegas\",\"San Antonio\",\"Columbus\",\"Miami\",\"Austin\",\"St. Louis\"],\"xaxis\":\"x\",\"y\":[39,31,27,25,21,20,19,18,18,15],\"yaxis\":\"y\",\"type\":\"bar\"}],                        {\"template\":{\"data\":{\"bar\":[{\"error_x\":{\"color\":\"#2a3f5f\"},\"error_y\":{\"color\":\"#2a3f5f\"},\"marker\":{\"line\":{\"color\":\"#E5ECF6\",\"width\":0.5},\"pattern\":{\"fillmode\":\"overlay\",\"size\":10,\"solidity\":0.2}},\"type\":\"bar\"}],\"barpolar\":[{\"marker\":{\"line\":{\"color\":\"#E5ECF6\",\"width\":0.5},\"pattern\":{\"fillmode\":\"overlay\",\"size\":10,\"solidity\":0.2}},\"type\":\"barpolar\"}],\"carpet\":[{\"aaxis\":{\"endlinecolor\":\"#2a3f5f\",\"gridcolor\":\"white\",\"linecolor\":\"white\",\"minorgridcolor\":\"white\",\"startlinecolor\":\"#2a3f5f\"},\"baxis\":{\"endlinecolor\":\"#2a3f5f\",\"gridcolor\":\"white\",\"linecolor\":\"white\",\"minorgridcolor\":\"white\",\"startlinecolor\":\"#2a3f5f\"},\"type\":\"carpet\"}],\"choropleth\":[{\"colorbar\":{\"outlinewidth\":0,\"ticks\":\"\"},\"type\":\"choropleth\"}],\"contour\":[{\"colorbar\":{\"outlinewidth\":0,\"ticks\":\"\"},\"colorscale\":[[0.0,\"#0d0887\"],[0.1111111111111111,\"#46039f\"],[0.2222222222222222,\"#7201a8\"],[0.3333333333333333,\"#9c179e\"],[0.4444444444444444,\"#bd3786\"],[0.5555555555555556,\"#d8576b\"],[0.6666666666666666,\"#ed7953\"],[0.7777777777777778,\"#fb9f3a\"],[0.8888888888888888,\"#fdca26\"],[1.0,\"#f0f921\"]],\"type\":\"contour\"}],\"contourcarpet\":[{\"colorbar\":{\"outlinewidth\":0,\"ticks\":\"\"},\"type\":\"contourcarpet\"}],\"heatmap\":[{\"colorbar\":{\"outlinewidth\":0,\"ticks\":\"\"},\"colorscale\":[[0.0,\"#0d0887\"],[0.1111111111111111,\"#46039f\"],[0.2222222222222222,\"#7201a8\"],[0.3333333333333333,\"#9c179e\"],[0.4444444444444444,\"#bd3786\"],[0.5555555555555556,\"#d8576b\"],[0.6666666666666666,\"#ed7953\"],[0.7777777777777778,\"#fb9f3a\"],[0.8888888888888888,\"#fdca26\"],[1.0,\"#f0f921\"]],\"type\":\"heatmap\"}],\"heatmapgl\":[{\"colorbar\":{\"outlinewidth\":0,\"ticks\":\"\"},\"colorscale\":[[0.0,\"#0d0887\"],[0.1111111111111111,\"#46039f\"],[0.2222222222222222,\"#7201a8\"],[0.3333333333333333,\"#9c179e\"],[0.4444444444444444,\"#bd3786\"],[0.5555555555555556,\"#d8576b\"],[0.6666666666666666,\"#ed7953\"],[0.7777777777777778,\"#fb9f3a\"],[0.8888888888888888,\"#fdca26\"],[1.0,\"#f0f921\"]],\"type\":\"heatmapgl\"}],\"histogram\":[{\"marker\":{\"pattern\":{\"fillmode\":\"overlay\",\"size\":10,\"solidity\":0.2}},\"type\":\"histogram\"}],\"histogram2d\":[{\"colorbar\":{\"outlinewidth\":0,\"ticks\":\"\"},\"colorscale\":[[0.0,\"#0d0887\"],[0.1111111111111111,\"#46039f\"],[0.2222222222222222,\"#7201a8\"],[0.3333333333333333,\"#9c179e\"],[0.4444444444444444,\"#bd3786\"],[0.5555555555555556,\"#d8576b\"],[0.6666666666666666,\"#ed7953\"],[0.7777777777777778,\"#fb9f3a\"],[0.8888888888888888,\"#fdca26\"],[1.0,\"#f0f921\"]],\"type\":\"histogram2d\"}],\"histogram2dcontour\":[{\"colorbar\":{\"outlinewidth\":0,\"ticks\":\"\"},\"colorscale\":[[0.0,\"#0d0887\"],[0.1111111111111111,\"#46039f\"],[0.2222222222222222,\"#7201a8\"],[0.3333333333333333,\"#9c179e\"],[0.4444444444444444,\"#bd3786\"],[0.5555555555555556,\"#d8576b\"],[0.6666666666666666,\"#ed7953\"],[0.7777777777777778,\"#fb9f3a\"],[0.8888888888888888,\"#fdca26\"],[1.0,\"#f0f921\"]],\"type\":\"histogram2dcontour\"}],\"mesh3d\":[{\"colorbar\":{\"outlinewidth\":0,\"ticks\":\"\"},\"type\":\"mesh3d\"}],\"parcoords\":[{\"line\":{\"colorbar\":{\"outlinewidth\":0,\"ticks\":\"\"}},\"type\":\"parcoords\"}],\"pie\":[{\"automargin\":true,\"type\":\"pie\"}],\"scatter\":[{\"marker\":{\"colorbar\":{\"outlinewidth\":0,\"ticks\":\"\"}},\"type\":\"scatter\"}],\"scatter3d\":[{\"line\":{\"colorbar\":{\"outlinewidth\":0,\"ticks\":\"\"}},\"marker\":{\"colorbar\":{\"outlinewidth\":0,\"ticks\":\"\"}},\"type\":\"scatter3d\"}],\"scattercarpet\":[{\"marker\":{\"colorbar\":{\"outlinewidth\":0,\"ticks\":\"\"}},\"type\":\"scattercarpet\"}],\"scattergeo\":[{\"marker\":{\"colorbar\":{\"outlinewidth\":0,\"ticks\":\"\"}},\"type\":\"scattergeo\"}],\"scattergl\":[{\"marker\":{\"colorbar\":{\"outlinewidth\":0,\"ticks\":\"\"}},\"type\":\"scattergl\"}],\"scattermapbox\":[{\"marker\":{\"colorbar\":{\"outlinewidth\":0,\"ticks\":\"\"}},\"type\":\"scattermapbox\"}],\"scatterpolar\":[{\"marker\":{\"colorbar\":{\"outlinewidth\":0,\"ticks\":\"\"}},\"type\":\"scatterpolar\"}],\"scatterpolargl\":[{\"marker\":{\"colorbar\":{\"outlinewidth\":0,\"ticks\":\"\"}},\"type\":\"scatterpolargl\"}],\"scatterternary\":[{\"marker\":{\"colorbar\":{\"outlinewidth\":0,\"ticks\":\"\"}},\"type\":\"scatterternary\"}],\"surface\":[{\"colorbar\":{\"outlinewidth\":0,\"ticks\":\"\"},\"colorscale\":[[0.0,\"#0d0887\"],[0.1111111111111111,\"#46039f\"],[0.2222222222222222,\"#7201a8\"],[0.3333333333333333,\"#9c179e\"],[0.4444444444444444,\"#bd3786\"],[0.5555555555555556,\"#d8576b\"],[0.6666666666666666,\"#ed7953\"],[0.7777777777777778,\"#fb9f3a\"],[0.8888888888888888,\"#fdca26\"],[1.0,\"#f0f921\"]],\"type\":\"surface\"}],\"table\":[{\"cells\":{\"fill\":{\"color\":\"#EBF0F8\"},\"line\":{\"color\":\"white\"}},\"header\":{\"fill\":{\"color\":\"#C8D4E3\"},\"line\":{\"color\":\"white\"}},\"type\":\"table\"}]},\"layout\":{\"annotationdefaults\":{\"arrowcolor\":\"#2a3f5f\",\"arrowhead\":0,\"arrowwidth\":1},\"autotypenumbers\":\"strict\",\"coloraxis\":{\"colorbar\":{\"outlinewidth\":0,\"ticks\":\"\"}},\"colorscale\":{\"diverging\":[[0,\"#8e0152\"],[0.1,\"#c51b7d\"],[0.2,\"#de77ae\"],[0.3,\"#f1b6da\"],[0.4,\"#fde0ef\"],[0.5,\"#f7f7f7\"],[0.6,\"#e6f5d0\"],[0.7,\"#b8e186\"],[0.8,\"#7fbc41\"],[0.9,\"#4d9221\"],[1,\"#276419\"]],\"sequential\":[[0.0,\"#0d0887\"],[0.1111111111111111,\"#46039f\"],[0.2222222222222222,\"#7201a8\"],[0.3333333333333333,\"#9c179e\"],[0.4444444444444444,\"#bd3786\"],[0.5555555555555556,\"#d8576b\"],[0.6666666666666666,\"#ed7953\"],[0.7777777777777778,\"#fb9f3a\"],[0.8888888888888888,\"#fdca26\"],[1.0,\"#f0f921\"]],\"sequentialminus\":[[0.0,\"#0d0887\"],[0.1111111111111111,\"#46039f\"],[0.2222222222222222,\"#7201a8\"],[0.3333333333333333,\"#9c179e\"],[0.4444444444444444,\"#bd3786\"],[0.5555555555555556,\"#d8576b\"],[0.6666666666666666,\"#ed7953\"],[0.7777777777777778,\"#fb9f3a\"],[0.8888888888888888,\"#fdca26\"],[1.0,\"#f0f921\"]]},\"colorway\":[\"#636efa\",\"#EF553B\",\"#00cc96\",\"#ab63fa\",\"#FFA15A\",\"#19d3f3\",\"#FF6692\",\"#B6E880\",\"#FF97FF\",\"#FECB52\"],\"font\":{\"color\":\"#2a3f5f\"},\"geo\":{\"bgcolor\":\"white\",\"lakecolor\":\"white\",\"landcolor\":\"#E5ECF6\",\"showlakes\":true,\"showland\":true,\"subunitcolor\":\"white\"},\"hoverlabel\":{\"align\":\"left\"},\"hovermode\":\"closest\",\"mapbox\":{\"style\":\"light\"},\"paper_bgcolor\":\"white\",\"plot_bgcolor\":\"#E5ECF6\",\"polar\":{\"angularaxis\":{\"gridcolor\":\"white\",\"linecolor\":\"white\",\"ticks\":\"\"},\"bgcolor\":\"#E5ECF6\",\"radialaxis\":{\"gridcolor\":\"white\",\"linecolor\":\"white\",\"ticks\":\"\"}},\"scene\":{\"xaxis\":{\"backgroundcolor\":\"#E5ECF6\",\"gridcolor\":\"white\",\"gridwidth\":2,\"linecolor\":\"white\",\"showbackground\":true,\"ticks\":\"\",\"zerolinecolor\":\"white\"},\"yaxis\":{\"backgroundcolor\":\"#E5ECF6\",\"gridcolor\":\"white\",\"gridwidth\":2,\"linecolor\":\"white\",\"showbackground\":true,\"ticks\":\"\",\"zerolinecolor\":\"white\"},\"zaxis\":{\"backgroundcolor\":\"#E5ECF6\",\"gridcolor\":\"white\",\"gridwidth\":2,\"linecolor\":\"white\",\"showbackground\":true,\"ticks\":\"\",\"zerolinecolor\":\"white\"}},\"shapedefaults\":{\"line\":{\"color\":\"#2a3f5f\"}},\"ternary\":{\"aaxis\":{\"gridcolor\":\"white\",\"linecolor\":\"white\",\"ticks\":\"\"},\"baxis\":{\"gridcolor\":\"white\",\"linecolor\":\"white\",\"ticks\":\"\"},\"bgcolor\":\"#E5ECF6\",\"caxis\":{\"gridcolor\":\"white\",\"linecolor\":\"white\",\"ticks\":\"\"}},\"title\":{\"x\":0.05},\"xaxis\":{\"automargin\":true,\"gridcolor\":\"white\",\"linecolor\":\"white\",\"ticks\":\"\",\"title\":{\"standoff\":15},\"zerolinecolor\":\"white\",\"zerolinewidth\":2},\"yaxis\":{\"automargin\":true,\"gridcolor\":\"white\",\"linecolor\":\"white\",\"ticks\":\"\",\"title\":{\"standoff\":15},\"zerolinecolor\":\"white\",\"zerolinewidth\":2}}},\"xaxis\":{\"anchor\":\"y\",\"domain\":[0.0,1.0],\"title\":{\"text\":\"index\"}},\"yaxis\":{\"anchor\":\"x\",\"domain\":[0.0,1.0],\"title\":{\"text\":\"Deaths\"}},\"legend\":{\"title\":{\"text\":\"variable\"},\"tracegroupgap\":0},\"title\":{\"text\":\"Most Dangerous Cities\"},\"barmode\":\"relative\",\"height\":400},                        {\"responsive\": true}                    ).then(function(){\n",
              "                            \n",
              "var gd = document.getElementById('db6e16b4-f90e-49fb-9e23-311af36c285e');\n",
              "var x = new MutationObserver(function (mutations, observer) {{\n",
              "        var display = window.getComputedStyle(gd).display;\n",
              "        if (!display || display === 'none') {{\n",
              "            console.log([gd, 'removed!']);\n",
              "            Plotly.purge(gd);\n",
              "            observer.disconnect();\n",
              "        }}\n",
              "}});\n",
              "\n",
              "// Listen for the removal of the full notebook cells\n",
              "var notebookContainer = gd.closest('#notebook-container');\n",
              "if (notebookContainer) {{\n",
              "    x.observe(notebookContainer, {childList: true});\n",
              "}}\n",
              "\n",
              "// Listen for the clearing of the current output cell\n",
              "var outputEl = gd.closest('.output');\n",
              "if (outputEl) {{\n",
              "    x.observe(outputEl, {childList: true});\n",
              "}}\n",
              "\n",
              "                        })                };                            </script>        </div>\n",
              "</body>\n",
              "</html>"
            ]
          },
          "metadata": {}
        }
      ]
    },
    {
      "cell_type": "markdown",
      "metadata": {
        "id": "AqcOW6ca8JMD"
      },
      "source": [
        "# Rate of Death by Race\n",
        "\n",
        "Find the share of each race in the top 10 cities. Contrast this with the top 10 cities of police killings to work out the rate at which people are killed by race for each city."
      ]
    },
    {
      "cell_type": "code",
      "source": [
        "df_fatalities.head()"
      ],
      "metadata": {
        "colab": {
          "base_uri": "https://localhost:8080/",
          "height": 337
        },
        "id": "JstF_hlgjdQo",
        "outputId": "5225f51c-3628-4bb0-c2de-b82e96202080"
      },
      "execution_count": null,
      "outputs": [
        {
          "output_type": "execute_result",
          "data": {
            "text/plain": [
              "   id                name      date   manner_of_death       armed   age  \\\n",
              "0   3          Tim Elliot  02/01/15              shot         gun 53.00   \n",
              "1   4    Lewis Lee Lembke  02/01/15              shot         gun 47.00   \n",
              "2   5  John Paul Quintero  03/01/15  shot and Tasered     unarmed 23.00   \n",
              "3   8     Matthew Hoffman  04/01/15              shot  toy weapon 32.00   \n",
              "4   9   Michael Rodriguez  04/01/15              shot    nail gun 39.00   \n",
              "\n",
              "  gender race           city state  signs_of_mental_illness threat_level  \\\n",
              "0      M    A        Shelton    WA                     True       attack   \n",
              "1      M    W          Aloha    OR                    False       attack   \n",
              "2      M    H        Wichita    KS                    False        other   \n",
              "3      M    W  San Francisco    CA                     True       attack   \n",
              "4      M    H          Evans    CO                    False       attack   \n",
              "\n",
              "          flee  body_camera  \n",
              "0  Not fleeing        False  \n",
              "1  Not fleeing        False  \n",
              "2  Not fleeing        False  \n",
              "3  Not fleeing        False  \n",
              "4  Not fleeing        False  "
            ],
            "text/html": [
              "\n",
              "  <div id=\"df-46744700-ab37-478b-8880-d601fe9c3216\">\n",
              "    <div class=\"colab-df-container\">\n",
              "      <div>\n",
              "<style scoped>\n",
              "    .dataframe tbody tr th:only-of-type {\n",
              "        vertical-align: middle;\n",
              "    }\n",
              "\n",
              "    .dataframe tbody tr th {\n",
              "        vertical-align: top;\n",
              "    }\n",
              "\n",
              "    .dataframe thead th {\n",
              "        text-align: right;\n",
              "    }\n",
              "</style>\n",
              "<table border=\"1\" class=\"dataframe\">\n",
              "  <thead>\n",
              "    <tr style=\"text-align: right;\">\n",
              "      <th></th>\n",
              "      <th>id</th>\n",
              "      <th>name</th>\n",
              "      <th>date</th>\n",
              "      <th>manner_of_death</th>\n",
              "      <th>armed</th>\n",
              "      <th>age</th>\n",
              "      <th>gender</th>\n",
              "      <th>race</th>\n",
              "      <th>city</th>\n",
              "      <th>state</th>\n",
              "      <th>signs_of_mental_illness</th>\n",
              "      <th>threat_level</th>\n",
              "      <th>flee</th>\n",
              "      <th>body_camera</th>\n",
              "    </tr>\n",
              "  </thead>\n",
              "  <tbody>\n",
              "    <tr>\n",
              "      <th>0</th>\n",
              "      <td>3</td>\n",
              "      <td>Tim Elliot</td>\n",
              "      <td>02/01/15</td>\n",
              "      <td>shot</td>\n",
              "      <td>gun</td>\n",
              "      <td>53.00</td>\n",
              "      <td>M</td>\n",
              "      <td>A</td>\n",
              "      <td>Shelton</td>\n",
              "      <td>WA</td>\n",
              "      <td>True</td>\n",
              "      <td>attack</td>\n",
              "      <td>Not fleeing</td>\n",
              "      <td>False</td>\n",
              "    </tr>\n",
              "    <tr>\n",
              "      <th>1</th>\n",
              "      <td>4</td>\n",
              "      <td>Lewis Lee Lembke</td>\n",
              "      <td>02/01/15</td>\n",
              "      <td>shot</td>\n",
              "      <td>gun</td>\n",
              "      <td>47.00</td>\n",
              "      <td>M</td>\n",
              "      <td>W</td>\n",
              "      <td>Aloha</td>\n",
              "      <td>OR</td>\n",
              "      <td>False</td>\n",
              "      <td>attack</td>\n",
              "      <td>Not fleeing</td>\n",
              "      <td>False</td>\n",
              "    </tr>\n",
              "    <tr>\n",
              "      <th>2</th>\n",
              "      <td>5</td>\n",
              "      <td>John Paul Quintero</td>\n",
              "      <td>03/01/15</td>\n",
              "      <td>shot and Tasered</td>\n",
              "      <td>unarmed</td>\n",
              "      <td>23.00</td>\n",
              "      <td>M</td>\n",
              "      <td>H</td>\n",
              "      <td>Wichita</td>\n",
              "      <td>KS</td>\n",
              "      <td>False</td>\n",
              "      <td>other</td>\n",
              "      <td>Not fleeing</td>\n",
              "      <td>False</td>\n",
              "    </tr>\n",
              "    <tr>\n",
              "      <th>3</th>\n",
              "      <td>8</td>\n",
              "      <td>Matthew Hoffman</td>\n",
              "      <td>04/01/15</td>\n",
              "      <td>shot</td>\n",
              "      <td>toy weapon</td>\n",
              "      <td>32.00</td>\n",
              "      <td>M</td>\n",
              "      <td>W</td>\n",
              "      <td>San Francisco</td>\n",
              "      <td>CA</td>\n",
              "      <td>True</td>\n",
              "      <td>attack</td>\n",
              "      <td>Not fleeing</td>\n",
              "      <td>False</td>\n",
              "    </tr>\n",
              "    <tr>\n",
              "      <th>4</th>\n",
              "      <td>9</td>\n",
              "      <td>Michael Rodriguez</td>\n",
              "      <td>04/01/15</td>\n",
              "      <td>shot</td>\n",
              "      <td>nail gun</td>\n",
              "      <td>39.00</td>\n",
              "      <td>M</td>\n",
              "      <td>H</td>\n",
              "      <td>Evans</td>\n",
              "      <td>CO</td>\n",
              "      <td>False</td>\n",
              "      <td>attack</td>\n",
              "      <td>Not fleeing</td>\n",
              "      <td>False</td>\n",
              "    </tr>\n",
              "  </tbody>\n",
              "</table>\n",
              "</div>\n",
              "      <button class=\"colab-df-convert\" onclick=\"convertToInteractive('df-46744700-ab37-478b-8880-d601fe9c3216')\"\n",
              "              title=\"Convert this dataframe to an interactive table.\"\n",
              "              style=\"display:none;\">\n",
              "        \n",
              "  <svg xmlns=\"http://www.w3.org/2000/svg\" height=\"24px\"viewBox=\"0 0 24 24\"\n",
              "       width=\"24px\">\n",
              "    <path d=\"M0 0h24v24H0V0z\" fill=\"none\"/>\n",
              "    <path d=\"M18.56 5.44l.94 2.06.94-2.06 2.06-.94-2.06-.94-.94-2.06-.94 2.06-2.06.94zm-11 1L8.5 8.5l.94-2.06 2.06-.94-2.06-.94L8.5 2.5l-.94 2.06-2.06.94zm10 10l.94 2.06.94-2.06 2.06-.94-2.06-.94-.94-2.06-.94 2.06-2.06.94z\"/><path d=\"M17.41 7.96l-1.37-1.37c-.4-.4-.92-.59-1.43-.59-.52 0-1.04.2-1.43.59L10.3 9.45l-7.72 7.72c-.78.78-.78 2.05 0 2.83L4 21.41c.39.39.9.59 1.41.59.51 0 1.02-.2 1.41-.59l7.78-7.78 2.81-2.81c.8-.78.8-2.07 0-2.86zM5.41 20L4 18.59l7.72-7.72 1.47 1.35L5.41 20z\"/>\n",
              "  </svg>\n",
              "      </button>\n",
              "      \n",
              "  <style>\n",
              "    .colab-df-container {\n",
              "      display:flex;\n",
              "      flex-wrap:wrap;\n",
              "      gap: 12px;\n",
              "    }\n",
              "\n",
              "    .colab-df-convert {\n",
              "      background-color: #E8F0FE;\n",
              "      border: none;\n",
              "      border-radius: 50%;\n",
              "      cursor: pointer;\n",
              "      display: none;\n",
              "      fill: #1967D2;\n",
              "      height: 32px;\n",
              "      padding: 0 0 0 0;\n",
              "      width: 32px;\n",
              "    }\n",
              "\n",
              "    .colab-df-convert:hover {\n",
              "      background-color: #E2EBFA;\n",
              "      box-shadow: 0px 1px 2px rgba(60, 64, 67, 0.3), 0px 1px 3px 1px rgba(60, 64, 67, 0.15);\n",
              "      fill: #174EA6;\n",
              "    }\n",
              "\n",
              "    [theme=dark] .colab-df-convert {\n",
              "      background-color: #3B4455;\n",
              "      fill: #D2E3FC;\n",
              "    }\n",
              "\n",
              "    [theme=dark] .colab-df-convert:hover {\n",
              "      background-color: #434B5C;\n",
              "      box-shadow: 0px 1px 3px 1px rgba(0, 0, 0, 0.15);\n",
              "      filter: drop-shadow(0px 1px 2px rgba(0, 0, 0, 0.3));\n",
              "      fill: #FFFFFF;\n",
              "    }\n",
              "  </style>\n",
              "\n",
              "      <script>\n",
              "        const buttonEl =\n",
              "          document.querySelector('#df-46744700-ab37-478b-8880-d601fe9c3216 button.colab-df-convert');\n",
              "        buttonEl.style.display =\n",
              "          google.colab.kernel.accessAllowed ? 'block' : 'none';\n",
              "\n",
              "        async function convertToInteractive(key) {\n",
              "          const element = document.querySelector('#df-46744700-ab37-478b-8880-d601fe9c3216');\n",
              "          const dataTable =\n",
              "            await google.colab.kernel.invokeFunction('convertToInteractive',\n",
              "                                                     [key], {});\n",
              "          if (!dataTable) return;\n",
              "\n",
              "          const docLinkHtml = 'Like what you see? Visit the ' +\n",
              "            '<a target=\"_blank\" href=https://colab.research.google.com/notebooks/data_table.ipynb>data table notebook</a>'\n",
              "            + ' to learn more about interactive tables.';\n",
              "          element.innerHTML = '';\n",
              "          dataTable['output_type'] = 'display_data';\n",
              "          await google.colab.output.renderOutput(dataTable, element);\n",
              "          const docLink = document.createElement('div');\n",
              "          docLink.innerHTML = docLinkHtml;\n",
              "          element.appendChild(docLink);\n",
              "        }\n",
              "      </script>\n",
              "    </div>\n",
              "  </div>\n",
              "  "
            ]
          },
          "metadata": {},
          "execution_count": 40
        }
      ]
    },
    {
      "cell_type": "code",
      "source": [
        "dangerous_cities_w_states = df_fatalities.groupby(['city']).agg({'id':'count', 'state': 'first'}).sort_values(by='id', ascending=False)[:10]"
      ],
      "metadata": {
        "id": "J4n72dZnd7pw"
      },
      "execution_count": null,
      "outputs": []
    },
    {
      "cell_type": "code",
      "source": [
        "dangerous_cities_w_states.loc[dangerous_cities_w_states.index == \"Las Vegas\", \"state\"].iloc[0]"
      ],
      "metadata": {
        "colab": {
          "base_uri": "https://localhost:8080/",
          "height": 35
        },
        "id": "1e-SXlqIl6T3",
        "outputId": "938bc9a8-7039-4a98-8dc2-da32a45c2037"
      },
      "execution_count": null,
      "outputs": [
        {
          "output_type": "execute_result",
          "data": {
            "text/plain": [
              "'NV'"
            ],
            "application/vnd.google.colaboratory.intrinsic+json": {
              "type": "string"
            }
          },
          "metadata": {},
          "execution_count": 85
        }
      ]
    },
    {
      "cell_type": "code",
      "source": [
        "list_of_indexes = []\n",
        "for city in dangerous_cities_w_states.index:\n",
        "  city_to_find = f'{city} city'\n",
        "  state = dangerous_cities_w_states.loc[dangerous_cities_w_states.index == city, \"state\"].iloc[0]\n",
        "  list_of_indexes.append(df_share_race_city[(df_share_race_city['City'] == city_to_find) &\n",
        "                                            (df_share_race_city['Geographic area'] == state)].index[0])\n",
        "top_10_cities_races = df_share_race_city.iloc[list_of_indexes]\n"
      ],
      "metadata": {
        "id": "11_dtgAKq8qj"
      },
      "execution_count": null,
      "outputs": []
    },
    {
      "cell_type": "code",
      "source": [
        "cols = ['share_white','share_black','share_native_american','share_asian','share_hispanic']\n",
        "for col in cols:\n",
        "  top_10_cities_races[col] = top_10_cities_races[col].astype(float)"
      ],
      "metadata": {
        "id": "k0Y4nsBC2onr"
      },
      "execution_count": null,
      "outputs": []
    },
    {
      "cell_type": "code",
      "source": [
        "top_10_cities_races['total'] = top_10_cities_races.sum(axis=1)"
      ],
      "metadata": {
        "id": "notspK98g7iA"
      },
      "execution_count": null,
      "outputs": []
    },
    {
      "cell_type": "code",
      "source": [
        "for col in cols:\n",
        "  top_10_cities_races[col] = top_10_cities_races[col]/top_10_cities_races['total']\n",
        "top_10_cities_races"
      ],
      "metadata": {
        "colab": {
          "base_uri": "https://localhost:8080/",
          "height": 506
        },
        "id": "dAhGq8VR3Wal",
        "outputId": "c844088a-2b6d-41c8-a647-f22a986fd9dc"
      },
      "execution_count": null,
      "outputs": [
        {
          "output_type": "stream",
          "name": "stderr",
          "text": [
            "<ipython-input-145-e130ab1b8c72>:2: SettingWithCopyWarning:\n",
            "\n",
            "\n",
            "A value is trying to be set on a copy of a slice from a DataFrame.\n",
            "Try using .loc[row_indexer,col_indexer] = value instead\n",
            "\n",
            "See the caveats in the documentation: https://pandas.pydata.org/pandas-docs/stable/user_guide/indexing.html#returning-a-view-versus-a-copy\n",
            "\n"
          ]
        },
        {
          "output_type": "execute_result",
          "data": {
            "text/plain": [
              "      Geographic area              City  share_white  share_black  \\\n",
              "2714               CA  Los Angeles city         0.42         0.08   \n",
              "1201               AZ      Phoenix city         0.56         0.05   \n",
              "25157              TX      Houston city         0.40         0.19   \n",
              "6278               IL      Chicago city         0.40         0.29   \n",
              "15666              NV    Las Vegas city         0.56         0.10   \n",
              "25872              TX  San Antonio city         0.50         0.05   \n",
              "19379              OH     Columbus city         0.62         0.28   \n",
              "4633               FL        Miami city         0.45         0.12   \n",
              "24543              TX       Austin city         0.58         0.07   \n",
              "14472              MO    St. Louis city         0.44         0.49   \n",
              "\n",
              "       share_native_american  share_asian  share_hispanic  total  \n",
              "2714                    0.01         0.09            0.40 119.90  \n",
              "1201                    0.02         0.03            0.34 118.60  \n",
              "25157                   0.01         0.05            0.35 124.70  \n",
              "6278                    0.00         0.05            0.26 112.80  \n",
              "15666                   0.01         0.05            0.28 111.50  \n",
              "25872                   0.01         0.02            0.43 146.00  \n",
              "19379                   0.00         0.04            0.06  99.50  \n",
              "4633                    0.00         0.01            0.43 163.10  \n",
              "24543                   0.01         0.05            0.30 118.70  \n",
              "14472                   0.00         0.03            0.04  99.80  "
            ],
            "text/html": [
              "\n",
              "  <div id=\"df-75772924-b282-4858-a6f5-e97575912f64\">\n",
              "    <div class=\"colab-df-container\">\n",
              "      <div>\n",
              "<style scoped>\n",
              "    .dataframe tbody tr th:only-of-type {\n",
              "        vertical-align: middle;\n",
              "    }\n",
              "\n",
              "    .dataframe tbody tr th {\n",
              "        vertical-align: top;\n",
              "    }\n",
              "\n",
              "    .dataframe thead th {\n",
              "        text-align: right;\n",
              "    }\n",
              "</style>\n",
              "<table border=\"1\" class=\"dataframe\">\n",
              "  <thead>\n",
              "    <tr style=\"text-align: right;\">\n",
              "      <th></th>\n",
              "      <th>Geographic area</th>\n",
              "      <th>City</th>\n",
              "      <th>share_white</th>\n",
              "      <th>share_black</th>\n",
              "      <th>share_native_american</th>\n",
              "      <th>share_asian</th>\n",
              "      <th>share_hispanic</th>\n",
              "      <th>total</th>\n",
              "    </tr>\n",
              "  </thead>\n",
              "  <tbody>\n",
              "    <tr>\n",
              "      <th>2714</th>\n",
              "      <td>CA</td>\n",
              "      <td>Los Angeles city</td>\n",
              "      <td>0.42</td>\n",
              "      <td>0.08</td>\n",
              "      <td>0.01</td>\n",
              "      <td>0.09</td>\n",
              "      <td>0.40</td>\n",
              "      <td>119.90</td>\n",
              "    </tr>\n",
              "    <tr>\n",
              "      <th>1201</th>\n",
              "      <td>AZ</td>\n",
              "      <td>Phoenix city</td>\n",
              "      <td>0.56</td>\n",
              "      <td>0.05</td>\n",
              "      <td>0.02</td>\n",
              "      <td>0.03</td>\n",
              "      <td>0.34</td>\n",
              "      <td>118.60</td>\n",
              "    </tr>\n",
              "    <tr>\n",
              "      <th>25157</th>\n",
              "      <td>TX</td>\n",
              "      <td>Houston city</td>\n",
              "      <td>0.40</td>\n",
              "      <td>0.19</td>\n",
              "      <td>0.01</td>\n",
              "      <td>0.05</td>\n",
              "      <td>0.35</td>\n",
              "      <td>124.70</td>\n",
              "    </tr>\n",
              "    <tr>\n",
              "      <th>6278</th>\n",
              "      <td>IL</td>\n",
              "      <td>Chicago city</td>\n",
              "      <td>0.40</td>\n",
              "      <td>0.29</td>\n",
              "      <td>0.00</td>\n",
              "      <td>0.05</td>\n",
              "      <td>0.26</td>\n",
              "      <td>112.80</td>\n",
              "    </tr>\n",
              "    <tr>\n",
              "      <th>15666</th>\n",
              "      <td>NV</td>\n",
              "      <td>Las Vegas city</td>\n",
              "      <td>0.56</td>\n",
              "      <td>0.10</td>\n",
              "      <td>0.01</td>\n",
              "      <td>0.05</td>\n",
              "      <td>0.28</td>\n",
              "      <td>111.50</td>\n",
              "    </tr>\n",
              "    <tr>\n",
              "      <th>25872</th>\n",
              "      <td>TX</td>\n",
              "      <td>San Antonio city</td>\n",
              "      <td>0.50</td>\n",
              "      <td>0.05</td>\n",
              "      <td>0.01</td>\n",
              "      <td>0.02</td>\n",
              "      <td>0.43</td>\n",
              "      <td>146.00</td>\n",
              "    </tr>\n",
              "    <tr>\n",
              "      <th>19379</th>\n",
              "      <td>OH</td>\n",
              "      <td>Columbus city</td>\n",
              "      <td>0.62</td>\n",
              "      <td>0.28</td>\n",
              "      <td>0.00</td>\n",
              "      <td>0.04</td>\n",
              "      <td>0.06</td>\n",
              "      <td>99.50</td>\n",
              "    </tr>\n",
              "    <tr>\n",
              "      <th>4633</th>\n",
              "      <td>FL</td>\n",
              "      <td>Miami city</td>\n",
              "      <td>0.45</td>\n",
              "      <td>0.12</td>\n",
              "      <td>0.00</td>\n",
              "      <td>0.01</td>\n",
              "      <td>0.43</td>\n",
              "      <td>163.10</td>\n",
              "    </tr>\n",
              "    <tr>\n",
              "      <th>24543</th>\n",
              "      <td>TX</td>\n",
              "      <td>Austin city</td>\n",
              "      <td>0.58</td>\n",
              "      <td>0.07</td>\n",
              "      <td>0.01</td>\n",
              "      <td>0.05</td>\n",
              "      <td>0.30</td>\n",
              "      <td>118.70</td>\n",
              "    </tr>\n",
              "    <tr>\n",
              "      <th>14472</th>\n",
              "      <td>MO</td>\n",
              "      <td>St. Louis city</td>\n",
              "      <td>0.44</td>\n",
              "      <td>0.49</td>\n",
              "      <td>0.00</td>\n",
              "      <td>0.03</td>\n",
              "      <td>0.04</td>\n",
              "      <td>99.80</td>\n",
              "    </tr>\n",
              "  </tbody>\n",
              "</table>\n",
              "</div>\n",
              "      <button class=\"colab-df-convert\" onclick=\"convertToInteractive('df-75772924-b282-4858-a6f5-e97575912f64')\"\n",
              "              title=\"Convert this dataframe to an interactive table.\"\n",
              "              style=\"display:none;\">\n",
              "        \n",
              "  <svg xmlns=\"http://www.w3.org/2000/svg\" height=\"24px\"viewBox=\"0 0 24 24\"\n",
              "       width=\"24px\">\n",
              "    <path d=\"M0 0h24v24H0V0z\" fill=\"none\"/>\n",
              "    <path d=\"M18.56 5.44l.94 2.06.94-2.06 2.06-.94-2.06-.94-.94-2.06-.94 2.06-2.06.94zm-11 1L8.5 8.5l.94-2.06 2.06-.94-2.06-.94L8.5 2.5l-.94 2.06-2.06.94zm10 10l.94 2.06.94-2.06 2.06-.94-2.06-.94-.94-2.06-.94 2.06-2.06.94z\"/><path d=\"M17.41 7.96l-1.37-1.37c-.4-.4-.92-.59-1.43-.59-.52 0-1.04.2-1.43.59L10.3 9.45l-7.72 7.72c-.78.78-.78 2.05 0 2.83L4 21.41c.39.39.9.59 1.41.59.51 0 1.02-.2 1.41-.59l7.78-7.78 2.81-2.81c.8-.78.8-2.07 0-2.86zM5.41 20L4 18.59l7.72-7.72 1.47 1.35L5.41 20z\"/>\n",
              "  </svg>\n",
              "      </button>\n",
              "      \n",
              "  <style>\n",
              "    .colab-df-container {\n",
              "      display:flex;\n",
              "      flex-wrap:wrap;\n",
              "      gap: 12px;\n",
              "    }\n",
              "\n",
              "    .colab-df-convert {\n",
              "      background-color: #E8F0FE;\n",
              "      border: none;\n",
              "      border-radius: 50%;\n",
              "      cursor: pointer;\n",
              "      display: none;\n",
              "      fill: #1967D2;\n",
              "      height: 32px;\n",
              "      padding: 0 0 0 0;\n",
              "      width: 32px;\n",
              "    }\n",
              "\n",
              "    .colab-df-convert:hover {\n",
              "      background-color: #E2EBFA;\n",
              "      box-shadow: 0px 1px 2px rgba(60, 64, 67, 0.3), 0px 1px 3px 1px rgba(60, 64, 67, 0.15);\n",
              "      fill: #174EA6;\n",
              "    }\n",
              "\n",
              "    [theme=dark] .colab-df-convert {\n",
              "      background-color: #3B4455;\n",
              "      fill: #D2E3FC;\n",
              "    }\n",
              "\n",
              "    [theme=dark] .colab-df-convert:hover {\n",
              "      background-color: #434B5C;\n",
              "      box-shadow: 0px 1px 3px 1px rgba(0, 0, 0, 0.15);\n",
              "      filter: drop-shadow(0px 1px 2px rgba(0, 0, 0, 0.3));\n",
              "      fill: #FFFFFF;\n",
              "    }\n",
              "  </style>\n",
              "\n",
              "      <script>\n",
              "        const buttonEl =\n",
              "          document.querySelector('#df-75772924-b282-4858-a6f5-e97575912f64 button.colab-df-convert');\n",
              "        buttonEl.style.display =\n",
              "          google.colab.kernel.accessAllowed ? 'block' : 'none';\n",
              "\n",
              "        async function convertToInteractive(key) {\n",
              "          const element = document.querySelector('#df-75772924-b282-4858-a6f5-e97575912f64');\n",
              "          const dataTable =\n",
              "            await google.colab.kernel.invokeFunction('convertToInteractive',\n",
              "                                                     [key], {});\n",
              "          if (!dataTable) return;\n",
              "\n",
              "          const docLinkHtml = 'Like what you see? Visit the ' +\n",
              "            '<a target=\"_blank\" href=https://colab.research.google.com/notebooks/data_table.ipynb>data table notebook</a>'\n",
              "            + ' to learn more about interactive tables.';\n",
              "          element.innerHTML = '';\n",
              "          dataTable['output_type'] = 'display_data';\n",
              "          await google.colab.output.renderOutput(dataTable, element);\n",
              "          const docLink = document.createElement('div');\n",
              "          docLink.innerHTML = docLinkHtml;\n",
              "          element.appendChild(docLink);\n",
              "        }\n",
              "      </script>\n",
              "    </div>\n",
              "  </div>\n",
              "  "
            ]
          },
          "metadata": {},
          "execution_count": 145
        }
      ]
    },
    {
      "cell_type": "code",
      "source": [
        "top_10_cities_races.drop(['Geographic area', 'total'], axis=1, inplace=True)"
      ],
      "metadata": {
        "colab": {
          "base_uri": "https://localhost:8080/"
        },
        "id": "tQm1oW735GTi",
        "outputId": "d3182c81-643d-4f04-90ee-d33ae1230a86"
      },
      "execution_count": null,
      "outputs": [
        {
          "output_type": "stream",
          "name": "stderr",
          "text": [
            "/usr/local/lib/python3.8/dist-packages/pandas/core/frame.py:4906: SettingWithCopyWarning:\n",
            "\n",
            "\n",
            "A value is trying to be set on a copy of a slice from a DataFrame\n",
            "\n",
            "See the caveats in the documentation: https://pandas.pydata.org/pandas-docs/stable/user_guide/indexing.html#returning-a-view-versus-a-copy\n",
            "\n"
          ]
        }
      ]
    },
    {
      "cell_type": "code",
      "source": [
        "top_10_cities_races.set_index('City', inplace=True)"
      ],
      "metadata": {
        "id": "gJK2vr_05UUd"
      },
      "execution_count": null,
      "outputs": []
    },
    {
      "cell_type": "code",
      "source": [
        "fig = px.bar(top_10_cities_races, title='Racial Makeup of Most Dangerous Cities', labels={'value':'% Population', 'Geographic area': 'City'})\n",
        "fig.show()"
      ],
      "metadata": {
        "colab": {
          "base_uri": "https://localhost:8080/",
          "height": 542
        },
        "id": "pWxshVNN3sgG",
        "outputId": "918492c8-3bbc-4412-d077-34493458fa2c"
      },
      "execution_count": null,
      "outputs": [
        {
          "output_type": "display_data",
          "data": {
            "text/html": [
              "<html>\n",
              "<head><meta charset=\"utf-8\" /></head>\n",
              "<body>\n",
              "    <div>            <script src=\"https://cdnjs.cloudflare.com/ajax/libs/mathjax/2.7.5/MathJax.js?config=TeX-AMS-MML_SVG\"></script><script type=\"text/javascript\">if (window.MathJax) {MathJax.Hub.Config({SVG: {font: \"STIX-Web\"}});}</script>                <script type=\"text/javascript\">window.PlotlyConfig = {MathJaxConfig: 'local'};</script>\n",
              "        <script src=\"https://cdn.plot.ly/plotly-2.8.3.min.js\"></script>                <div id=\"4463fc16-565f-4720-9156-ad5b7f29cf61\" class=\"plotly-graph-div\" style=\"height:525px; width:100%;\"></div>            <script type=\"text/javascript\">                                    window.PLOTLYENV=window.PLOTLYENV || {};                                    if (document.getElementById(\"4463fc16-565f-4720-9156-ad5b7f29cf61\")) {                    Plotly.newPlot(                        \"4463fc16-565f-4720-9156-ad5b7f29cf61\",                        [{\"alignmentgroup\":\"True\",\"hovertemplate\":\"variable=share_white<br>City=%{x}<br>% Population=%{y}<extra></extra>\",\"legendgroup\":\"share_white\",\"marker\":{\"color\":\"#636efa\",\"pattern\":{\"shape\":\"\"}},\"name\":\"share_white\",\"offsetgroup\":\"share_white\",\"orientation\":\"v\",\"showlegend\":true,\"textposition\":\"auto\",\"x\":[\"Los Angeles city\",\"Phoenix city\",\"Houston city\",\"Chicago city\",\"Las Vegas city\",\"San Antonio city\",\"Columbus city\",\"Miami city\",\"Austin city\",\"St. Louis city\"],\"xaxis\":\"x\",\"y\":[0.41534612176814006,0.5556492411467117,0.404971932638332,0.3989361702127659,0.5569506726457399,0.4972602739726027,0.6180904522613067,0.44512568976088285,0.5754001684919967,0.43987975951903807],\"yaxis\":\"y\",\"type\":\"bar\"},{\"alignmentgroup\":\"True\",\"hovertemplate\":\"variable=share_black<br>City=%{x}<br>% Population=%{y}<extra></extra>\",\"legendgroup\":\"share_black\",\"marker\":{\"color\":\"#EF553B\",\"pattern\":{\"shape\":\"\"}},\"name\":\"share_black\",\"offsetgroup\":\"share_black\",\"orientation\":\"v\",\"showlegend\":true,\"textposition\":\"auto\",\"x\":[\"Los Angeles city\",\"Phoenix city\",\"Houston city\",\"Chicago city\",\"Las Vegas city\",\"San Antonio city\",\"Columbus city\",\"Miami city\",\"Austin city\",\"St. Louis city\"],\"xaxis\":\"x\",\"y\":[0.08006672226855713,0.05480607082630691,0.190056134723336,0.29166666666666663,0.09955156950672646,0.04726027397260274,0.28140703517587945,0.11771919068056406,0.06823925863521484,0.4929859719438878],\"yaxis\":\"y\",\"type\":\"bar\"},{\"alignmentgroup\":\"True\",\"hovertemplate\":\"variable=share_native_american<br>City=%{x}<br>% Population=%{y}<extra></extra>\",\"legendgroup\":\"share_native_american\",\"marker\":{\"color\":\"#00cc96\",\"pattern\":{\"shape\":\"\"}},\"name\":\"share_native_american\",\"offsetgroup\":\"share_native_american\",\"orientation\":\"v\",\"showlegend\":true,\"textposition\":\"auto\",\"x\":[\"Los Angeles city\",\"Phoenix city\",\"Houston city\",\"Chicago city\",\"Las Vegas city\",\"San Antonio city\",\"Columbus city\",\"Miami city\",\"Austin city\",\"St. Louis city\"],\"xaxis\":\"x\",\"y\":[0.005838198498748957,0.01854974704890388,0.0056134723336006415,0.004432624113475177,0.006278026905829596,0.0061643835616438354,0.0030150753768844224,0.0018393623543838135,0.007582139848357204,0.003006012024048096],\"yaxis\":\"y\",\"type\":\"bar\"},{\"alignmentgroup\":\"True\",\"hovertemplate\":\"variable=share_asian<br>City=%{x}<br>% Population=%{y}<extra></extra>\",\"legendgroup\":\"share_asian\",\"marker\":{\"color\":\"#ab63fa\",\"pattern\":{\"shape\":\"\"}},\"name\":\"share_asian\",\"offsetgroup\":\"share_asian\",\"orientation\":\"v\",\"showlegend\":true,\"textposition\":\"auto\",\"x\":[\"Los Angeles city\",\"Phoenix city\",\"Houston city\",\"Chicago city\",\"Las Vegas city\",\"San Antonio city\",\"Columbus city\",\"Miami city\",\"Austin city\",\"St. Louis city\"],\"xaxis\":\"x\",\"y\":[0.09424520433694746,0.026981450252951095,0.048115477145148355,0.048758865248226944,0.054708520179372194,0.01643835616438356,0.04120603015075377,0.0061312078479460455,0.053074978938500425,0.02905811623246493],\"yaxis\":\"y\",\"type\":\"bar\"},{\"alignmentgroup\":\"True\",\"hovertemplate\":\"variable=share_hispanic<br>City=%{x}<br>% Population=%{y}<extra></extra>\",\"legendgroup\":\"share_hispanic\",\"marker\":{\"color\":\"#FFA15A\",\"pattern\":{\"shape\":\"\"}},\"name\":\"share_hispanic\",\"offsetgroup\":\"share_hispanic\",\"orientation\":\"v\",\"showlegend\":true,\"textposition\":\"auto\",\"x\":[\"Los Angeles city\",\"Phoenix city\",\"Houston city\",\"Chicago city\",\"Las Vegas city\",\"San Antonio city\",\"Columbus city\",\"Miami city\",\"Austin city\",\"St. Louis city\"],\"xaxis\":\"x\",\"y\":[0.40450375312760634,0.34401349072512644,0.35124298315958297,0.2562056737588652,0.2825112107623318,0.4328767123287671,0.05628140703517588,0.4291845493562232,0.29570345408593096,0.03507014028056112],\"yaxis\":\"y\",\"type\":\"bar\"}],                        {\"template\":{\"data\":{\"bar\":[{\"error_x\":{\"color\":\"#2a3f5f\"},\"error_y\":{\"color\":\"#2a3f5f\"},\"marker\":{\"line\":{\"color\":\"#E5ECF6\",\"width\":0.5},\"pattern\":{\"fillmode\":\"overlay\",\"size\":10,\"solidity\":0.2}},\"type\":\"bar\"}],\"barpolar\":[{\"marker\":{\"line\":{\"color\":\"#E5ECF6\",\"width\":0.5},\"pattern\":{\"fillmode\":\"overlay\",\"size\":10,\"solidity\":0.2}},\"type\":\"barpolar\"}],\"carpet\":[{\"aaxis\":{\"endlinecolor\":\"#2a3f5f\",\"gridcolor\":\"white\",\"linecolor\":\"white\",\"minorgridcolor\":\"white\",\"startlinecolor\":\"#2a3f5f\"},\"baxis\":{\"endlinecolor\":\"#2a3f5f\",\"gridcolor\":\"white\",\"linecolor\":\"white\",\"minorgridcolor\":\"white\",\"startlinecolor\":\"#2a3f5f\"},\"type\":\"carpet\"}],\"choropleth\":[{\"colorbar\":{\"outlinewidth\":0,\"ticks\":\"\"},\"type\":\"choropleth\"}],\"contour\":[{\"colorbar\":{\"outlinewidth\":0,\"ticks\":\"\"},\"colorscale\":[[0.0,\"#0d0887\"],[0.1111111111111111,\"#46039f\"],[0.2222222222222222,\"#7201a8\"],[0.3333333333333333,\"#9c179e\"],[0.4444444444444444,\"#bd3786\"],[0.5555555555555556,\"#d8576b\"],[0.6666666666666666,\"#ed7953\"],[0.7777777777777778,\"#fb9f3a\"],[0.8888888888888888,\"#fdca26\"],[1.0,\"#f0f921\"]],\"type\":\"contour\"}],\"contourcarpet\":[{\"colorbar\":{\"outlinewidth\":0,\"ticks\":\"\"},\"type\":\"contourcarpet\"}],\"heatmap\":[{\"colorbar\":{\"outlinewidth\":0,\"ticks\":\"\"},\"colorscale\":[[0.0,\"#0d0887\"],[0.1111111111111111,\"#46039f\"],[0.2222222222222222,\"#7201a8\"],[0.3333333333333333,\"#9c179e\"],[0.4444444444444444,\"#bd3786\"],[0.5555555555555556,\"#d8576b\"],[0.6666666666666666,\"#ed7953\"],[0.7777777777777778,\"#fb9f3a\"],[0.8888888888888888,\"#fdca26\"],[1.0,\"#f0f921\"]],\"type\":\"heatmap\"}],\"heatmapgl\":[{\"colorbar\":{\"outlinewidth\":0,\"ticks\":\"\"},\"colorscale\":[[0.0,\"#0d0887\"],[0.1111111111111111,\"#46039f\"],[0.2222222222222222,\"#7201a8\"],[0.3333333333333333,\"#9c179e\"],[0.4444444444444444,\"#bd3786\"],[0.5555555555555556,\"#d8576b\"],[0.6666666666666666,\"#ed7953\"],[0.7777777777777778,\"#fb9f3a\"],[0.8888888888888888,\"#fdca26\"],[1.0,\"#f0f921\"]],\"type\":\"heatmapgl\"}],\"histogram\":[{\"marker\":{\"pattern\":{\"fillmode\":\"overlay\",\"size\":10,\"solidity\":0.2}},\"type\":\"histogram\"}],\"histogram2d\":[{\"colorbar\":{\"outlinewidth\":0,\"ticks\":\"\"},\"colorscale\":[[0.0,\"#0d0887\"],[0.1111111111111111,\"#46039f\"],[0.2222222222222222,\"#7201a8\"],[0.3333333333333333,\"#9c179e\"],[0.4444444444444444,\"#bd3786\"],[0.5555555555555556,\"#d8576b\"],[0.6666666666666666,\"#ed7953\"],[0.7777777777777778,\"#fb9f3a\"],[0.8888888888888888,\"#fdca26\"],[1.0,\"#f0f921\"]],\"type\":\"histogram2d\"}],\"histogram2dcontour\":[{\"colorbar\":{\"outlinewidth\":0,\"ticks\":\"\"},\"colorscale\":[[0.0,\"#0d0887\"],[0.1111111111111111,\"#46039f\"],[0.2222222222222222,\"#7201a8\"],[0.3333333333333333,\"#9c179e\"],[0.4444444444444444,\"#bd3786\"],[0.5555555555555556,\"#d8576b\"],[0.6666666666666666,\"#ed7953\"],[0.7777777777777778,\"#fb9f3a\"],[0.8888888888888888,\"#fdca26\"],[1.0,\"#f0f921\"]],\"type\":\"histogram2dcontour\"}],\"mesh3d\":[{\"colorbar\":{\"outlinewidth\":0,\"ticks\":\"\"},\"type\":\"mesh3d\"}],\"parcoords\":[{\"line\":{\"colorbar\":{\"outlinewidth\":0,\"ticks\":\"\"}},\"type\":\"parcoords\"}],\"pie\":[{\"automargin\":true,\"type\":\"pie\"}],\"scatter\":[{\"marker\":{\"colorbar\":{\"outlinewidth\":0,\"ticks\":\"\"}},\"type\":\"scatter\"}],\"scatter3d\":[{\"line\":{\"colorbar\":{\"outlinewidth\":0,\"ticks\":\"\"}},\"marker\":{\"colorbar\":{\"outlinewidth\":0,\"ticks\":\"\"}},\"type\":\"scatter3d\"}],\"scattercarpet\":[{\"marker\":{\"colorbar\":{\"outlinewidth\":0,\"ticks\":\"\"}},\"type\":\"scattercarpet\"}],\"scattergeo\":[{\"marker\":{\"colorbar\":{\"outlinewidth\":0,\"ticks\":\"\"}},\"type\":\"scattergeo\"}],\"scattergl\":[{\"marker\":{\"colorbar\":{\"outlinewidth\":0,\"ticks\":\"\"}},\"type\":\"scattergl\"}],\"scattermapbox\":[{\"marker\":{\"colorbar\":{\"outlinewidth\":0,\"ticks\":\"\"}},\"type\":\"scattermapbox\"}],\"scatterpolar\":[{\"marker\":{\"colorbar\":{\"outlinewidth\":0,\"ticks\":\"\"}},\"type\":\"scatterpolar\"}],\"scatterpolargl\":[{\"marker\":{\"colorbar\":{\"outlinewidth\":0,\"ticks\":\"\"}},\"type\":\"scatterpolargl\"}],\"scatterternary\":[{\"marker\":{\"colorbar\":{\"outlinewidth\":0,\"ticks\":\"\"}},\"type\":\"scatterternary\"}],\"surface\":[{\"colorbar\":{\"outlinewidth\":0,\"ticks\":\"\"},\"colorscale\":[[0.0,\"#0d0887\"],[0.1111111111111111,\"#46039f\"],[0.2222222222222222,\"#7201a8\"],[0.3333333333333333,\"#9c179e\"],[0.4444444444444444,\"#bd3786\"],[0.5555555555555556,\"#d8576b\"],[0.6666666666666666,\"#ed7953\"],[0.7777777777777778,\"#fb9f3a\"],[0.8888888888888888,\"#fdca26\"],[1.0,\"#f0f921\"]],\"type\":\"surface\"}],\"table\":[{\"cells\":{\"fill\":{\"color\":\"#EBF0F8\"},\"line\":{\"color\":\"white\"}},\"header\":{\"fill\":{\"color\":\"#C8D4E3\"},\"line\":{\"color\":\"white\"}},\"type\":\"table\"}]},\"layout\":{\"annotationdefaults\":{\"arrowcolor\":\"#2a3f5f\",\"arrowhead\":0,\"arrowwidth\":1},\"autotypenumbers\":\"strict\",\"coloraxis\":{\"colorbar\":{\"outlinewidth\":0,\"ticks\":\"\"}},\"colorscale\":{\"diverging\":[[0,\"#8e0152\"],[0.1,\"#c51b7d\"],[0.2,\"#de77ae\"],[0.3,\"#f1b6da\"],[0.4,\"#fde0ef\"],[0.5,\"#f7f7f7\"],[0.6,\"#e6f5d0\"],[0.7,\"#b8e186\"],[0.8,\"#7fbc41\"],[0.9,\"#4d9221\"],[1,\"#276419\"]],\"sequential\":[[0.0,\"#0d0887\"],[0.1111111111111111,\"#46039f\"],[0.2222222222222222,\"#7201a8\"],[0.3333333333333333,\"#9c179e\"],[0.4444444444444444,\"#bd3786\"],[0.5555555555555556,\"#d8576b\"],[0.6666666666666666,\"#ed7953\"],[0.7777777777777778,\"#fb9f3a\"],[0.8888888888888888,\"#fdca26\"],[1.0,\"#f0f921\"]],\"sequentialminus\":[[0.0,\"#0d0887\"],[0.1111111111111111,\"#46039f\"],[0.2222222222222222,\"#7201a8\"],[0.3333333333333333,\"#9c179e\"],[0.4444444444444444,\"#bd3786\"],[0.5555555555555556,\"#d8576b\"],[0.6666666666666666,\"#ed7953\"],[0.7777777777777778,\"#fb9f3a\"],[0.8888888888888888,\"#fdca26\"],[1.0,\"#f0f921\"]]},\"colorway\":[\"#636efa\",\"#EF553B\",\"#00cc96\",\"#ab63fa\",\"#FFA15A\",\"#19d3f3\",\"#FF6692\",\"#B6E880\",\"#FF97FF\",\"#FECB52\"],\"font\":{\"color\":\"#2a3f5f\"},\"geo\":{\"bgcolor\":\"white\",\"lakecolor\":\"white\",\"landcolor\":\"#E5ECF6\",\"showlakes\":true,\"showland\":true,\"subunitcolor\":\"white\"},\"hoverlabel\":{\"align\":\"left\"},\"hovermode\":\"closest\",\"mapbox\":{\"style\":\"light\"},\"paper_bgcolor\":\"white\",\"plot_bgcolor\":\"#E5ECF6\",\"polar\":{\"angularaxis\":{\"gridcolor\":\"white\",\"linecolor\":\"white\",\"ticks\":\"\"},\"bgcolor\":\"#E5ECF6\",\"radialaxis\":{\"gridcolor\":\"white\",\"linecolor\":\"white\",\"ticks\":\"\"}},\"scene\":{\"xaxis\":{\"backgroundcolor\":\"#E5ECF6\",\"gridcolor\":\"white\",\"gridwidth\":2,\"linecolor\":\"white\",\"showbackground\":true,\"ticks\":\"\",\"zerolinecolor\":\"white\"},\"yaxis\":{\"backgroundcolor\":\"#E5ECF6\",\"gridcolor\":\"white\",\"gridwidth\":2,\"linecolor\":\"white\",\"showbackground\":true,\"ticks\":\"\",\"zerolinecolor\":\"white\"},\"zaxis\":{\"backgroundcolor\":\"#E5ECF6\",\"gridcolor\":\"white\",\"gridwidth\":2,\"linecolor\":\"white\",\"showbackground\":true,\"ticks\":\"\",\"zerolinecolor\":\"white\"}},\"shapedefaults\":{\"line\":{\"color\":\"#2a3f5f\"}},\"ternary\":{\"aaxis\":{\"gridcolor\":\"white\",\"linecolor\":\"white\",\"ticks\":\"\"},\"baxis\":{\"gridcolor\":\"white\",\"linecolor\":\"white\",\"ticks\":\"\"},\"bgcolor\":\"#E5ECF6\",\"caxis\":{\"gridcolor\":\"white\",\"linecolor\":\"white\",\"ticks\":\"\"}},\"title\":{\"x\":0.05},\"xaxis\":{\"automargin\":true,\"gridcolor\":\"white\",\"linecolor\":\"white\",\"ticks\":\"\",\"title\":{\"standoff\":15},\"zerolinecolor\":\"white\",\"zerolinewidth\":2},\"yaxis\":{\"automargin\":true,\"gridcolor\":\"white\",\"linecolor\":\"white\",\"ticks\":\"\",\"title\":{\"standoff\":15},\"zerolinecolor\":\"white\",\"zerolinewidth\":2}}},\"xaxis\":{\"anchor\":\"y\",\"domain\":[0.0,1.0],\"title\":{\"text\":\"City\"}},\"yaxis\":{\"anchor\":\"x\",\"domain\":[0.0,1.0],\"title\":{\"text\":\"% Population\"}},\"legend\":{\"title\":{\"text\":\"variable\"},\"tracegroupgap\":0},\"title\":{\"text\":\"Racial Makeup of Most Dangerous Cities\"},\"barmode\":\"relative\"},                        {\"responsive\": true}                    ).then(function(){\n",
              "                            \n",
              "var gd = document.getElementById('4463fc16-565f-4720-9156-ad5b7f29cf61');\n",
              "var x = new MutationObserver(function (mutations, observer) {{\n",
              "        var display = window.getComputedStyle(gd).display;\n",
              "        if (!display || display === 'none') {{\n",
              "            console.log([gd, 'removed!']);\n",
              "            Plotly.purge(gd);\n",
              "            observer.disconnect();\n",
              "        }}\n",
              "}});\n",
              "\n",
              "// Listen for the removal of the full notebook cells\n",
              "var notebookContainer = gd.closest('#notebook-container');\n",
              "if (notebookContainer) {{\n",
              "    x.observe(notebookContainer, {childList: true});\n",
              "}}\n",
              "\n",
              "// Listen for the clearing of the current output cell\n",
              "var outputEl = gd.closest('.output');\n",
              "if (outputEl) {{\n",
              "    x.observe(outputEl, {childList: true});\n",
              "}}\n",
              "\n",
              "                        })                };                            </script>        </div>\n",
              "</body>\n",
              "</html>"
            ]
          },
          "metadata": {}
        }
      ]
    },
    {
      "cell_type": "markdown",
      "metadata": {
        "id": "1HUJksrI5WFb"
      },
      "source": [
        "# Create a Choropleth Map of Police Killings by US State\n",
        "\n",
        "Which states are the most dangerous? Compare your map with your previous chart. Are these the same states with high degrees of poverty?"
      ]
    },
    {
      "cell_type": "code",
      "source": [
        "police_killings_by_state = df_fatalities.groupby('state')['state'].count()\n",
        "police_killings_by_state"
      ],
      "metadata": {
        "id": "CY6gJJFC-HEd"
      },
      "execution_count": null,
      "outputs": []
    },
    {
      "cell_type": "code",
      "metadata": {
        "id": "u3UuX4Yo5dBA",
        "colab": {
          "base_uri": "https://localhost:8080/",
          "height": 542
        },
        "outputId": "85f4921e-1ff7-4655-a2e6-c5273c5354ec"
      },
      "source": [
        "fig = px.choropleth(police_killings_by_state, locationmode=\"USA-states\", locations=police_killings_by_state.index,\n",
        "                    color=police_killings_by_state.values, scope=\"usa\", title=\"Police killings by state\")\n",
        "\n",
        "fig.show()"
      ],
      "execution_count": null,
      "outputs": [
        {
          "output_type": "display_data",
          "data": {
            "text/html": [
              "<html>\n",
              "<head><meta charset=\"utf-8\" /></head>\n",
              "<body>\n",
              "    <div>            <script src=\"https://cdnjs.cloudflare.com/ajax/libs/mathjax/2.7.5/MathJax.js?config=TeX-AMS-MML_SVG\"></script><script type=\"text/javascript\">if (window.MathJax) {MathJax.Hub.Config({SVG: {font: \"STIX-Web\"}});}</script>                <script type=\"text/javascript\">window.PlotlyConfig = {MathJaxConfig: 'local'};</script>\n",
              "        <script src=\"https://cdn.plot.ly/plotly-2.8.3.min.js\"></script>                <div id=\"be2caa21-c94c-4f27-899e-c8bcc39d4bc2\" class=\"plotly-graph-div\" style=\"height:525px; width:100%;\"></div>            <script type=\"text/javascript\">                                    window.PLOTLYENV=window.PLOTLYENV || {};                                    if (document.getElementById(\"be2caa21-c94c-4f27-899e-c8bcc39d4bc2\")) {                    Plotly.newPlot(                        \"be2caa21-c94c-4f27-899e-c8bcc39d4bc2\",                        [{\"coloraxis\":\"coloraxis\",\"geo\":\"geo\",\"hovertemplate\":\"index=%{location}<br>color=%{z}<extra></extra>\",\"locationmode\":\"USA-states\",\"locations\":[\"AK\",\"AL\",\"AR\",\"AZ\",\"CA\",\"CO\",\"CT\",\"DC\",\"DE\",\"FL\",\"GA\",\"HI\",\"IA\",\"ID\",\"IL\",\"IN\",\"KS\",\"KY\",\"LA\",\"MA\",\"MD\",\"ME\",\"MI\",\"MN\",\"MO\",\"MS\",\"MT\",\"NC\",\"ND\",\"NE\",\"NH\",\"NJ\",\"NM\",\"NV\",\"NY\",\"OH\",\"OK\",\"OR\",\"PA\",\"RI\",\"SC\",\"SD\",\"TN\",\"TX\",\"UT\",\"VA\",\"VT\",\"WA\",\"WI\",\"WV\",\"WY\"],\"name\":\"\",\"z\":[15,50,26,118,424,74,9,11,8,154,70,11,12,17,62,43,24,43,57,22,38,13,37,32,64,23,11,69,4,15,7,35,51,42,45,79,78,38,51,2,44,10,59,225,23,47,3,62,43,27,8],\"type\":\"choropleth\"}],                        {\"template\":{\"data\":{\"bar\":[{\"error_x\":{\"color\":\"#2a3f5f\"},\"error_y\":{\"color\":\"#2a3f5f\"},\"marker\":{\"line\":{\"color\":\"#E5ECF6\",\"width\":0.5},\"pattern\":{\"fillmode\":\"overlay\",\"size\":10,\"solidity\":0.2}},\"type\":\"bar\"}],\"barpolar\":[{\"marker\":{\"line\":{\"color\":\"#E5ECF6\",\"width\":0.5},\"pattern\":{\"fillmode\":\"overlay\",\"size\":10,\"solidity\":0.2}},\"type\":\"barpolar\"}],\"carpet\":[{\"aaxis\":{\"endlinecolor\":\"#2a3f5f\",\"gridcolor\":\"white\",\"linecolor\":\"white\",\"minorgridcolor\":\"white\",\"startlinecolor\":\"#2a3f5f\"},\"baxis\":{\"endlinecolor\":\"#2a3f5f\",\"gridcolor\":\"white\",\"linecolor\":\"white\",\"minorgridcolor\":\"white\",\"startlinecolor\":\"#2a3f5f\"},\"type\":\"carpet\"}],\"choropleth\":[{\"colorbar\":{\"outlinewidth\":0,\"ticks\":\"\"},\"type\":\"choropleth\"}],\"contour\":[{\"colorbar\":{\"outlinewidth\":0,\"ticks\":\"\"},\"colorscale\":[[0.0,\"#0d0887\"],[0.1111111111111111,\"#46039f\"],[0.2222222222222222,\"#7201a8\"],[0.3333333333333333,\"#9c179e\"],[0.4444444444444444,\"#bd3786\"],[0.5555555555555556,\"#d8576b\"],[0.6666666666666666,\"#ed7953\"],[0.7777777777777778,\"#fb9f3a\"],[0.8888888888888888,\"#fdca26\"],[1.0,\"#f0f921\"]],\"type\":\"contour\"}],\"contourcarpet\":[{\"colorbar\":{\"outlinewidth\":0,\"ticks\":\"\"},\"type\":\"contourcarpet\"}],\"heatmap\":[{\"colorbar\":{\"outlinewidth\":0,\"ticks\":\"\"},\"colorscale\":[[0.0,\"#0d0887\"],[0.1111111111111111,\"#46039f\"],[0.2222222222222222,\"#7201a8\"],[0.3333333333333333,\"#9c179e\"],[0.4444444444444444,\"#bd3786\"],[0.5555555555555556,\"#d8576b\"],[0.6666666666666666,\"#ed7953\"],[0.7777777777777778,\"#fb9f3a\"],[0.8888888888888888,\"#fdca26\"],[1.0,\"#f0f921\"]],\"type\":\"heatmap\"}],\"heatmapgl\":[{\"colorbar\":{\"outlinewidth\":0,\"ticks\":\"\"},\"colorscale\":[[0.0,\"#0d0887\"],[0.1111111111111111,\"#46039f\"],[0.2222222222222222,\"#7201a8\"],[0.3333333333333333,\"#9c179e\"],[0.4444444444444444,\"#bd3786\"],[0.5555555555555556,\"#d8576b\"],[0.6666666666666666,\"#ed7953\"],[0.7777777777777778,\"#fb9f3a\"],[0.8888888888888888,\"#fdca26\"],[1.0,\"#f0f921\"]],\"type\":\"heatmapgl\"}],\"histogram\":[{\"marker\":{\"pattern\":{\"fillmode\":\"overlay\",\"size\":10,\"solidity\":0.2}},\"type\":\"histogram\"}],\"histogram2d\":[{\"colorbar\":{\"outlinewidth\":0,\"ticks\":\"\"},\"colorscale\":[[0.0,\"#0d0887\"],[0.1111111111111111,\"#46039f\"],[0.2222222222222222,\"#7201a8\"],[0.3333333333333333,\"#9c179e\"],[0.4444444444444444,\"#bd3786\"],[0.5555555555555556,\"#d8576b\"],[0.6666666666666666,\"#ed7953\"],[0.7777777777777778,\"#fb9f3a\"],[0.8888888888888888,\"#fdca26\"],[1.0,\"#f0f921\"]],\"type\":\"histogram2d\"}],\"histogram2dcontour\":[{\"colorbar\":{\"outlinewidth\":0,\"ticks\":\"\"},\"colorscale\":[[0.0,\"#0d0887\"],[0.1111111111111111,\"#46039f\"],[0.2222222222222222,\"#7201a8\"],[0.3333333333333333,\"#9c179e\"],[0.4444444444444444,\"#bd3786\"],[0.5555555555555556,\"#d8576b\"],[0.6666666666666666,\"#ed7953\"],[0.7777777777777778,\"#fb9f3a\"],[0.8888888888888888,\"#fdca26\"],[1.0,\"#f0f921\"]],\"type\":\"histogram2dcontour\"}],\"mesh3d\":[{\"colorbar\":{\"outlinewidth\":0,\"ticks\":\"\"},\"type\":\"mesh3d\"}],\"parcoords\":[{\"line\":{\"colorbar\":{\"outlinewidth\":0,\"ticks\":\"\"}},\"type\":\"parcoords\"}],\"pie\":[{\"automargin\":true,\"type\":\"pie\"}],\"scatter\":[{\"marker\":{\"colorbar\":{\"outlinewidth\":0,\"ticks\":\"\"}},\"type\":\"scatter\"}],\"scatter3d\":[{\"line\":{\"colorbar\":{\"outlinewidth\":0,\"ticks\":\"\"}},\"marker\":{\"colorbar\":{\"outlinewidth\":0,\"ticks\":\"\"}},\"type\":\"scatter3d\"}],\"scattercarpet\":[{\"marker\":{\"colorbar\":{\"outlinewidth\":0,\"ticks\":\"\"}},\"type\":\"scattercarpet\"}],\"scattergeo\":[{\"marker\":{\"colorbar\":{\"outlinewidth\":0,\"ticks\":\"\"}},\"type\":\"scattergeo\"}],\"scattergl\":[{\"marker\":{\"colorbar\":{\"outlinewidth\":0,\"ticks\":\"\"}},\"type\":\"scattergl\"}],\"scattermapbox\":[{\"marker\":{\"colorbar\":{\"outlinewidth\":0,\"ticks\":\"\"}},\"type\":\"scattermapbox\"}],\"scatterpolar\":[{\"marker\":{\"colorbar\":{\"outlinewidth\":0,\"ticks\":\"\"}},\"type\":\"scatterpolar\"}],\"scatterpolargl\":[{\"marker\":{\"colorbar\":{\"outlinewidth\":0,\"ticks\":\"\"}},\"type\":\"scatterpolargl\"}],\"scatterternary\":[{\"marker\":{\"colorbar\":{\"outlinewidth\":0,\"ticks\":\"\"}},\"type\":\"scatterternary\"}],\"surface\":[{\"colorbar\":{\"outlinewidth\":0,\"ticks\":\"\"},\"colorscale\":[[0.0,\"#0d0887\"],[0.1111111111111111,\"#46039f\"],[0.2222222222222222,\"#7201a8\"],[0.3333333333333333,\"#9c179e\"],[0.4444444444444444,\"#bd3786\"],[0.5555555555555556,\"#d8576b\"],[0.6666666666666666,\"#ed7953\"],[0.7777777777777778,\"#fb9f3a\"],[0.8888888888888888,\"#fdca26\"],[1.0,\"#f0f921\"]],\"type\":\"surface\"}],\"table\":[{\"cells\":{\"fill\":{\"color\":\"#EBF0F8\"},\"line\":{\"color\":\"white\"}},\"header\":{\"fill\":{\"color\":\"#C8D4E3\"},\"line\":{\"color\":\"white\"}},\"type\":\"table\"}]},\"layout\":{\"annotationdefaults\":{\"arrowcolor\":\"#2a3f5f\",\"arrowhead\":0,\"arrowwidth\":1},\"autotypenumbers\":\"strict\",\"coloraxis\":{\"colorbar\":{\"outlinewidth\":0,\"ticks\":\"\"}},\"colorscale\":{\"diverging\":[[0,\"#8e0152\"],[0.1,\"#c51b7d\"],[0.2,\"#de77ae\"],[0.3,\"#f1b6da\"],[0.4,\"#fde0ef\"],[0.5,\"#f7f7f7\"],[0.6,\"#e6f5d0\"],[0.7,\"#b8e186\"],[0.8,\"#7fbc41\"],[0.9,\"#4d9221\"],[1,\"#276419\"]],\"sequential\":[[0.0,\"#0d0887\"],[0.1111111111111111,\"#46039f\"],[0.2222222222222222,\"#7201a8\"],[0.3333333333333333,\"#9c179e\"],[0.4444444444444444,\"#bd3786\"],[0.5555555555555556,\"#d8576b\"],[0.6666666666666666,\"#ed7953\"],[0.7777777777777778,\"#fb9f3a\"],[0.8888888888888888,\"#fdca26\"],[1.0,\"#f0f921\"]],\"sequentialminus\":[[0.0,\"#0d0887\"],[0.1111111111111111,\"#46039f\"],[0.2222222222222222,\"#7201a8\"],[0.3333333333333333,\"#9c179e\"],[0.4444444444444444,\"#bd3786\"],[0.5555555555555556,\"#d8576b\"],[0.6666666666666666,\"#ed7953\"],[0.7777777777777778,\"#fb9f3a\"],[0.8888888888888888,\"#fdca26\"],[1.0,\"#f0f921\"]]},\"colorway\":[\"#636efa\",\"#EF553B\",\"#00cc96\",\"#ab63fa\",\"#FFA15A\",\"#19d3f3\",\"#FF6692\",\"#B6E880\",\"#FF97FF\",\"#FECB52\"],\"font\":{\"color\":\"#2a3f5f\"},\"geo\":{\"bgcolor\":\"white\",\"lakecolor\":\"white\",\"landcolor\":\"#E5ECF6\",\"showlakes\":true,\"showland\":true,\"subunitcolor\":\"white\"},\"hoverlabel\":{\"align\":\"left\"},\"hovermode\":\"closest\",\"mapbox\":{\"style\":\"light\"},\"paper_bgcolor\":\"white\",\"plot_bgcolor\":\"#E5ECF6\",\"polar\":{\"angularaxis\":{\"gridcolor\":\"white\",\"linecolor\":\"white\",\"ticks\":\"\"},\"bgcolor\":\"#E5ECF6\",\"radialaxis\":{\"gridcolor\":\"white\",\"linecolor\":\"white\",\"ticks\":\"\"}},\"scene\":{\"xaxis\":{\"backgroundcolor\":\"#E5ECF6\",\"gridcolor\":\"white\",\"gridwidth\":2,\"linecolor\":\"white\",\"showbackground\":true,\"ticks\":\"\",\"zerolinecolor\":\"white\"},\"yaxis\":{\"backgroundcolor\":\"#E5ECF6\",\"gridcolor\":\"white\",\"gridwidth\":2,\"linecolor\":\"white\",\"showbackground\":true,\"ticks\":\"\",\"zerolinecolor\":\"white\"},\"zaxis\":{\"backgroundcolor\":\"#E5ECF6\",\"gridcolor\":\"white\",\"gridwidth\":2,\"linecolor\":\"white\",\"showbackground\":true,\"ticks\":\"\",\"zerolinecolor\":\"white\"}},\"shapedefaults\":{\"line\":{\"color\":\"#2a3f5f\"}},\"ternary\":{\"aaxis\":{\"gridcolor\":\"white\",\"linecolor\":\"white\",\"ticks\":\"\"},\"baxis\":{\"gridcolor\":\"white\",\"linecolor\":\"white\",\"ticks\":\"\"},\"bgcolor\":\"#E5ECF6\",\"caxis\":{\"gridcolor\":\"white\",\"linecolor\":\"white\",\"ticks\":\"\"}},\"title\":{\"x\":0.05},\"xaxis\":{\"automargin\":true,\"gridcolor\":\"white\",\"linecolor\":\"white\",\"ticks\":\"\",\"title\":{\"standoff\":15},\"zerolinecolor\":\"white\",\"zerolinewidth\":2},\"yaxis\":{\"automargin\":true,\"gridcolor\":\"white\",\"linecolor\":\"white\",\"ticks\":\"\",\"title\":{\"standoff\":15},\"zerolinecolor\":\"white\",\"zerolinewidth\":2}}},\"geo\":{\"domain\":{\"x\":[0.0,1.0],\"y\":[0.0,1.0]},\"center\":{},\"scope\":\"usa\"},\"coloraxis\":{\"colorbar\":{\"title\":{\"text\":\"color\"}},\"colorscale\":[[0.0,\"#0d0887\"],[0.1111111111111111,\"#46039f\"],[0.2222222222222222,\"#7201a8\"],[0.3333333333333333,\"#9c179e\"],[0.4444444444444444,\"#bd3786\"],[0.5555555555555556,\"#d8576b\"],[0.6666666666666666,\"#ed7953\"],[0.7777777777777778,\"#fb9f3a\"],[0.8888888888888888,\"#fdca26\"],[1.0,\"#f0f921\"]]},\"legend\":{\"tracegroupgap\":0},\"title\":{\"text\":\"Police killings by state\"}},                        {\"responsive\": true}                    ).then(function(){\n",
              "                            \n",
              "var gd = document.getElementById('be2caa21-c94c-4f27-899e-c8bcc39d4bc2');\n",
              "var x = new MutationObserver(function (mutations, observer) {{\n",
              "        var display = window.getComputedStyle(gd).display;\n",
              "        if (!display || display === 'none') {{\n",
              "            console.log([gd, 'removed!']);\n",
              "            Plotly.purge(gd);\n",
              "            observer.disconnect();\n",
              "        }}\n",
              "}});\n",
              "\n",
              "// Listen for the removal of the full notebook cells\n",
              "var notebookContainer = gd.closest('#notebook-container');\n",
              "if (notebookContainer) {{\n",
              "    x.observe(notebookContainer, {childList: true});\n",
              "}}\n",
              "\n",
              "// Listen for the clearing of the current output cell\n",
              "var outputEl = gd.closest('.output');\n",
              "if (outputEl) {{\n",
              "    x.observe(outputEl, {childList: true});\n",
              "}}\n",
              "\n",
              "                        })                };                            </script>        </div>\n",
              "</body>\n",
              "</html>"
            ]
          },
          "metadata": {}
        }
      ]
    },
    {
      "cell_type": "markdown",
      "metadata": {
        "id": "37UsmVYF6hA2"
      },
      "source": [
        "# Number of Police Killings Over Time\n",
        "\n",
        "Analyse the Number of Police Killings over Time. Is there a trend in the data?"
      ]
    },
    {
      "cell_type": "code",
      "metadata": {
        "id": "nITf1IhP6gpI"
      },
      "source": [
        "df_fatalities['date'] = pd.to_datetime(df_fatalities['date'], format=\"%d/%m/%y\")"
      ],
      "execution_count": null,
      "outputs": []
    },
    {
      "cell_type": "code",
      "metadata": {
        "id": "Q_vxjD_A7JRh"
      },
      "source": [
        "df_fatalities.sort_values('date', inplace=True)"
      ],
      "execution_count": null,
      "outputs": []
    },
    {
      "cell_type": "code",
      "source": [
        "police_killing_by_date = df_fatalities.groupby('date')['date'].count()"
      ],
      "metadata": {
        "id": "l3MUkaq6Aexg"
      },
      "execution_count": null,
      "outputs": []
    },
    {
      "cell_type": "code",
      "metadata": {
        "id": "mOqtie707JU8",
        "colab": {
          "base_uri": "https://localhost:8080/",
          "height": 542
        },
        "outputId": "c4bd08f5-b606-4220-a8d7-45476fc3234f"
      },
      "source": [
        "fig = px.line(police_killing_by_date, x=police_killing_by_date.index, y=police_killing_by_date.values, labels={'y':'Deaths'})\n",
        "fig.show()"
      ],
      "execution_count": null,
      "outputs": [
        {
          "output_type": "display_data",
          "data": {
            "text/html": [
              "<html>\n",
              "<head><meta charset=\"utf-8\" /></head>\n",
              "<body>\n",
              "    <div>            <script src=\"https://cdnjs.cloudflare.com/ajax/libs/mathjax/2.7.5/MathJax.js?config=TeX-AMS-MML_SVG\"></script><script type=\"text/javascript\">if (window.MathJax) {MathJax.Hub.Config({SVG: {font: \"STIX-Web\"}});}</script>                <script type=\"text/javascript\">window.PlotlyConfig = {MathJaxConfig: 'local'};</script>\n",
              "        <script src=\"https://cdn.plot.ly/plotly-2.8.3.min.js\"></script>                <div id=\"f22e4405-b782-4032-869f-b7d3c7810b1c\" class=\"plotly-graph-div\" style=\"height:525px; width:100%;\"></div>            <script type=\"text/javascript\">                                    window.PLOTLYENV=window.PLOTLYENV || {};                                    if (document.getElementById(\"f22e4405-b782-4032-869f-b7d3c7810b1c\")) {                    Plotly.newPlot(                        \"f22e4405-b782-4032-869f-b7d3c7810b1c\",                        [{\"hovertemplate\":\"index=%{x}<br>Deaths=%{y}<extra></extra>\",\"legendgroup\":\"\",\"line\":{\"color\":\"#636efa\",\"dash\":\"solid\"},\"marker\":{\"symbol\":\"circle\"},\"mode\":\"lines\",\"name\":\"\",\"orientation\":\"v\",\"showlegend\":false,\"x\":[\"2015-01-02T00:00:00\",\"2015-01-03T00:00:00\",\"2015-01-04T00:00:00\",\"2015-01-05T00:00:00\",\"2015-01-06T00:00:00\",\"2015-01-07T00:00:00\",\"2015-01-08T00:00:00\",\"2015-01-09T00:00:00\",\"2015-01-11T00:00:00\",\"2015-01-13T00:00:00\",\"2015-01-14T00:00:00\",\"2015-01-15T00:00:00\",\"2015-01-16T00:00:00\",\"2015-01-17T00:00:00\",\"2015-01-18T00:00:00\",\"2015-01-19T00:00:00\",\"2015-01-20T00:00:00\",\"2015-01-21T00:00:00\",\"2015-01-22T00:00:00\",\"2015-01-23T00:00:00\",\"2015-01-24T00:00:00\",\"2015-01-25T00:00:00\",\"2015-01-26T00:00:00\",\"2015-01-27T00:00:00\",\"2015-01-28T00:00:00\",\"2015-01-29T00:00:00\",\"2015-01-30T00:00:00\",\"2015-01-31T00:00:00\",\"2015-02-02T00:00:00\",\"2015-02-03T00:00:00\",\"2015-02-04T00:00:00\",\"2015-02-05T00:00:00\",\"2015-02-06T00:00:00\",\"2015-02-07T00:00:00\",\"2015-02-08T00:00:00\",\"2015-02-09T00:00:00\",\"2015-02-10T00:00:00\",\"2015-02-11T00:00:00\",\"2015-02-13T00:00:00\",\"2015-02-14T00:00:00\",\"2015-02-15T00:00:00\",\"2015-02-16T00:00:00\",\"2015-02-17T00:00:00\",\"2015-02-18T00:00:00\",\"2015-02-20T00:00:00\",\"2015-02-21T00:00:00\",\"2015-02-22T00:00:00\",\"2015-02-23T00:00:00\",\"2015-02-24T00:00:00\",\"2015-02-25T00:00:00\",\"2015-02-26T00:00:00\",\"2015-02-27T00:00:00\",\"2015-02-28T00:00:00\",\"2015-03-01T00:00:00\",\"2015-03-02T00:00:00\",\"2015-03-03T00:00:00\",\"2015-03-04T00:00:00\",\"2015-03-05T00:00:00\",\"2015-03-06T00:00:00\",\"2015-03-07T00:00:00\",\"2015-03-08T00:00:00\",\"2015-03-09T00:00:00\",\"2015-03-10T00:00:00\",\"2015-03-11T00:00:00\",\"2015-03-12T00:00:00\",\"2015-03-13T00:00:00\",\"2015-03-14T00:00:00\",\"2015-03-15T00:00:00\",\"2015-03-16T00:00:00\",\"2015-03-17T00:00:00\",\"2015-03-18T00:00:00\",\"2015-03-19T00:00:00\",\"2015-03-20T00:00:00\",\"2015-03-21T00:00:00\",\"2015-03-22T00:00:00\",\"2015-03-23T00:00:00\",\"2015-03-24T00:00:00\",\"2015-03-25T00:00:00\",\"2015-03-26T00:00:00\",\"2015-03-27T00:00:00\",\"2015-03-29T00:00:00\",\"2015-03-30T00:00:00\",\"2015-03-31T00:00:00\",\"2015-04-01T00:00:00\",\"2015-04-02T00:00:00\",\"2015-04-03T00:00:00\",\"2015-04-04T00:00:00\",\"2015-04-05T00:00:00\",\"2015-04-06T00:00:00\",\"2015-04-07T00:00:00\",\"2015-04-08T00:00:00\",\"2015-04-09T00:00:00\",\"2015-04-10T00:00:00\",\"2015-04-11T00:00:00\",\"2015-04-12T00:00:00\",\"2015-04-13T00:00:00\",\"2015-04-14T00:00:00\",\"2015-04-15T00:00:00\",\"2015-04-16T00:00:00\",\"2015-04-17T00:00:00\",\"2015-04-18T00:00:00\",\"2015-04-19T00:00:00\",\"2015-04-20T00:00:00\",\"2015-04-21T00:00:00\",\"2015-04-22T00:00:00\",\"2015-04-23T00:00:00\",\"2015-04-24T00:00:00\",\"2015-04-25T00:00:00\",\"2015-04-26T00:00:00\",\"2015-04-27T00:00:00\",\"2015-04-28T00:00:00\",\"2015-04-29T00:00:00\",\"2015-04-30T00:00:00\",\"2015-05-02T00:00:00\",\"2015-05-03T00:00:00\",\"2015-05-04T00:00:00\",\"2015-05-05T00:00:00\",\"2015-05-06T00:00:00\",\"2015-05-07T00:00:00\",\"2015-05-08T00:00:00\",\"2015-05-10T00:00:00\",\"2015-05-11T00:00:00\",\"2015-05-12T00:00:00\",\"2015-05-14T00:00:00\",\"2015-05-15T00:00:00\",\"2015-05-16T00:00:00\",\"2015-05-17T00:00:00\",\"2015-05-19T00:00:00\",\"2015-05-20T00:00:00\",\"2015-05-21T00:00:00\",\"2015-05-22T00:00:00\",\"2015-05-23T00:00:00\",\"2015-05-25T00:00:00\",\"2015-05-26T00:00:00\",\"2015-05-27T00:00:00\",\"2015-05-28T00:00:00\",\"2015-05-29T00:00:00\",\"2015-05-30T00:00:00\",\"2015-05-31T00:00:00\",\"2015-06-01T00:00:00\",\"2015-06-02T00:00:00\",\"2015-06-03T00:00:00\",\"2015-06-05T00:00:00\",\"2015-06-06T00:00:00\",\"2015-06-07T00:00:00\",\"2015-06-08T00:00:00\",\"2015-06-09T00:00:00\",\"2015-06-10T00:00:00\",\"2015-06-11T00:00:00\",\"2015-06-12T00:00:00\",\"2015-06-13T00:00:00\",\"2015-06-14T00:00:00\",\"2015-06-15T00:00:00\",\"2015-06-16T00:00:00\",\"2015-06-17T00:00:00\",\"2015-06-18T00:00:00\",\"2015-06-19T00:00:00\",\"2015-06-20T00:00:00\",\"2015-06-21T00:00:00\",\"2015-06-22T00:00:00\",\"2015-06-23T00:00:00\",\"2015-06-24T00:00:00\",\"2015-06-25T00:00:00\",\"2015-06-26T00:00:00\",\"2015-06-27T00:00:00\",\"2015-06-28T00:00:00\",\"2015-06-29T00:00:00\",\"2015-06-30T00:00:00\",\"2015-07-01T00:00:00\",\"2015-07-02T00:00:00\",\"2015-07-03T00:00:00\",\"2015-07-04T00:00:00\",\"2015-07-05T00:00:00\",\"2015-07-06T00:00:00\",\"2015-07-07T00:00:00\",\"2015-07-08T00:00:00\",\"2015-07-09T00:00:00\",\"2015-07-10T00:00:00\",\"2015-07-11T00:00:00\",\"2015-07-12T00:00:00\",\"2015-07-13T00:00:00\",\"2015-07-14T00:00:00\",\"2015-07-15T00:00:00\",\"2015-07-16T00:00:00\",\"2015-07-17T00:00:00\",\"2015-07-18T00:00:00\",\"2015-07-19T00:00:00\",\"2015-07-20T00:00:00\",\"2015-07-21T00:00:00\",\"2015-07-22T00:00:00\",\"2015-07-23T00:00:00\",\"2015-07-24T00:00:00\",\"2015-07-25T00:00:00\",\"2015-07-26T00:00:00\",\"2015-07-27T00:00:00\",\"2015-07-28T00:00:00\",\"2015-07-29T00:00:00\",\"2015-07-30T00:00:00\",\"2015-07-31T00:00:00\",\"2015-08-01T00:00:00\",\"2015-08-02T00:00:00\",\"2015-08-03T00:00:00\",\"2015-08-04T00:00:00\",\"2015-08-05T00:00:00\",\"2015-08-06T00:00:00\",\"2015-08-07T00:00:00\",\"2015-08-08T00:00:00\",\"2015-08-09T00:00:00\",\"2015-08-10T00:00:00\",\"2015-08-11T00:00:00\",\"2015-08-12T00:00:00\",\"2015-08-14T00:00:00\",\"2015-08-15T00:00:00\",\"2015-08-16T00:00:00\",\"2015-08-17T00:00:00\",\"2015-08-19T00:00:00\",\"2015-08-20T00:00:00\",\"2015-08-21T00:00:00\",\"2015-08-22T00:00:00\",\"2015-08-23T00:00:00\",\"2015-08-25T00:00:00\",\"2015-08-26T00:00:00\",\"2015-08-27T00:00:00\",\"2015-08-28T00:00:00\",\"2015-08-29T00:00:00\",\"2015-08-30T00:00:00\",\"2015-08-31T00:00:00\",\"2015-09-01T00:00:00\",\"2015-09-02T00:00:00\",\"2015-09-03T00:00:00\",\"2015-09-04T00:00:00\",\"2015-09-05T00:00:00\",\"2015-09-06T00:00:00\",\"2015-09-07T00:00:00\",\"2015-09-08T00:00:00\",\"2015-09-09T00:00:00\",\"2015-09-10T00:00:00\",\"2015-09-11T00:00:00\",\"2015-09-12T00:00:00\",\"2015-09-13T00:00:00\",\"2015-09-14T00:00:00\",\"2015-09-15T00:00:00\",\"2015-09-16T00:00:00\",\"2015-09-17T00:00:00\",\"2015-09-18T00:00:00\",\"2015-09-19T00:00:00\",\"2015-09-20T00:00:00\",\"2015-09-21T00:00:00\",\"2015-09-22T00:00:00\",\"2015-09-23T00:00:00\",\"2015-09-24T00:00:00\",\"2015-09-25T00:00:00\",\"2015-09-26T00:00:00\",\"2015-09-27T00:00:00\",\"2015-09-28T00:00:00\",\"2015-09-29T00:00:00\",\"2015-09-30T00:00:00\",\"2015-10-02T00:00:00\",\"2015-10-04T00:00:00\",\"2015-10-05T00:00:00\",\"2015-10-06T00:00:00\",\"2015-10-07T00:00:00\",\"2015-10-09T00:00:00\",\"2015-10-10T00:00:00\",\"2015-10-11T00:00:00\",\"2015-10-12T00:00:00\",\"2015-10-14T00:00:00\",\"2015-10-15T00:00:00\",\"2015-10-16T00:00:00\",\"2015-10-17T00:00:00\",\"2015-10-18T00:00:00\",\"2015-10-19T00:00:00\",\"2015-10-20T00:00:00\",\"2015-10-21T00:00:00\",\"2015-10-22T00:00:00\",\"2015-10-24T00:00:00\",\"2015-10-25T00:00:00\",\"2015-10-26T00:00:00\",\"2015-10-27T00:00:00\",\"2015-10-28T00:00:00\",\"2015-10-29T00:00:00\",\"2015-10-30T00:00:00\",\"2015-10-31T00:00:00\",\"2015-11-01T00:00:00\",\"2015-11-02T00:00:00\",\"2015-11-03T00:00:00\",\"2015-11-04T00:00:00\",\"2015-11-05T00:00:00\",\"2015-11-06T00:00:00\",\"2015-11-09T00:00:00\",\"2015-11-10T00:00:00\",\"2015-11-11T00:00:00\",\"2015-11-12T00:00:00\",\"2015-11-13T00:00:00\",\"2015-11-14T00:00:00\",\"2015-11-15T00:00:00\",\"2015-11-16T00:00:00\",\"2015-11-17T00:00:00\",\"2015-11-18T00:00:00\",\"2015-11-19T00:00:00\",\"2015-11-20T00:00:00\",\"2015-11-21T00:00:00\",\"2015-11-22T00:00:00\",\"2015-11-23T00:00:00\",\"2015-11-24T00:00:00\",\"2015-11-25T00:00:00\",\"2015-11-26T00:00:00\",\"2015-11-27T00:00:00\",\"2015-11-28T00:00:00\",\"2015-11-29T00:00:00\",\"2015-11-30T00:00:00\",\"2015-12-01T00:00:00\",\"2015-12-02T00:00:00\",\"2015-12-03T00:00:00\",\"2015-12-04T00:00:00\",\"2015-12-05T00:00:00\",\"2015-12-06T00:00:00\",\"2015-12-08T00:00:00\",\"2015-12-09T00:00:00\",\"2015-12-10T00:00:00\",\"2015-12-11T00:00:00\",\"2015-12-12T00:00:00\",\"2015-12-13T00:00:00\",\"2015-12-14T00:00:00\",\"2015-12-15T00:00:00\",\"2015-12-16T00:00:00\",\"2015-12-17T00:00:00\",\"2015-12-18T00:00:00\",\"2015-12-19T00:00:00\",\"2015-12-20T00:00:00\",\"2015-12-21T00:00:00\",\"2015-12-22T00:00:00\",\"2015-12-23T00:00:00\",\"2015-12-24T00:00:00\",\"2015-12-25T00:00:00\",\"2015-12-26T00:00:00\",\"2015-12-27T00:00:00\",\"2015-12-28T00:00:00\",\"2015-12-29T00:00:00\",\"2015-12-30T00:00:00\",\"2015-12-31T00:00:00\",\"2016-01-01T00:00:00\",\"2016-01-02T00:00:00\",\"2016-01-03T00:00:00\",\"2016-01-04T00:00:00\",\"2016-01-05T00:00:00\",\"2016-01-06T00:00:00\",\"2016-01-08T00:00:00\",\"2016-01-10T00:00:00\",\"2016-01-11T00:00:00\",\"2016-01-12T00:00:00\",\"2016-01-13T00:00:00\",\"2016-01-14T00:00:00\",\"2016-01-15T00:00:00\",\"2016-01-16T00:00:00\",\"2016-01-17T00:00:00\",\"2016-01-18T00:00:00\",\"2016-01-19T00:00:00\",\"2016-01-20T00:00:00\",\"2016-01-21T00:00:00\",\"2016-01-23T00:00:00\",\"2016-01-25T00:00:00\",\"2016-01-26T00:00:00\",\"2016-01-27T00:00:00\",\"2016-01-28T00:00:00\",\"2016-01-29T00:00:00\",\"2016-01-30T00:00:00\",\"2016-01-31T00:00:00\",\"2016-02-01T00:00:00\",\"2016-02-02T00:00:00\",\"2016-02-03T00:00:00\",\"2016-02-04T00:00:00\",\"2016-02-05T00:00:00\",\"2016-02-06T00:00:00\",\"2016-02-07T00:00:00\",\"2016-02-08T00:00:00\",\"2016-02-09T00:00:00\",\"2016-02-10T00:00:00\",\"2016-02-11T00:00:00\",\"2016-02-12T00:00:00\",\"2016-02-13T00:00:00\",\"2016-02-14T00:00:00\",\"2016-02-15T00:00:00\",\"2016-02-16T00:00:00\",\"2016-02-17T00:00:00\",\"2016-02-18T00:00:00\",\"2016-02-19T00:00:00\",\"2016-02-20T00:00:00\",\"2016-02-21T00:00:00\",\"2016-02-22T00:00:00\",\"2016-02-23T00:00:00\",\"2016-02-24T00:00:00\",\"2016-02-25T00:00:00\",\"2016-02-26T00:00:00\",\"2016-02-27T00:00:00\",\"2016-02-28T00:00:00\",\"2016-02-29T00:00:00\",\"2016-03-01T00:00:00\",\"2016-03-02T00:00:00\",\"2016-03-03T00:00:00\",\"2016-03-04T00:00:00\",\"2016-03-05T00:00:00\",\"2016-03-06T00:00:00\",\"2016-03-07T00:00:00\",\"2016-03-08T00:00:00\",\"2016-03-10T00:00:00\",\"2016-03-11T00:00:00\",\"2016-03-12T00:00:00\",\"2016-03-13T00:00:00\",\"2016-03-14T00:00:00\",\"2016-03-15T00:00:00\",\"2016-03-16T00:00:00\",\"2016-03-17T00:00:00\",\"2016-03-18T00:00:00\",\"2016-03-19T00:00:00\",\"2016-03-20T00:00:00\",\"2016-03-21T00:00:00\",\"2016-03-22T00:00:00\",\"2016-03-23T00:00:00\",\"2016-03-24T00:00:00\",\"2016-03-26T00:00:00\",\"2016-03-27T00:00:00\",\"2016-03-29T00:00:00\",\"2016-03-30T00:00:00\",\"2016-03-31T00:00:00\",\"2016-04-01T00:00:00\",\"2016-04-02T00:00:00\",\"2016-04-03T00:00:00\",\"2016-04-04T00:00:00\",\"2016-04-05T00:00:00\",\"2016-04-06T00:00:00\",\"2016-04-07T00:00:00\",\"2016-04-08T00:00:00\",\"2016-04-09T00:00:00\",\"2016-04-10T00:00:00\",\"2016-04-11T00:00:00\",\"2016-04-12T00:00:00\",\"2016-04-13T00:00:00\",\"2016-04-14T00:00:00\",\"2016-04-15T00:00:00\",\"2016-04-16T00:00:00\",\"2016-04-17T00:00:00\",\"2016-04-18T00:00:00\",\"2016-04-19T00:00:00\",\"2016-04-20T00:00:00\",\"2016-04-21T00:00:00\",\"2016-04-22T00:00:00\",\"2016-04-23T00:00:00\",\"2016-04-25T00:00:00\",\"2016-04-26T00:00:00\",\"2016-04-27T00:00:00\",\"2016-04-28T00:00:00\",\"2016-04-29T00:00:00\",\"2016-04-30T00:00:00\",\"2016-05-01T00:00:00\",\"2016-05-02T00:00:00\",\"2016-05-03T00:00:00\",\"2016-05-04T00:00:00\",\"2016-05-05T00:00:00\",\"2016-05-06T00:00:00\",\"2016-05-07T00:00:00\",\"2016-05-08T00:00:00\",\"2016-05-09T00:00:00\",\"2016-05-10T00:00:00\",\"2016-05-11T00:00:00\",\"2016-05-13T00:00:00\",\"2016-05-14T00:00:00\",\"2016-05-15T00:00:00\",\"2016-05-16T00:00:00\",\"2016-05-17T00:00:00\",\"2016-05-18T00:00:00\",\"2016-05-19T00:00:00\",\"2016-05-20T00:00:00\",\"2016-05-21T00:00:00\",\"2016-05-22T00:00:00\",\"2016-05-23T00:00:00\",\"2016-05-24T00:00:00\",\"2016-05-25T00:00:00\",\"2016-05-26T00:00:00\",\"2016-05-27T00:00:00\",\"2016-05-28T00:00:00\",\"2016-05-29T00:00:00\",\"2016-05-30T00:00:00\",\"2016-05-31T00:00:00\",\"2016-06-01T00:00:00\",\"2016-06-02T00:00:00\",\"2016-06-03T00:00:00\",\"2016-06-04T00:00:00\",\"2016-06-05T00:00:00\",\"2016-06-06T00:00:00\",\"2016-06-07T00:00:00\",\"2016-06-08T00:00:00\",\"2016-06-09T00:00:00\",\"2016-06-10T00:00:00\",\"2016-06-11T00:00:00\",\"2016-06-12T00:00:00\",\"2016-06-13T00:00:00\",\"2016-06-14T00:00:00\",\"2016-06-15T00:00:00\",\"2016-06-16T00:00:00\",\"2016-06-18T00:00:00\",\"2016-06-19T00:00:00\",\"2016-06-20T00:00:00\",\"2016-06-21T00:00:00\",\"2016-06-22T00:00:00\",\"2016-06-23T00:00:00\",\"2016-06-24T00:00:00\",\"2016-06-25T00:00:00\",\"2016-06-26T00:00:00\",\"2016-06-27T00:00:00\",\"2016-06-28T00:00:00\",\"2016-06-29T00:00:00\",\"2016-06-30T00:00:00\",\"2016-07-01T00:00:00\",\"2016-07-02T00:00:00\",\"2016-07-03T00:00:00\",\"2016-07-04T00:00:00\",\"2016-07-05T00:00:00\",\"2016-07-06T00:00:00\",\"2016-07-07T00:00:00\",\"2016-07-08T00:00:00\",\"2016-07-09T00:00:00\",\"2016-07-10T00:00:00\",\"2016-07-11T00:00:00\",\"2016-07-12T00:00:00\",\"2016-07-13T00:00:00\",\"2016-07-14T00:00:00\",\"2016-07-15T00:00:00\",\"2016-07-16T00:00:00\",\"2016-07-17T00:00:00\",\"2016-07-18T00:00:00\",\"2016-07-20T00:00:00\",\"2016-07-21T00:00:00\",\"2016-07-22T00:00:00\",\"2016-07-23T00:00:00\",\"2016-07-24T00:00:00\",\"2016-07-25T00:00:00\",\"2016-07-26T00:00:00\",\"2016-07-27T00:00:00\",\"2016-07-28T00:00:00\",\"2016-07-29T00:00:00\",\"2016-07-31T00:00:00\",\"2016-08-01T00:00:00\",\"2016-08-02T00:00:00\",\"2016-08-03T00:00:00\",\"2016-08-05T00:00:00\",\"2016-08-07T00:00:00\",\"2016-08-08T00:00:00\",\"2016-08-09T00:00:00\",\"2016-08-11T00:00:00\",\"2016-08-12T00:00:00\",\"2016-08-13T00:00:00\",\"2016-08-15T00:00:00\",\"2016-08-16T00:00:00\",\"2016-08-17T00:00:00\",\"2016-08-18T00:00:00\",\"2016-08-19T00:00:00\",\"2016-08-20T00:00:00\",\"2016-08-21T00:00:00\",\"2016-08-22T00:00:00\",\"2016-08-23T00:00:00\",\"2016-08-24T00:00:00\",\"2016-08-25T00:00:00\",\"2016-08-26T00:00:00\",\"2016-08-27T00:00:00\",\"2016-08-28T00:00:00\",\"2016-08-29T00:00:00\",\"2016-08-30T00:00:00\",\"2016-08-31T00:00:00\",\"2016-09-01T00:00:00\",\"2016-09-02T00:00:00\",\"2016-09-03T00:00:00\",\"2016-09-04T00:00:00\",\"2016-09-05T00:00:00\",\"2016-09-06T00:00:00\",\"2016-09-07T00:00:00\",\"2016-09-08T00:00:00\",\"2016-09-09T00:00:00\",\"2016-09-10T00:00:00\",\"2016-09-11T00:00:00\",\"2016-09-12T00:00:00\",\"2016-09-14T00:00:00\",\"2016-09-15T00:00:00\",\"2016-09-16T00:00:00\",\"2016-09-17T00:00:00\",\"2016-09-18T00:00:00\",\"2016-09-19T00:00:00\",\"2016-09-20T00:00:00\",\"2016-09-21T00:00:00\",\"2016-09-23T00:00:00\",\"2016-09-25T00:00:00\",\"2016-09-26T00:00:00\",\"2016-09-27T00:00:00\",\"2016-09-28T00:00:00\",\"2016-09-29T00:00:00\",\"2016-09-30T00:00:00\",\"2016-10-01T00:00:00\",\"2016-10-02T00:00:00\",\"2016-10-03T00:00:00\",\"2016-10-04T00:00:00\",\"2016-10-05T00:00:00\",\"2016-10-07T00:00:00\",\"2016-10-08T00:00:00\",\"2016-10-09T00:00:00\",\"2016-10-10T00:00:00\",\"2016-10-11T00:00:00\",\"2016-10-12T00:00:00\",\"2016-10-13T00:00:00\",\"2016-10-14T00:00:00\",\"2016-10-15T00:00:00\",\"2016-10-16T00:00:00\",\"2016-10-17T00:00:00\",\"2016-10-18T00:00:00\",\"2016-10-19T00:00:00\",\"2016-10-20T00:00:00\",\"2016-10-21T00:00:00\",\"2016-10-22T00:00:00\",\"2016-10-23T00:00:00\",\"2016-10-24T00:00:00\",\"2016-10-25T00:00:00\",\"2016-10-26T00:00:00\",\"2016-10-27T00:00:00\",\"2016-10-28T00:00:00\",\"2016-10-30T00:00:00\",\"2016-10-31T00:00:00\",\"2016-11-01T00:00:00\",\"2016-11-02T00:00:00\",\"2016-11-03T00:00:00\",\"2016-11-04T00:00:00\",\"2016-11-05T00:00:00\",\"2016-11-06T00:00:00\",\"2016-11-07T00:00:00\",\"2016-11-08T00:00:00\",\"2016-11-09T00:00:00\",\"2016-11-10T00:00:00\",\"2016-11-11T00:00:00\",\"2016-11-12T00:00:00\",\"2016-11-13T00:00:00\",\"2016-11-15T00:00:00\",\"2016-11-16T00:00:00\",\"2016-11-18T00:00:00\",\"2016-11-19T00:00:00\",\"2016-11-20T00:00:00\",\"2016-11-21T00:00:00\",\"2016-11-22T00:00:00\",\"2016-11-23T00:00:00\",\"2016-11-24T00:00:00\",\"2016-11-25T00:00:00\",\"2016-11-26T00:00:00\",\"2016-11-27T00:00:00\",\"2016-11-28T00:00:00\",\"2016-11-29T00:00:00\",\"2016-11-30T00:00:00\",\"2016-12-01T00:00:00\",\"2016-12-02T00:00:00\",\"2016-12-03T00:00:00\",\"2016-12-04T00:00:00\",\"2016-12-06T00:00:00\",\"2016-12-07T00:00:00\",\"2016-12-08T00:00:00\",\"2016-12-09T00:00:00\",\"2016-12-10T00:00:00\",\"2016-12-11T00:00:00\",\"2016-12-12T00:00:00\",\"2016-12-13T00:00:00\",\"2016-12-15T00:00:00\",\"2016-12-16T00:00:00\",\"2016-12-17T00:00:00\",\"2016-12-18T00:00:00\",\"2016-12-19T00:00:00\",\"2016-12-20T00:00:00\",\"2016-12-21T00:00:00\",\"2016-12-22T00:00:00\",\"2016-12-23T00:00:00\",\"2016-12-24T00:00:00\",\"2016-12-25T00:00:00\",\"2016-12-27T00:00:00\",\"2016-12-28T00:00:00\",\"2016-12-29T00:00:00\",\"2016-12-30T00:00:00\",\"2016-12-31T00:00:00\",\"2017-01-01T00:00:00\",\"2017-01-03T00:00:00\",\"2017-01-04T00:00:00\",\"2017-01-05T00:00:00\",\"2017-01-06T00:00:00\",\"2017-01-07T00:00:00\",\"2017-01-08T00:00:00\",\"2017-01-09T00:00:00\",\"2017-01-10T00:00:00\",\"2017-01-11T00:00:00\",\"2017-01-12T00:00:00\",\"2017-01-13T00:00:00\",\"2017-01-14T00:00:00\",\"2017-01-15T00:00:00\",\"2017-01-16T00:00:00\",\"2017-01-17T00:00:00\",\"2017-01-18T00:00:00\",\"2017-01-19T00:00:00\",\"2017-01-20T00:00:00\",\"2017-01-21T00:00:00\",\"2017-01-22T00:00:00\",\"2017-01-23T00:00:00\",\"2017-01-24T00:00:00\",\"2017-01-25T00:00:00\",\"2017-01-26T00:00:00\",\"2017-01-27T00:00:00\",\"2017-01-28T00:00:00\",\"2017-01-29T00:00:00\",\"2017-01-30T00:00:00\",\"2017-01-31T00:00:00\",\"2017-02-01T00:00:00\",\"2017-02-02T00:00:00\",\"2017-02-03T00:00:00\",\"2017-02-04T00:00:00\",\"2017-02-05T00:00:00\",\"2017-02-06T00:00:00\",\"2017-02-07T00:00:00\",\"2017-02-08T00:00:00\",\"2017-02-09T00:00:00\",\"2017-02-10T00:00:00\",\"2017-02-11T00:00:00\",\"2017-02-12T00:00:00\",\"2017-02-13T00:00:00\",\"2017-02-14T00:00:00\",\"2017-02-15T00:00:00\",\"2017-02-16T00:00:00\",\"2017-02-17T00:00:00\",\"2017-02-18T00:00:00\",\"2017-02-19T00:00:00\",\"2017-02-20T00:00:00\",\"2017-02-21T00:00:00\",\"2017-02-22T00:00:00\",\"2017-02-23T00:00:00\",\"2017-02-24T00:00:00\",\"2017-02-25T00:00:00\",\"2017-02-26T00:00:00\",\"2017-02-27T00:00:00\",\"2017-02-28T00:00:00\",\"2017-03-01T00:00:00\",\"2017-03-02T00:00:00\",\"2017-03-03T00:00:00\",\"2017-03-04T00:00:00\",\"2017-03-07T00:00:00\",\"2017-03-08T00:00:00\",\"2017-03-09T00:00:00\",\"2017-03-10T00:00:00\",\"2017-03-11T00:00:00\",\"2017-03-12T00:00:00\",\"2017-03-13T00:00:00\",\"2017-03-14T00:00:00\",\"2017-03-15T00:00:00\",\"2017-03-16T00:00:00\",\"2017-03-17T00:00:00\",\"2017-03-18T00:00:00\",\"2017-03-19T00:00:00\",\"2017-03-22T00:00:00\",\"2017-03-23T00:00:00\",\"2017-03-24T00:00:00\",\"2017-03-25T00:00:00\",\"2017-03-26T00:00:00\",\"2017-03-27T00:00:00\",\"2017-03-28T00:00:00\",\"2017-03-29T00:00:00\",\"2017-03-30T00:00:00\",\"2017-04-01T00:00:00\",\"2017-04-03T00:00:00\",\"2017-04-04T00:00:00\",\"2017-04-05T00:00:00\",\"2017-04-06T00:00:00\",\"2017-04-07T00:00:00\",\"2017-04-08T00:00:00\",\"2017-04-09T00:00:00\",\"2017-04-10T00:00:00\",\"2017-04-12T00:00:00\",\"2017-04-13T00:00:00\",\"2017-04-14T00:00:00\",\"2017-04-15T00:00:00\",\"2017-04-16T00:00:00\",\"2017-04-17T00:00:00\",\"2017-04-18T00:00:00\",\"2017-04-19T00:00:00\",\"2017-04-20T00:00:00\",\"2017-04-21T00:00:00\",\"2017-04-22T00:00:00\",\"2017-04-23T00:00:00\",\"2017-04-24T00:00:00\",\"2017-04-25T00:00:00\",\"2017-04-26T00:00:00\",\"2017-04-27T00:00:00\",\"2017-04-28T00:00:00\",\"2017-04-29T00:00:00\",\"2017-04-30T00:00:00\",\"2017-05-01T00:00:00\",\"2017-05-02T00:00:00\",\"2017-05-03T00:00:00\",\"2017-05-04T00:00:00\",\"2017-05-06T00:00:00\",\"2017-05-07T00:00:00\",\"2017-05-08T00:00:00\",\"2017-05-09T00:00:00\",\"2017-05-10T00:00:00\",\"2017-05-11T00:00:00\",\"2017-05-12T00:00:00\",\"2017-05-13T00:00:00\",\"2017-05-14T00:00:00\",\"2017-05-15T00:00:00\",\"2017-05-16T00:00:00\",\"2017-05-17T00:00:00\",\"2017-05-20T00:00:00\",\"2017-05-21T00:00:00\",\"2017-05-22T00:00:00\",\"2017-05-23T00:00:00\",\"2017-05-24T00:00:00\",\"2017-05-25T00:00:00\",\"2017-05-26T00:00:00\",\"2017-05-27T00:00:00\",\"2017-05-28T00:00:00\",\"2017-05-29T00:00:00\",\"2017-05-30T00:00:00\",\"2017-05-31T00:00:00\",\"2017-06-01T00:00:00\",\"2017-06-02T00:00:00\",\"2017-06-03T00:00:00\",\"2017-06-04T00:00:00\",\"2017-06-05T00:00:00\",\"2017-06-06T00:00:00\",\"2017-06-07T00:00:00\",\"2017-06-08T00:00:00\",\"2017-06-09T00:00:00\",\"2017-06-10T00:00:00\",\"2017-06-11T00:00:00\",\"2017-06-12T00:00:00\",\"2017-06-13T00:00:00\",\"2017-06-14T00:00:00\",\"2017-06-15T00:00:00\",\"2017-06-16T00:00:00\",\"2017-06-17T00:00:00\",\"2017-06-18T00:00:00\",\"2017-06-19T00:00:00\",\"2017-06-20T00:00:00\",\"2017-06-21T00:00:00\",\"2017-06-22T00:00:00\",\"2017-06-23T00:00:00\",\"2017-06-24T00:00:00\",\"2017-06-25T00:00:00\",\"2017-06-26T00:00:00\",\"2017-06-27T00:00:00\",\"2017-06-28T00:00:00\",\"2017-06-29T00:00:00\",\"2017-06-30T00:00:00\",\"2017-07-01T00:00:00\",\"2017-07-02T00:00:00\",\"2017-07-03T00:00:00\",\"2017-07-04T00:00:00\",\"2017-07-05T00:00:00\",\"2017-07-06T00:00:00\",\"2017-07-07T00:00:00\",\"2017-07-08T00:00:00\",\"2017-07-09T00:00:00\",\"2017-07-10T00:00:00\",\"2017-07-11T00:00:00\",\"2017-07-12T00:00:00\",\"2017-07-13T00:00:00\",\"2017-07-14T00:00:00\",\"2017-07-15T00:00:00\",\"2017-07-17T00:00:00\",\"2017-07-18T00:00:00\",\"2017-07-19T00:00:00\",\"2017-07-20T00:00:00\",\"2017-07-21T00:00:00\",\"2017-07-23T00:00:00\",\"2017-07-24T00:00:00\",\"2017-07-25T00:00:00\",\"2017-07-26T00:00:00\",\"2017-07-27T00:00:00\",\"2017-07-28T00:00:00\",\"2017-07-29T00:00:00\",\"2017-07-31T00:00:00\"],\"xaxis\":\"x\",\"y\":[2,1,3,1,4,4,4,2,3,2,6,5,2,3,2,1,1,4,2,3,3,2,4,4,3,2,1,2,3,4,6,1,1,2,5,2,3,2,5,2,3,3,5,1,4,2,1,6,1,2,5,1,7,3,1,2,2,3,3,1,3,4,4,7,1,4,3,1,2,5,3,6,3,4,3,1,3,4,2,7,2,2,3,2,4,1,4,2,3,1,4,5,2,1,3,1,2,6,1,3,2,2,1,4,5,3,4,3,3,1,3,6,2,1,5,1,3,1,3,4,2,2,3,2,2,1,3,3,5,5,1,3,2,3,5,4,3,2,2,1,2,5,2,5,2,3,4,1,5,1,3,2,1,2,2,1,3,1,2,4,4,1,2,2,1,1,1,1,2,4,4,4,4,5,8,2,6,3,1,5,4,2,1,7,5,3,1,2,3,3,5,2,4,2,3,1,2,4,2,2,1,4,2,6,2,6,4,4,1,2,6,4,4,2,2,4,3,3,5,5,5,3,4,4,3,2,1,3,1,1,5,4,3,1,1,4,5,2,2,3,2,5,1,2,2,2,2,6,4,5,3,3,2,3,2,2,1,4,3,4,1,1,2,5,4,2,5,7,3,2,2,1,5,3,3,7,1,3,1,4,2,4,2,3,1,1,4,4,3,5,4,4,1,3,1,4,2,6,2,3,2,1,3,2,3,3,1,1,1,5,3,2,6,1,2,5,3,2,2,4,1,7,4,8,1,1,2,3,2,2,7,4,1,5,1,4,3,1,2,2,1,1,3,1,2,6,3,2,2,4,2,2,2,2,6,5,5,3,3,1,1,1,1,8,3,3,4,5,2,1,3,5,4,1,3,3,2,5,3,3,4,3,2,3,1,4,2,4,5,4,4,5,4,2,1,2,1,3,2,1,2,2,3,5,1,5,4,3,7,1,3,3,4,2,4,4,3,2,3,6,4,5,3,3,4,2,1,4,1,2,3,2,3,2,3,2,3,3,1,3,1,5,2,3,2,1,2,5,1,4,3,4,1,4,2,1,1,4,3,1,3,1,6,1,4,1,4,1,1,1,3,5,1,3,4,1,3,2,7,1,2,4,2,1,3,2,2,3,1,2,4,1,5,4,2,3,4,4,2,4,3,2,2,3,6,3,5,4,4,5,2,4,3,3,2,3,4,4,2,3,1,1,1,5,1,2,1,1,3,4,1,1,2,1,3,2,2,2,6,6,2,3,4,5,3,4,2,5,3,3,2,4,2,7,1,7,5,1,1,1,1,3,3,1,3,1,4,4,2,4,4,4,2,2,5,3,2,3,2,1,3,1,3,4,5,1,3,6,1,3,1,4,2,2,1,6,2,2,2,3,2,5,4,2,4,2,3,3,3,1,2,3,4,3,1,2,1,3,1,4,2,3,3,4,3,1,2,3,2,5,6,1,4,1,2,4,2,3,3,2,5,4,2,2,4,3,1,3,1,4,3,4,1,3,3,1,2,4,5,1,3,2,5,3,2,1,1,3,3,1,3,8,1,3,4,4,4,1,1,3,3,6,2,4,2,2,6,1,2,2,3,3,1,2,4,3,2,6,3,1,2,3,5,8,3,4,1,4,2,4,1,2,3,7,3,3,3,5,3,4,8,4,3,3,3,3,4,4,2,4,2,5,3,5,3,2,4,2,3,1,5,2,4,2,3,2,1,2,2,3,5,2,5,3,3,5,3,3,3,1,4,3,2,6,1,2,1,3,2,5,1,1,2,2,1,3,3,4,1,1,1,1,6,1,3,1,4,4,3,2,2,4,3,1,2,5,1,1,4,2,6,3,1,4,2,2,6,4,1,3,4,1,4,2,1,3,2,3,3,1,2,1,6,1,2,4,2,4,5,3,3,1,4,4,3,1,5,2,2,2,5,2,1,2,4,4,1,1,2,4,3,3,1,4,6,6,2,3,3,4,2,5,3,3,1,4,4,3,3,2,2,4,1,4,4,5,3,1,2],\"yaxis\":\"y\",\"type\":\"scatter\"}],                        {\"template\":{\"data\":{\"bar\":[{\"error_x\":{\"color\":\"#2a3f5f\"},\"error_y\":{\"color\":\"#2a3f5f\"},\"marker\":{\"line\":{\"color\":\"#E5ECF6\",\"width\":0.5},\"pattern\":{\"fillmode\":\"overlay\",\"size\":10,\"solidity\":0.2}},\"type\":\"bar\"}],\"barpolar\":[{\"marker\":{\"line\":{\"color\":\"#E5ECF6\",\"width\":0.5},\"pattern\":{\"fillmode\":\"overlay\",\"size\":10,\"solidity\":0.2}},\"type\":\"barpolar\"}],\"carpet\":[{\"aaxis\":{\"endlinecolor\":\"#2a3f5f\",\"gridcolor\":\"white\",\"linecolor\":\"white\",\"minorgridcolor\":\"white\",\"startlinecolor\":\"#2a3f5f\"},\"baxis\":{\"endlinecolor\":\"#2a3f5f\",\"gridcolor\":\"white\",\"linecolor\":\"white\",\"minorgridcolor\":\"white\",\"startlinecolor\":\"#2a3f5f\"},\"type\":\"carpet\"}],\"choropleth\":[{\"colorbar\":{\"outlinewidth\":0,\"ticks\":\"\"},\"type\":\"choropleth\"}],\"contour\":[{\"colorbar\":{\"outlinewidth\":0,\"ticks\":\"\"},\"colorscale\":[[0.0,\"#0d0887\"],[0.1111111111111111,\"#46039f\"],[0.2222222222222222,\"#7201a8\"],[0.3333333333333333,\"#9c179e\"],[0.4444444444444444,\"#bd3786\"],[0.5555555555555556,\"#d8576b\"],[0.6666666666666666,\"#ed7953\"],[0.7777777777777778,\"#fb9f3a\"],[0.8888888888888888,\"#fdca26\"],[1.0,\"#f0f921\"]],\"type\":\"contour\"}],\"contourcarpet\":[{\"colorbar\":{\"outlinewidth\":0,\"ticks\":\"\"},\"type\":\"contourcarpet\"}],\"heatmap\":[{\"colorbar\":{\"outlinewidth\":0,\"ticks\":\"\"},\"colorscale\":[[0.0,\"#0d0887\"],[0.1111111111111111,\"#46039f\"],[0.2222222222222222,\"#7201a8\"],[0.3333333333333333,\"#9c179e\"],[0.4444444444444444,\"#bd3786\"],[0.5555555555555556,\"#d8576b\"],[0.6666666666666666,\"#ed7953\"],[0.7777777777777778,\"#fb9f3a\"],[0.8888888888888888,\"#fdca26\"],[1.0,\"#f0f921\"]],\"type\":\"heatmap\"}],\"heatmapgl\":[{\"colorbar\":{\"outlinewidth\":0,\"ticks\":\"\"},\"colorscale\":[[0.0,\"#0d0887\"],[0.1111111111111111,\"#46039f\"],[0.2222222222222222,\"#7201a8\"],[0.3333333333333333,\"#9c179e\"],[0.4444444444444444,\"#bd3786\"],[0.5555555555555556,\"#d8576b\"],[0.6666666666666666,\"#ed7953\"],[0.7777777777777778,\"#fb9f3a\"],[0.8888888888888888,\"#fdca26\"],[1.0,\"#f0f921\"]],\"type\":\"heatmapgl\"}],\"histogram\":[{\"marker\":{\"pattern\":{\"fillmode\":\"overlay\",\"size\":10,\"solidity\":0.2}},\"type\":\"histogram\"}],\"histogram2d\":[{\"colorbar\":{\"outlinewidth\":0,\"ticks\":\"\"},\"colorscale\":[[0.0,\"#0d0887\"],[0.1111111111111111,\"#46039f\"],[0.2222222222222222,\"#7201a8\"],[0.3333333333333333,\"#9c179e\"],[0.4444444444444444,\"#bd3786\"],[0.5555555555555556,\"#d8576b\"],[0.6666666666666666,\"#ed7953\"],[0.7777777777777778,\"#fb9f3a\"],[0.8888888888888888,\"#fdca26\"],[1.0,\"#f0f921\"]],\"type\":\"histogram2d\"}],\"histogram2dcontour\":[{\"colorbar\":{\"outlinewidth\":0,\"ticks\":\"\"},\"colorscale\":[[0.0,\"#0d0887\"],[0.1111111111111111,\"#46039f\"],[0.2222222222222222,\"#7201a8\"],[0.3333333333333333,\"#9c179e\"],[0.4444444444444444,\"#bd3786\"],[0.5555555555555556,\"#d8576b\"],[0.6666666666666666,\"#ed7953\"],[0.7777777777777778,\"#fb9f3a\"],[0.8888888888888888,\"#fdca26\"],[1.0,\"#f0f921\"]],\"type\":\"histogram2dcontour\"}],\"mesh3d\":[{\"colorbar\":{\"outlinewidth\":0,\"ticks\":\"\"},\"type\":\"mesh3d\"}],\"parcoords\":[{\"line\":{\"colorbar\":{\"outlinewidth\":0,\"ticks\":\"\"}},\"type\":\"parcoords\"}],\"pie\":[{\"automargin\":true,\"type\":\"pie\"}],\"scatter\":[{\"marker\":{\"colorbar\":{\"outlinewidth\":0,\"ticks\":\"\"}},\"type\":\"scatter\"}],\"scatter3d\":[{\"line\":{\"colorbar\":{\"outlinewidth\":0,\"ticks\":\"\"}},\"marker\":{\"colorbar\":{\"outlinewidth\":0,\"ticks\":\"\"}},\"type\":\"scatter3d\"}],\"scattercarpet\":[{\"marker\":{\"colorbar\":{\"outlinewidth\":0,\"ticks\":\"\"}},\"type\":\"scattercarpet\"}],\"scattergeo\":[{\"marker\":{\"colorbar\":{\"outlinewidth\":0,\"ticks\":\"\"}},\"type\":\"scattergeo\"}],\"scattergl\":[{\"marker\":{\"colorbar\":{\"outlinewidth\":0,\"ticks\":\"\"}},\"type\":\"scattergl\"}],\"scattermapbox\":[{\"marker\":{\"colorbar\":{\"outlinewidth\":0,\"ticks\":\"\"}},\"type\":\"scattermapbox\"}],\"scatterpolar\":[{\"marker\":{\"colorbar\":{\"outlinewidth\":0,\"ticks\":\"\"}},\"type\":\"scatterpolar\"}],\"scatterpolargl\":[{\"marker\":{\"colorbar\":{\"outlinewidth\":0,\"ticks\":\"\"}},\"type\":\"scatterpolargl\"}],\"scatterternary\":[{\"marker\":{\"colorbar\":{\"outlinewidth\":0,\"ticks\":\"\"}},\"type\":\"scatterternary\"}],\"surface\":[{\"colorbar\":{\"outlinewidth\":0,\"ticks\":\"\"},\"colorscale\":[[0.0,\"#0d0887\"],[0.1111111111111111,\"#46039f\"],[0.2222222222222222,\"#7201a8\"],[0.3333333333333333,\"#9c179e\"],[0.4444444444444444,\"#bd3786\"],[0.5555555555555556,\"#d8576b\"],[0.6666666666666666,\"#ed7953\"],[0.7777777777777778,\"#fb9f3a\"],[0.8888888888888888,\"#fdca26\"],[1.0,\"#f0f921\"]],\"type\":\"surface\"}],\"table\":[{\"cells\":{\"fill\":{\"color\":\"#EBF0F8\"},\"line\":{\"color\":\"white\"}},\"header\":{\"fill\":{\"color\":\"#C8D4E3\"},\"line\":{\"color\":\"white\"}},\"type\":\"table\"}]},\"layout\":{\"annotationdefaults\":{\"arrowcolor\":\"#2a3f5f\",\"arrowhead\":0,\"arrowwidth\":1},\"autotypenumbers\":\"strict\",\"coloraxis\":{\"colorbar\":{\"outlinewidth\":0,\"ticks\":\"\"}},\"colorscale\":{\"diverging\":[[0,\"#8e0152\"],[0.1,\"#c51b7d\"],[0.2,\"#de77ae\"],[0.3,\"#f1b6da\"],[0.4,\"#fde0ef\"],[0.5,\"#f7f7f7\"],[0.6,\"#e6f5d0\"],[0.7,\"#b8e186\"],[0.8,\"#7fbc41\"],[0.9,\"#4d9221\"],[1,\"#276419\"]],\"sequential\":[[0.0,\"#0d0887\"],[0.1111111111111111,\"#46039f\"],[0.2222222222222222,\"#7201a8\"],[0.3333333333333333,\"#9c179e\"],[0.4444444444444444,\"#bd3786\"],[0.5555555555555556,\"#d8576b\"],[0.6666666666666666,\"#ed7953\"],[0.7777777777777778,\"#fb9f3a\"],[0.8888888888888888,\"#fdca26\"],[1.0,\"#f0f921\"]],\"sequentialminus\":[[0.0,\"#0d0887\"],[0.1111111111111111,\"#46039f\"],[0.2222222222222222,\"#7201a8\"],[0.3333333333333333,\"#9c179e\"],[0.4444444444444444,\"#bd3786\"],[0.5555555555555556,\"#d8576b\"],[0.6666666666666666,\"#ed7953\"],[0.7777777777777778,\"#fb9f3a\"],[0.8888888888888888,\"#fdca26\"],[1.0,\"#f0f921\"]]},\"colorway\":[\"#636efa\",\"#EF553B\",\"#00cc96\",\"#ab63fa\",\"#FFA15A\",\"#19d3f3\",\"#FF6692\",\"#B6E880\",\"#FF97FF\",\"#FECB52\"],\"font\":{\"color\":\"#2a3f5f\"},\"geo\":{\"bgcolor\":\"white\",\"lakecolor\":\"white\",\"landcolor\":\"#E5ECF6\",\"showlakes\":true,\"showland\":true,\"subunitcolor\":\"white\"},\"hoverlabel\":{\"align\":\"left\"},\"hovermode\":\"closest\",\"mapbox\":{\"style\":\"light\"},\"paper_bgcolor\":\"white\",\"plot_bgcolor\":\"#E5ECF6\",\"polar\":{\"angularaxis\":{\"gridcolor\":\"white\",\"linecolor\":\"white\",\"ticks\":\"\"},\"bgcolor\":\"#E5ECF6\",\"radialaxis\":{\"gridcolor\":\"white\",\"linecolor\":\"white\",\"ticks\":\"\"}},\"scene\":{\"xaxis\":{\"backgroundcolor\":\"#E5ECF6\",\"gridcolor\":\"white\",\"gridwidth\":2,\"linecolor\":\"white\",\"showbackground\":true,\"ticks\":\"\",\"zerolinecolor\":\"white\"},\"yaxis\":{\"backgroundcolor\":\"#E5ECF6\",\"gridcolor\":\"white\",\"gridwidth\":2,\"linecolor\":\"white\",\"showbackground\":true,\"ticks\":\"\",\"zerolinecolor\":\"white\"},\"zaxis\":{\"backgroundcolor\":\"#E5ECF6\",\"gridcolor\":\"white\",\"gridwidth\":2,\"linecolor\":\"white\",\"showbackground\":true,\"ticks\":\"\",\"zerolinecolor\":\"white\"}},\"shapedefaults\":{\"line\":{\"color\":\"#2a3f5f\"}},\"ternary\":{\"aaxis\":{\"gridcolor\":\"white\",\"linecolor\":\"white\",\"ticks\":\"\"},\"baxis\":{\"gridcolor\":\"white\",\"linecolor\":\"white\",\"ticks\":\"\"},\"bgcolor\":\"#E5ECF6\",\"caxis\":{\"gridcolor\":\"white\",\"linecolor\":\"white\",\"ticks\":\"\"}},\"title\":{\"x\":0.05},\"xaxis\":{\"automargin\":true,\"gridcolor\":\"white\",\"linecolor\":\"white\",\"ticks\":\"\",\"title\":{\"standoff\":15},\"zerolinecolor\":\"white\",\"zerolinewidth\":2},\"yaxis\":{\"automargin\":true,\"gridcolor\":\"white\",\"linecolor\":\"white\",\"ticks\":\"\",\"title\":{\"standoff\":15},\"zerolinecolor\":\"white\",\"zerolinewidth\":2}}},\"xaxis\":{\"anchor\":\"y\",\"domain\":[0.0,1.0],\"title\":{\"text\":\"index\"}},\"yaxis\":{\"anchor\":\"x\",\"domain\":[0.0,1.0],\"title\":{\"text\":\"Deaths\"}},\"legend\":{\"tracegroupgap\":0},\"margin\":{\"t\":60}},                        {\"responsive\": true}                    ).then(function(){\n",
              "                            \n",
              "var gd = document.getElementById('f22e4405-b782-4032-869f-b7d3c7810b1c');\n",
              "var x = new MutationObserver(function (mutations, observer) {{\n",
              "        var display = window.getComputedStyle(gd).display;\n",
              "        if (!display || display === 'none') {{\n",
              "            console.log([gd, 'removed!']);\n",
              "            Plotly.purge(gd);\n",
              "            observer.disconnect();\n",
              "        }}\n",
              "}});\n",
              "\n",
              "// Listen for the removal of the full notebook cells\n",
              "var notebookContainer = gd.closest('#notebook-container');\n",
              "if (notebookContainer) {{\n",
              "    x.observe(notebookContainer, {childList: true});\n",
              "}}\n",
              "\n",
              "// Listen for the clearing of the current output cell\n",
              "var outputEl = gd.closest('.output');\n",
              "if (outputEl) {{\n",
              "    x.observe(outputEl, {childList: true});\n",
              "}}\n",
              "\n",
              "                        })                };                            </script>        </div>\n",
              "</body>\n",
              "</html>"
            ]
          },
          "metadata": {}
        }
      ]
    },
    {
      "cell_type": "markdown",
      "metadata": {
        "id": "9o6uLFpS61nw"
      },
      "source": [
        "# Epilogue\n",
        "\n",
        "Now that you have analysed the data yourself, read [The Washington Post's analysis here](https://www.washingtonpost.com/graphics/investigations/police-shootings-database/)."
      ]
    },
    {
      "cell_type": "code",
      "metadata": {
        "id": "8PjgzuNa61I1"
      },
      "source": [],
      "execution_count": null,
      "outputs": []
    }
  ]
}